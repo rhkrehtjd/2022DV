{
 "cells": [
  {
   "cell_type": "raw",
   "id": "2bf37e6b-bf71-461a-b13f-e7b576402688",
   "metadata": {},
   "source": [
    "---\n",
    "title: \"A2: 깊은복사와 얕은복사\"\n",
    "author: \"최규빈\"\n",
    "date: \"12/14/2022\"\n",
    "---"
   ]
  },
  {
   "cell_type": "markdown",
   "id": "138aba07",
   "metadata": {},
   "source": [
    "> 모르고 살았어도 좋았을 내용 "
   ]
  },
  {
   "cell_type": "markdown",
   "id": "4004fa3d-e0cf-410e-bc4c-9be96e7dfee3",
   "metadata": {},
   "source": [
    "# Introduction"
   ]
  },
  {
   "cell_type": "markdown",
   "id": "c1e339f8-d294-4859-aa4f-10f7d533c706",
   "metadata": {},
   "source": [
    "## 비상식적인 append "
   ]
  },
  {
   "cell_type": "markdown",
   "id": "5dd8a3a0-0875-4fd0-9e0f-7d7709770fd8",
   "metadata": {},
   "source": [
    "`-` 아래의 코드를 관찰하자. "
   ]
  },
  {
   "cell_type": "code",
   "execution_count": 42,
   "id": "e9573167-d60a-4aee-923a-dfb5ad65f6ba",
   "metadata": {},
   "outputs": [],
   "source": [
    "a=[1,2,3]\n",
    "b=a\n",
    "a=a+[4]"
   ]
  },
  {
   "cell_type": "markdown",
   "id": "0e4bc20e-3970-4dd1-a2f0-9e1f75ceba3d",
   "metadata": {},
   "source": [
    "현재 a,b의 출력결과는? "
   ]
  },
  {
   "cell_type": "code",
   "execution_count": 45,
   "id": "3e5c3d55-8ea8-4686-ab8e-a06c8e9615a5",
   "metadata": {},
   "outputs": [
    {
     "name": "stdout",
     "output_type": "stream",
     "text": [
      "a= [1, 2, 3, 4]\n",
      "b= [1, 2, 3]\n"
     ]
    }
   ],
   "source": [
    "print('a=', a)\n",
    "print('b=', b)"
   ]
  },
  {
   "cell_type": "markdown",
   "id": "5d1d77ed-df9b-4062-b6ec-b776bd2716a8",
   "metadata": {},
   "source": [
    "`-` 이제 다시 아래의 코드를 관찰하자. "
   ]
  },
  {
   "cell_type": "code",
   "execution_count": 10,
   "id": "6a906e4d-4a6b-4e8f-8cd2-bdafee4b8b22",
   "metadata": {},
   "outputs": [],
   "source": [
    "a=[1,2,3]\n",
    "b=a\n",
    "a.append(4) "
   ]
  },
  {
   "cell_type": "markdown",
   "id": "c96e6ac1",
   "metadata": {},
   "source": [
    "현재 a,b의 출력결과는? "
   ]
  },
  {
   "cell_type": "code",
   "execution_count": 46,
   "id": "8c8b8b16-b01d-40a8-be11-384b042db0eb",
   "metadata": {},
   "outputs": [
    {
     "name": "stdout",
     "output_type": "stream",
     "text": [
      "a= [1, 2, 3, 4]\n",
      "b= [1, 2, 3]\n"
     ]
    }
   ],
   "source": [
    "print('a=', a)\n",
    "print('b=', b)"
   ]
  },
  {
   "cell_type": "markdown",
   "id": "4ab38f91-4945-4d5b-86eb-10f94ce96f9c",
   "metadata": {},
   "source": [
    "## append의 동작원리: 틀린상상 "
   ]
  },
  {
   "cell_type": "markdown",
   "id": "7c35bd18-387e-41f9-9d2e-6fce45242336",
   "metadata": {},
   "source": [
    "`-` 상자로서의 변수: 변수가 데이터를 저장하는 일종의 상자와 같다. <-- 아주 흔한 오해 (Fluent Python)"
   ]
  },
  {
   "cell_type": "markdown",
   "id": "268dafad-af90-4e49-b8cd-5894adbd6585",
   "metadata": {},
   "source": [
    "> 흔히 비유하는 '상자로서의 변수' 개념이 실제로는 객체지향적 언어에서 참조변수를 이해하는 데 방해가 된다. "
   ]
  },
  {
   "cell_type": "markdown",
   "id": "e93c1a8a-65c6-43c3-8068-3f97002e4af3",
   "metadata": {},
   "source": [
    "`-` \"상자로서의 변수\" 관점에서 아래의 코드를 해석하자. (일단 아래의 해석들이 틀린해석이라는 사실을 명심할 것)"
   ]
  },
  {
   "cell_type": "markdown",
   "id": "78d5fc8e-42c8-4208-b2f9-509b2684afe3",
   "metadata": {},
   "source": [
    "```python\n",
    "a=[1,2,3]\n",
    "b=a\n",
    "a.append(4)\n",
    "```"
   ]
  },
  {
   "cell_type": "markdown",
   "id": "ab5a345a-d53c-48fc-a941-95c59ffb07be",
   "metadata": {},
   "source": [
    "a,b라는 변수들은 메모리에 어떻게 저장이 되어있을까? "
   ]
  },
  {
   "cell_type": "markdown",
   "id": "c69358ee-91db-4f6f-83d1-bc066e095fe0",
   "metadata": {},
   "source": [
    "상상력을 조금 발휘하면 아래와 같이 여길 수 있다. "
   ]
  },
  {
   "cell_type": "markdown",
   "id": "7cf97c83-4a8c-45e9-be06-9f3270a787b0",
   "metadata": {},
   "source": [
    "(1) 메모리는 변수를 담을 방이 여러개 있는 호텔이라고 생각하자. "
   ]
  },
  {
   "cell_type": "markdown",
   "id": "4d6543b9-7df9-45ba-98f5-930f137e1334",
   "metadata": {},
   "source": [
    "(2) 아래를 실행하였을 경우 \n",
    "```python\n",
    "a=[1,2,3]\n",
    "```\n",
    "- 메모리주소1에 존재하는 방을 a라고 하고, 그 방에 [1,2,3]을 넣는다. "
   ]
  },
  {
   "cell_type": "markdown",
   "id": "b1bee78d-cefc-4f19-b1db-966b8c39df6a",
   "metadata": {},
   "source": [
    "(3) 아래를 실행하였을 경우 \n",
    "```python\n",
    "b=a\n",
    "```\n",
    "- 메모리주소2에 존재하는 방을 b라고 하고, 그 방에 a를 넣어야하는데, a는 [1,2,3]이니까 [1,2,3]을 넣는다. "
   ]
  },
  {
   "cell_type": "markdown",
   "id": "8bae9749-24f2-47d9-a498-fe3c86244e64",
   "metadata": {},
   "source": [
    "(4) 아래를 실행하면 \n",
    "```python\n",
    "a.append(4)\n",
    "```\n",
    "- 방 a로가서 [1,2,3]을 [1,2,3,4]로 바꾼다. \n",
    "- 그리고 방 b에는 아무것도 하지 않는다. "
   ]
  },
  {
   "cell_type": "markdown",
   "id": "20d4539a-2ad0-4689-a92f-dd73327d1df1",
   "metadata": {},
   "source": [
    "`-` R에서는 맞는 비유인데, 파이썬은 적절하지 않은 비유이다. "
   ]
  },
  {
   "cell_type": "markdown",
   "id": "49cc6336-2d31-42e3-b811-0ceaeb62a5df",
   "metadata": {},
   "source": [
    "### 틀린이유 "
   ]
  },
  {
   "cell_type": "code",
   "execution_count": 9,
   "id": "de4c9062-ea32-4531-b9de-42b97761976e",
   "metadata": {},
   "outputs": [
    {
     "data": {
      "text/plain": [
       "139753545242336"
      ]
     },
     "execution_count": 9,
     "metadata": {},
     "output_type": "execute_result"
    }
   ],
   "source": [
    "id(a)"
   ]
  },
  {
   "cell_type": "code",
   "execution_count": 10,
   "id": "8215f387-f8f3-4ce6-8d14-4c94f5306390",
   "metadata": {},
   "outputs": [
    {
     "data": {
      "text/plain": [
       "139753545242336"
      ]
     },
     "execution_count": 10,
     "metadata": {},
     "output_type": "execute_result"
    }
   ],
   "source": [
    "id(b)"
   ]
  },
  {
   "cell_type": "markdown",
   "id": "fb8f8690-b902-49ac-9be1-29c6c36b9e64",
   "metadata": {},
   "source": [
    "실제로는 a,b가 저장된 메모리 주소가 동일함 "
   ]
  },
  {
   "cell_type": "markdown",
   "id": "067a9507-59bb-49c0-a6ed-b96b773597e1",
   "metadata": {},
   "source": [
    "## append의 동작원리: 올바른 상상 "
   ]
  },
  {
   "cell_type": "markdown",
   "id": "02334926-821b-4f59-b043-1c7aefff6564",
   "metadata": {},
   "source": [
    "> 파이썬에서의 변수는 자바에서의 참조변수와 같으므로 변수는 객체에 붙은 레이블이라고 생각하는 것이 좋다. "
   ]
  },
  {
   "cell_type": "markdown",
   "id": "52bd79de-20e8-40d0-9db5-826a1100f72b",
   "metadata": {},
   "source": [
    "`-` 파이썬에서는 아래가 더 적절한 비유이다. "
   ]
  },
  {
   "cell_type": "markdown",
   "id": "eccbe541-110b-4713-9f96-c0f8ef78e1b7",
   "metadata": {},
   "source": [
    "(1) 메모리는 변수를 담을 방이 여러개 있는 호텔이라고 생각하자. "
   ]
  },
  {
   "cell_type": "markdown",
   "id": "6100edc0-b071-466a-bdea-be6fb5b65735",
   "metadata": {},
   "source": [
    "(2) 아래를 실행하였을 경우 \n",
    "```python\n",
    "a=[1,2,3]\n",
    "```\n",
    "- 메모리주소 `139753545242336`에서 [1,2,3]을 생성\n",
    "- 방 `139753545242336`의 방문에 `a`라는 포스트잇을 붙인다. \n",
    "- 앞으로 [1,2,3]에 접근하기 위해서는 여러 메모리방중에서 `a`라는 포스트잇이 붙은 방을 찾아가면 된다. "
   ]
  },
  {
   "cell_type": "markdown",
   "id": "17619d83-d20e-4733-8697-3c047bdd22c6",
   "metadata": {},
   "source": [
    "(3) 아래를 실행하였을 경우 \n",
    "```python\n",
    "b=a\n",
    "```\n",
    "- `a`라는 포스트잇이 지칭하는 객체를 가져옴. 그리고 그 객체에 `b`라는 포스트잇을 붙인다. \n",
    "- 쉽게말하면 `b`라는 포스트잇을 방 `139753545242336`의 방문에 붙인다는 이야기. \n",
    "- 앞으로 [1,2,3]에 접근하기 위해서는 여러 메모리방중에서 `a`라는 포스트잇이 붙어 있거나 `b`라는 포스트잇이 붙어있는 방을 찾아가면 된다. "
   ]
  },
  {
   "cell_type": "markdown",
   "id": "3834f2ce-9f6f-48da-ae51-6e89734502aa",
   "metadata": {},
   "source": [
    "(4) 아래를 실행하면 \n",
    "```python\n",
    "a.append(4)\n",
    "```\n",
    "- `a`라는 포스트잇이 붙어있는 방으로 가서, 그 내용물에 `append`함수를 적용하여 4를 추가하라. 즉 내용물 [1,2,3]을 [1,2,3,4]로 바꾸라. \n",
    "- 같은방(`139753545242336`)에 `a`,`b`라는 포스트잇이 모두 붙어있음. 따라서 `b`라는 포스트잇이 붙은 방을 찾아가서 내용물을 열어보면 [1,2,3,4]가 나온다. "
   ]
  },
  {
   "cell_type": "markdown",
   "id": "026e4913-d4c5-4d9e-9f5c-bc7620db19c0",
   "metadata": {},
   "source": [
    "# 할당문(=)의 이해 "
   ]
  },
  {
   "cell_type": "markdown",
   "id": "268a2acc-c7c8-4457-b92e-f5e4ddb54093",
   "metadata": {},
   "source": [
    "`-` 파이썬에서 할당문을 이해하기 위해서는 언제나 오른쪽을 먼저 읽어야 한다. \n",
    "\n",
    "- 할당문의 오른쪽에서는 객체를 \"생성\"하거나 \"가져옴\"\n",
    "- 그 후에 라벨을 붙이듯이 할당문 왼쪽의 변수가 할당문 오른쪽의 객체에 바인딩 된다. (참조)"
   ]
  },
  {
   "cell_type": "markdown",
   "id": "0b930cb1-b145-430f-a52f-a89865e8acfb",
   "metadata": {},
   "source": [
    "`-` `b=a`는 \n",
    "\n",
    "> 나는 이미 a가 의미하는게 무엇인지 알고있어. 그런데 그 실체를 b라고도 부르고 싶어. \n",
    "\n",
    "라는 것과 같다. 즉 이미 `a`라고 부르고 있는것을 내가 `b`라고도 부르고 싶다는 의미인데 이는 마치 별명과 같다. (`b`는 `a`의 별명, alias) 그리고 이처럼 하나의 오브젝트에 여러개의 이름을 붙이는 것을 에일리어싱이라고 부른다. "
   ]
  },
  {
   "cell_type": "markdown",
   "id": "fe9c3f93-589f-45da-90dd-658396475ee7",
   "metadata": {},
   "source": [
    "# id, value "
   ]
  },
  {
   "cell_type": "markdown",
   "id": "cee6ebc3-961a-4e80-824c-89e4c974bee0",
   "metadata": {},
   "source": [
    "## 예제1: 같은 value, 다른 id"
   ]
  },
  {
   "cell_type": "code",
   "execution_count": 12,
   "id": "c68fbf63-438a-4361-bdaa-ee707db01403",
   "metadata": {},
   "outputs": [],
   "source": [
    "a=[1,2,3]\n",
    "b=a\n",
    "a.append(4)\n",
    "c=[1,2,3,4]"
   ]
  },
  {
   "cell_type": "markdown",
   "id": "ff90ef4a-6c85-4418-a186-f0583f844a2d",
   "metadata": {},
   "source": [
    "여기에서 a,b,c는 모두 같은 value를 가진다. "
   ]
  },
  {
   "cell_type": "code",
   "execution_count": 13,
   "id": "2a0e441a-a8d0-4c78-9832-fe1ec09550f7",
   "metadata": {},
   "outputs": [
    {
     "data": {
      "text/plain": [
       "[1, 2, 3, 4]"
      ]
     },
     "execution_count": 13,
     "metadata": {},
     "output_type": "execute_result"
    }
   ],
   "source": [
    "a"
   ]
  },
  {
   "cell_type": "code",
   "execution_count": 14,
   "id": "b214803c-9de0-4be9-97e3-7b7b22746fe8",
   "metadata": {},
   "outputs": [
    {
     "data": {
      "text/plain": [
       "[1, 2, 3, 4]"
      ]
     },
     "execution_count": 14,
     "metadata": {},
     "output_type": "execute_result"
    }
   ],
   "source": [
    "b"
   ]
  },
  {
   "cell_type": "code",
   "execution_count": 15,
   "id": "45072abc-f8ed-4e0f-85b0-a7b5123fca60",
   "metadata": {},
   "outputs": [
    {
     "data": {
      "text/plain": [
       "[1, 2, 3, 4]"
      ]
     },
     "execution_count": 15,
     "metadata": {},
     "output_type": "execute_result"
    }
   ],
   "source": [
    "c"
   ]
  },
  {
   "cell_type": "markdown",
   "id": "9d5b071f-4bbc-4316-b74f-fe691d8dd0e2",
   "metadata": {},
   "source": [
    "하지만 그 id까지 같은 것은 아니다. "
   ]
  },
  {
   "cell_type": "code",
   "execution_count": 20,
   "id": "d50a1aa1-53e7-4fae-bd74-27fc5ded0cfe",
   "metadata": {},
   "outputs": [
    {
     "data": {
      "text/plain": [
       "(139851739924096, 139851739924096, 139851742724800)"
      ]
     },
     "execution_count": 20,
     "metadata": {},
     "output_type": "execute_result"
    }
   ],
   "source": [
    "id(a), id(b), id(c)"
   ]
  },
  {
   "cell_type": "markdown",
   "id": "419759cb-8e5f-4df0-a75d-fb3c931b5e23",
   "metadata": {},
   "source": [
    "## 예제2"
   ]
  },
  {
   "cell_type": "markdown",
   "id": "70904726",
   "metadata": {},
   "source": [
    "(관찰)"
   ]
  },
  {
   "cell_type": "code",
   "execution_count": 47,
   "id": "cf561d03-066b-4258-a91d-e36256276c7a",
   "metadata": {},
   "outputs": [
    {
     "name": "stdout",
     "output_type": "stream",
     "text": [
      "a= [1, 2, 3, 4]\n",
      "b= [1, 2, 3]\n"
     ]
    }
   ],
   "source": [
    "a=[1,2,3] # 할당\n",
    "b=a # 에일리어싱 \n",
    "a=[1,2,3]+[4] # 재할당 \n",
    "print('a=',a)\n",
    "print('b=',b)"
   ]
  },
  {
   "cell_type": "markdown",
   "id": "ca84071a",
   "metadata": {},
   "source": [
    "(해설)"
   ]
  },
  {
   "cell_type": "code",
   "execution_count": 13,
   "id": "34ca0747-4299-4ede-ad1e-364550ae0be2",
   "metadata": {},
   "outputs": [
    {
     "data": {
      "text/plain": [
       "(140346713595728, 140346713595168)"
      ]
     },
     "execution_count": 13,
     "metadata": {},
     "output_type": "execute_result"
    }
   ],
   "source": [
    "id(a),id(b)"
   ]
  },
  {
   "cell_type": "markdown",
   "id": "36db8fad",
   "metadata": {},
   "source": [
    "- 포인트: [1,2,3]+[4] 가 실행되는 순간 새로운 오브젝트가 만들어지고 그 오브젝트를 a라는 이름으로 다시 할당되었음. (재할당)"
   ]
  },
  {
   "cell_type": "markdown",
   "id": "f16710da-f829-4e76-810c-cd46c70a5375",
   "metadata": {},
   "source": [
    "# 인터닝 "
   ]
  },
  {
   "cell_type": "markdown",
   "id": "7120aa94-edf8-486f-981b-e3e9874b3d25",
   "metadata": {},
   "source": [
    "## 예제1"
   ]
  },
  {
   "cell_type": "code",
   "execution_count": 25,
   "id": "5f159ac9-05bf-48a5-a47b-5265b626c361",
   "metadata": {},
   "outputs": [
    {
     "data": {
      "text/plain": [
       "139753546122608"
      ]
     },
     "execution_count": 25,
     "metadata": {},
     "output_type": "execute_result"
    }
   ],
   "source": [
    "a=1+2021\n",
    "id(a)"
   ]
  },
  {
   "cell_type": "code",
   "execution_count": 26,
   "id": "bf966edf-8b21-4e46-85b6-5a94db0c9bcd",
   "metadata": {},
   "outputs": [
    {
     "data": {
      "text/plain": [
       "139753545299280"
      ]
     },
     "execution_count": 26,
     "metadata": {},
     "output_type": "execute_result"
    }
   ],
   "source": [
    "b=2023-1\n",
    "id(b)"
   ]
  },
  {
   "cell_type": "code",
   "execution_count": 27,
   "id": "07e3a0cb-76b0-477c-9b02-cb8a35735e9c",
   "metadata": {},
   "outputs": [
    {
     "data": {
      "text/plain": [
       "139753545299472"
      ]
     },
     "execution_count": 27,
     "metadata": {},
     "output_type": "execute_result"
    }
   ],
   "source": [
    "id(2022)"
   ]
  },
  {
   "cell_type": "markdown",
   "id": "60fb2e57",
   "metadata": {},
   "source": [
    "- 당연한결과임. "
   ]
  },
  {
   "cell_type": "markdown",
   "id": "ccaf9744-1b2b-478a-a24d-df15507628c8",
   "metadata": {},
   "source": [
    "## 예제2: 이제 다 이해했다고 생각했는데.. "
   ]
  },
  {
   "cell_type": "code",
   "execution_count": 22,
   "id": "60103d06-5bbc-432f-8d10-d1642caa75fc",
   "metadata": {},
   "outputs": [
    {
     "data": {
      "text/plain": [
       "7394720"
      ]
     },
     "execution_count": 22,
     "metadata": {},
     "output_type": "execute_result"
    }
   ],
   "source": [
    "a=1+2 \n",
    "id(a)"
   ]
  },
  {
   "cell_type": "code",
   "execution_count": 23,
   "id": "f807cfe1-fe2e-4e46-8f7f-934b264c75d8",
   "metadata": {},
   "outputs": [
    {
     "data": {
      "text/plain": [
       "7394720"
      ]
     },
     "execution_count": 23,
     "metadata": {},
     "output_type": "execute_result"
    }
   ],
   "source": [
    "b=4-1\n",
    "id(b)"
   ]
  },
  {
   "cell_type": "markdown",
   "id": "f3e22911-b775-4b8a-b098-4248f6d95d22",
   "metadata": {},
   "source": [
    "- id(a)와 id(b)가 왜 똑같지..? "
   ]
  },
  {
   "cell_type": "markdown",
   "id": "b0c00b35-286a-4e72-a63c-475a04143b4a",
   "metadata": {},
   "source": [
    "(해설) 파이썬의 경우 효율성을 위해서 -5~256까지의 정수를 미리 저장해둠. "
   ]
  },
  {
   "cell_type": "code",
   "execution_count": 14,
   "id": "ecc73076-655f-45b8-917d-2e7397352542",
   "metadata": {},
   "outputs": [
    {
     "data": {
      "text/plain": [
       "7394720"
      ]
     },
     "execution_count": 14,
     "metadata": {},
     "output_type": "execute_result"
    }
   ],
   "source": [
    "id(3)"
   ]
  },
  {
   "cell_type": "markdown",
   "id": "ac11132b",
   "metadata": {},
   "source": [
    "- 3은 언제나 7394720에 지박령마냥 밖혀있음 "
   ]
  },
  {
   "cell_type": "markdown",
   "id": "9341a851-e615-4410-84f6-9d286f5792b6",
   "metadata": {},
   "source": [
    "# `.copy()`의 사용 (shallow copy의 사용)"
   ]
  },
  {
   "cell_type": "markdown",
   "id": "5c05fe41-7656-46fa-9ebc-63c2c224ebcb",
   "metadata": {
    "tags": []
   },
   "source": [
    "## 예제1"
   ]
  },
  {
   "cell_type": "markdown",
   "id": "710e8efe-89ba-44ed-8cc5-819b472de28b",
   "metadata": {},
   "source": [
    "(관찰) 아래의 예제를 살펴보자. 참조를 제대로 이해했다면 아래의 예제는 자연스럽게 이해가능할 것임. "
   ]
  },
  {
   "cell_type": "code",
   "execution_count": 19,
   "id": "1cede05c",
   "metadata": {},
   "outputs": [
    {
     "name": "stdout",
     "output_type": "stream",
     "text": [
      "시점1\n",
      "l1= [3, [66, 55, 44]]\n",
      "l2= [3, [66, 55, 44]]\n",
      "시점2\n",
      "l1= [4, [66, 55, 44]]\n",
      "l2= [4, [66, 55, 44]]\n",
      "시점3\n",
      "l1= [4, [66, 55, 44], 5]\n",
      "l2= [4, [66, 55, 44], 5]\n"
     ]
    }
   ],
   "source": [
    "l1 = [3, [66,55,44]]\n",
    "l2 = l1 \n",
    "print('시점1')\n",
    "print('l1=',l1)\n",
    "print('l2=',l2)\n",
    "\n",
    "l1[0]=4 \n",
    "print('시점2')\n",
    "print('l1=',l1)\n",
    "print('l2=',l2)\n",
    "\n",
    "l2.append(5)\n",
    "print('시점3')\n",
    "print('l1=',l1)\n",
    "print('l2=',l2)"
   ]
  },
  {
   "cell_type": "markdown",
   "id": "93f289e1",
   "metadata": {},
   "source": [
    "(해설)"
   ]
  },
  {
   "cell_type": "code",
   "execution_count": 28,
   "id": "7060883a-dfa2-407d-abad-cce11676598d",
   "metadata": {},
   "outputs": [],
   "source": [
    "l1 = [3, [66,55,44]]\n",
    "l2 = l1 "
   ]
  },
  {
   "cell_type": "code",
   "execution_count": 29,
   "id": "356e020c-6294-4c22-a45e-f6359fb01acb",
   "metadata": {},
   "outputs": [
    {
     "data": {
      "text/plain": [
       "(139753545268832, 139753545268832)"
      ]
     },
     "execution_count": 29,
     "metadata": {},
     "output_type": "execute_result"
    }
   ],
   "source": [
    "id(l1),id(l2)"
   ]
  },
  {
   "cell_type": "markdown",
   "id": "406a7f9f-37e6-47f9-a2d2-31c696c49e1f",
   "metadata": {},
   "source": [
    "이해는 되지만 우리가 원한건 이런게 아니야 "
   ]
  },
  {
   "cell_type": "markdown",
   "id": "2efbc8b3-1f80-4522-a59f-532d933bd31a",
   "metadata": {},
   "source": [
    "## 예제2: R과 같이 = 를 쓰고 싶다면? "
   ]
  },
  {
   "cell_type": "markdown",
   "id": "e335dcd4",
   "metadata": {},
   "source": [
    "(관찰)"
   ]
  },
  {
   "cell_type": "code",
   "execution_count": 20,
   "id": "d4511346",
   "metadata": {},
   "outputs": [
    {
     "name": "stdout",
     "output_type": "stream",
     "text": [
      "시점1\n",
      "l1= [3, [66, 55, 44]]\n",
      "l2= [3, [66, 55, 44]]\n",
      "시점2\n",
      "l1= [4, [66, 55, 44]]\n",
      "l2= [3, [66, 55, 44]]\n",
      "시점3\n",
      "l1= [4, [66, 55, 44]]\n",
      "l2= [3, [66, 55, 44], 5]\n"
     ]
    }
   ],
   "source": [
    "l1 = [3, [66,55,44]]\n",
    "l2 = l1.copy()\n",
    "print('시점1')\n",
    "print('l1=',l1)\n",
    "print('l2=',l2)\n",
    "\n",
    "l1[0]=4 \n",
    "print('시점2')\n",
    "print('l1=',l1)\n",
    "print('l2=',l2)\n",
    "\n",
    "l2.append(5)\n",
    "print('시점3')\n",
    "print('l1=',l1)\n",
    "print('l2=',l2)"
   ]
  },
  {
   "cell_type": "markdown",
   "id": "8ea29ed7",
   "metadata": {},
   "source": [
    "(해설)"
   ]
  },
  {
   "cell_type": "code",
   "execution_count": 21,
   "id": "bca78f1f-68d8-4007-86ed-c6c00bd3f5b7",
   "metadata": {},
   "outputs": [],
   "source": [
    "l1 = [3, [66,55,44]]\n",
    "l2 = l1.copy()"
   ]
  },
  {
   "cell_type": "code",
   "execution_count": 22,
   "id": "b0f127e2-e7d7-4c2f-bbf4-7dd72c071667",
   "metadata": {},
   "outputs": [
    {
     "data": {
      "text/plain": [
       "(140346713602720, 140346713599104)"
      ]
     },
     "execution_count": 22,
     "metadata": {},
     "output_type": "execute_result"
    }
   ],
   "source": [
    "id(l1),id(l2) ## 드디어 주소가 달라졌다."
   ]
  },
  {
   "cell_type": "markdown",
   "id": "d0fb814e-048b-4a8f-a691-291697b2d75c",
   "metadata": {},
   "source": [
    "## 예제3: 이제 다 이해했다고 생각했는데.. "
   ]
  },
  {
   "cell_type": "markdown",
   "id": "50c9a5eb",
   "metadata": {},
   "source": [
    "(관찰)"
   ]
  },
  {
   "cell_type": "code",
   "execution_count": 23,
   "id": "92319b7a-8934-4a61-a00a-aad564d00981",
   "metadata": {},
   "outputs": [
    {
     "name": "stdout",
     "output_type": "stream",
     "text": [
      "l1= [3, [66, 55, 44, 33]]\n",
      "l2= [3, [66, 55, 44, 33]]\n"
     ]
    }
   ],
   "source": [
    "l1 = [3,[66,55,44]]\n",
    "l2 = l1.copy()\n",
    "l1[1].append(33)\n",
    "print('l1=',l1)\n",
    "print('l2=',l2)"
   ]
  },
  {
   "cell_type": "markdown",
   "id": "b316fa58",
   "metadata": {},
   "source": [
    "(의문)"
   ]
  },
  {
   "cell_type": "code",
   "execution_count": 24,
   "id": "a91c39f1-5ecd-4ff2-8245-53d757033682",
   "metadata": {},
   "outputs": [
    {
     "data": {
      "text/plain": [
       "(140346713608432, 140346731755152)"
      ]
     },
     "execution_count": 24,
     "metadata": {},
     "output_type": "execute_result"
    }
   ],
   "source": [
    "id(l1),id(l2)"
   ]
  },
  {
   "cell_type": "markdown",
   "id": "f7bd7682-b45f-4a7d-98bb-4ce092a0c47a",
   "metadata": {},
   "source": [
    "- l1이랑 l2의 주소도 다르게 나오는데 왜 또 참조한것마냥 l1과 l2가 같이 바뀌고 있지? "
   ]
  },
  {
   "cell_type": "markdown",
   "id": "6755d755-c954-402d-a9ae-68f17a37ed29",
   "metadata": {},
   "source": [
    "# Shallow copy의 이해"
   ]
  },
  {
   "cell_type": "markdown",
   "id": "29e67d51-273b-4f8c-bedf-a9c83e8c855b",
   "metadata": {},
   "source": [
    "`-` 방금 살펴본 예제3을 이해하기 위해서는 shallow copy를 이해해야 한다. "
   ]
  },
  {
   "cell_type": "markdown",
   "id": "e4b7be1f-426a-4dfa-ac2a-98026632f3e1",
   "metadata": {},
   "source": [
    "## 예제1"
   ]
  },
  {
   "cell_type": "markdown",
   "id": "e83a286e",
   "metadata": {},
   "source": [
    "(관찰+해설)"
   ]
  },
  {
   "cell_type": "code",
   "execution_count": 53,
   "id": "7a5bc105-18e0-4d29-b2fb-fe2384348b59",
   "metadata": {},
   "outputs": [],
   "source": [
    "a=2222\n",
    "b=2222"
   ]
  },
  {
   "cell_type": "code",
   "execution_count": 54,
   "id": "a123eedc-5042-4afd-8b8b-dd63f237f199",
   "metadata": {},
   "outputs": [
    {
     "data": {
      "text/plain": [
       "(139753545300880, 139753545301808)"
      ]
     },
     "execution_count": 54,
     "metadata": {},
     "output_type": "execute_result"
    }
   ],
   "source": [
    "id(a),id(b)"
   ]
  },
  {
   "cell_type": "markdown",
   "id": "b087420f-a528-4a90-a7c5-c2f2ace7b05a",
   "metadata": {},
   "source": [
    "메모리 상황 "
   ]
  },
  {
   "cell_type": "markdown",
   "id": "250ed78b-2754-43c8-b015-c3e445722b4a",
   "metadata": {},
   "source": [
    "1. 2222라는 오브젝트가 어떤공간(`139753545300880`)에 생성되고 그 공간에 `a`라는 라벨이 붙음 \n",
    "2. 2222라는 오브젝트가 어떤공간(`139753545301808`)에 생성되고 그 공간에 `b`라는 라벨이 붙음 "
   ]
  },
  {
   "cell_type": "markdown",
   "id": "da2c21f4-eccf-4339-9fb9-a275738a2b9d",
   "metadata": {},
   "source": [
    "즉 -5~256 이외의 2개의 메모리 공간을 추가적으로 사용 "
   ]
  },
  {
   "cell_type": "markdown",
   "id": "fa134204-cfc8-40dc-a109-6b6e509d6713",
   "metadata": {},
   "source": [
    "## 예제2"
   ]
  },
  {
   "cell_type": "markdown",
   "id": "cd2d8026",
   "metadata": {},
   "source": [
    "(관찰)"
   ]
  },
  {
   "cell_type": "code",
   "execution_count": 3,
   "id": "6ab5d348",
   "metadata": {},
   "outputs": [
    {
     "name": "stdout",
     "output_type": "stream",
     "text": [
      "a= [1, 2, 2222, 4]\n",
      "b= [1, 2, 2222]\n"
     ]
    }
   ],
   "source": [
    "a=[1,2,2222]\n",
    "b=[1,2,2222]\n",
    "a.append(4)\n",
    "print('a=',a)\n",
    "print('b=',b)"
   ]
  },
  {
   "cell_type": "markdown",
   "id": "0edfc7dc",
   "metadata": {},
   "source": [
    "(해설)"
   ]
  },
  {
   "cell_type": "code",
   "execution_count": 264,
   "id": "80385249-8494-4ff3-ae8c-4ff8fe95212b",
   "metadata": {},
   "outputs": [],
   "source": [
    "a=[1,2,2222]\n",
    "b=[1,2,2222]"
   ]
  },
  {
   "cell_type": "code",
   "execution_count": 274,
   "id": "5a92a171-7fe7-4287-bf18-5f9f17e77ab4",
   "metadata": {},
   "outputs": [
    {
     "data": {
      "text/plain": [
       "(139753182327904, [7394656, 7394688, 139753178093776])"
      ]
     },
     "execution_count": 274,
     "metadata": {},
     "output_type": "execute_result"
    }
   ],
   "source": [
    "id(a), [id(a[0]),id(a[1]),id(a[2])] # a=[1,2,2222]"
   ]
  },
  {
   "cell_type": "code",
   "execution_count": 275,
   "id": "a8c1b3c3-e7db-444a-b1ea-0e4ec1c5433f",
   "metadata": {},
   "outputs": [
    {
     "data": {
      "text/plain": [
       "(139753173818656, [7394656, 7394688, 139753178095568])"
      ]
     },
     "execution_count": 275,
     "metadata": {},
     "output_type": "execute_result"
    }
   ],
   "source": [
    "id(b), [id(b[0]),id(b[1]),id(b[2])] # b=[1,2,2222] "
   ]
  },
  {
   "cell_type": "code",
   "execution_count": 269,
   "id": "8be5a889-7646-463a-802c-4ca48a43b71e",
   "metadata": {},
   "outputs": [],
   "source": [
    "a.append(4)"
   ]
  },
  {
   "cell_type": "code",
   "execution_count": 270,
   "id": "a78a7612-b184-473f-9e3f-91d5da39378c",
   "metadata": {},
   "outputs": [
    {
     "data": {
      "text/plain": [
       "[1, 2, 2222, 4]"
      ]
     },
     "execution_count": 270,
     "metadata": {},
     "output_type": "execute_result"
    }
   ],
   "source": [
    "a"
   ]
  },
  {
   "cell_type": "code",
   "execution_count": 271,
   "id": "964817b9-0d57-453e-a0e8-37fc0eaa2cd8",
   "metadata": {},
   "outputs": [
    {
     "data": {
      "text/plain": [
       "[1, 2, 2222]"
      ]
     },
     "execution_count": 271,
     "metadata": {},
     "output_type": "execute_result"
    }
   ],
   "source": [
    "b"
   ]
  },
  {
   "cell_type": "markdown",
   "id": "b1437109-a4a7-490a-b6d1-92ae7a34dae1",
   "metadata": {},
   "source": [
    "메모리상황 "
   ]
  },
  {
   "cell_type": "markdown",
   "id": "84458127-b4fe-4613-9053-be3c730eca27",
   "metadata": {},
   "source": [
    "0. -5~256까지의 숫자는 미리 메모리에 저장되어 있다. 이중에서 1은 `7394656`, 2는 `7394688`에 저장되어있음. \n",
    "1. 2222가 공간 `139753178093776`에서 만들어진다. \n",
    "2. 어떠한 리스트오브젝트가 공간 `139753182327904`에서 만들어지고 원소로 [1,2,2222]를 가진다. 이 공간에 `a`라는 포스트잇을 붙인다. \n",
    "3. 2222가 공간 `139753178095568`에서 만들어진다.\n",
    "4. 어떠한 리스트오브젝트가 공간 `139753173818656`에서 만들어지고 원소로 [1,2,2222]를 가진다. 이 공간에 `b`라는 포스트잇을 붙인다. \n",
    "5. `a`라는 포스트잇이 붙은 공간으로 이동하여 원소에 4를 추가시킨다. "
   ]
  },
  {
   "cell_type": "markdown",
   "id": "983a705f-e36b-45e9-8d78-843e1e8a8e6c",
   "metadata": {},
   "source": [
    "즉 -5~256이외에 4개의 메모리 공간을 추가사용 (a,b,a의 2222,b의 2222)"
   ]
  },
  {
   "cell_type": "markdown",
   "id": "62fa56b2-6187-4035-917d-404111067be1",
   "metadata": {},
   "source": [
    "## 예제3"
   ]
  },
  {
   "cell_type": "markdown",
   "id": "b4e7ab6d",
   "metadata": {},
   "source": [
    "(관찰)"
   ]
  },
  {
   "cell_type": "code",
   "execution_count": 4,
   "id": "6226b004",
   "metadata": {},
   "outputs": [
    {
     "name": "stdout",
     "output_type": "stream",
     "text": [
      "l1= [7777, [66, 55, 44]]\n",
      "l2= [3, [66, 55, 44]]\n"
     ]
    }
   ],
   "source": [
    "l1 = [3,[66,55,44]]\n",
    "l2 = l1.copy()\n",
    "l1[0] = 7777\n",
    "print('l1=',l1)\n",
    "print('l2=',l2)"
   ]
  },
  {
   "cell_type": "markdown",
   "id": "3d6cb0cd",
   "metadata": {},
   "source": [
    "(해설)"
   ]
  },
  {
   "cell_type": "code",
   "execution_count": 258,
   "id": "d3e5f49a-7df9-449d-8f73-d62f5b3e8af5",
   "metadata": {},
   "outputs": [],
   "source": [
    "l1 = [3,[66,55,44]]\n",
    "l2 = l1.copy()"
   ]
  },
  {
   "cell_type": "code",
   "execution_count": 259,
   "id": "2ebf7b57-6c66-4321-9120-d2020b8b05f9",
   "metadata": {},
   "outputs": [
    {
     "data": {
      "text/plain": [
       "(139753183437040, [7394720, 139753183707216])"
      ]
     },
     "execution_count": 259,
     "metadata": {},
     "output_type": "execute_result"
    }
   ],
   "source": [
    "id(l1), [id(l1[0]), id(l1[1])]"
   ]
  },
  {
   "cell_type": "code",
   "execution_count": 260,
   "id": "84eee6dc-c35c-4d1f-b8fc-67b6f6e091e9",
   "metadata": {},
   "outputs": [
    {
     "data": {
      "text/plain": [
       "(139753182311120, [7394720, 139753183707216])"
      ]
     },
     "execution_count": 260,
     "metadata": {},
     "output_type": "execute_result"
    }
   ],
   "source": [
    "id(l2), [id(l2[0]), id(l2[1])]"
   ]
  },
  {
   "cell_type": "markdown",
   "id": "41d01365-cf32-4c0f-b7a3-7ce0fefea7ed",
   "metadata": {},
   "source": [
    "메모리상황 "
   ]
  },
  {
   "cell_type": "markdown",
   "id": "3de51fca-2b8d-4c17-bd62-beede6f7e799",
   "metadata": {},
   "source": [
    "0. -5~256까지의 숫자가 메모리에 저장되어 있다. \n",
    "1. 저장된 숫자중 66,55,44를 묶어서 리스트로 구성하고 이 리스트를 공간 `139753183707216`에 저장. \n",
    "2. 숫자 3과 공간 `139753183707216`에 저장된 리스트 [66,55,44]를 하나로 묶어서 새로운 리스트를 구성하고 이를 공간 `139753183437040`에 저장. 공간 `139753183437040`에 `l1`이라는 포스트잇 생성. \n",
    "3. 공간 `139753182311120`에 `l1`의 원소들을 모아서 새로운 리스트를 구성함. 공간 `139753182311120`에 `l2`라는 포스트잇 생성. "
   ]
  },
  {
   "cell_type": "code",
   "execution_count": 261,
   "id": "1995f5de-db65-438a-ba2c-9124b61a10e7",
   "metadata": {},
   "outputs": [
    {
     "data": {
      "text/plain": [
       "([7777, [66, 55, 44]], [3, [66, 55, 44]])"
      ]
     },
     "execution_count": 261,
     "metadata": {},
     "output_type": "execute_result"
    }
   ],
   "source": [
    "l1[0] = 7777\n",
    "l1,l2"
   ]
  },
  {
   "cell_type": "code",
   "execution_count": 262,
   "id": "830c5fb2-b486-4448-b8fc-14e61dc24757",
   "metadata": {},
   "outputs": [
    {
     "data": {
      "text/plain": [
       "(139753183437040, [139753178092080, 139753183707216])"
      ]
     },
     "execution_count": 262,
     "metadata": {},
     "output_type": "execute_result"
    }
   ],
   "source": [
    "id(l1), [id(l1[0]), id(l1[1])]"
   ]
  },
  {
   "cell_type": "code",
   "execution_count": 263,
   "id": "ae2d0d8d-1e81-47b6-9fab-0263a9a7f343",
   "metadata": {},
   "outputs": [
    {
     "data": {
      "text/plain": [
       "(139753182311120, [7394720, 139753183707216])"
      ]
     },
     "execution_count": 263,
     "metadata": {},
     "output_type": "execute_result"
    }
   ],
   "source": [
    "id(l2), [id(l2[0]), id(l2[1])]"
   ]
  },
  {
   "cell_type": "markdown",
   "id": "05b74644-c33d-4101-bbcf-45eefbb39afc",
   "metadata": {},
   "source": [
    "0. l1[0]은 원래 공간 `7394720`와 binding 되어 있었음.  \n",
    "1. 그런데 7777이라는 새로운 오브젝트가 공간 `139753178092080`에 생성되고 l1[0]이 공간 `139753178092080`와 다시 binding 됨. "
   ]
  },
  {
   "cell_type": "markdown",
   "id": "ec42c725-3667-4a1b-9256-e20bc3020088",
   "metadata": {
    "tags": []
   },
   "source": [
    "## 예제4"
   ]
  },
  {
   "cell_type": "markdown",
   "id": "f2742dbb",
   "metadata": {},
   "source": [
    "(관찰)"
   ]
  },
  {
   "cell_type": "code",
   "execution_count": 5,
   "id": "df69a0c9",
   "metadata": {},
   "outputs": [
    {
     "name": "stdout",
     "output_type": "stream",
     "text": [
      "l1= [3, [66, 55, 44], 7777]\n",
      "l2= [3, [66, 55, 44]]\n"
     ]
    }
   ],
   "source": [
    "l1 = [3,[66,55,44]]\n",
    "l2 = l1.copy()\n",
    "l1.append(7777)\n",
    "print('l1=',l1)\n",
    "print('l2=',l2)"
   ]
  },
  {
   "cell_type": "markdown",
   "id": "be8f05fa",
   "metadata": {},
   "source": [
    "(해설)"
   ]
  },
  {
   "cell_type": "code",
   "execution_count": 282,
   "id": "3aba3131-d072-477c-9f6b-1d8b566cdc09",
   "metadata": {},
   "outputs": [],
   "source": [
    "l1 = [3,[66,55,44]]\n",
    "l2 = l1.copy()\n",
    "l1.append(7777)"
   ]
  },
  {
   "cell_type": "code",
   "execution_count": 283,
   "id": "c70cab26-07e6-493d-9a66-ea0b0681371d",
   "metadata": {},
   "outputs": [
    {
     "data": {
      "text/plain": [
       "([3, [66, 55, 44], 7777], [3, [66, 55, 44]])"
      ]
     },
     "execution_count": 283,
     "metadata": {},
     "output_type": "execute_result"
    }
   ],
   "source": [
    "l1,l2"
   ]
  },
  {
   "cell_type": "code",
   "execution_count": 278,
   "id": "e764c754-5911-4b56-911e-f84101e704f0",
   "metadata": {},
   "outputs": [
    {
     "data": {
      "text/plain": [
       "(139753183257056, [7394720, 139753184484240, 139753180268560])"
      ]
     },
     "execution_count": 278,
     "metadata": {},
     "output_type": "execute_result"
    }
   ],
   "source": [
    "id(l1), [id(l1[0]), id(l1[1]), id(l1[2])]"
   ]
  },
  {
   "cell_type": "code",
   "execution_count": 279,
   "id": "6d08da43-7d74-4ccf-b640-da9316bff186",
   "metadata": {},
   "outputs": [
    {
     "data": {
      "text/plain": [
       "(139753183216656, [7394720, 139753184484240])"
      ]
     },
     "execution_count": 279,
     "metadata": {},
     "output_type": "execute_result"
    }
   ],
   "source": [
    "id(l2), [id(l2[0]), id(l2[1])]"
   ]
  },
  {
   "cell_type": "markdown",
   "id": "4e516929-bb09-461f-8567-0b05952eb13b",
   "metadata": {},
   "source": [
    "> 예제3, 예제4를 통하여 리스트가 가변형객체라는 것을 확인할 수 있다. 예제3의 경우 l1이 저장되어있던 메모리공간의 내용물이 [3,[66,55,44]] 에서 [7777,[66,55,44]] 로 바뀌었다. 예제4의 경우 l1이 저장되어있던 메모리공간의 내용물이 [3,[66,55,44]] 에서 [3,[66,55,44],7777] 로 바뀌었다. "
   ]
  },
  {
   "cell_type": "markdown",
   "id": "564366b9-8fb6-4daa-bdc4-d8520b6a7219",
   "metadata": {
    "tags": []
   },
   "source": [
    "## 예제5: 우리를 힘들게 했던 그 예제. "
   ]
  },
  {
   "cell_type": "markdown",
   "id": "06be039c",
   "metadata": {},
   "source": [
    "(관찰)"
   ]
  },
  {
   "cell_type": "code",
   "execution_count": 6,
   "id": "2213fbc9",
   "metadata": {},
   "outputs": [
    {
     "name": "stdout",
     "output_type": "stream",
     "text": [
      "l1= [3, [66, 55, 44, 7777]]\n",
      "l2= [3, [66, 55, 44, 7777]]\n"
     ]
    }
   ],
   "source": [
    "l1 = [3,[66,55,44]]\n",
    "l2 = l1.copy()\n",
    "l1[1].append(7777)\n",
    "print('l1=',l1)\n",
    "print('l2=',l2)"
   ]
  },
  {
   "cell_type": "markdown",
   "id": "739cd24d-ed56-449f-b89e-c72f075fa936",
   "metadata": {},
   "source": [
    "(해설-시점1)"
   ]
  },
  {
   "cell_type": "code",
   "execution_count": 284,
   "id": "305eba9d-26d0-44f2-bab1-19ee2b36c745",
   "metadata": {},
   "outputs": [],
   "source": [
    "l1 = [3,[66,55,44]]\n",
    "l2 = l1.copy()"
   ]
  },
  {
   "cell_type": "code",
   "execution_count": 285,
   "id": "933b12ed-dfe2-4022-9b9f-06c8c07a99a8",
   "metadata": {},
   "outputs": [
    {
     "data": {
      "text/plain": [
       "([3, [66, 55, 44]], [3, [66, 55, 44]])"
      ]
     },
     "execution_count": 285,
     "metadata": {},
     "output_type": "execute_result"
    }
   ],
   "source": [
    "l1,l2"
   ]
  },
  {
   "cell_type": "code",
   "execution_count": 286,
   "id": "296a2144-9070-4e63-adb5-72243b2bd0ea",
   "metadata": {},
   "outputs": [
    {
     "data": {
      "text/plain": [
       "(139753181411920, [7394720, 139753181409920])"
      ]
     },
     "execution_count": 286,
     "metadata": {},
     "output_type": "execute_result"
    }
   ],
   "source": [
    "id(l1), [id(l1[0]), id(l1[1])]"
   ]
  },
  {
   "cell_type": "code",
   "execution_count": 287,
   "id": "86ceefe3-34e5-4a23-aca6-eb74ab04737c",
   "metadata": {},
   "outputs": [
    {
     "data": {
      "text/plain": [
       "(139753181409440, [7394720, 139753181409920])"
      ]
     },
     "execution_count": 287,
     "metadata": {},
     "output_type": "execute_result"
    }
   ],
   "source": [
    "id(l2), [id(l2[0]), id(l2[1])]"
   ]
  },
  {
   "cell_type": "markdown",
   "id": "5c9f1803-1a78-416b-863a-bc270c8109e1",
   "metadata": {},
   "source": [
    "(해설-시점2)"
   ]
  },
  {
   "cell_type": "code",
   "execution_count": 288,
   "id": "29cf92b0-59a9-4757-9904-1f9be88c47d4",
   "metadata": {},
   "outputs": [],
   "source": [
    "l1[1].append(7777)"
   ]
  },
  {
   "cell_type": "code",
   "execution_count": 289,
   "id": "51a48432-5602-4670-aee1-0d21c84df95b",
   "metadata": {},
   "outputs": [
    {
     "data": {
      "text/plain": [
       "([3, [66, 55, 44, 7777]], [3, [66, 55, 44, 7777]])"
      ]
     },
     "execution_count": 289,
     "metadata": {},
     "output_type": "execute_result"
    }
   ],
   "source": [
    "l1,l2"
   ]
  },
  {
   "cell_type": "code",
   "execution_count": 290,
   "id": "86761fe9-edd7-4c53-a2c0-559361692dc1",
   "metadata": {},
   "outputs": [
    {
     "data": {
      "text/plain": [
       "(139753181411920, [7394720, 139753181409920])"
      ]
     },
     "execution_count": 290,
     "metadata": {},
     "output_type": "execute_result"
    }
   ],
   "source": [
    "id(l1), [id(l1[0]), id(l1[1])]"
   ]
  },
  {
   "cell_type": "code",
   "execution_count": 291,
   "id": "ffa1968c-ed9e-4d93-8d76-011cdd7e0d2d",
   "metadata": {},
   "outputs": [
    {
     "data": {
      "text/plain": [
       "(139753181409440, [7394720, 139753181409920])"
      ]
     },
     "execution_count": 291,
     "metadata": {},
     "output_type": "execute_result"
    }
   ],
   "source": [
    "id(l2), [id(l2[0]), id(l2[1])]"
   ]
  },
  {
   "cell_type": "markdown",
   "id": "d04b2476-6c7f-48cc-82ce-c1865106404d",
   "metadata": {},
   "source": [
    "해설: 사실 시점1에서 메모리 주소상황을 잘 이해했다면 신기한 일이 아니다. `.copy()`는 l1과 l2의 주소만 다르게 만들 뿐 내용물인 `l1[0]`,`l1[1]`는 동일하니까."
   ]
  },
  {
   "cell_type": "markdown",
   "id": "f2a89d4b-9390-46ca-872a-1d8daf6ebfca",
   "metadata": {},
   "source": [
    "## 예제6: 신임교수=['최규빈','이영미']"
   ]
  },
  {
   "cell_type": "markdown",
   "id": "3d50edf6-bcff-48ca-ad82-d6cb7845f188",
   "metadata": {},
   "source": [
    "`-` 최규빈, 이영미는 신임교수임 "
   ]
  },
  {
   "cell_type": "code",
   "execution_count": 316,
   "id": "1eb58c7e-822d-4370-86eb-26bb52f0963e",
   "metadata": {},
   "outputs": [],
   "source": [
    "신임교수 = ['최규빈','이영미']"
   ]
  },
  {
   "cell_type": "code",
   "execution_count": 317,
   "id": "12c3cf15-40bf-4aca-99cf-c8e988086c93",
   "metadata": {},
   "outputs": [
    {
     "data": {
      "text/plain": [
       "(139753182527808, 139753171447312, 139753171447408)"
      ]
     },
     "execution_count": 317,
     "metadata": {},
     "output_type": "execute_result"
    }
   ],
   "source": [
    "id(신임교수), id('최규빈'), id('이영미')"
   ]
  },
  {
   "cell_type": "markdown",
   "id": "436f7906-534b-4c3e-900c-f639d5f0e0f3",
   "metadata": {},
   "source": [
    "`-` 신임교수를 누군가는 막내들이라고 부르기도 함. "
   ]
  },
  {
   "cell_type": "code",
   "execution_count": 318,
   "id": "7bccc7cb-e4ed-4195-9993-e52e755e4d2e",
   "metadata": {},
   "outputs": [],
   "source": [
    "막내들 = 신임교수 "
   ]
  },
  {
   "cell_type": "code",
   "execution_count": 319,
   "id": "012cf8f4-8762-4ca8-ad99-b04faa7c100c",
   "metadata": {},
   "outputs": [
    {
     "data": {
      "text/plain": [
       "(139753182527808, 139753182527808)"
      ]
     },
     "execution_count": 319,
     "metadata": {},
     "output_type": "execute_result"
    }
   ],
   "source": [
    "id(막내들), id(신임교수)"
   ]
  },
  {
   "cell_type": "markdown",
   "id": "54ea16f6-1d5a-447a-b3b8-76861321e5b4",
   "metadata": {},
   "source": [
    "\"막내들\"이라는 단어와 \"신임교수\"라는 단어는 사실 같은 말임 "
   ]
  },
  {
   "cell_type": "markdown",
   "id": "3b544305-674f-454e-8cc1-e8b05254987a",
   "metadata": {},
   "source": [
    "`-` 새로운 교수 \"박혜원\"이 뽑혔음. "
   ]
  },
  {
   "cell_type": "code",
   "execution_count": 320,
   "id": "2ce7a905-7f27-4f3e-bb85-2a1c377f30cb",
   "metadata": {},
   "outputs": [],
   "source": [
    "신임교수.append(\"박혜원\")"
   ]
  },
  {
   "cell_type": "code",
   "execution_count": 321,
   "id": "2374f400-212d-4d9c-b04d-d1868872e343",
   "metadata": {},
   "outputs": [
    {
     "data": {
      "text/plain": [
       "(['최규빈', '이영미', '박혜원'], ['최규빈', '이영미', '박혜원'])"
      ]
     },
     "execution_count": 321,
     "metadata": {},
     "output_type": "execute_result"
    }
   ],
   "source": [
    "신임교수, 막내들"
   ]
  },
  {
   "cell_type": "markdown",
   "id": "b29726f9-8627-4520-b148-f3c4879f71b1",
   "metadata": {},
   "source": [
    "`-` 전북대 통계학과에서 R특강팀을 구성하여 방학중 R교육을 실시하고자함. 특강팀은 우선 신임교수들로 구성. "
   ]
  },
  {
   "cell_type": "code",
   "execution_count": 322,
   "id": "53972eea-fef2-4f03-83bc-810ce952aa33",
   "metadata": {},
   "outputs": [
    {
     "data": {
      "text/plain": [
       "['최규빈', '이영미', '박혜원']"
      ]
     },
     "execution_count": 322,
     "metadata": {},
     "output_type": "execute_result"
    }
   ],
   "source": [
    "R특강팀 = 신임교수.copy()\n",
    "R특강팀 "
   ]
  },
  {
   "cell_type": "markdown",
   "id": "baedbe7f-2a72-4811-8fd4-dc7fafac1d82",
   "metadata": {},
   "source": [
    "`-` R특강팀에 `최혜미`교수님 추가. (그렇지만 최혜미교수님이 막내는 아니야.. // 참조와 shallow copy의 차이점) "
   ]
  },
  {
   "cell_type": "code",
   "execution_count": 323,
   "id": "c01762cf-c2a7-497f-860d-94b1f04a773d",
   "metadata": {},
   "outputs": [],
   "source": [
    "R특강팀.append(\"최혜미\") "
   ]
  },
  {
   "cell_type": "code",
   "execution_count": 324,
   "id": "602e23b2-4874-4016-8748-ffcf9088d3da",
   "metadata": {},
   "outputs": [
    {
     "data": {
      "text/plain": [
       "(['최규빈', '이영미', '박혜원', '최혜미'], ['최규빈', '이영미', '박혜원'], ['최규빈', '이영미', '박혜원'])"
      ]
     },
     "execution_count": 324,
     "metadata": {},
     "output_type": "execute_result"
    }
   ],
   "source": [
    "R특강팀, 신임교수, 막내들"
   ]
  },
  {
   "cell_type": "markdown",
   "id": "d8bb4451-4abc-4e34-a36c-a1a41419122b",
   "metadata": {},
   "source": [
    "`-` R특강팀에서 양성준 교수를 추가하여 파이썬 특강팀을 구성 (R특강팀의 구분을 위해서 중첩리스트 구조로 만들자)"
   ]
  },
  {
   "cell_type": "code",
   "execution_count": 326,
   "id": "5416d7a1-3370-4707-b10d-db09a1e35ff0",
   "metadata": {},
   "outputs": [
    {
     "data": {
      "text/plain": [
       "[['최규빈', '이영미', '박혜원', '최혜미'], '양성준']"
      ]
     },
     "execution_count": 326,
     "metadata": {},
     "output_type": "execute_result"
    }
   ],
   "source": [
    "파이썬특강팀 = [R특강팀, \"양성준\"]\n",
    "파이썬특강팀"
   ]
  },
  {
   "cell_type": "markdown",
   "id": "7fe431fb-c4b1-4a1e-903b-8f09bc85ddb8",
   "metadata": {},
   "source": [
    "`-` 이영미교수는 다른 일이 많아서 R특강 팀에서 제외됨. (그럼 자연히 파이썬에서도 제외됨!!) "
   ]
  },
  {
   "cell_type": "code",
   "execution_count": 327,
   "id": "cf0b4c7b-e545-4e99-943a-0814628d81f5",
   "metadata": {},
   "outputs": [],
   "source": [
    "R특강팀.remove(\"이영미\")"
   ]
  },
  {
   "cell_type": "code",
   "execution_count": 328,
   "id": "d0d1cf77-67c2-4d76-b6f2-3bfa7bee2ce0",
   "metadata": {},
   "outputs": [
    {
     "data": {
      "text/plain": [
       "(['최규빈', '박혜원', '최혜미'], [['최규빈', '박혜원', '최혜미'], '양성준'])"
      ]
     },
     "execution_count": 328,
     "metadata": {},
     "output_type": "execute_result"
    }
   ],
   "source": [
    "R특강팀, 파이썬특강팀"
   ]
  },
  {
   "cell_type": "markdown",
   "id": "a4a7dc63-3de5-413c-90c0-65b9e69412e6",
   "metadata": {},
   "source": [
    "하지만 이영미교수는 여전히 신임교수이면서 막내들임 "
   ]
  },
  {
   "cell_type": "code",
   "execution_count": 329,
   "id": "3e9847ec-306f-42e0-8a11-ed6e83979625",
   "metadata": {},
   "outputs": [
    {
     "data": {
      "text/plain": [
       "(['최규빈', '이영미', '박혜원'], ['최규빈', '이영미', '박혜원'])"
      ]
     },
     "execution_count": 329,
     "metadata": {},
     "output_type": "execute_result"
    }
   ],
   "source": [
    "신임교수, 막내들"
   ]
  },
  {
   "cell_type": "markdown",
   "id": "5cc1a9d8-a8ea-4925-8c28-2346db8905b4",
   "metadata": {},
   "source": [
    "`-` 새로운 교수로 \"손흥민\"이 임용됨. "
   ]
  },
  {
   "cell_type": "code",
   "execution_count": 330,
   "id": "6ba3e275-7625-4b93-a890-5b1d304ce0f4",
   "metadata": {},
   "outputs": [],
   "source": [
    "막내들.append(\"손흥민\")"
   ]
  },
  {
   "cell_type": "code",
   "execution_count": 331,
   "id": "1aacdf43-e90c-449a-9382-2316539711b9",
   "metadata": {},
   "outputs": [
    {
     "data": {
      "text/plain": [
       "(['최규빈', '이영미', '박혜원', '손흥민'], ['최규빈', '이영미', '박혜원', '손흥민'])"
      ]
     },
     "execution_count": 331,
     "metadata": {},
     "output_type": "execute_result"
    }
   ],
   "source": [
    "막내들, 신임교수"
   ]
  },
  {
   "cell_type": "markdown",
   "id": "4910f21a-daae-4fc7-9770-399f2064d2b5",
   "metadata": {},
   "source": [
    "`-` 그렇다고 해서 손흥민 교수가 바로 R이나 파이썬 특강팀에 자동소속되는건 아님"
   ]
  },
  {
   "cell_type": "code",
   "execution_count": 332,
   "id": "798860a1-945a-4d40-b117-2c70f3095af6",
   "metadata": {},
   "outputs": [
    {
     "data": {
      "text/plain": [
       "(['최규빈', '박혜원', '최혜미'], [['최규빈', '박혜원', '최혜미'], '양성준'])"
      ]
     },
     "execution_count": 332,
     "metadata": {},
     "output_type": "execute_result"
    }
   ],
   "source": [
    "R특강팀, 파이썬특강팀"
   ]
  },
  {
   "cell_type": "markdown",
   "id": "61d2da78-cabd-40c0-8c2f-ab51d725d97e",
   "metadata": {},
   "source": [
    "# Deep copy"
   ]
  },
  {
   "cell_type": "markdown",
   "id": "4ab61476-5c3e-45ee-b5c2-aae446d6fbfd",
   "metadata": {},
   "source": [
    "## 예제1: Motivation example"
   ]
  },
  {
   "cell_type": "markdown",
   "id": "15275b07-390e-40f6-b98b-7f1097698a48",
   "metadata": {},
   "source": [
    "`-` 아래의 상황을 다시 생각해보자."
   ]
  },
  {
   "cell_type": "code",
   "execution_count": 338,
   "id": "48be94a5-5379-42d5-9e75-8797ceea7083",
   "metadata": {},
   "outputs": [],
   "source": [
    "파이썬특강팀 = [\"양성준\",[\"최규빈\",\"이영미\",\"최혜미\"]]\n",
    "ADSP특강팀 = 파이썬특강팀.copy()\n",
    "파이썬특강팀[-1].remove(\"이영미\")"
   ]
  },
  {
   "cell_type": "code",
   "execution_count": 340,
   "id": "ca2381d2-48cd-4280-9d19-f3ae5917e635",
   "metadata": {},
   "outputs": [
    {
     "data": {
      "text/plain": [
       "(['양성준', ['최규빈', '최혜미']], ['양성준', ['최규빈', '최혜미']])"
      ]
     },
     "execution_count": 340,
     "metadata": {},
     "output_type": "execute_result"
    }
   ],
   "source": [
    "파이썬특강팀, ADSP특강팀"
   ]
  },
  {
   "cell_type": "markdown",
   "id": "f8faab11-3623-4814-8ace-fef5ec1f3698",
   "metadata": {},
   "source": [
    "**이슈:** 이영미교수가 파이썬특강에서 제외되면서 ADSP특강팀에서도 제외되었음. 그런데 사실 이영미교수가 파이썬특강팀에서만 제외되길 원한 것이지 ADSP특강팀에서 제외되길 원한게 아닐수도 있음. "
   ]
  },
  {
   "cell_type": "markdown",
   "id": "cd2a7ebe-5885-440a-9a41-24f984a6cc6e",
   "metadata": {
    "tags": []
   },
   "source": [
    "**해결**: Deep copy의 사용"
   ]
  },
  {
   "cell_type": "code",
   "execution_count": 34,
   "id": "37d75dda-2eba-4dbc-b76b-8c18437cf2a3",
   "metadata": {},
   "outputs": [],
   "source": [
    "import copy"
   ]
  },
  {
   "cell_type": "code",
   "execution_count": 35,
   "id": "38eac456-d3b3-49f7-9809-8d10a8e91507",
   "metadata": {},
   "outputs": [],
   "source": [
    "파이썬특강팀 = [\"양성준\",[\"최규빈\",\"이영미\",\"최혜미\"]]\n",
    "ADSP특강팀 = copy.deepcopy(파이썬특강팀)\n",
    "파이썬특강팀[-1].remove(\"이영미\")"
   ]
  },
  {
   "cell_type": "code",
   "execution_count": 36,
   "id": "012e08c5-a66e-441e-a173-eaf9baac4865",
   "metadata": {},
   "outputs": [
    {
     "data": {
      "text/plain": [
       "(['양성준', ['최규빈', '최혜미']], ['양성준', ['최규빈', '이영미', '최혜미']])"
      ]
     },
     "execution_count": 36,
     "metadata": {},
     "output_type": "execute_result"
    }
   ],
   "source": [
    "파이썬특강팀, ADSP특강팀"
   ]
  },
  {
   "cell_type": "markdown",
   "id": "61b2af19-0271-4bcc-83b9-7bb6fe75ef1d",
   "metadata": {},
   "source": [
    "## 예제2"
   ]
  },
  {
   "cell_type": "markdown",
   "id": "3e4a5147-84b2-41b9-9e7f-0139788be061",
   "metadata": {},
   "source": [
    "`-` deepcopy"
   ]
  },
  {
   "cell_type": "code",
   "execution_count": 37,
   "id": "45228c3f-e556-4de5-9743-f6c351a0f558",
   "metadata": {},
   "outputs": [],
   "source": [
    "l1 = [3,[66,[55,44]]] \n",
    "l2 = copy.deepcopy(l1)"
   ]
  },
  {
   "cell_type": "code",
   "execution_count": 38,
   "id": "532bcee4-e723-4af9-a4dd-f2afe88131ef",
   "metadata": {},
   "outputs": [],
   "source": [
    "l2[1][1].append(33)"
   ]
  },
  {
   "cell_type": "code",
   "execution_count": 39,
   "id": "93e6d9a9-8434-4942-9fe9-3000db164bd4",
   "metadata": {},
   "outputs": [
    {
     "data": {
      "text/plain": [
       "([3, [66, [55, 44]]], [3, [66, [55, 44, 33]]])"
      ]
     },
     "execution_count": 39,
     "metadata": {},
     "output_type": "execute_result"
    }
   ],
   "source": [
    "l1,l2"
   ]
  },
  {
   "cell_type": "code",
   "execution_count": 40,
   "id": "c0ae00fd-5a7e-46ee-ae32-62f74e966894",
   "metadata": {},
   "outputs": [
    {
     "name": "stdout",
     "output_type": "stream",
     "text": [
      "level 1\n",
      "l1: 140346731797872\n",
      "l2: 140346713502576\n"
     ]
    }
   ],
   "source": [
    "print('level 1')\n",
    "print('l1:', id(l1))\n",
    "print('l2:', id(l2))"
   ]
  },
  {
   "cell_type": "markdown",
   "id": "643d5498",
   "metadata": {},
   "source": [
    "- 레벨1: `l1`,`l2` 의 메모리 주소가 다름을 확인"
   ]
  },
  {
   "cell_type": "code",
   "execution_count": 41,
   "id": "c9781530-4cd3-441c-a302-b48cb01514dd",
   "metadata": {},
   "outputs": [
    {
     "name": "stdout",
     "output_type": "stream",
     "text": [
      "level 2\n",
      "l1: 140346731797872 [7394720, 140346713544496]\n",
      "l2: 140346713502576 [7394720, 140346478134928]\n"
     ]
    }
   ],
   "source": [
    "print('level 2')\n",
    "print('l1:', id(l1), [id(l1[0]),id(l1[1])])\n",
    "print('l2:', id(l2), [id(l2[0]),id(l2[1])])"
   ]
  },
  {
   "cell_type": "markdown",
   "id": "44bb626f",
   "metadata": {},
   "source": [
    "- 레벨2: `l1안에 있는 [66,[55,44]]`와 `l2안에 있는 [66,[55,44]]`의 메모리 주소가 다름도 확인. "
   ]
  },
  {
   "cell_type": "code",
   "execution_count": 43,
   "id": "9f875013-f89d-462b-9e55-87d4a6e7105b",
   "metadata": {},
   "outputs": [
    {
     "name": "stdout",
     "output_type": "stream",
     "text": [
      "level 3\n",
      "l1: 140346731797872 [7394720, [7396736, 140346713594848]]\n",
      "l2: 140346713502576 [7394720, [7396736, 140346477770704]]\n"
     ]
    }
   ],
   "source": [
    "print('level 3')\n",
    "print('l1:', id(l1), [id(l1[0]),[id(l1[1][0]),id(l1[1][1])]])\n",
    "print('l2:', id(l2), [id(l2[0]),[id(l2[1][0]),id(l2[1][1])]])"
   ]
  },
  {
   "cell_type": "markdown",
   "id": "164a3beb",
   "metadata": {},
   "source": [
    "- 레벨3: `l1안의 [66,[55,44]] 안의 [55,44]`와 `l2안의 [66,[55,44]] 안의 [55,44]`의 메모리 주소까지도 다름을 확인. "
   ]
  },
  {
   "cell_type": "markdown",
   "id": "1b7f4c94-7b70-44d2-aa2a-f5592b5508b0",
   "metadata": {},
   "source": [
    "`-` 비교를 위한 shallow copy"
   ]
  },
  {
   "cell_type": "code",
   "execution_count": 44,
   "id": "5170c53b-1a53-489a-8065-b30094f24eb6",
   "metadata": {},
   "outputs": [],
   "source": [
    "l1 = [3,[66,[55,44]]] \n",
    "l2 = l1.copy()"
   ]
  },
  {
   "cell_type": "code",
   "execution_count": 45,
   "id": "cfbdd10a-0b71-4560-afe5-1017c67a0361",
   "metadata": {},
   "outputs": [],
   "source": [
    "l2[1][1].append(33)"
   ]
  },
  {
   "cell_type": "code",
   "execution_count": 46,
   "id": "5b9bb369-0e0f-4e80-9b10-f8f0e5d8df0a",
   "metadata": {},
   "outputs": [
    {
     "data": {
      "text/plain": [
       "([3, [66, [55, 44, 33]]], [3, [66, [55, 44, 33]]])"
      ]
     },
     "execution_count": 46,
     "metadata": {},
     "output_type": "execute_result"
    }
   ],
   "source": [
    "l1,l2"
   ]
  },
  {
   "cell_type": "code",
   "execution_count": 47,
   "id": "03512511-dc3c-465e-ab7d-d4c44be647ee",
   "metadata": {},
   "outputs": [
    {
     "name": "stdout",
     "output_type": "stream",
     "text": [
      "level 1\n",
      "l1: 140346478137008\n",
      "l2: 140346477791984\n"
     ]
    }
   ],
   "source": [
    "print('level 1')\n",
    "print('l1:', id(l1))\n",
    "print('l2:', id(l2))"
   ]
  },
  {
   "cell_type": "markdown",
   "id": "4956c1c7",
   "metadata": {},
   "source": [
    "- 레벨1: `l1`,`l2` 의 메모리 주소가 다름을 확인"
   ]
  },
  {
   "cell_type": "code",
   "execution_count": 29,
   "id": "f6fc1124-72cc-4d18-9b56-0268e5bdeea4",
   "metadata": {},
   "outputs": [
    {
     "name": "stdout",
     "output_type": "stream",
     "text": [
      "level 2\n",
      "l1: 140346713603280 [7394720, 140346713602720]\n",
      "l2: 140346713602880 [7394720, 140346713602720]\n"
     ]
    }
   ],
   "source": [
    "print('level 2')\n",
    "print('l1:', id(l1), [id(l1[0]),id(l1[1])])\n",
    "print('l2:', id(l2), [id(l2[0]),id(l2[1])])"
   ]
  },
  {
   "cell_type": "markdown",
   "id": "5fc532af",
   "metadata": {},
   "source": [
    "- 레벨2: `l1안에 있는 [66,[55,44]]`와 `l2안에 있는 [66,[55,44]]`의 메모리 주소는 같음!!"
   ]
  },
  {
   "cell_type": "code",
   "execution_count": 30,
   "id": "d399e691-9c22-41f8-9d8d-726dd26665dd",
   "metadata": {
    "scrolled": true
   },
   "outputs": [
    {
     "name": "stdout",
     "output_type": "stream",
     "text": [
      "level 3\n",
      "l1: 140346713603280 [7394720, [7396736, 140346713556624]]\n",
      "l2: 140346713602880 [7394720, [7396736, 140346713556624]]\n"
     ]
    }
   ],
   "source": [
    "print('level 3')\n",
    "print('l1:', id(l1), [id(l1[0]),[id(l1[1][0]),id(l1[1][1])]])\n",
    "print('l2:', id(l2), [id(l2[0]),[id(l2[1][0]),id(l2[1][1])]])"
   ]
  },
  {
   "cell_type": "markdown",
   "id": "3291dcd5",
   "metadata": {},
   "source": [
    "- 레벨3: `l1안의 [66,[55,44]] 안의 [55,44]`와 `l2안의 [66,[55,44]] 안의 [55,44]`의 메모리 주소도 같음!!"
   ]
  },
  {
   "cell_type": "markdown",
   "id": "edd4bbdd-9534-4273-96a2-592bba237334",
   "metadata": {},
   "source": [
    "`-` 비교를 위한 참조 "
   ]
  },
  {
   "cell_type": "code",
   "execution_count": 48,
   "id": "a69a1256-8d9c-4d6f-9a58-71f3dd331c7e",
   "metadata": {},
   "outputs": [],
   "source": [
    "l1 = [3,[66,[55,44]]] \n",
    "l2 = l1"
   ]
  },
  {
   "cell_type": "code",
   "execution_count": 49,
   "id": "48d32753-79e7-4e72-a8d4-357c8f1103a0",
   "metadata": {},
   "outputs": [],
   "source": [
    "l2[1][1].append(33)"
   ]
  },
  {
   "cell_type": "code",
   "execution_count": 50,
   "id": "d6506e04-7aad-49dc-b140-d173302429c4",
   "metadata": {},
   "outputs": [
    {
     "data": {
      "text/plain": [
       "([3, [66, [55, 44, 33]]], [3, [66, [55, 44, 33]]])"
      ]
     },
     "execution_count": 50,
     "metadata": {},
     "output_type": "execute_result"
    }
   ],
   "source": [
    "l1,l2"
   ]
  },
  {
   "cell_type": "code",
   "execution_count": 51,
   "id": "28c0cd0a-6f74-4c42-ac62-a1978f94f17c",
   "metadata": {},
   "outputs": [
    {
     "name": "stdout",
     "output_type": "stream",
     "text": [
      "level 1\n",
      "l1: 140346478134288\n",
      "l2: 140346478134288\n"
     ]
    }
   ],
   "source": [
    "print('level 1')\n",
    "print('l1:', id(l1))\n",
    "print('l2:', id(l2))"
   ]
  },
  {
   "cell_type": "markdown",
   "id": "a35fd4bf",
   "metadata": {},
   "source": [
    "- 레벨1: `l1`,`l2` 여기서부터 메모리 주소가 같다. "
   ]
  },
  {
   "cell_type": "code",
   "execution_count": 52,
   "id": "3dffbd98-c76c-45c1-878b-8ed6b5d66c9d",
   "metadata": {},
   "outputs": [
    {
     "name": "stdout",
     "output_type": "stream",
     "text": [
      "level 2\n",
      "l1: 140346478134288 [7394720, 140346713615648]\n",
      "l2: 140346478134288 [7394720, 140346713615648]\n"
     ]
    }
   ],
   "source": [
    "print('level 2')\n",
    "print('l1:', id(l1), [id(l1[0]),id(l1[1])])\n",
    "print('l2:', id(l2), [id(l2[0]),id(l2[1])])"
   ]
  },
  {
   "cell_type": "code",
   "execution_count": 53,
   "id": "21b2ff0b-d342-4e72-b493-475242c525a2",
   "metadata": {},
   "outputs": [
    {
     "name": "stdout",
     "output_type": "stream",
     "text": [
      "level 3\n",
      "l1: 140346478134288 [7394720, [7396736, 140346713786480]]\n",
      "l2: 140346478134288 [7394720, [7396736, 140346713786480]]\n"
     ]
    }
   ],
   "source": [
    "print('level 3')\n",
    "print('l1:', id(l1), [id(l1[0]),[id(l1[1][0]),id(l1[1][1])]])\n",
    "print('l2:', id(l2), [id(l2[0]),[id(l2[1][0]),id(l2[1][1])]])"
   ]
  },
  {
   "cell_type": "markdown",
   "id": "7ceca9f8",
   "metadata": {},
   "source": [
    "> 문헌에 따라서 shallow copy를 레벨1 deep copy라고 부르기도 한다. "
   ]
  },
  {
   "cell_type": "markdown",
   "id": "e3314cfd-b93e-4d37-8f36-0a72069f3c6a",
   "metadata": {},
   "source": [
    "# Shallow copy 연습문제 "
   ]
  },
  {
   "cell_type": "markdown",
   "id": "67729a23-cdf1-443a-9b86-1e6003e8d8cd",
   "metadata": {},
   "source": [
    "## 예제1"
   ]
  },
  {
   "cell_type": "markdown",
   "id": "56edcc4e-40e8-43c4-a7ab-0a8d7710cadd",
   "metadata": {},
   "source": [
    "`-` 아래의 코드결과를 예측하라. 결과가 나오는 이유를 설명하라. "
   ]
  },
  {
   "cell_type": "code",
   "execution_count": 54,
   "id": "d67200cd-e541-4535-886d-dcb5e76a1d2f",
   "metadata": {},
   "outputs": [],
   "source": [
    "l1= [3,[66,55,44]]\n",
    "l2= l1.copy() \n",
    "l1[-1].append(33)"
   ]
  },
  {
   "cell_type": "code",
   "execution_count": 56,
   "id": "e1778b04-7e11-4e09-bfb7-33f07414b7d5",
   "metadata": {},
   "outputs": [
    {
     "name": "stdout",
     "output_type": "stream",
     "text": [
      "l1= [3, [66, 55, 44, 33]]\n",
      "l2= [3, [66, 55, 44, 33]]\n"
     ]
    }
   ],
   "source": [
    "print('l1=', l1)\n",
    "print('l2=', l2)"
   ]
  },
  {
   "cell_type": "markdown",
   "id": "517b3209",
   "metadata": {},
   "source": [
    "- 포인트: shallow copy (=level 1 deep copy) 이므로 `l1안의 [66,55,44]`와 `l2안의 [66,55,44]`는 같은 메모리 주소를 가짐 "
   ]
  },
  {
   "cell_type": "markdown",
   "id": "4f1720c3-2ebe-49eb-951f-91804b7f57d7",
   "metadata": {},
   "source": [
    "## 예제2"
   ]
  },
  {
   "cell_type": "markdown",
   "id": "0e45e52e-1413-4f0a-a014-508a197d6520",
   "metadata": {},
   "source": [
    "`-` 아래의 코드결과를 예측하라. 결과가 나오는 이유를 설명하라. "
   ]
  },
  {
   "cell_type": "code",
   "execution_count": 58,
   "id": "e8f87e05-65f4-42bb-95ec-6719bab9db18",
   "metadata": {},
   "outputs": [],
   "source": [
    "l1= [3,[66,55,44]] \n",
    "l2= l1.copy() \n",
    "l1[-1] = l1[-1]+[33] "
   ]
  },
  {
   "cell_type": "code",
   "execution_count": 59,
   "id": "4686f442-70c5-44f3-b82a-156161dadeb6",
   "metadata": {},
   "outputs": [
    {
     "name": "stdout",
     "output_type": "stream",
     "text": [
      "l1= [3, [66, 55, 44, 33]]\n",
      "l2= [3, [66, 55, 44]]\n"
     ]
    }
   ],
   "source": [
    "print('l1=', l1)\n",
    "print('l2=', l2)"
   ]
  },
  {
   "cell_type": "markdown",
   "id": "877c21ee",
   "metadata": {},
   "source": [
    "- 포인트: `l1[-1]+[33]`가 실행되는 순간 새로운 오브젝트가 생성되고 이 새로운 오브젝트가 l1의 마지막 원소에 새롭게 할당된다. "
   ]
  },
  {
   "cell_type": "markdown",
   "id": "35faaa67-ab63-4454-999e-25bfcf5e2b20",
   "metadata": {},
   "source": [
    "## 예제3"
   ]
  },
  {
   "cell_type": "code",
   "execution_count": 66,
   "id": "ee83ba83-6cb9-44c8-9d10-621b4169b71f",
   "metadata": {},
   "outputs": [],
   "source": [
    "l1= [3,[66,55,44]] \n",
    "l2= l1.copy() \n",
    "l1[-1] = l1[-1]+[33] \n",
    "l1[-1].remove(33)"
   ]
  },
  {
   "cell_type": "code",
   "execution_count": 67,
   "id": "f61b3af3",
   "metadata": {},
   "outputs": [
    {
     "name": "stdout",
     "output_type": "stream",
     "text": [
      "l1= [3, [66, 55, 44]]\n",
      "l2= [3, [66, 55, 44]]\n"
     ]
    }
   ],
   "source": [
    "print('l1=', l1)\n",
    "print('l2=', l2)"
   ]
  },
  {
   "cell_type": "markdown",
   "id": "4810c81d",
   "metadata": {},
   "source": [
    "- 포인트: 이 상황에서 `l1안의 [66,55,44]`와 `l2안의 [66,55,44]`는 서로 다른 메모리 주소를 가진다. "
   ]
  },
  {
   "cell_type": "markdown",
   "id": "805347ce-79b4-439f-8233-dfdb2022dbee",
   "metadata": {},
   "source": [
    "## 예제4"
   ]
  },
  {
   "cell_type": "code",
   "execution_count": 68,
   "id": "5cb86964-e4d3-4067-ab58-de33d95d65a2",
   "metadata": {},
   "outputs": [],
   "source": [
    "l1= [3,[66,55,44]] \n",
    "l2= l1.copy() \n",
    "l1[-1] = l1[-1]+[33] \n",
    "l1[-1].remove(33)\n",
    "l1[-1].append(33)"
   ]
  },
  {
   "cell_type": "markdown",
   "id": "0180cce1-d340-4fe4-b979-b011a454b61f",
   "metadata": {},
   "source": [
    "(잘못된 상상) 아래의 코드와 결과가 같을거야!!"
   ]
  },
  {
   "cell_type": "code",
   "execution_count": 69,
   "id": "3daf60ab-037e-4676-af86-c1beb8232cc9",
   "metadata": {},
   "outputs": [],
   "source": [
    "l1= [3,[66,55,44]] \n",
    "l2= l1.copy() \n",
    "# l1[-1] = l1[-1]+[33] \n",
    "# l1[-1].remove(33)\n",
    "l1[-1].append(33)"
   ]
  },
  {
   "cell_type": "code",
   "execution_count": 70,
   "id": "447062ac",
   "metadata": {},
   "outputs": [
    {
     "name": "stdout",
     "output_type": "stream",
     "text": [
      "l1= [3, [66, 55, 44, 33]]\n",
      "l2= [3, [66, 55, 44, 33]]\n"
     ]
    }
   ],
   "source": [
    "print('l1=', l1)\n",
    "print('l2=', l2)"
   ]
  },
  {
   "cell_type": "markdown",
   "id": "b0e3a686-9b69-4d81-ac98-9988d0d3485c",
   "metadata": {},
   "source": [
    "(하지만 현실은)"
   ]
  },
  {
   "cell_type": "code",
   "execution_count": 71,
   "id": "9956da97-998f-4ac6-ae39-829269c7c050",
   "metadata": {},
   "outputs": [],
   "source": [
    "l1= [3,[66,55,44]] \n",
    "l2= l1.copy() \n",
    "l1[-1] = l1[-1]+[33] \n",
    "l1[-1].remove(33)\n",
    "l1[-1].append(33)"
   ]
  },
  {
   "cell_type": "code",
   "execution_count": 72,
   "id": "3e9835ed",
   "metadata": {},
   "outputs": [
    {
     "name": "stdout",
     "output_type": "stream",
     "text": [
      "l1= [3, [66, 55, 44, 33]]\n",
      "l2= [3, [66, 55, 44]]\n"
     ]
    }
   ],
   "source": [
    "print('l1=', l1)\n",
    "print('l2=', l2)"
   ]
  },
  {
   "cell_type": "markdown",
   "id": "5eed2f38",
   "metadata": {},
   "source": [
    "- 포인트: 예제3을 이해했다면 그냥 이해되는것 "
   ]
  },
  {
   "cell_type": "markdown",
   "id": "e8d43340-fb50-40a5-9cad-2468b31d8280",
   "metadata": {},
   "source": [
    "## 예제5"
   ]
  },
  {
   "cell_type": "code",
   "execution_count": 73,
   "id": "f5fce858-accc-4aa4-8433-37b4503535de",
   "metadata": {},
   "outputs": [],
   "source": [
    "l1= [3,[66,55,44]] \n",
    "l2= l1.copy() \n",
    "l1[-1] += [33] # l1[-1] = l1[-1]+[33] \n",
    "l1[-1].remove(33)\n",
    "l1[-1].append(33)"
   ]
  },
  {
   "cell_type": "code",
   "execution_count": 74,
   "id": "328207b6",
   "metadata": {},
   "outputs": [
    {
     "name": "stdout",
     "output_type": "stream",
     "text": [
      "l1= [3, [66, 55, 44, 33]]\n",
      "l2= [3, [66, 55, 44, 33]]\n"
     ]
    }
   ],
   "source": [
    "print('l1=', l1)\n",
    "print('l2=', l2)"
   ]
  },
  {
   "cell_type": "markdown",
   "id": "b67bfc41",
   "metadata": {},
   "source": [
    "- 포인트: `+=` 연산자의 올바른 이해 "
   ]
  },
  {
   "cell_type": "markdown",
   "id": "05219da7-565b-4a91-8e45-511df1b2b288",
   "metadata": {},
   "source": [
    "> ??? 예제4랑 예제5는 같은코드가 아니었음!!! `a += [1]` 는 새로운 오브젝트를 만드는게 아니고, 기존의 오브젝트를 변형하는 스타일의 코드였음! (마치 append 메소드처럼) "
   ]
  },
  {
   "cell_type": "markdown",
   "id": "ce4e546b-a864-4b23-a710-3b8497f16427",
   "metadata": {},
   "source": [
    "# 불변형 객체 "
   ]
  },
  {
   "cell_type": "markdown",
   "id": "3684258c-db95-422d-ad38-6342939a5a60",
   "metadata": {},
   "source": [
    "## Motivation example"
   ]
  },
  {
   "cell_type": "markdown",
   "id": "470f39ce-7f82-4e5b-bc3a-69ca45d8dcf3",
   "metadata": {},
   "source": [
    "`-` 우리는 이제 아래의 내용은 마스터함 "
   ]
  },
  {
   "cell_type": "code",
   "execution_count": 75,
   "id": "80092f41-8faf-4a97-9c02-8e1a4eeb7a7f",
   "metadata": {},
   "outputs": [],
   "source": [
    "l1= [3,[66,55,44]] \n",
    "l2= l1.copy() \n",
    "l1[-1] += [33] # l1[-1].append(33)이랑 같은거.."
   ]
  },
  {
   "cell_type": "code",
   "execution_count": 76,
   "id": "22a33df9",
   "metadata": {},
   "outputs": [
    {
     "name": "stdout",
     "output_type": "stream",
     "text": [
      "l1= [3, [66, 55, 44, 33]]\n",
      "l2= [3, [66, 55, 44, 33]]\n"
     ]
    }
   ],
   "source": [
    "print('l1=', l1)\n",
    "print('l2=', l2)"
   ]
  },
  {
   "cell_type": "markdown",
   "id": "cee25a67-ab5c-402c-9736-fa4d409d7884",
   "metadata": {},
   "source": [
    "`-` 아래의 결과를 한번 예측해볼까? "
   ]
  },
  {
   "cell_type": "code",
   "execution_count": 77,
   "id": "471c5575-64dd-4d3d-b489-158b999af3e5",
   "metadata": {},
   "outputs": [],
   "source": [
    "l1=[3,(66,55,44)]\n",
    "l2=l1.copy()\n",
    "l2[1] += (33,)"
   ]
  },
  {
   "cell_type": "code",
   "execution_count": 78,
   "id": "ec91525f",
   "metadata": {},
   "outputs": [
    {
     "name": "stdout",
     "output_type": "stream",
     "text": [
      "l1= [3, (66, 55, 44)]\n",
      "l2= [3, (66, 55, 44, 33)]\n"
     ]
    }
   ],
   "source": [
    "print('l1=', l1)\n",
    "print('l2=', l2)"
   ]
  },
  {
   "cell_type": "markdown",
   "id": "216a54db-ec1d-485a-86d2-3173e598400d",
   "metadata": {},
   "source": [
    "## 해설 "
   ]
  },
  {
   "cell_type": "markdown",
   "id": "786efa13-35ff-49a4-b355-b287ddaada75",
   "metadata": {},
   "source": [
    "(시점1)"
   ]
  },
  {
   "cell_type": "code",
   "execution_count": 394,
   "id": "a51ce33f-ac7a-4f2c-aa42-4df4d26c9f3b",
   "metadata": {},
   "outputs": [],
   "source": [
    "l1=[3,(66,55,44)]\n",
    "l2=l1.copy()"
   ]
  },
  {
   "cell_type": "code",
   "execution_count": 395,
   "id": "6c1c0f51-7a3a-4946-b521-97ea6e0f4c75",
   "metadata": {},
   "outputs": [
    {
     "data": {
      "text/plain": [
       "([3, (66, 55, 44)], [3, (66, 55, 44)])"
      ]
     },
     "execution_count": 395,
     "metadata": {},
     "output_type": "execute_result"
    }
   ],
   "source": [
    "l1,l2"
   ]
  },
  {
   "cell_type": "code",
   "execution_count": 396,
   "id": "1de7eb77-f55a-4a6f-9225-ff92410ea08e",
   "metadata": {},
   "outputs": [
    {
     "name": "stdout",
     "output_type": "stream",
     "text": [
      "level 1\n",
      "l1: 139753183621520\n",
      "l2: 139753181521472\n"
     ]
    }
   ],
   "source": [
    "print('level 1')\n",
    "print('l1:', id(l1))\n",
    "print('l2:', id(l2))"
   ]
  },
  {
   "cell_type": "code",
   "execution_count": 397,
   "id": "815ac59c-b550-4147-add5-d514174d75b9",
   "metadata": {},
   "outputs": [
    {
     "name": "stdout",
     "output_type": "stream",
     "text": [
      "level 2\n",
      "l1: 139753183621520 [7394720, 139753182280032]\n",
      "l2: 139753181521472 [7394720, 139753182280032]\n"
     ]
    }
   ],
   "source": [
    "print('level 2')\n",
    "print('l1:', id(l1), [id(l1[0]),id(l1[1])])\n",
    "print('l2:', id(l2), [id(l2[0]),id(l2[1])])"
   ]
  },
  {
   "cell_type": "markdown",
   "id": "508830b3-6209-4e18-9ecf-b9f39b3614dd",
   "metadata": {},
   "source": [
    "(시점2)"
   ]
  },
  {
   "cell_type": "code",
   "execution_count": 398,
   "id": "89e7c93a-e952-4b69-be47-de35951370a3",
   "metadata": {},
   "outputs": [],
   "source": [
    "l2[1] += (33,)"
   ]
  },
  {
   "cell_type": "code",
   "execution_count": 399,
   "id": "a983985b-0525-4b92-bcf4-17ca8bbb94d7",
   "metadata": {},
   "outputs": [
    {
     "data": {
      "text/plain": [
       "([3, (66, 55, 44)], [3, (66, 55, 44, 33)])"
      ]
     },
     "execution_count": 399,
     "metadata": {},
     "output_type": "execute_result"
    }
   ],
   "source": [
    "l1,l2"
   ]
  },
  {
   "cell_type": "code",
   "execution_count": 400,
   "id": "2deb76cc-0000-4b7f-a6d8-307e399ec0d1",
   "metadata": {},
   "outputs": [
    {
     "name": "stdout",
     "output_type": "stream",
     "text": [
      "level 1\n",
      "l1: 139753183621520\n",
      "l2: 139753181521472\n"
     ]
    }
   ],
   "source": [
    "print('level 1')\n",
    "print('l1:', id(l1))\n",
    "print('l2:', id(l2))"
   ]
  },
  {
   "cell_type": "code",
   "execution_count": 401,
   "id": "8d067463-4b01-4809-ad80-a8ab36f8055a",
   "metadata": {},
   "outputs": [
    {
     "name": "stdout",
     "output_type": "stream",
     "text": [
      "level 2\n",
      "l1: 139753183621520 [7394720, 139753182280032]\n",
      "l2: 139753181521472 [7394720, 139753174874064]\n"
     ]
    }
   ],
   "source": [
    "print('level 2')\n",
    "print('l1:', id(l1), [id(l1[0]),id(l1[1])])\n",
    "print('l2:', id(l2), [id(l2[0]),id(l2[1])])"
   ]
  },
  {
   "cell_type": "markdown",
   "id": "dbb7dc5e-007e-4d80-8e68-18713ece6aaa",
   "metadata": {},
   "source": [
    "주소 `139753182280032`에 있는 값을 바꾸고 싶지만 불변형이라 못바꿈 $\\to$ 그냥 새로 만들자. 그래서 그걸 `139753174874064`에 저장하자. "
   ]
  },
  {
   "cell_type": "markdown",
   "id": "c8a789bc-faf0-440f-8443-9fdcf407840c",
   "metadata": {},
   "source": [
    "# Shallow-copy vs Deep-copy"
   ]
  },
  {
   "cell_type": "markdown",
   "id": "70834f88-e7cd-4492-9f9a-196ea7e20558",
   "metadata": {},
   "source": [
    "`-` 암기용문구: \"shallow copy는 껍데기만 복사한다. deep copy는 내부까지 복사한다.\""
   ]
  },
  {
   "cell_type": "markdown",
   "id": "8809df5d-e26b-4d04-a6d8-55904d8111c1",
   "metadata": {},
   "source": [
    "`-` 일부교재에서는 경우에 따라 shallow copy가 선호될 수 있다는 식으로 설명되어있으나 솔직히 대부분 코드에서 shallow copy의 동작을 의도하고 코드를 사용하진 않는다. 대부분의 경우에서 shallow copy는 불필요한 side effect을 유발하는 쓸모없는 개념이라 생각한다. (차라리 참조를 쓰면 썼지..)"
   ]
  },
  {
   "cell_type": "markdown",
   "id": "9b3b5f03-35e5-4777-aad1-dc708f280692",
   "metadata": {},
   "source": [
    "`-` 그럼 shallow copy의 장점은 무엇인가? shallow copy가 deep copy보다 메모리를 더 적게 사용한다. "
   ]
  },
  {
   "cell_type": "markdown",
   "id": "ef2cb59a-976e-4149-8d06-293ba10e5660",
   "metadata": {},
   "source": [
    "```Python\n",
    "## 예제1\n",
    "lst1 = ['양성준',['최규빈','이영미','최혜미']]\n",
    "lst2 = lst1.copy()\n",
    "## 예제2 \n",
    "lst1 = ['양성준',['최규빈','이영미','최혜미']]\n",
    "lst2 = copy.deepcopy(lst1)\n",
    "```"
   ]
  },
  {
   "cell_type": "markdown",
   "id": "4d937f4b-f650-4b44-ba91-3a86ca6ec689",
   "metadata": {},
   "source": [
    "- 예제1: 4+1+2 = 7개의 공간 사용 \n",
    "- 예제2: 4+2+2 = 8개의 공간 사용 "
   ]
  },
  {
   "cell_type": "markdown",
   "id": "834e5ff0-4577-4942-b0ea-f058ef95410d",
   "metadata": {},
   "source": [
    "**요약**"
   ]
  },
  {
   "cell_type": "markdown",
   "id": "a1fe8544-446e-4385-b471-181d35d2a525",
   "metadata": {},
   "source": [
    "`-` 파이썬은 메모리를 아끼기 위해서 shallow copy라는 이상한 행동을 한다. (하지만 우리는 shallow copy 를 원하지 않아. 우리는 deep copy 만 쓰고 싶음!) "
   ]
  },
  {
   "cell_type": "markdown",
   "id": "90ba7651-75cf-4d4e-810c-8c915ce2dc6e",
   "metadata": {},
   "source": [
    "`-` 통찰1: 그런데 오묘하게도 [1,2,3,4,5,6]와 같이 1차원 리스트인 경우는 문제가 되지 않음. \n",
    "\n",
    "-  1차원 리스트의 경우(= 중첩된 리스트가 아닐 경우)는 level 1 수준에서의 deep copy만 있으면 충분하므로 이때는 shallow copy = deep copy 임."
   ]
  },
  {
   "cell_type": "markdown",
   "id": "c5ccc551-3783-4323-a734-64c78ca72f94",
   "metadata": {},
   "source": [
    "`-` 통찰2: 생각해보니까 모든 자료형이 불변형인 경우에도 문제가 되지 않음. (R은 모든 자료형이 불변형이다) "
   ]
  },
  {
   "cell_type": "markdown",
   "id": "d14b6580-eaff-4d72-b60b-aa3846902421",
   "metadata": {},
   "source": [
    "`-` 문제상황요약: [[1,2],[3,4]] 와 같이 리스트에 리스트가 포함된 형태라면 문제가 생긴다. $\\to$ 그런데 우리가 자주 쓰는 매트릭스가 사실 이러한 중첩된 리스트 구조 아니야? \n",
    "\n",
    "- 해결책1: 깊은복사 (이미했음)\n",
    "- 해결책2: 넘파이 (이걸로 뭘 어떻게 개선한다는거야?)"
   ]
  },
  {
   "cell_type": "markdown",
   "id": "31b1e591-47ad-429e-b311-b0c0b7fc8253",
   "metadata": {},
   "source": [
    "# numpy "
   ]
  },
  {
   "cell_type": "code",
   "execution_count": 404,
   "id": "88aaa420-1466-4d08-bca9-83f0021a3176",
   "metadata": {},
   "outputs": [],
   "source": [
    "import numpy as np"
   ]
  },
  {
   "cell_type": "markdown",
   "id": "d2f149f5-b68d-4451-a540-a8c69e352deb",
   "metadata": {},
   "source": [
    "## 2차원의 실체 "
   ]
  },
  {
   "cell_type": "markdown",
   "id": "3ac8ccbf-0282-41fb-82cc-13dacfc400a6",
   "metadata": {},
   "source": [
    "`-` 2차원 array a,b를 선언하자. "
   ]
  },
  {
   "cell_type": "code",
   "execution_count": 486,
   "id": "dbb97b0c-19f2-41f9-ae0d-4ff222de676a",
   "metadata": {},
   "outputs": [],
   "source": [
    "a = np.array([[11,22,33,44]]).reshape(2,2)\n",
    "b = np.array([[11,22,33,44,55,66]]).reshape(2,3)\n",
    "c = np.array([11,22,33,44]).reshape(4,1)\n",
    "d = np.array([11,22,33,44])"
   ]
  },
  {
   "cell_type": "markdown",
   "id": "65fac387-0de0-4e99-9ea6-c9b4ade13caa",
   "metadata": {},
   "source": [
    "`-` a,b,c,d 속성비교 "
   ]
  },
  {
   "cell_type": "code",
   "execution_count": 487,
   "id": "9171dd42-8b0b-42dd-963f-3ebdbd05c204",
   "metadata": {},
   "outputs": [
    {
     "data": {
      "text/plain": [
       "((2, 2), (2, 3), (4, 1), (4,))"
      ]
     },
     "execution_count": 487,
     "metadata": {},
     "output_type": "execute_result"
    }
   ],
   "source": [
    "a.shape, b.shape, c.shape, d.shape ## 차원 "
   ]
  },
  {
   "cell_type": "code",
   "execution_count": 115,
   "id": "b9cc8589-1a7c-4448-9954-9a5a1784741c",
   "metadata": {},
   "outputs": [
    {
     "data": {
      "text/plain": [
       "((16, 8), (24, 8), (8, 8), (8,))"
      ]
     },
     "execution_count": 115,
     "metadata": {},
     "output_type": "execute_result"
    }
   ],
   "source": [
    "a.strides, b.strides, c.strides, d.strides ## 차원이랑 관련이 있어보임.. + 8의 배수 "
   ]
  },
  {
   "cell_type": "markdown",
   "id": "20cfd5e7-f091-4eaf-9e9e-aa2fa45bf3ba",
   "metadata": {},
   "source": [
    "`-` ((16, 8), (24, 8), (8, 8), (8,)) 와 같은 저 숫자들이 도데체 무엇을 의미하는거야?!\n",
    "\n",
    "- 사전지식: 컴퓨터는 하나의 숫자를 저장하는데 메모리를 8칸 쓴다. \n",
    "- 가정: 만약에 컴퓨터가 1차원으로만 숫자를 저장한다면?? \n",
    "- strides의 의미: (다음 행으로 가기위해서 JUMP해야하는 메모리 공간수, 다음 열로 가기위해서 JUMP해야하는 메모리 공간수) "
   ]
  },
  {
   "cell_type": "markdown",
   "id": "807a336a-57de-48c7-9cd0-659604ed7831",
   "metadata": {},
   "source": [
    "`-` 통찰: strides의 존재로 인해서 유추할 수 있는 것은 a,b,c,d 는 모두 1차원으로 저장되어있다는 사실이다. (중첩된 리스트꼴이 아니라)"
   ]
  },
  {
   "cell_type": "markdown",
   "id": "ba82a6e1-14cb-4516-85b7-eb7f2fee0e9c",
   "metadata": {},
   "source": [
    "`-` 그렇다면.. shallow copy = deep copy?!"
   ]
  },
  {
   "cell_type": "code",
   "execution_count": 6,
   "id": "e6c8ded1-2e68-4309-bf0a-8cb045ddbe06",
   "metadata": {},
   "outputs": [],
   "source": [
    "A1=[[1,2],[3,4]]\n",
    "A2=A1.copy()\n",
    "B1=np.array([[1,2],[3,4]])\n",
    "B2=B1.copy()"
   ]
  },
  {
   "cell_type": "code",
   "execution_count": 8,
   "id": "7235386c-4203-4573-9d8b-3677cf3996e8",
   "metadata": {},
   "outputs": [],
   "source": [
    "A2[0][0]=11\n",
    "B2[0][0]=11"
   ]
  },
  {
   "cell_type": "code",
   "execution_count": 9,
   "id": "e75ccd59-0b4a-42c3-af44-7c575ec25de1",
   "metadata": {},
   "outputs": [
    {
     "data": {
      "text/plain": [
       "([[11, 2], [3, 4]], [[11, 2], [3, 4]])"
      ]
     },
     "execution_count": 9,
     "metadata": {},
     "output_type": "execute_result"
    }
   ],
   "source": [
    "A1,A2"
   ]
  },
  {
   "cell_type": "code",
   "execution_count": 10,
   "id": "4a0d321e-6351-4b96-bf08-5258d9ec3430",
   "metadata": {},
   "outputs": [
    {
     "data": {
      "text/plain": [
       "(array([[1, 2],\n",
       "        [3, 4]]),\n",
       " array([[11,  2],\n",
       "        [ 3,  4]]))"
      ]
     },
     "execution_count": 10,
     "metadata": {},
     "output_type": "execute_result"
    }
   ],
   "source": [
    "B1,B2"
   ]
  },
  {
   "cell_type": "markdown",
   "id": "f53cbad8-ae0f-462c-a6a1-69bd150760ee",
   "metadata": {},
   "source": [
    "`-` 잠깐 생각좀.. \n",
    "\n",
    "- A2를 바꿨는데 A1이 같이 바뀌는 것은 의도하지 않은 side effect임. \n",
    "- 이러한 side effect가 생기는 이유는 파이썬이 메모리를 저장하기 위해서 shallow copy라는 희한한 짓을 하기 때문임. \n",
    "- 이런 side effect을 방지하기 위해서는 deep copy를 써야함. 이 deep copy는 메모리를 더 많이 잡아먹는 단점이 있다. \n",
    "- 요약하면 side effect 방지와 메모리사용은 trade off 관계에 있음. \n",
    "- 그런데 생각해보니까 B2역시 B1의 shallow copy 임. 따라서 deep copy보다 메모리를 적게씀. **그런데 side effect도 발생하지 않음!?**\n"
   ]
  },
  {
   "cell_type": "markdown",
   "id": "bbf29615-74fd-4f5e-ba53-5ff5ca9e5dd1",
   "metadata": {},
   "source": [
    "`-` B1에서 B2를 만드는 과정은 메모리를 적게 쓰지만 side effect과 가은 문제가 없음! (천재인데..?)"
   ]
  },
  {
   "cell_type": "markdown",
   "id": "e19d4af6-c617-4998-af6d-e0876e884186",
   "metadata": {},
   "source": [
    "`-` 용어정리: (필요할까..?)\n",
    "\n",
    "- numpy 한정 `.copy()` 는 copy모듈의 deepcopy와 동등한 효과를 준다. 하지만 실제로는 shallow copy 이다. [공식문서](https://numpy.org/doc/stable/reference/generated/numpy.copy.html)에는 \"Note that np.copy is a shallow copy and will not copy object elements within arrays.\" 라고 명시되어 있음. \n",
    "- 일부 블로그에서 deep copy라고 주장하기도 함. [블로그1](https://humaneer.net/292), [블로그2](https://python.plainenglish.io/shallow-copy-and-deep-copy-in-python-numpy-8861e0870c5f), [블로그3](https://yeko90.tistory.com/entry/%EB%84%98%ED%8C%8C%EC%9D%B4-%EA%B8%B0%EC%B4%88-%EA%B9%8A%EC%9D%80-%EB%B3%B5%EC%82%AC-%EC%96%95%EC%9D%80-%EB%B3%B5%EC%82%AC-copy-view) // 블로그2의 경우 참조와 shallow copy도 구분못함.. \n",
    "- 이따가 view라는 개념도 나올텐데 `.copy()`를 deep copy라고 주장하는 블로거들 대부분 `.view()`를 shallow copy 혹은 참조라고 주장한다. 하지만 copy와 view를 설명하는 [공식문서](https://numpy.org/doc/stable/user/basics.copies.html)에서는 view가 shallow copy라는 말을 찾아볼 수 없음. \n",
    "- 사실 좀 애매한게 copy가 shallow copy 와 deep copy 둘만 있는건 아님. 사실 `.view()`와 `.copy()` 만 놓고 비교할 때 `.view()`가 `.copy()`보다 더 얕은 수준의 복사를 하는것도 사실임 (반대로 `.copy()` 가 `.view()`보다 더 깊은 수준의 복사를 하는 것도 사실임) "
   ]
  },
  {
   "cell_type": "markdown",
   "id": "51d53fde-a4d3-4fac-b104-2f9b4c439a08",
   "metadata": {},
   "source": [
    "## 참조 "
   ]
  },
  {
   "cell_type": "markdown",
   "id": "229adaa6-5f75-456e-ab1c-9c4c1ddefbb8",
   "metadata": {},
   "source": [
    "`-` a를 선언, b는 a의 참조"
   ]
  },
  {
   "cell_type": "code",
   "execution_count": 407,
   "id": "2745db3f-442b-4ac3-aa71-03b2618362c6",
   "metadata": {},
   "outputs": [],
   "source": [
    "a=np.array([[1,2],[3,4]])\n",
    "b=a ## 참조 "
   ]
  },
  {
   "cell_type": "code",
   "execution_count": 408,
   "id": "14046347-006c-4b8b-9e5f-6464ca855d69",
   "metadata": {},
   "outputs": [
    {
     "data": {
      "text/plain": [
       "array([[1, 2],\n",
       "       [3, 4]])"
      ]
     },
     "execution_count": 408,
     "metadata": {},
     "output_type": "execute_result"
    }
   ],
   "source": [
    "a"
   ]
  },
  {
   "cell_type": "code",
   "execution_count": 409,
   "id": "5ba5c335-6540-45ab-bf6b-2a5998cbff6a",
   "metadata": {},
   "outputs": [
    {
     "data": {
      "text/plain": [
       "array([[1, 2],\n",
       "       [3, 4]])"
      ]
     },
     "execution_count": 409,
     "metadata": {},
     "output_type": "execute_result"
    }
   ],
   "source": [
    "b"
   ]
  },
  {
   "cell_type": "code",
   "execution_count": 410,
   "id": "3510b55a-d912-431c-8c9e-afd0d9e55dd9",
   "metadata": {},
   "outputs": [
    {
     "data": {
      "text/plain": [
       "(2, 2)"
      ]
     },
     "execution_count": 410,
     "metadata": {},
     "output_type": "execute_result"
    }
   ],
   "source": [
    "a.shape"
   ]
  },
  {
   "cell_type": "code",
   "execution_count": 411,
   "id": "a016e7b8-1bb0-49cd-8e49-07bdaabebc53",
   "metadata": {},
   "outputs": [
    {
     "data": {
      "text/plain": [
       "(2, 2)"
      ]
     },
     "execution_count": 411,
     "metadata": {},
     "output_type": "execute_result"
    }
   ],
   "source": [
    "b.shape"
   ]
  },
  {
   "cell_type": "markdown",
   "id": "dccffb5b-f6fd-42ce-a23e-174be36bbeec",
   "metadata": {},
   "source": [
    "`-` a의 shape을 바꾸어보자 $\\to$ b도 같이 바뀐다 "
   ]
  },
  {
   "cell_type": "code",
   "execution_count": 412,
   "id": "1c497b20-53f3-42e4-a6be-f31da97c4bc2",
   "metadata": {},
   "outputs": [],
   "source": [
    "a.shape = (4,)"
   ]
  },
  {
   "cell_type": "code",
   "execution_count": 413,
   "id": "af7747a6-4614-49d4-b3ba-2ab4dff45c94",
   "metadata": {},
   "outputs": [
    {
     "data": {
      "text/plain": [
       "array([1, 2, 3, 4])"
      ]
     },
     "execution_count": 413,
     "metadata": {},
     "output_type": "execute_result"
    }
   ],
   "source": [
    "a"
   ]
  },
  {
   "cell_type": "code",
   "execution_count": 414,
   "id": "c56213b1-30c8-4915-974e-9e1f4ba0bb5d",
   "metadata": {},
   "outputs": [
    {
     "data": {
      "text/plain": [
       "array([1, 2, 3, 4])"
      ]
     },
     "execution_count": 414,
     "metadata": {},
     "output_type": "execute_result"
    }
   ],
   "source": [
    "b"
   ]
  },
  {
   "cell_type": "code",
   "execution_count": 415,
   "id": "9eb30256-a9d6-4d8d-87ae-251e42c2f8a2",
   "metadata": {},
   "outputs": [
    {
     "data": {
      "text/plain": [
       "(139753605843920, 139753605843920)"
      ]
     },
     "execution_count": 415,
     "metadata": {},
     "output_type": "execute_result"
    }
   ],
   "source": [
    "id(a),id(b)"
   ]
  },
  {
   "cell_type": "markdown",
   "id": "9a19f2ef-8a86-4f7f-baa9-66bee1da7cf3",
   "metadata": {
    "tags": []
   },
   "source": [
    "## view "
   ]
  },
  {
   "cell_type": "markdown",
   "id": "83b7d251-3b07-4b6d-b51f-6bd36a50fe9a",
   "metadata": {},
   "source": [
    "`-` a를 선언, b는 a의 view"
   ]
  },
  {
   "cell_type": "code",
   "execution_count": 11,
   "id": "aa0a2112-8df0-4fd4-b207-27b8f676a83f",
   "metadata": {},
   "outputs": [],
   "source": [
    "a=np.array([[1,2],[3,4]]) \n",
    "b=a.view() ## 어떤 블로그등에서는 shallow copy 라고 부르기도 한다. "
   ]
  },
  {
   "cell_type": "code",
   "execution_count": 12,
   "id": "6cae78ec-f29a-4d68-b1f1-a0b8db8d010d",
   "metadata": {},
   "outputs": [
    {
     "data": {
      "text/plain": [
       "array([[1, 2],\n",
       "       [3, 4]])"
      ]
     },
     "execution_count": 12,
     "metadata": {},
     "output_type": "execute_result"
    }
   ],
   "source": [
    "a"
   ]
  },
  {
   "cell_type": "code",
   "execution_count": 13,
   "id": "7b277b9e-9512-4420-8bf7-e51ffac6f078",
   "metadata": {},
   "outputs": [
    {
     "data": {
      "text/plain": [
       "array([[1, 2],\n",
       "       [3, 4]])"
      ]
     },
     "execution_count": 13,
     "metadata": {},
     "output_type": "execute_result"
    }
   ],
   "source": [
    "b"
   ]
  },
  {
   "cell_type": "code",
   "execution_count": 14,
   "id": "097b9e30-8ffc-40b3-8f9f-1e0ddce18107",
   "metadata": {},
   "outputs": [
    {
     "data": {
      "text/plain": [
       "(2, 2)"
      ]
     },
     "execution_count": 14,
     "metadata": {},
     "output_type": "execute_result"
    }
   ],
   "source": [
    "a.shape"
   ]
  },
  {
   "cell_type": "code",
   "execution_count": 15,
   "id": "b698cc1a-4980-484a-ab65-1e939e7814c2",
   "metadata": {},
   "outputs": [
    {
     "data": {
      "text/plain": [
       "(2, 2)"
      ]
     },
     "execution_count": 15,
     "metadata": {},
     "output_type": "execute_result"
    }
   ],
   "source": [
    "b.shape"
   ]
  },
  {
   "cell_type": "code",
   "execution_count": 16,
   "id": "165c1a8c-ffdc-4de2-9039-0213a9627fc4",
   "metadata": {},
   "outputs": [],
   "source": [
    "a.shape= (4,1)"
   ]
  },
  {
   "cell_type": "code",
   "execution_count": 17,
   "id": "3e77bdfd-cc07-40e8-b410-bc6d843a3b7e",
   "metadata": {},
   "outputs": [
    {
     "data": {
      "text/plain": [
       "array([[1],\n",
       "       [2],\n",
       "       [3],\n",
       "       [4]])"
      ]
     },
     "execution_count": 17,
     "metadata": {},
     "output_type": "execute_result"
    }
   ],
   "source": [
    "a"
   ]
  },
  {
   "cell_type": "code",
   "execution_count": 18,
   "id": "e779ee83-9979-4063-ad3d-44ceff2e2e0b",
   "metadata": {},
   "outputs": [
    {
     "data": {
      "text/plain": [
       "array([[1, 2],\n",
       "       [3, 4]])"
      ]
     },
     "execution_count": 18,
     "metadata": {},
     "output_type": "execute_result"
    }
   ],
   "source": [
    "b"
   ]
  },
  {
   "cell_type": "code",
   "execution_count": 19,
   "id": "de840209-6b2c-4ebc-9dc4-2195e258f469",
   "metadata": {},
   "outputs": [
    {
     "data": {
      "text/plain": [
       "(140105048258768, 140105048259152)"
      ]
     },
     "execution_count": 19,
     "metadata": {},
     "output_type": "execute_result"
    }
   ],
   "source": [
    "id(a), id(b)"
   ]
  },
  {
   "cell_type": "markdown",
   "id": "ead3895e-bfdd-4fce-906a-c4b59ba384d1",
   "metadata": {},
   "source": [
    "`-` 그런데.. "
   ]
  },
  {
   "cell_type": "code",
   "execution_count": 20,
   "id": "f87bc6fe-9ad9-46ae-b3cc-e850c6ae05a6",
   "metadata": {},
   "outputs": [],
   "source": [
    "a[0]=100"
   ]
  },
  {
   "cell_type": "code",
   "execution_count": 21,
   "id": "490e40b6-7e3c-48fe-942c-d253c68cc438",
   "metadata": {},
   "outputs": [
    {
     "data": {
      "text/plain": [
       "array([[100],\n",
       "       [  2],\n",
       "       [  3],\n",
       "       [  4]])"
      ]
     },
     "execution_count": 21,
     "metadata": {},
     "output_type": "execute_result"
    }
   ],
   "source": [
    "a"
   ]
  },
  {
   "cell_type": "code",
   "execution_count": 22,
   "id": "8a96c4e1-5269-4a37-9485-b859d5158ecc",
   "metadata": {},
   "outputs": [
    {
     "data": {
      "text/plain": [
       "array([[100,   2],\n",
       "       [  3,   4]])"
      ]
     },
     "execution_count": 22,
     "metadata": {},
     "output_type": "execute_result"
    }
   ],
   "source": [
    "b"
   ]
  },
  {
   "cell_type": "markdown",
   "id": "1cbc6c67-f707-4f7f-85c3-84bf8bc3abc9",
   "metadata": {},
   "source": [
    "`-` 출생의 비밀 "
   ]
  },
  {
   "cell_type": "code",
   "execution_count": 23,
   "id": "0fd1f212-6242-4866-892e-6f04146ddbb4",
   "metadata": {},
   "outputs": [
    {
     "data": {
      "text/plain": [
       "array([[100,   2],\n",
       "       [  3,   4]])"
      ]
     },
     "execution_count": 23,
     "metadata": {},
     "output_type": "execute_result"
    }
   ],
   "source": [
    "b"
   ]
  },
  {
   "cell_type": "code",
   "execution_count": 24,
   "id": "dd28bf29-b41f-4f6b-8b8e-0d73a0e10e76",
   "metadata": {},
   "outputs": [
    {
     "data": {
      "text/plain": [
       "array([[100],\n",
       "       [  2],\n",
       "       [  3],\n",
       "       [  4]])"
      ]
     },
     "execution_count": 24,
     "metadata": {},
     "output_type": "execute_result"
    }
   ],
   "source": [
    "b.base"
   ]
  },
  {
   "cell_type": "markdown",
   "id": "4559dfcc-ab3c-48c3-ac7b-9c551366e6f1",
   "metadata": {},
   "source": [
    "- ? 이거 바뀐 a아니야? "
   ]
  },
  {
   "cell_type": "code",
   "execution_count": 25,
   "id": "3c049a89-af38-4752-883b-212cfbd965d5",
   "metadata": {},
   "outputs": [
    {
     "data": {
      "text/plain": [
       "(140105048258768, 140105048258768)"
      ]
     },
     "execution_count": 25,
     "metadata": {},
     "output_type": "execute_result"
    }
   ],
   "source": [
    "id(b.base), id(a)"
   ]
  },
  {
   "cell_type": "markdown",
   "id": "20e4c68f-71cb-4439-b980-8e5c547fd8bc",
   "metadata": {},
   "source": [
    "`-` View \n",
    "\n",
    "- b가 a의 뷰라는 의미는, b가 a를 소스로하여 만들어진 오브젝트란 의미이다. \n",
    "- 따라서 이때 b.base는 a가 된다. \n",
    "- b는 자체적으로 데이터를 가지고 있지 않으며 a와 공유한다. "
   ]
  },
  {
   "cell_type": "markdown",
   "id": "984b5431-1bc9-46e8-b7c8-406d365b2f33",
   "metadata": {},
   "source": [
    "`note1` 원본 ndarray의 일 경우는 .base가 None으로 나온다. "
   ]
  },
  {
   "cell_type": "code",
   "execution_count": 433,
   "id": "fe05d9d8-73f0-4a3f-9ccb-aaa70377a753",
   "metadata": {},
   "outputs": [],
   "source": [
    "a.base"
   ]
  },
  {
   "cell_type": "markdown",
   "id": "141d1d51-dacc-4b50-b0bb-ed05e5d41ead",
   "metadata": {},
   "source": [
    "`note2` b.base의 shpae과 b의 shape은 아무 관련없다. "
   ]
  },
  {
   "cell_type": "code",
   "execution_count": 434,
   "id": "5f33c615-7d45-4957-8f93-1bfc4b565d8d",
   "metadata": {},
   "outputs": [
    {
     "data": {
      "text/plain": [
       "(2, 2)"
      ]
     },
     "execution_count": 434,
     "metadata": {},
     "output_type": "execute_result"
    }
   ],
   "source": [
    "b.shape"
   ]
  },
  {
   "cell_type": "code",
   "execution_count": 435,
   "id": "0767810f-7c90-42c3-a4f8-c8b6f53199c5",
   "metadata": {},
   "outputs": [
    {
     "data": {
      "text/plain": [
       "(4, 1)"
      ]
     },
     "execution_count": 435,
     "metadata": {},
     "output_type": "execute_result"
    }
   ],
   "source": [
    "b.base.shape # a.shape과 같음"
   ]
  },
  {
   "cell_type": "markdown",
   "id": "d0082469-2456-4ddb-8cec-de9f73702655",
   "metadata": {},
   "source": [
    "`-` numpy에서 view를 사용하는 예시 (transpose)"
   ]
  },
  {
   "cell_type": "code",
   "execution_count": 54,
   "id": "f3bf96da-b881-4527-b14a-0a6340f49762",
   "metadata": {},
   "outputs": [
    {
     "data": {
      "text/plain": [
       "(140104289713104, 140104289713104)"
      ]
     },
     "execution_count": 54,
     "metadata": {},
     "output_type": "execute_result"
    }
   ],
   "source": [
    "X = np.random.normal(size=[100,2])\n",
    "id((X.T).base), id(X)"
   ]
  },
  {
   "cell_type": "markdown",
   "id": "acca5602-8587-48ba-9bc8-d38b5fd39f4e",
   "metadata": {},
   "source": [
    "- `X.T` 는 `X`의 view 이다."
   ]
  },
  {
   "cell_type": "code",
   "execution_count": 57,
   "id": "839a982f-ec67-4770-b7ee-4f3df19fac57",
   "metadata": {},
   "outputs": [
    {
     "data": {
      "text/plain": [
       "array([[81.26122629,  4.44010058],\n",
       "       [ 4.44010058, 82.45450712]])"
      ]
     },
     "execution_count": 57,
     "metadata": {},
     "output_type": "execute_result"
    }
   ],
   "source": [
    "X.T @ X ## 실제로 X.T를 메모리공간에 새로 만들어 숫자를 저장하지않고 X.T @ X를 계산할 수 있음 (R과차이점) "
   ]
  },
  {
   "cell_type": "markdown",
   "id": "698eb04a-c824-4986-b596-26d6df2202cb",
   "metadata": {},
   "source": [
    "## copy "
   ]
  },
  {
   "cell_type": "markdown",
   "id": "f92f8070-d47d-44cd-9f81-a09151090dc3",
   "metadata": {},
   "source": [
    "`-` a를 선언, b는 a의 copy"
   ]
  },
  {
   "cell_type": "code",
   "execution_count": 114,
   "id": "df12cffe-5c15-4ddc-adb0-511997319211",
   "metadata": {},
   "outputs": [],
   "source": [
    "a=np.array([[1,2],[3,4]])\n",
    "b=a.copy() # 껍데기를 새로 생성 (strides, shape) + 데이터도 a와 독립적으로 새로 생성하여 따로 메모리에 저장함. "
   ]
  },
  {
   "cell_type": "code",
   "execution_count": 492,
   "id": "cbebad46-b15a-4948-ba04-9d3dcf627568",
   "metadata": {},
   "outputs": [
    {
     "data": {
      "text/plain": [
       "(139753151672016, 139753151660368)"
      ]
     },
     "execution_count": 492,
     "metadata": {},
     "output_type": "execute_result"
    }
   ],
   "source": [
    "id(a),id(b)"
   ]
  },
  {
   "cell_type": "markdown",
   "id": "ee9f51cd-96de-4b95-bc2c-2cd6d44451f8",
   "metadata": {},
   "source": [
    "`-` a의 shape을 바꿔도 b에는 적용되지 않음 "
   ]
  },
  {
   "cell_type": "code",
   "execution_count": 438,
   "id": "168bf84f-3ab9-4cbb-aee7-efa4488070a1",
   "metadata": {},
   "outputs": [
    {
     "data": {
      "text/plain": [
       "array([[1],\n",
       "       [2],\n",
       "       [3],\n",
       "       [4]])"
      ]
     },
     "execution_count": 438,
     "metadata": {},
     "output_type": "execute_result"
    }
   ],
   "source": [
    "a.shape = (4,1)\n",
    "a"
   ]
  },
  {
   "cell_type": "code",
   "execution_count": 439,
   "id": "dc3aa9c4-d000-4088-aedc-c93ff1395fec",
   "metadata": {},
   "outputs": [
    {
     "data": {
      "text/plain": [
       "array([[1, 2],\n",
       "       [3, 4]])"
      ]
     },
     "execution_count": 439,
     "metadata": {},
     "output_type": "execute_result"
    }
   ],
   "source": [
    "b"
   ]
  },
  {
   "cell_type": "markdown",
   "id": "400e84eb-ddef-48ab-8013-3afb3a7f9537",
   "metadata": {},
   "source": [
    "`-` 그리고 a[0]의 값을 바꿔도 b에는 적용되지 않음. "
   ]
  },
  {
   "cell_type": "code",
   "execution_count": 440,
   "id": "45a24765-81ec-4fa3-957f-9f7c040e8458",
   "metadata": {},
   "outputs": [],
   "source": [
    "a[0]=100"
   ]
  },
  {
   "cell_type": "code",
   "execution_count": 441,
   "id": "7374d2b8-6083-458b-8213-c6e4f2f66ddf",
   "metadata": {},
   "outputs": [
    {
     "data": {
      "text/plain": [
       "array([[100],\n",
       "       [  2],\n",
       "       [  3],\n",
       "       [  4]])"
      ]
     },
     "execution_count": 441,
     "metadata": {},
     "output_type": "execute_result"
    }
   ],
   "source": [
    "a"
   ]
  },
  {
   "cell_type": "code",
   "execution_count": 442,
   "id": "049d9fe7-c7f9-449f-a86f-f0ff18af536e",
   "metadata": {},
   "outputs": [
    {
     "data": {
      "text/plain": [
       "array([[1, 2],\n",
       "       [3, 4]])"
      ]
     },
     "execution_count": 442,
     "metadata": {},
     "output_type": "execute_result"
    }
   ],
   "source": [
    "b"
   ]
  },
  {
   "cell_type": "markdown",
   "id": "e3cc0dfe-7b59-4afa-adc4-f4bd30a4c259",
   "metadata": {},
   "source": [
    "`-` b의 출생을 조사해보니.. "
   ]
  },
  {
   "cell_type": "code",
   "execution_count": 443,
   "id": "9f7f3cf7-6501-4421-a369-4605ee70c00a",
   "metadata": {},
   "outputs": [
    {
     "data": {
      "text/plain": [
       "(None, None)"
      ]
     },
     "execution_count": 443,
     "metadata": {},
     "output_type": "execute_result"
    }
   ],
   "source": [
    "a.base,b.base"
   ]
  },
  {
   "cell_type": "markdown",
   "id": "5cf52115-b501-4429-82b2-2e42eaadcd57",
   "metadata": {},
   "source": [
    "출생의 비밀은 없었다. 둘다 원본. "
   ]
  },
  {
   "cell_type": "markdown",
   "id": "1cdf396f-56ca-44c6-b2bb-d58930875f1d",
   "metadata": {},
   "source": [
    "`-` `.view()` 는 껍데기만 새로생성 //  `.copy()` 는 껍데기와 데이터를 모두 새로 생성 "
   ]
  },
  {
   "cell_type": "markdown",
   "id": "739cf44f-261d-4de4-bca9-cb11d38b0912",
   "metadata": {},
   "source": [
    "### ***Appendix: .copy의 한계(?)***"
   ]
  },
  {
   "cell_type": "markdown",
   "id": "17623eb7",
   "metadata": {},
   "source": [
    "(관찰)"
   ]
  },
  {
   "cell_type": "code",
   "execution_count": 82,
   "id": "506af310-ceea-4c59-9a71-a1693b88f94f",
   "metadata": {},
   "outputs": [
    {
     "name": "stdout",
     "output_type": "stream",
     "text": [
      "시점1\n",
      "a= [1 list([1, 2])]\n",
      "b= [1 list([1, 2])]\n",
      "시점2\n",
      "a= [222 list([1, 2])]\n",
      "b= [1 list([1, 2])]\n",
      "시점2\n",
      "a= [222 list([333, 2])]\n",
      "b= [1 list([333, 2])]\n"
     ]
    }
   ],
   "source": [
    "a=np.array([1,[1,2]],dtype='O')\n",
    "b=a.copy()\n",
    "print('시점1')\n",
    "print('a=',a)\n",
    "print('b=',b)\n",
    "\n",
    "a[0]=222\n",
    "print('시점2')\n",
    "print('a=',a)\n",
    "print('b=',b)\n",
    "\n",
    "a[1][0]=333\n",
    "print('시점2')\n",
    "print('a=',a)\n",
    "print('b=',b)"
   ]
  },
  {
   "cell_type": "markdown",
   "id": "c13f92b5",
   "metadata": {},
   "source": [
    "- 왜 또 시점2에서는 a와 b가 같이 움직여?"
   ]
  },
  {
   "cell_type": "markdown",
   "id": "12d6f04b-ae8f-4f94-8750-878c6e73fffc",
   "metadata": {},
   "source": [
    "***해결책: 더 깊은 복사***"
   ]
  },
  {
   "cell_type": "code",
   "execution_count": 28,
   "id": "43d89fc5-9282-4e3b-aa46-b053d4727340",
   "metadata": {},
   "outputs": [
    {
     "name": "stdout",
     "output_type": "stream",
     "text": [
      "시점1\n",
      "a= [1 list([1, 2])]\n",
      "b= [1 list([1, 2])]\n",
      "시점2\n",
      "a= [222 list([1, 2])]\n",
      "b= [1 list([1, 2])]\n",
      "시점2\n",
      "a= [222 list([333, 2])]\n",
      "b= [1 list([1, 2])]\n"
     ]
    }
   ],
   "source": [
    "a=np.array([1,[1,2]],dtype='O')\n",
    "b=copy.deepcopy(a)\n",
    "print('시점1')\n",
    "print('a=',a)\n",
    "print('b=',b)\n",
    "\n",
    "a[0]=222\n",
    "print('시점2')\n",
    "print('a=',a)\n",
    "print('b=',b)\n",
    "\n",
    "a[1][0]=333\n",
    "print('시점2')\n",
    "print('a=',a)\n",
    "print('b=',b)"
   ]
  },
  {
   "cell_type": "markdown",
   "id": "16602671-12c0-4d0d-8004-e9a74902915c",
   "metadata": {},
   "source": [
    "`-` 중간요약\n",
    "\n",
    "- 사실 `b=a.copy()`는 에서 `.copy()`는 사실 온전한 deep-copy가 아니다. \n",
    "- 그래서 `a`의 데이터가 중첩구조를 가지는 경우는 온전한 deep-copy가 수행되지 않는다. \n",
    "- 그런데 일반적으로 넘파이를 이용할때 자주 사용하는 데이터 구조인 행렬, 텐서등은 데이터가 중첩구조를 가지지 않는다. (1차원 array로만 저장되어 있음) \n",
    "- 따라서 행렬, 텐서에 한정하면 `.copy()`는 온전한 deep-copy라고 이해해도 무방하다. <-- 이것만 기억해!"
   ]
  },
  {
   "cell_type": "markdown",
   "id": "72c35f7b-4e2c-460f-8500-44a6915bcecf",
   "metadata": {},
   "source": [
    "## 요약 "
   ]
  },
  {
   "cell_type": "markdown",
   "id": "a2025a4a-8df1-4647-8497-f64476b1f962",
   "metadata": {},
   "source": [
    "아래를 구분할 수 있으면 잘 이해한 것!! "
   ]
  },
  {
   "cell_type": "markdown",
   "id": "fc5ec02d-b04e-47cd-82d1-95c7bf57f5f4",
   "metadata": {},
   "source": [
    "```Python \n",
    "arr = np.array(...) # arr -- [arr.shape, arr.strides, arr.base, ... ] \n",
    "arr2 = arr \n",
    "arr2 = arr.view()\n",
    "arr2 = arr.copy()\n",
    "arr2 = copy.deepcopy(arr)\n",
    "```"
   ]
  },
  {
   "cell_type": "markdown",
   "id": "504a9a90-d444-421e-85b4-1c60cc8b6547",
   "metadata": {},
   "source": [
    "## 별명, 뷰, 카피 "
   ]
  },
  {
   "cell_type": "markdown",
   "id": "c87afb44-8d87-4277-a230-d3029d6175a5",
   "metadata": {},
   "source": [
    "`-` test 함수 작성 "
   ]
  },
  {
   "cell_type": "code",
   "execution_count": 88,
   "id": "82f97644-00c5-4793-92cc-8a55ad6cd088",
   "metadata": {},
   "outputs": [],
   "source": [
    "def test(a,b): \n",
    "    if id(a) == id(b): \n",
    "        print(\"별명\")\n",
    "    elif id(a) == id(b.base) or id(a.base)==id(b): \n",
    "        print(\"뷰\")\n",
    "    elif (id(a.base)!=id(None) and id(b.base)!=id(None)) and id(a.base) == id(b.base):\n",
    "        print(\"공통의 base를 가짐\")\n",
    "    else: \n",
    "        print(\"카피, 혹은 아무 관련없는 오브젝트\") "
   ]
  },
  {
   "cell_type": "markdown",
   "id": "f0d19750-070f-4f24-8d37-899f10a192d4",
   "metadata": {},
   "source": [
    "`-` 잘 동작하나? "
   ]
  },
  {
   "cell_type": "markdown",
   "id": "36b25067-6675-4bf4-90c4-fbc79958dcb9",
   "metadata": {},
   "source": [
    "(테스트1) "
   ]
  },
  {
   "cell_type": "code",
   "execution_count": 89,
   "id": "a4f74d6e-53e0-4e47-bd14-6632d4ce5fd5",
   "metadata": {},
   "outputs": [],
   "source": [
    "a=np.array([1,2,3,4])\n",
    "b=a"
   ]
  },
  {
   "cell_type": "code",
   "execution_count": 90,
   "id": "40b373e8-d39b-41dd-bdc0-c9bbaac5ee00",
   "metadata": {},
   "outputs": [
    {
     "name": "stdout",
     "output_type": "stream",
     "text": [
      "별명\n"
     ]
    }
   ],
   "source": [
    "test(a,b)"
   ]
  },
  {
   "cell_type": "markdown",
   "id": "e592b72b-f3df-445f-91bd-3626c183b857",
   "metadata": {},
   "source": [
    "(테스트2) "
   ]
  },
  {
   "cell_type": "code",
   "execution_count": 91,
   "id": "748d6585-1822-4694-a16a-e54a26ef30bc",
   "metadata": {},
   "outputs": [],
   "source": [
    "a=np.array([1,2,3,4])\n",
    "b=a.view()"
   ]
  },
  {
   "cell_type": "code",
   "execution_count": 92,
   "id": "8efd6f69-9c5f-4efc-83c0-533c0418b6e7",
   "metadata": {},
   "outputs": [
    {
     "name": "stdout",
     "output_type": "stream",
     "text": [
      "뷰\n"
     ]
    }
   ],
   "source": [
    "test(a,b)"
   ]
  },
  {
   "cell_type": "markdown",
   "id": "fdaa5e61-9c67-4484-953f-cc10d7ea5f50",
   "metadata": {},
   "source": [
    "(테스트3) "
   ]
  },
  {
   "cell_type": "code",
   "execution_count": 93,
   "id": "f040ccaf-2837-4074-b90f-f86c67a51d4d",
   "metadata": {},
   "outputs": [],
   "source": [
    "a=np.array([1,2,3,4])\n",
    "b=a.view()\n",
    "c=a.view()"
   ]
  },
  {
   "cell_type": "code",
   "execution_count": 94,
   "id": "3453d6eb-5630-4fce-a1e0-305bfb8e7bb8",
   "metadata": {},
   "outputs": [
    {
     "name": "stdout",
     "output_type": "stream",
     "text": [
      "공통의 base를 가짐\n"
     ]
    }
   ],
   "source": [
    "test(b,c)"
   ]
  },
  {
   "cell_type": "code",
   "execution_count": 95,
   "id": "313db71e-7746-4afa-ad91-fe1675df967d",
   "metadata": {},
   "outputs": [
    {
     "name": "stdout",
     "output_type": "stream",
     "text": [
      "뷰\n"
     ]
    }
   ],
   "source": [
    "test(a,b)"
   ]
  },
  {
   "cell_type": "code",
   "execution_count": 96,
   "id": "ab26bc82-ee67-461b-b347-33cb5c3e6c57",
   "metadata": {},
   "outputs": [
    {
     "name": "stdout",
     "output_type": "stream",
     "text": [
      "뷰\n"
     ]
    }
   ],
   "source": [
    "test(a,c)"
   ]
  },
  {
   "cell_type": "markdown",
   "id": "9a02fbc0-94e2-44f6-b8f1-420791fcf24b",
   "metadata": {},
   "source": [
    "(테스트4) "
   ]
  },
  {
   "cell_type": "code",
   "execution_count": 97,
   "id": "d5e3e8ab-f843-4c3c-b845-cc966e114686",
   "metadata": {},
   "outputs": [],
   "source": [
    "a=np.array([1,2,3,4])\n",
    "b=a.copy()"
   ]
  },
  {
   "cell_type": "code",
   "execution_count": 98,
   "id": "08ce2913-3c97-49cc-af7c-73868898e48d",
   "metadata": {},
   "outputs": [
    {
     "name": "stdout",
     "output_type": "stream",
     "text": [
      "카피, 혹은 아무 관련없는 오브젝트\n"
     ]
    }
   ],
   "source": [
    "test(a,b)"
   ]
  },
  {
   "cell_type": "markdown",
   "id": "f3c6ec2a-3013-405c-969f-df9c98ce66ec",
   "metadata": {},
   "source": [
    "## 결론 "
   ]
  },
  {
   "cell_type": "markdown",
   "id": "120e3994-62de-487e-8da0-3c12b97be24c",
   "metadata": {},
   "source": [
    "`-` 참조, 뷰, 카피의 개념을 잘 알고 있고 때에 따라 이들을 적절하게 사용하며 효율적으로 메모리를 쓰고 싶을것 같음. 하지만 이건 불가능한 소망임. "
   ]
  },
  {
   "cell_type": "markdown",
   "id": "1144b9cd-5cbd-4388-aaa7-2a3d3de136bd",
   "metadata": {},
   "source": [
    "`-` 우리가 사용했던 어떠한 것들이 뷰가 나올지 카피가 나올지 잘 모른다. (그래서 원리를 이해해도 대응할 방법이 사실없음) "
   ]
  },
  {
   "cell_type": "markdown",
   "id": "7530093e-ca82-4f90-bb98-0cb394927b9a",
   "metadata": {},
   "source": [
    "### 예시1"
   ]
  },
  {
   "cell_type": "code",
   "execution_count": 101,
   "id": "06c80a2b-9a3e-4ff2-b040-0cba00471c2b",
   "metadata": {},
   "outputs": [],
   "source": [
    "a=np.array([1,2,3,4])\n",
    "b=a[:3]"
   ]
  },
  {
   "cell_type": "code",
   "execution_count": 102,
   "id": "8d3c9c0f-d89e-412f-b718-fcf7aee24564",
   "metadata": {},
   "outputs": [
    {
     "data": {
      "text/plain": [
       "array([1, 2, 3, 4])"
      ]
     },
     "execution_count": 102,
     "metadata": {},
     "output_type": "execute_result"
    }
   ],
   "source": [
    "a"
   ]
  },
  {
   "cell_type": "code",
   "execution_count": 103,
   "id": "471d1475-9ac4-4045-a39e-8de002c32b60",
   "metadata": {},
   "outputs": [
    {
     "data": {
      "text/plain": [
       "array([1, 2, 3])"
      ]
     },
     "execution_count": 103,
     "metadata": {},
     "output_type": "execute_result"
    }
   ],
   "source": [
    "b"
   ]
  },
  {
   "cell_type": "code",
   "execution_count": 104,
   "id": "5a171e96-daa2-4895-a6d3-3df706c6a5c8",
   "metadata": {},
   "outputs": [
    {
     "name": "stdout",
     "output_type": "stream",
     "text": [
      "뷰\n"
     ]
    }
   ],
   "source": [
    "test(a,b)"
   ]
  },
  {
   "cell_type": "code",
   "execution_count": 105,
   "id": "c8a86457-4590-4413-9bc5-a8cf145a66e2",
   "metadata": {},
   "outputs": [
    {
     "data": {
      "text/plain": [
       "array([1, 2, 3])"
      ]
     },
     "execution_count": 105,
     "metadata": {},
     "output_type": "execute_result"
    }
   ],
   "source": [
    "c=a[[0,1,2]]\n",
    "c"
   ]
  },
  {
   "cell_type": "code",
   "execution_count": 106,
   "id": "edc1387c-e53a-4f36-9c43-f20ffab02c98",
   "metadata": {},
   "outputs": [
    {
     "name": "stdout",
     "output_type": "stream",
     "text": [
      "카피, 혹은 아무 관련없는 오브젝트\n"
     ]
    }
   ],
   "source": [
    "test(a,c)"
   ]
  },
  {
   "cell_type": "markdown",
   "id": "d36dc68a-0ce3-4118-8424-960ba5015116",
   "metadata": {},
   "source": [
    "### 예시2"
   ]
  },
  {
   "cell_type": "code",
   "execution_count": 107,
   "id": "06d92138-bbdc-4f71-bef9-e30034a3fbe8",
   "metadata": {},
   "outputs": [
    {
     "data": {
      "text/plain": [
       "array([[1, 2],\n",
       "       [3, 4]])"
      ]
     },
     "execution_count": 107,
     "metadata": {},
     "output_type": "execute_result"
    }
   ],
   "source": [
    "a=np.array([[1,2],[3,4]])\n",
    "a"
   ]
  },
  {
   "cell_type": "code",
   "execution_count": 108,
   "id": "37ec640a-6eb6-4fa9-8bbe-fa69b6b570db",
   "metadata": {},
   "outputs": [],
   "source": [
    "b=a.flatten()\n",
    "c=a.ravel()\n",
    "d=a.reshape(-1)"
   ]
  },
  {
   "cell_type": "code",
   "execution_count": 109,
   "id": "7d6679f5-2822-4c39-9c9e-b0a869c680ca",
   "metadata": {},
   "outputs": [
    {
     "name": "stdout",
     "output_type": "stream",
     "text": [
      "카피, 혹은 아무 관련없는 오브젝트\n"
     ]
    }
   ],
   "source": [
    "test(a,b)"
   ]
  },
  {
   "cell_type": "code",
   "execution_count": 110,
   "id": "06ad2d91-97d0-4d94-a7fa-d3d1159d4ceb",
   "metadata": {},
   "outputs": [
    {
     "name": "stdout",
     "output_type": "stream",
     "text": [
      "뷰\n"
     ]
    }
   ],
   "source": [
    "test(a,c)"
   ]
  },
  {
   "cell_type": "code",
   "execution_count": 111,
   "id": "348226d3-ab15-424a-b58e-3a9cc2c54fe1",
   "metadata": {},
   "outputs": [
    {
     "name": "stdout",
     "output_type": "stream",
     "text": [
      "뷰\n"
     ]
    }
   ],
   "source": [
    "test(a,d)"
   ]
  },
  {
   "cell_type": "code",
   "execution_count": 112,
   "id": "ab18d3ba-d35d-44f1-828f-04696e624bbb",
   "metadata": {},
   "outputs": [
    {
     "name": "stdout",
     "output_type": "stream",
     "text": [
      "공통의 base를 가짐\n"
     ]
    }
   ],
   "source": [
    "test(c,d)"
   ]
  },
  {
   "cell_type": "code",
   "execution_count": 113,
   "id": "f8a6392f-2035-487e-9870-fc02a7032839",
   "metadata": {},
   "outputs": [
    {
     "name": "stdout",
     "output_type": "stream",
     "text": [
      "카피, 혹은 아무 관련없는 오브젝트\n"
     ]
    }
   ],
   "source": [
    "test(b,c)"
   ]
  },
  {
   "cell_type": "markdown",
   "id": "3d35f6d2-df66-457e-ba15-eb6e0bff8ea7",
   "metadata": {},
   "source": [
    "`-` 심지어 copy인줄 알았던것이 사실 view라서 원치않는 side effect이 생길수 있음. $\\to$ 그냥 방어적 프로그래밍이 최선인듯 "
   ]
  }
 ],
 "metadata": {
  "kernelspec": {
   "display_name": "Python 3",
   "language": "python",
   "name": "python3"
  },
  "language_info": {
   "codemirror_mode": {
    "name": "ipython",
    "version": 3
   },
   "file_extension": ".py",
   "mimetype": "text/x-python",
   "name": "python",
   "nbconvert_exporter": "python",
   "pygments_lexer": "ipython3",
   "version": "3.7.15"
  }
 },
 "nbformat": 4,
 "nbformat_minor": 5
}
