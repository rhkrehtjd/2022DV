{
 "cells": [
  {
   "cell_type": "raw",
   "id": "e40c3816-a5aa-41c9-aa8e-4b52aeb321c4",
   "metadata": {},
   "source": [
    "---\n",
    "title: \"09wk-2\"\n",
    "author: \"최규빈\"\n",
    "date: \"11/02/2022\"\n",
    "categories:\n",
    "  - 훌륭한 시각화\n",
    "---"
   ]
  },
  {
   "cell_type": "markdown",
   "id": "6793630e-63b6-4c7a-bed5-3891c4ce36e3",
   "metadata": {
    "tags": []
   },
   "source": [
    "> Presentation vs Exploration, 메시지를 뒷받침하는 그림, 흥미로운 자료와 틀린해석, 예쁜그림의 함정, (line,bar,scatter)의 용도"
   ]
  },
  {
   "cell_type": "markdown",
   "id": "c4e5ef5e",
   "metadata": {},
   "source": [
    "# 강의영상 "
   ]
  },
  {
   "cell_type": "markdown",
   "id": "d59205fb",
   "metadata": {},
   "source": [
    "<https://youtube.com/playlist?list=PLQqh36zP38-yh9AnfWEzztWA3flQXkq9g>"
   ]
  },
  {
   "cell_type": "markdown",
   "id": "b993be8f-1024-4128-861c-1cd448da85c2",
   "metadata": {
    "tags": []
   },
   "source": [
    "# ref "
   ]
  },
  {
   "cell_type": "markdown",
   "id": "a9b4304f-d3a5-4d60-8ca5-04d421b87863",
   "metadata": {},
   "source": [
    "Cairo, A. Functional Art, The: An Introduction to Information Graphics and Visualization, New Riders, 2012. San Francisco, US."
   ]
  },
  {
   "cell_type": "markdown",
   "id": "48be2df9-79ea-4d22-b8a8-6c58804c5d36",
   "metadata": {},
   "source": [
    "`-` ((일반적생각, 카이로의 생각), 제 생각)으로 나누어서 설명"
   ]
  },
  {
   "cell_type": "markdown",
   "id": "f4282ae8-f31d-49b1-8c34-1447dabf7ea2",
   "metadata": {},
   "source": [
    "# Presentation vs Exploration "
   ]
  },
  {
   "cell_type": "markdown",
   "id": "5331aec1-a8c0-4950-8a30-363b105d599d",
   "metadata": {},
   "source": [
    "## Presentation"
   ]
  },
  {
   "cell_type": "markdown",
   "id": "6663b709-cd9f-4a05-bb1a-2c76b693bf34",
   "metadata": {},
   "source": [
    "![](https://github.com/guebin/DV2021/blob/master/_notebooks/2021-11-16-FIG1.png?raw=true)"
   ]
  },
  {
   "cell_type": "markdown",
   "id": "5671c7de-fe99-4144-8e9f-da2030951168",
   "metadata": {},
   "source": [
    "`-` 프리젠테이션방식의 시각화는 화자가 다듬은 이야기를 전달하기에 좋은 시각화이다. 즉 잘 정리된 메시지를 전달하기에 좋다. "
   ]
  },
  {
   "cell_type": "markdown",
   "id": "12095f58-d8f9-4c59-b3ac-6cba21320aeb",
   "metadata": {},
   "source": [
    "## Exploration"
   ]
  },
  {
   "cell_type": "markdown",
   "id": "fd7689e1-ea18-4560-951b-c2ab190d3c01",
   "metadata": {},
   "source": [
    "![](https://github.com/guebin/DV2021/blob/master/_notebooks/2021-11-16-FIG2.png?raw=true)"
   ]
  },
  {
   "cell_type": "markdown",
   "id": "f7b7fa24-324f-4d3c-8939-4ba59bd4581a",
   "metadata": {},
   "source": [
    "- 문학적유기체라는 작품이다. [링크](https://www.stefanieposavec.com/).\n",
    "- 어떤 소설책을 시각화. \n",
    "- 수형도 + 칼라 \n",
    "- 수형도의 의미: 단원, 문단, 문장, 단어 (수형도 계층적 구조를 시각화 하기에 뛰어남. ex: 리그레션트리!) \n",
    "- 색깔: 여행, 음악, 파티 등 소설에서 자주 등장하는 소재 (색은 범주형 변수를 표현하기에 뛰어남) "
   ]
  },
  {
   "cell_type": "markdown",
   "id": "0b1fc1f7-c316-4ff0-baa5-a979b2b4be0a",
   "metadata": {},
   "source": [
    "`-` 익스플로래이션 방식은 독자가 스스로 그림에서 메시지를 찾아낸다. "
   ]
  },
  {
   "cell_type": "markdown",
   "id": "11b851ed-0424-4fd1-b56c-8e394910f854",
   "metadata": {},
   "source": [
    "`-` 소설을 읽어보지 않은 사람: 이 그래픽으로 소설책의 전체 주제를 미리 파악가능 "
   ]
  },
  {
   "cell_type": "markdown",
   "id": "0ab3073d-1251-4b11-99cf-97cda82fe85d",
   "metadata": {},
   "source": [
    "`-` 소설을 이미 읽어본 사람: 분석 & 탐구를 할 수 있음. ex: 파티와 음악이 동시에 등장하는 경우가 많다. "
   ]
  },
  {
   "cell_type": "markdown",
   "id": "b649e8d3-a12d-43a3-ab86-79d705d13132",
   "metadata": {},
   "source": [
    "## 절충  "
   ]
  },
  {
   "cell_type": "markdown",
   "id": "6bb8f722-9068-4baf-af5a-e46e66b12e9f",
   "metadata": {},
   "source": [
    "`-` 카이로: 사실 프리젠테이션과 익스플로레이션은 절충가능함 "
   ]
  },
  {
   "cell_type": "markdown",
   "id": "f81ddf7e-4d58-48da-9ffc-8864f39b2d1f",
   "metadata": {},
   "source": [
    "![](https://github.com/guebin/DV2021/blob/master/_notebooks/2021-11-16-FIG3.png?raw=true)"
   ]
  },
  {
   "cell_type": "markdown",
   "id": "0f3b2aa6-1a0d-4b41-8138-1a408f28b313",
   "metadata": {},
   "source": [
    "- aes(x='GDP',y='불평등',text='년도',color='정부') \n",
    "- 초록색정부: 소득이 증가 & 불평등이 훨씬 더 증가 \n",
    "- 갈색정부: 매우 빠른 경제 성장 \n",
    "- 포인트간의 간격이 조밀하다 = 변화가 더디다 // 포인트간의 간격이 넓다 = 변화가 빠르다. "
   ]
  },
  {
   "cell_type": "markdown",
   "id": "98a0209c-849c-4b98-a741-f17d5b6832a0",
   "metadata": {},
   "source": [
    "`-` 언뜻보기에는 우리에게 익숙한 라인플랏인듯 보이지만 의외로 정보를 해석할만한 요소가 있다. "
   ]
  },
  {
   "cell_type": "markdown",
   "id": "a6bea6ed-3f39-486e-a92f-0167cab16b44",
   "metadata": {},
   "source": [
    "> 익스플로레이션형의 그래프는 그릴줄도 알아야 하지만 남이 그린 그래프를 해석할 수도 있어야함. "
   ]
  },
  {
   "cell_type": "markdown",
   "id": "993311af-0b69-476c-907d-7c97fcf9fd6a",
   "metadata": {},
   "source": [
    "# 메시지를 뒷받침하는 그림을 그려야 한다"
   ]
  },
  {
   "cell_type": "markdown",
   "id": "4938daed-58e7-4758-83f9-3705cb00a120",
   "metadata": {},
   "source": [
    "## 인구문제에 대한 편견"
   ]
  },
  {
   "cell_type": "markdown",
   "id": "5c441828-3a72-46cd-a7ea-4b2bad96f882",
   "metadata": {},
   "source": [
    "`-` 주장1 (맬서스주의자): 가난한 나라들의 출산율이 너무 높음 $\\to$ 세계인구가 90억까지 증가할 것이다. (현재 70억) \n",
    "\n",
    "`-` 주장2: 잘사는 나라에서는 애를 적게 낳음 $\\to$ 고령화 문제 "
   ]
  },
  {
   "cell_type": "markdown",
   "id": "fab362f7-2df5-4087-93e0-8d9515ea2b24",
   "metadata": {},
   "source": [
    "## <이성적 낙관주의자>에서 제기된 리들리의 메시지 "
   ]
  },
  {
   "cell_type": "markdown",
   "id": "8d3f0870-afcf-42ee-a4a4-29133c6e8fb4",
   "metadata": {},
   "source": [
    "`-` 둘다 틀렸다. \n",
    "\n",
    "`-` 주장1의 반박: 가난한 나라의 출산율은 점점 감소하고 있음. (특히 가난하다가 막 부유해진 나라는 이러한 감소폭이 드라마틱함, ex: 브라질) \n",
    "\n",
    "`-` 주장2의 반박: 평균적으로 잘사는 국가들의 출산률이 매우 낮은것은 사실이나 최근들어 약간 증가하는 경향을 보임. (ex: 스웨덴, 영국, 노르웨이, 스페인)\n",
    "\n",
    "`-` 리들리의 주장: 결국 세계의 인구는 안정화 될 것 (증가하지도 감소하지도 않는다) \n",
    "\n",
    "`-` 리들리의 주장을 뒷받침하기 위해 그린 그림 "
   ]
  },
  {
   "cell_type": "markdown",
   "id": "518d4d54-fc53-4988-9533-2a2b7e2ef024",
   "metadata": {},
   "source": [
    "![](https://github.com/guebin/DV2021/blob/master/_notebooks/2021-11-16-FIG4.png?raw=true)"
   ]
  },
  {
   "cell_type": "markdown",
   "id": "3262d6b7-d90e-4e3a-ae8d-d3c130186761",
   "metadata": {},
   "source": [
    "- 이 그림은 간단명료해 보이지만 리들리의 주장을 뒷받침하기에는 부족하다.\n",
    "- 그림에서 얻을 수 있는 정보: 인구변화를 연도별로 나열했더니 성장속도가 둔화된다는 사실 \n",
    "- 리들리가 주장한 다양한 패턴은 이 그림에 보이지 않는다. (출산률이 회복되고 있다는 선진국이라든가, 브라질/인도와 같은 나라의 인구안정화에 대한 주장)"
   ]
  },
  {
   "cell_type": "markdown",
   "id": "55ec03a6-7b9c-4fee-856b-d714ebc49623",
   "metadata": {},
   "source": [
    "### 카이로 "
   ]
  },
  {
   "cell_type": "markdown",
   "id": "9d5c7d89-c47a-4e54-9ec6-ef67417771ab",
   "metadata": {},
   "source": [
    "`-` 리들러의 메시지는 아래의 그림들이 더 잘 전달한다. "
   ]
  },
  {
   "cell_type": "markdown",
   "id": "77f9e0d9-ac1e-401d-b2cc-26ded808b0ed",
   "metadata": {},
   "source": [
    "![](https://github.com/guebin/DV2021/blob/master/_notebooks/2021-11-16-FIG5.png?raw=true)"
   ]
  },
  {
   "cell_type": "markdown",
   "id": "30a8439e-90bd-4437-8069-09967fdd13e0",
   "metadata": {},
   "source": [
    "- 스웨덴, 노르웨이 -> 출산률 증가\n",
    "- 브라질, 인도 -> 출산률 대폭감소"
   ]
  },
  {
   "cell_type": "markdown",
   "id": "946db6f6-e1ae-447b-b7a5-c1b271214008",
   "metadata": {},
   "source": [
    "### 소감 "
   ]
  },
  {
   "cell_type": "markdown",
   "id": "56dc2da0-40e9-4b32-90f7-59fd148e44b0",
   "metadata": {},
   "source": [
    "`-` 어떠한 통계량 혹은 현상을 살펴볼때 그것의 부분집합들이 역시 그러한지 살펴보는것은 기본임 (그룹별로 파악하면 정반대의 결과가 나올 수 있음) "
   ]
  },
  {
   "cell_type": "markdown",
   "id": "4afcd15f-4b93-440c-ac62-b60bc703b470",
   "metadata": {},
   "source": [
    "`-` 중요한 선을 제외한 나머지는 회색처리(일러스트레이터 사용) 한 것이 시각적으로 우수하며, 인상적이었음 "
   ]
  },
  {
   "cell_type": "markdown",
   "id": "466c4d46-31d8-4518-95b0-aa79ec108aa3",
   "metadata": {},
   "source": [
    "`-` 과학적인 논문작업에 들어갈 그림이라면 임의로 회색처리한 것이 다소 비판을 받을 수 있음. "
   ]
  },
  {
   "cell_type": "markdown",
   "id": "167cb1ca-9651-4ff5-a81d-ee267d5011cf",
   "metadata": {},
   "source": [
    "---"
   ]
  },
  {
   "cell_type": "markdown",
   "id": "41b10bc4-0602-4086-a1e3-6ee1d8cfa3bf",
   "metadata": {},
   "source": [
    "# 흥미로운 자료와 틀린해석 "
   ]
  },
  {
   "cell_type": "markdown",
   "id": "4678b498-3b63-4668-b5ab-0f14dcbb6b24",
   "metadata": {},
   "source": [
    "![](https://github.com/guebin/DV2021/blob/master/_notebooks/2021-11-16-FIG6.png?raw=true)"
   ]
  },
  {
   "cell_type": "markdown",
   "id": "b7c7ee75-0f8e-4c16-b79c-19d96a538106",
   "metadata": {},
   "source": [
    "- Left: aes(x='출산율', y='수입') \n",
    "- Right: aes(x='출산율', y='전체 중학생중 여학생이 차지하는 비율') "
   ]
  },
  {
   "cell_type": "markdown",
   "id": "4aee78c7-aee8-4a08-b5a4-8151da83286f",
   "metadata": {},
   "source": [
    "`-` 해설: 당신이 부자가 될수록 당신은 더 적은 아이를 가질 것이다 + 중학교에 진학하는 여성이 적을수록 아이를 많이 낳는다. (그림밑에 주석을 해석)\n",
    "- 교재의문장: \"중학교에 진학하는 여성이 적을수록 아이를 많이 낳는다고 해석할 수 있다.\" "
   ]
  },
  {
   "cell_type": "markdown",
   "id": "0f2ccb0b-9a2e-4fa8-8c22-6bbda70b7315",
   "metadata": {},
   "source": [
    "`-` 여학생들을 중학교에 보내지 않으면 출산율이 올라가나요??? "
   ]
  },
  {
   "cell_type": "markdown",
   "id": "28f76102-ad49-4f2b-a5c3-e00849bef2cc",
   "metadata": {},
   "source": [
    "# 예쁜그림을 그리려다가 메시지가 흐려지지 않도록 하라"
   ]
  },
  {
   "cell_type": "markdown",
   "id": "ae4ccfc8-ce41-4753-8bbe-3bdb05894b02",
   "metadata": {},
   "source": [
    "## 사례1: 남미국가의 국방력"
   ]
  },
  {
   "cell_type": "markdown",
   "id": "6accccce-083e-4883-b78c-4ab58eede4c5",
   "metadata": {},
   "source": [
    "`-` 아래는 남미국가들의 국방력을 시각화한 그림 "
   ]
  },
  {
   "cell_type": "markdown",
   "id": "945e5789-6d9b-4d97-b073-87654bd884e2",
   "metadata": {},
   "source": [
    "![](https://github.com/guebin/DV2021/blob/master/_notebooks/2021-11-16-FIG7.png?raw=true)"
   ]
  },
  {
   "cell_type": "markdown",
   "id": "14929ee2-c21e-4246-b114-479df853e99b",
   "metadata": {},
   "source": [
    "- 쓸모없는 그래픽\n",
    "- 뭐 기억나는 것이 있나요? "
   ]
  },
  {
   "cell_type": "markdown",
   "id": "a22d18ba-3534-4175-a280-6af974ff56cf",
   "metadata": {},
   "source": [
    "`-` 아래가 더 우수한 그림이다. 더 정확한 비교를 할 수 있어요. "
   ]
  },
  {
   "cell_type": "markdown",
   "id": "b3b05d12-e18c-450d-adf0-9a6212a80b5d",
   "metadata": {},
   "source": [
    "![](https://github.com/guebin/DV2021/blob/master/_notebooks/2021-11-16-FIG8.png?raw=true)"
   ]
  },
  {
   "cell_type": "markdown",
   "id": "08d4ec62-8dc0-4249-8366-b81c5673f2cd",
   "metadata": {},
   "source": [
    "`-` 그리고 위의 그림보다 아래의 그림이 더 우수한 시각화이다. "
   ]
  },
  {
   "cell_type": "markdown",
   "id": "c56b2160-3604-4c68-91a1-3bb6357fef9a",
   "metadata": {},
   "source": [
    "![](https://github.com/guebin/DV2021/blob/master/_notebooks/2021-11-16-FIG9.png?raw=true)"
   ]
  },
  {
   "cell_type": "markdown",
   "id": "6b62cf6b-3b29-4696-afd3-3c6fd3165e93",
   "metadata": {},
   "source": [
    "- 브라질이 국방력도 우수하고 예산도 많이 투자하는 것 같지만 인구가 흑막인것 같다. "
   ]
  },
  {
   "cell_type": "markdown",
   "id": "1927e4bf-3d62-4f70-8ed6-97c742804872",
   "metadata": {},
   "source": [
    "`-` 흑막을 제거 "
   ]
  },
  {
   "cell_type": "markdown",
   "id": "75ae94cd-3e68-47ca-9dde-3a27b6e15a1b",
   "metadata": {},
   "source": [
    "![](https://github.com/guebin/DV2021/blob/master/_notebooks/2021-11-16-FIG10.png?raw=true)"
   ]
  },
  {
   "cell_type": "markdown",
   "id": "9449331f-81ed-41d6-a736-41bd7c33588a",
   "metadata": {},
   "source": [
    "`-` 최종적으로 제안하는 그래프 "
   ]
  },
  {
   "cell_type": "markdown",
   "id": "d912df11-f89f-44b2-8cc7-603d67b1cbb3",
   "metadata": {},
   "source": [
    "![](https://github.com/guebin/DV2021/blob/master/_notebooks/2021-11-16-FIG11.png?raw=true)"
   ]
  },
  {
   "cell_type": "markdown",
   "id": "94d88fdb-03dd-4e4c-8ebb-667aa572d15e",
   "metadata": {},
   "source": [
    "- 좌측하단: aes(x='인구', y='군인수', size='예산') \n",
    "- 우측하단: 관심있는 그래프가 아님 "
   ]
  },
  {
   "cell_type": "markdown",
   "id": "a356b4da-5444-431b-a699-acd19a9d5c13",
   "metadata": {},
   "source": [
    "***사실 저는 좌측하단의 그래프가 좋은 시각화라고 생각안해요***"
   ]
  },
  {
   "cell_type": "markdown",
   "id": "f8477532-16bf-4dc4-a0c2-2bf7dbc50bb9",
   "metadata": {},
   "source": [
    "`-` 1사분면의 의미: 인구도 높고 군인수도 많은 나라 (똑같은 정보임 의미가 없다. 마치 x축이 토익점수, y축이 텝스점수 같은느낌임) \n",
    "\n",
    "- 모든 점들이 직선에 몰려있다면? $\\to$ 왜 2차원으로 표현함? "
   ]
  },
  {
   "cell_type": "markdown",
   "id": "f1007a1a-3285-4b5a-80c2-a77496e93cb3",
   "metadata": {},
   "source": [
    "`-` 저같으면 aes(x='예산(인구효과제거)', y='군인수(인구효과제거)',size='인구')로 할것 같아요. \n",
    "\n",
    "- 1사분면의 의미: 예산도 많이 쓰고 군인수도 많은나라 = 콜롬비아. \n",
    "- 4사분면의 의미: 예산은 많이 쓰는데 군인수가 적은나라 = 브라질 "
   ]
  },
  {
   "cell_type": "markdown",
   "id": "bfa2003d-8705-4f3e-b154-ccd34f89005a",
   "metadata": {},
   "source": [
    "`-` 산점도에서 데이터를 한눈에 파악하고 특징을 요약하기 위해서는 X,Y를 너무 비슷한 성질의 변수로 설정하지마라. "
   ]
  },
  {
   "cell_type": "markdown",
   "id": "8fbf1396-9de2-4980-81c7-61d6af8c1226",
   "metadata": {},
   "source": [
    "아래중 어떤것이 더 바람직한 그래프인가? \n",
    "\n",
    "- aes(x='토익', y='텝스', color='합/불', shape='회사의종류') \n",
    "- aes(x='토익', y='GPA', color='합/불', shape='회사의종류') "
   ]
  },
  {
   "cell_type": "markdown",
   "id": "dec78ffa-62aa-4e4e-9588-e0eb8749d166",
   "metadata": {},
   "source": [
    "## 사례2: 스페인의 실업률"
   ]
  },
  {
   "cell_type": "markdown",
   "id": "e17abb5d-55f1-493e-b5d3-75151327b17d",
   "metadata": {},
   "source": [
    "![](https://github.com/guebin/DV2021/blob/master/_notebooks/2021-11-16-FIG12.png?raw=true)"
   ]
  },
  {
   "cell_type": "markdown",
   "id": "20598a59-028b-460b-a948-133eec657b1b",
   "metadata": {},
   "source": [
    "- 명암으로 왜 크기비교를 하는것인가? "
   ]
  },
  {
   "cell_type": "markdown",
   "id": "4732af72-b936-42c9-b348-ff285a787c6c",
   "metadata": {},
   "source": [
    "`-` 비교를 위해서는 바플랏이 더 우수하다. "
   ]
  },
  {
   "cell_type": "markdown",
   "id": "ccf1b0df-67e4-492f-9580-88dc1ea85897",
   "metadata": {},
   "source": [
    "![](https://github.com/guebin/DV2021/blob/master/_notebooks/2021-11-16-FIG13.png?raw=true)"
   ]
  },
  {
   "cell_type": "markdown",
   "id": "65b3bb2e-104c-4194-b946-525c1ebd2c55",
   "metadata": {},
   "source": [
    "## 사례3: 버블의 남용"
   ]
  },
  {
   "cell_type": "markdown",
   "id": "a6d964d6-ebf0-4e04-9120-cdd6008c3ed2",
   "metadata": {},
   "source": [
    "`-` 카이로교수님의 강의자료에 등장하는 그림 "
   ]
  },
  {
   "cell_type": "markdown",
   "id": "eedfb124-6808-4a35-a77d-9c56444554ff",
   "metadata": {},
   "source": [
    "`-` 회색이 befor, 검은색이 after "
   ]
  },
  {
   "cell_type": "markdown",
   "id": "c8b44d0b-fc7c-4c76-bdec-1e9083ea9f56",
   "metadata": {},
   "source": [
    "![](https://github.com/guebin/DV2021/blob/master/_notebooks/2021-11-16-FIG14.png?raw=true)"
   ]
  },
  {
   "cell_type": "markdown",
   "id": "6bd6d396-9484-4c05-8527-490a9b5b4715",
   "metadata": {},
   "source": [
    "- 크기비교는 바플랏으로 하는것이 아니다. "
   ]
  },
  {
   "cell_type": "markdown",
   "id": "afbfd2cf-b38b-4749-946e-d1ed25541937",
   "metadata": {},
   "source": [
    "`-` 우리눈은 작원원이 큰원의 절반정도 차지한다고 느껴진다. "
   ]
  },
  {
   "cell_type": "markdown",
   "id": "6b35f792-d273-41fe-9fb2-72cdd4538239",
   "metadata": {},
   "source": [
    "![](https://github.com/guebin/DV2021/blob/master/_notebooks/2021-11-16-FIG15.png?raw=true)"
   ]
  },
  {
   "cell_type": "markdown",
   "id": "767f0874-778a-4b93-a320-1a60255c948e",
   "metadata": {},
   "source": [
    "`-` 그렇지만 실제로는 아래와 같음 "
   ]
  },
  {
   "cell_type": "markdown",
   "id": "a483f761-00f7-4736-9cb8-420619710a1f",
   "metadata": {},
   "source": [
    "![](https://github.com/guebin/DV2021/blob/master/_notebooks/2021-11-16-FIG16.png?raw=true)"
   ]
  },
  {
   "cell_type": "markdown",
   "id": "387c794a-cf04-4cf5-ad9d-e361f8991848",
   "metadata": {},
   "source": [
    "`-` 버블차트는 크기를 왜곡시킨다. "
   ]
  },
  {
   "cell_type": "markdown",
   "id": "7b2eef67-19c7-400c-9770-1499506e8e5b",
   "metadata": {},
   "source": [
    "--- "
   ]
  },
  {
   "cell_type": "markdown",
   "id": "ab816c21-884a-4578-a70c-d02517d2ae50",
   "metadata": {},
   "source": [
    "`-` 하지만 아래의 버블차트는 우수하다. "
   ]
  },
  {
   "cell_type": "markdown",
   "id": "f47a2a6c-6408-4bb1-8153-8ebde4a8a857",
   "metadata": {},
   "source": [
    "![](https://github.com/guebin/DV2021/blob/master/_notebooks/2021-11-16-FIG17.png?raw=true)"
   ]
  },
  {
   "cell_type": "markdown",
   "id": "f90404c7-b89e-43f3-8d90-2129e265df18",
   "metadata": {},
   "source": [
    "`-` 선거지도는 수치비교에 별로 관심이 없다. "
   ]
  },
  {
   "cell_type": "markdown",
   "id": "9bfcbd9b-641b-4bdc-a7b0-4127e56ddd26",
   "metadata": {},
   "source": [
    "`-` 대신에 민주당표와 공화당표가 어떤 지역에 몰렸는지 파악하는 것이중요 "
   ]
  },
  {
   "cell_type": "markdown",
   "id": "0b300a63-d0f1-4159-970d-38696874942b",
   "metadata": {},
   "source": [
    "`-` 따라서 aes중 가장 중요한 x,y를 모두 지역에 투자함 "
   ]
  },
  {
   "cell_type": "markdown",
   "id": "74cecd7b-46b9-4acb-abee-b0d04e24e62d",
   "metadata": {},
   "source": [
    "---"
   ]
  },
  {
   "cell_type": "markdown",
   "id": "a94b4e58-033a-4a08-bdd6-4127f635fb07",
   "metadata": {},
   "source": [
    "# 라인플랏, 바플랏, 산점도 "
   ]
  },
  {
   "cell_type": "markdown",
   "id": "db484ecb-2bfa-4822-ae19-9e993cf8d0c0",
   "metadata": {},
   "source": [
    "`-` 시간경과에 따른 변화를 보여주고 싶으면 라인플랏, 비교를 하고 싶다면 바플랏, 관계를 알고싶다면 산점도. "
   ]
  },
  {
   "cell_type": "markdown",
   "id": "798db56f-3d3c-47fa-bb05-74a431752a54",
   "metadata": {},
   "source": [
    "![](https://github.com/guebin/DV2021/blob/master/_notebooks/2021-11-16-FIG18.png?raw=true)"
   ]
  }
 ],
 "metadata": {
  "kernelspec": {
   "display_name": "Python 3",
   "language": "python",
   "name": "python3"
  },
  "language_info": {
   "codemirror_mode": {
    "name": "ipython",
    "version": 3
   },
   "file_extension": ".py",
   "mimetype": "text/x-python",
   "name": "python",
   "nbconvert_exporter": "python",
   "pygments_lexer": "ipython3",
   "version": "3.7.15"
  }
 },
 "nbformat": 4,
 "nbformat_minor": 5
}
