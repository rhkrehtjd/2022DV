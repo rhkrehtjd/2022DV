{
 "cells": [
  {
   "cell_type": "raw",
   "id": "fc5662c4-b09e-4325-a11f-c765d9a03e95",
   "metadata": {},
   "source": [
    "---\n",
    "title: \"06wk-1,2\"\n",
    "author: \"최규빈\"\n",
    "date: \"10/12/2022\"\n",
    "categories:\n",
    "  - pandas\n",
    "---"
   ]
  },
  {
   "cell_type": "markdown",
   "id": "648fd571-2972-4b70-bac1-85839060a476",
   "metadata": {
    "tags": []
   },
   "source": [
    "> lambda, map, 판다스--인덱싱(1)"
   ]
  },
  {
   "cell_type": "markdown",
   "id": "a11a56e3-fee1-4f5b-a2c0-9c15d838a76f",
   "metadata": {},
   "source": [
    "# 강의영상 "
   ]
  },
  {
   "cell_type": "markdown",
   "id": "acfbf082-55f2-47d2-a5fc-87893c5659bf",
   "metadata": {},
   "source": [
    "<https://youtube.com/playlist?list=PLQqh36zP38-wxe8lWPtjKVy-D10Ul4E_7>"
   ]
  },
  {
   "cell_type": "markdown",
   "id": "d9c68cbc-8cdc-47fd-b9bc-daadbc8a6c53",
   "metadata": {},
   "source": [
    "# imports"
   ]
  },
  {
   "cell_type": "code",
   "execution_count": 190,
   "id": "c85bf122-ebe4-4be2-af24-9f6ef0844fc3",
   "metadata": {},
   "outputs": [],
   "source": [
    "import numpy as np\n",
    "import pandas as pd\n",
    "import matplotlib.pyplot as plt"
   ]
  },
  {
   "cell_type": "markdown",
   "id": "be683c2d-2b5d-4d43-834b-a97e184b2f5a",
   "metadata": {
    "tags": []
   },
   "source": [
    "# lambda, map ($\\star$)"
   ]
  },
  {
   "cell_type": "markdown",
   "id": "8bb1c1f8-efa2-4d73-85d4-e04f06462a60",
   "metadata": {},
   "source": [
    "## lambda "
   ]
  },
  {
   "cell_type": "markdown",
   "id": "a77ebc1c-88e0-4047-acf5-cbda67fa14eb",
   "metadata": {},
   "source": [
    "`-` 예제1: 람다표현식(lambda expression)자체가 하나의 오브젝트임 "
   ]
  },
  {
   "cell_type": "code",
   "execution_count": 191,
   "id": "75245ecf-61bd-4921-b6c5-93d9f9cd4ae2",
   "metadata": {},
   "outputs": [
    {
     "data": {
      "text/plain": [
       "<function __main__.<lambda>(x)>"
      ]
     },
     "execution_count": 191,
     "metadata": {},
     "output_type": "execute_result"
    }
   ],
   "source": [
    "lambda x: (x-2)**2 ### lambda x: (x-2)**2 가 실행되는 순간 메모리상에 함수 오브젝트가 저장됨 "
   ]
  },
  {
   "cell_type": "markdown",
   "id": "ab3a388a-7fa3-49e2-93d8-ff2e48f0b47d",
   "metadata": {},
   "source": [
    "- \"lambda x: (x-2)**2\" 는 $lambda(x)=(x-2)^2$의 느낌으로 기억하면 쉬움 "
   ]
  },
  {
   "cell_type": "markdown",
   "id": "78013c6c-16f2-44c9-9abb-5fee3fc5573d",
   "metadata": {},
   "source": [
    "**(사용방법)**"
   ]
  },
  {
   "cell_type": "code",
   "execution_count": 192,
   "id": "325475f7-0ade-4309-bece-a6f1b3e8debe",
   "metadata": {},
   "outputs": [
    {
     "data": {
      "text/plain": [
       "0"
      ]
     },
     "execution_count": 192,
     "metadata": {},
     "output_type": "execute_result"
    }
   ],
   "source": [
    "(lambda x: (x-2)**2)(2) # 입력2 -> 출력 (2-2)^2 =0 "
   ]
  },
  {
   "cell_type": "code",
   "execution_count": 193,
   "id": "9ac50596-b3de-41a6-b05d-cc90c72620da",
   "metadata": {},
   "outputs": [
    {
     "data": {
      "text/plain": [
       "4"
      ]
     },
     "execution_count": 193,
     "metadata": {},
     "output_type": "execute_result"
    }
   ],
   "source": [
    "(lambda x: (x-2)**2)(4) # 입력5 -> 출력 (4-2)^2 =4 "
   ]
  },
  {
   "cell_type": "code",
   "execution_count": 194,
   "id": "c598aa3c-8e77-4650-b0f6-920c1a23c2fa",
   "metadata": {},
   "outputs": [
    {
     "data": {
      "text/plain": [
       "16"
      ]
     },
     "execution_count": 194,
     "metadata": {},
     "output_type": "execute_result"
    }
   ],
   "source": [
    "(lambda x: (x-2)**2)(6) # 입력6 -> 출력 (6-2)^2 =16"
   ]
  },
  {
   "cell_type": "code",
   "execution_count": 195,
   "id": "78346bec-d935-4097-9a8a-437b962d7066",
   "metadata": {},
   "outputs": [
    {
     "data": {
      "text/plain": [
       "16"
      ]
     },
     "execution_count": 195,
     "metadata": {},
     "output_type": "execute_result"
    }
   ],
   "source": [
    "(lambda x: (x-2)**2)(-2) # 입력-2 -> 출력 (-2-2)^2 =16"
   ]
  },
  {
   "cell_type": "markdown",
   "id": "8adb3325-35a2-4a78-8c15-746d115509fa",
   "metadata": {},
   "source": [
    "`-` 예제2: 람다표현식에 이름을 줄 수 있음. "
   ]
  },
  {
   "cell_type": "code",
   "execution_count": 196,
   "id": "71c53a02-94cf-49eb-9bfd-08aaa425d127",
   "metadata": {},
   "outputs": [],
   "source": [
    "f = lambda x: (x-2)**2"
   ]
  },
  {
   "cell_type": "code",
   "execution_count": 197,
   "id": "0eac4cd0-ad8a-4229-ab9c-e3360baa52c9",
   "metadata": {},
   "outputs": [
    {
     "data": {
      "text/plain": [
       "(0, 4, 16, 16)"
      ]
     },
     "execution_count": 197,
     "metadata": {},
     "output_type": "execute_result"
    }
   ],
   "source": [
    "f(2),f(4),f(6),f(-2)"
   ]
  },
  {
   "cell_type": "markdown",
   "id": "dbb06dec-8f5a-49f3-9815-c626b6cabd83",
   "metadata": {},
   "source": [
    "위의 코드는 아래와 같다. "
   ]
  },
  {
   "cell_type": "code",
   "execution_count": 198,
   "id": "6efb250e-7c59-4508-839c-9be3b97a078f",
   "metadata": {},
   "outputs": [
    {
     "data": {
      "text/plain": [
       "(0, 4, 16, 16)"
      ]
     },
     "execution_count": 198,
     "metadata": {},
     "output_type": "execute_result"
    }
   ],
   "source": [
    "def f(x):\n",
    "    return (x-2)**2\n",
    "f(2),f(4),f(6),f(-2)"
   ]
  },
  {
   "cell_type": "markdown",
   "id": "6ee30c55-865c-4ee9-bc2f-b10f5c707653",
   "metadata": {},
   "source": [
    "`-` 예제3: 조건부 출력"
   ]
  },
  {
   "cell_type": "code",
   "execution_count": 199,
   "id": "5aa8270b-59cf-4a4a-a89d-557cb0044e9f",
   "metadata": {},
   "outputs": [],
   "source": [
    "f = lambda x,y: x if x>y else y # x,y가 입력 -> x>y 일때만 x를 리턴하고 그렇지않으면 y를 리턴 = 큰값을 리턴하라는 소리임 "
   ]
  },
  {
   "cell_type": "code",
   "execution_count": 200,
   "id": "65c1d4d8-d0d2-4a23-beab-55dda63ccf7f",
   "metadata": {},
   "outputs": [
    {
     "data": {
      "text/plain": [
       "20"
      ]
     },
     "execution_count": 200,
     "metadata": {},
     "output_type": "execute_result"
    }
   ],
   "source": [
    "f(1,20)"
   ]
  },
  {
   "cell_type": "markdown",
   "id": "6801b47a-4c10-4494-b5d0-cacb844236a8",
   "metadata": {},
   "source": [
    "`-` 예제4: 람다표현식들의 리스트 "
   ]
  },
  {
   "cell_type": "code",
   "execution_count": 201,
   "id": "1d5f4346-5eb6-4e07-b7cd-0f5373d5ac0a",
   "metadata": {},
   "outputs": [],
   "source": [
    "fl = [lambda x: x, lambda x: x**2, lambda x: x**3]"
   ]
  },
  {
   "cell_type": "code",
   "execution_count": 202,
   "id": "e539d67b-8554-4f4a-a797-d52b556906ad",
   "metadata": {},
   "outputs": [
    {
     "name": "stdout",
     "output_type": "stream",
     "text": [
      "2\n",
      "4\n",
      "8\n"
     ]
    }
   ],
   "source": [
    "for f in fl: \n",
    "    print(f(2))"
   ]
  },
  {
   "cell_type": "code",
   "execution_count": 203,
   "id": "8697886e-c116-4d42-b2f7-229044d87f77",
   "metadata": {},
   "outputs": [
    {
     "data": {
      "image/png": "[encoded data removed]",
      "text/plain": [
       "<Figure size 432x288 with 1 Axes>"
      ]
     },
     "metadata": {
      "needs_background": "light"
     },
     "output_type": "display_data"
    }
   ],
   "source": [
    "x = np.linspace(-1,1,100)\n",
    "for f in fl:\n",
    "    plt.plot(x,f(x),'--') "
   ]
  },
  {
   "cell_type": "markdown",
   "id": "e6ae18ea-8a52-4ad4-af86-f12f29f23d6a",
   "metadata": {},
   "source": [
    "`-` 예제5: 람다표현식들의 딕셔너리 "
   ]
  },
  {
   "cell_type": "code",
   "execution_count": 204,
   "id": "d5a7b26e-ddf0-479e-9a53-db2ebc2d076e",
   "metadata": {},
   "outputs": [
    {
     "data": {
      "text/plain": [
       "{'f1': <function __main__.<lambda>(x)>,\n",
       " 'f2': <function __main__.<lambda>(x)>,\n",
       " 'f3': <function __main__.<lambda>(x)>}"
      ]
     },
     "execution_count": 204,
     "metadata": {},
     "output_type": "execute_result"
    }
   ],
   "source": [
    "fd = {'f1':lambda x: x, 'f2':lambda x: x**2, 'f3':lambda x: x**3}\n",
    "fd"
   ]
  },
  {
   "cell_type": "code",
   "execution_count": 205,
   "id": "5b065b83-ef32-463a-b19c-95feba8836ac",
   "metadata": {},
   "outputs": [
    {
     "data": {
      "image/png": "[encoded data removed]",
      "text/plain": [
       "<Figure size 432x288 with 1 Axes>"
      ]
     },
     "metadata": {
      "needs_background": "light"
     },
     "output_type": "display_data"
    }
   ],
   "source": [
    "for k in fd:\n",
    "    plt.plot(x,fd[k](x),'--')"
   ]
  },
  {
   "cell_type": "markdown",
   "id": "22ed8a71-247a-474a-94e3-2b553e087663",
   "metadata": {},
   "source": [
    "`-` 예제6: 람다표현식을 리턴하는 함수 (함수를 리턴하는 함수) "
   ]
  },
  {
   "cell_type": "markdown",
   "id": "5483be52-12cb-435a-a317-637cd497d0b1",
   "metadata": {},
   "source": [
    "(예비학습) 함수 $g(x)$가 정의되어 있을때 $\\frac{d}{dx}g(x)$의 값을 계산해보기 "
   ]
  },
  {
   "cell_type": "code",
   "execution_count": 206,
   "id": "b1715189-5940-4a34-849b-6f210fdc6ca8",
   "metadata": {},
   "outputs": [],
   "source": [
    "g = lambda x: x**2 "
   ]
  },
  {
   "cell_type": "code",
   "execution_count": 207,
   "id": "b996a4b3-b233-4a30-990f-f5ee602d2eea",
   "metadata": {},
   "outputs": [],
   "source": [
    "gg = lambda x : (g(x+0.001)-g(x))/0.001"
   ]
  },
  {
   "cell_type": "code",
   "execution_count": 208,
   "id": "e60e6826-8b2c-4339-a932-fa90e3cef38b",
   "metadata": {},
   "outputs": [
    {
     "data": {
      "text/plain": [
       "8.0010000000037"
      ]
     },
     "execution_count": 208,
     "metadata": {},
     "output_type": "execute_result"
    }
   ],
   "source": [
    "gg(4)"
   ]
  },
  {
   "cell_type": "markdown",
   "id": "830f41e0-6ba8-480c-b50f-d16f67e4b264",
   "metadata": {},
   "source": [
    "(목표) 도함수를 구해주는 `derivate` 함수를 정의하자. 이 함수는 임의의 함수 g를 입력으로 받으면, g의 도함수(gg)가 리턴되는 기능을 가진다. "
   ]
  },
  {
   "cell_type": "code",
   "execution_count": 209,
   "id": "66361cee-438e-42c0-be46-f37370c80b9d",
   "metadata": {},
   "outputs": [],
   "source": [
    "def derivate(g):\n",
    "    return lambda x: (g(x+0.001)-g(x))/0.001 "
   ]
  },
  {
   "cell_type": "markdown",
   "id": "9ca6e9a7-25f0-4915-a2d0-4e6fd8fb773c",
   "metadata": {},
   "source": [
    "(사용1)"
   ]
  },
  {
   "cell_type": "code",
   "execution_count": 210,
   "id": "5534b2bb-241e-45ff-9e1b-23a61b7c3553",
   "metadata": {},
   "outputs": [],
   "source": [
    "g = lambda x: np.sin(x) "
   ]
  },
  {
   "cell_type": "code",
   "execution_count": 211,
   "id": "3d4a45c2-4210-4e96-98e7-cf8f37747d6e",
   "metadata": {},
   "outputs": [],
   "source": [
    "gg = derivate(g) "
   ]
  },
  {
   "cell_type": "code",
   "execution_count": 212,
   "id": "23a4a41d-34d3-485e-be11-8d94118b96e4",
   "metadata": {},
   "outputs": [],
   "source": [
    "x = np.linspace(0,6.28,1000) "
   ]
  },
  {
   "cell_type": "code",
   "execution_count": 213,
   "id": "ecdb4134-3da1-4436-a1e9-094666b41e97",
   "metadata": {},
   "outputs": [
    {
     "data": {
      "text/plain": [
       "<matplotlib.legend.Legend at 0x7fa54cde3a50>"
      ]
     },
     "execution_count": 213,
     "metadata": {},
     "output_type": "execute_result"
    },
    {
     "data": {
      "image/png": "[encoded data removed]",
      "text/plain": [
       "<Figure size 432x288 with 1 Axes>"
      ]
     },
     "metadata": {
      "needs_background": "light"
     },
     "output_type": "display_data"
    }
   ],
   "source": [
    "plt.plot(x,g(x),label=r'$f(x)=sin(x)$')\n",
    "plt.plot(x,gg(x),label=r'$\\frac{d}{dx}f(x)=cos(x)$')\n",
    "plt.legend(fontsize=15)"
   ]
  },
  {
   "cell_type": "markdown",
   "id": "93dd203f-12db-4592-8ebf-e7dd6e419e52",
   "metadata": {},
   "source": [
    "(사용2)"
   ]
  },
  {
   "cell_type": "code",
   "execution_count": 214,
   "id": "df76518f-e315-4282-8fdf-58778323e9dc",
   "metadata": {},
   "outputs": [],
   "source": [
    "g0 = lambda x: (1/6)*x**3\n",
    "g1 = derivate(g0) # (1/2)x^2 \n",
    "g2 = derivate(g1) # x "
   ]
  },
  {
   "cell_type": "code",
   "execution_count": 216,
   "id": "57cf4626-efc0-406f-b04f-6b2d016103a7",
   "metadata": {},
   "outputs": [
    {
     "data": {
      "text/plain": [
       "<matplotlib.legend.Legend at 0x7fa54cccc2d0>"
      ]
     },
     "execution_count": 216,
     "metadata": {},
     "output_type": "execute_result"
    },
    {
     "data": {
      "image/png": "[encoded data removed]",
      "text/plain": [
       "<Figure size 432x288 with 1 Axes>"
      ]
     },
     "metadata": {
      "needs_background": "light"
     },
     "output_type": "display_data"
    }
   ],
   "source": [
    "x = np.linspace(-1,1,100)\n",
    "plt.plot(x,g0(x),'--',label=r'$g_0(x)=\\frac{1}{6}x^3$')\n",
    "plt.plot(x,g1(x),'--',label=r'$g_1(x)=\\frac{1}{2}x^2$')\n",
    "plt.plot(x,g2(x),'--',label=r'$g_2(x)=x$')\n",
    "plt.legend(fontsize=15)"
   ]
  },
  {
   "cell_type": "markdown",
   "id": "0a676a09-67dd-42a7-995a-98284f2ea798",
   "metadata": {},
   "source": [
    "`-` 예제7: 예제6의 다른표현 "
   ]
  },
  {
   "cell_type": "code",
   "execution_count": 218,
   "id": "6265e282-7efd-46b8-80ce-686735341e30",
   "metadata": {},
   "outputs": [],
   "source": [
    "derivate = lambda g: lambda x: (g(x+0.001)-g(x))/0.001 "
   ]
  },
  {
   "cell_type": "markdown",
   "id": "ad42f3b2-71d3-4ffa-907f-b914425af8cd",
   "metadata": {},
   "source": [
    "(사용1)"
   ]
  },
  {
   "cell_type": "code",
   "execution_count": 219,
   "id": "48ae724c-9310-4f2e-8ddb-8ac8d415a26a",
   "metadata": {},
   "outputs": [],
   "source": [
    "g = lambda x: np.sin(x) "
   ]
  },
  {
   "cell_type": "code",
   "execution_count": 220,
   "id": "a331f4b9-ff20-4cbb-93bd-d36bb0db88f8",
   "metadata": {},
   "outputs": [],
   "source": [
    "gg = derivate(g) "
   ]
  },
  {
   "cell_type": "code",
   "execution_count": 221,
   "id": "5bef4af5-b7b0-42fb-9565-c1398ebd3f9f",
   "metadata": {},
   "outputs": [],
   "source": [
    "x = np.linspace(0,6.28,1000) "
   ]
  },
  {
   "cell_type": "code",
   "execution_count": 222,
   "id": "9f18bafe-8ae9-4812-897e-944162a11611",
   "metadata": {},
   "outputs": [
    {
     "data": {
      "text/plain": [
       "<matplotlib.legend.Legend at 0x7fa54cdb1b10>"
      ]
     },
     "execution_count": 222,
     "metadata": {},
     "output_type": "execute_result"
    },
    {
     "data": {
      "image/png": "[encoded data removed]",
      "text/plain": [
       "<Figure size 432x288 with 1 Axes>"
      ]
     },
     "metadata": {
      "needs_background": "light"
     },
     "output_type": "display_data"
    }
   ],
   "source": [
    "plt.plot(x,g(x),label=r'$f(x)=sin(x)$')\n",
    "plt.plot(x,gg(x),label=r'$\\frac{d}{dx}f(x)=cos(x)$')\n",
    "plt.legend(fontsize=15)"
   ]
  },
  {
   "cell_type": "markdown",
   "id": "3fb29f07-f2a4-4249-8f8a-5e3cfab32e58",
   "metadata": {},
   "source": [
    "(사용2)"
   ]
  },
  {
   "cell_type": "code",
   "execution_count": 223,
   "id": "97b993ca-3620-4805-abd3-5a99ffd715a8",
   "metadata": {},
   "outputs": [],
   "source": [
    "g0 = lambda x: (1/6)*x**3\n",
    "g1 = derivate(g0) # (1/2)x^2 \n",
    "g2 = derivate(g1) # x "
   ]
  },
  {
   "cell_type": "code",
   "execution_count": 224,
   "id": "2d3361c4-657b-4d32-b117-d9657a8ccc0f",
   "metadata": {},
   "outputs": [
    {
     "data": {
      "text/plain": [
       "<matplotlib.legend.Legend at 0x7fa54cee96d0>"
      ]
     },
     "execution_count": 224,
     "metadata": {},
     "output_type": "execute_result"
    },
    {
     "data": {
      "image/png": "[encoded data removed]",
      "text/plain": [
       "<Figure size 432x288 with 1 Axes>"
      ]
     },
     "metadata": {
      "needs_background": "light"
     },
     "output_type": "display_data"
    }
   ],
   "source": [
    "x = np.linspace(-1,1,100)\n",
    "plt.plot(x,g0(x),'--',label=r'$g_0(x)=\\frac{1}{6}x^3$')\n",
    "plt.plot(x,g1(x),'--',label=r'$g_1(x)=\\frac{1}{2}x^2$')\n",
    "plt.plot(x,g2(x),'--',label=r'$g_2(x)=x$')\n",
    "plt.legend(fontsize=15)"
   ]
  },
  {
   "cell_type": "markdown",
   "id": "ce3cea2f-8c54-44ed-9321-5b3468aea6c0",
   "metadata": {},
   "source": [
    "## map "
   ]
  },
  {
   "cell_type": "markdown",
   "id": "6e798cc8-f82c-4936-83bc-8453ef4e4467",
   "metadata": {},
   "source": [
    "`-` 개념: $\\text{map}\\left(f,[x_1,x_2,\\dots,x_n] \\right)=\\left[f(x_1),f(x_2),\\dots,f(x_n) \\right] $"
   ]
  },
  {
   "cell_type": "markdown",
   "id": "8713f497-2545-427b-a8f4-b332e828ed37",
   "metadata": {},
   "source": [
    "`-` 예제1: "
   ]
  },
  {
   "cell_type": "code",
   "execution_count": 135,
   "id": "85c3e321-2141-45b9-9331-7ea8db420397",
   "metadata": {},
   "outputs": [],
   "source": [
    "x=[1,2,3] \n",
    "f = lambda x: x+1 \n",
    "y = list(map(f,x))"
   ]
  },
  {
   "cell_type": "markdown",
   "id": "9471e692-fc1e-4266-81f3-2d04140753ab",
   "metadata": {},
   "source": [
    "(다른구현1)"
   ]
  },
  {
   "cell_type": "code",
   "execution_count": 136,
   "id": "bffd6eca-0b2d-4cf2-bd14-77db489fd436",
   "metadata": {},
   "outputs": [
    {
     "data": {
      "text/plain": [
       "[2, 3, 4]"
      ]
     },
     "execution_count": 136,
     "metadata": {},
     "output_type": "execute_result"
    }
   ],
   "source": [
    "list(map(lambda x: x+1,[1,2,3]))"
   ]
  },
  {
   "cell_type": "markdown",
   "id": "6c555343-8547-4935-a481-35f77ca28ae3",
   "metadata": {},
   "source": [
    "(다른구현2)"
   ]
  },
  {
   "cell_type": "code",
   "execution_count": 139,
   "id": "8c11a8e6-625b-457a-92a6-be6d693ccc8d",
   "metadata": {},
   "outputs": [
    {
     "data": {
      "text/plain": [
       "[2, 3, 4]"
      ]
     },
     "execution_count": 139,
     "metadata": {},
     "output_type": "execute_result"
    }
   ],
   "source": [
    "f = lambda x: x+1 \n",
    "[f(xi) for xi in [1,2,3]]"
   ]
  },
  {
   "cell_type": "markdown",
   "id": "5a798110-d206-4b0e-be4e-ba6171bd5f44",
   "metadata": {},
   "source": [
    "(다른구현3)"
   ]
  },
  {
   "cell_type": "code",
   "execution_count": 140,
   "id": "c2a523c5-a5c5-4ba0-83f4-c9b99db7d130",
   "metadata": {},
   "outputs": [
    {
     "data": {
      "text/plain": [
       "[2, 3, 4]"
      ]
     },
     "execution_count": 140,
     "metadata": {},
     "output_type": "execute_result"
    }
   ],
   "source": [
    "[(lambda x: x+1)(xi) for xi in [1,2,3]]"
   ]
  },
  {
   "cell_type": "markdown",
   "id": "9bff635e-2388-4886-b0e1-ad5031303833",
   "metadata": {},
   "source": [
    "(다른구현4)--최악"
   ]
  },
  {
   "cell_type": "code",
   "execution_count": 141,
   "id": "eb565af8-cf95-41e7-b27d-d3a5c82b4fd3",
   "metadata": {},
   "outputs": [],
   "source": [
    "y = [] \n",
    "x = [1,2,3] \n",
    "f = lambda x: x+1 \n",
    "for xi in x:\n",
    "    y.append(f(xi))"
   ]
  },
  {
   "cell_type": "code",
   "execution_count": 142,
   "id": "3b67d153-279c-447f-8b16-6b3ece3f5f1f",
   "metadata": {},
   "outputs": [
    {
     "data": {
      "text/plain": [
       "[2, 3, 4]"
      ]
     },
     "execution_count": 142,
     "metadata": {},
     "output_type": "execute_result"
    }
   ],
   "source": [
    "y"
   ]
  },
  {
   "cell_type": "markdown",
   "id": "ffec1225-31c7-4664-9910-b38ab6d616db",
   "metadata": {},
   "source": [
    "(다른구현5)--더 최악"
   ]
  },
  {
   "cell_type": "code",
   "execution_count": 143,
   "id": "dd028d4a-4989-4f1d-b639-6dc5b8fee6fb",
   "metadata": {},
   "outputs": [],
   "source": [
    "y = [] \n",
    "x = [1,2,3] \n",
    "f = lambda x: x+1 \n",
    "for i in range(len(x)):\n",
    "    y.append(f(x[i]))"
   ]
  },
  {
   "cell_type": "code",
   "execution_count": 144,
   "id": "0dd61748-2122-43ce-a879-e3591038aeed",
   "metadata": {},
   "outputs": [
    {
     "data": {
      "text/plain": [
       "[2, 3, 4]"
      ]
     },
     "execution_count": 144,
     "metadata": {},
     "output_type": "execute_result"
    }
   ],
   "source": [
    "y"
   ]
  },
  {
   "cell_type": "markdown",
   "id": "f9f838ff-7172-4100-88d6-0d8d93d506f5",
   "metadata": {},
   "source": [
    "`-` 예제2: 문자열을 입력으로 받고 대문자이면 True, 소문자이면 False \n",
    "```\n",
    "입력: A,B,C,a,b,c\n",
    "출력: T,T,T,F,F,F\n",
    "```"
   ]
  },
  {
   "cell_type": "code",
   "execution_count": 161,
   "id": "56544d74-bd03-4f29-9313-6737ec673521",
   "metadata": {},
   "outputs": [],
   "source": [
    "x= list('ABCabc')\n",
    "# x = ['A','B','C','a','b','c']\n",
    "f = lambda s: s.isupper()\n",
    "y = list(map(f,x))"
   ]
  },
  {
   "cell_type": "code",
   "execution_count": 162,
   "id": "bb421e54-2b8a-4c4b-abcd-7ba64d18f83d",
   "metadata": {},
   "outputs": [
    {
     "data": {
      "text/plain": [
       "(['A', 'B', 'C', 'a', 'b', 'c'], [True, True, True, False, False, False])"
      ]
     },
     "execution_count": 162,
     "metadata": {},
     "output_type": "execute_result"
    }
   ],
   "source": [
    "x,y"
   ]
  },
  {
   "cell_type": "markdown",
   "id": "1e0e8260-c0de-4d31-96af-f6fc18d6b7fc",
   "metadata": {},
   "source": [
    "`-` 예제3: 두개의 입력을 받는 함수 (map을 이용하는 것이 리스트 컴프리헨션보다 조금 편한것 같다) "
   ]
  },
  {
   "cell_type": "code",
   "execution_count": 268,
   "id": "14030c67-409f-4745-ac2f-757944b89689",
   "metadata": {},
   "outputs": [
    {
     "data": {
      "text/plain": [
       "[0, 0, 0]"
      ]
     },
     "execution_count": 268,
     "metadata": {},
     "output_type": "execute_result"
    }
   ],
   "source": [
    "list(map(lambda x,y: x+y, [1,2,3],[-1,-2,-3]))"
   ]
  },
  {
   "cell_type": "markdown",
   "id": "06f46de2-2f7d-466d-b96a-513b3cb3ef7d",
   "metadata": {},
   "source": [
    "(다른구현)-- 리스트컴프리헨션 "
   ]
  },
  {
   "cell_type": "code",
   "execution_count": 269,
   "id": "55e3261f-f6f3-4366-b02c-aa97a04edcda",
   "metadata": {},
   "outputs": [
    {
     "data": {
      "text/plain": [
       "[0, 0, 0]"
      ]
     },
     "execution_count": 269,
     "metadata": {},
     "output_type": "execute_result"
    }
   ],
   "source": [
    "f = lambda x,y: x+y \n",
    "[f(x,y) for x,y in zip([1,2,3],[-1,-2,-3])] "
   ]
  },
  {
   "cell_type": "markdown",
   "id": "db45869c-ae67-486d-a07d-cb24424aa332",
   "metadata": {},
   "source": [
    "`-` 예제4: map은 \"하나의 함수에 다양한 입력\"을 적용하는 경우에만 사용가능, 리스트컴프리헨션은 \"다양한 함수에 다양한 입력\" 지원 "
   ]
  },
  {
   "cell_type": "code",
   "execution_count": 270,
   "id": "db9ddd88-83bb-43f9-81bc-03fa5e81bcc4",
   "metadata": {},
   "outputs": [],
   "source": [
    "flst = [lambda x: x+1, lambda x: x+2, lambda x:x+3] "
   ]
  },
  {
   "cell_type": "markdown",
   "id": "ba4d56c8-f643-43a4-b039-875ea88facf5",
   "metadata": {},
   "source": [
    "map으로 구현시도 $\\to$ 실패 "
   ]
  },
  {
   "cell_type": "code",
   "execution_count": 271,
   "id": "2825a705-084a-4bce-8e1f-da91539ae0cf",
   "metadata": {},
   "outputs": [
    {
     "ename": "TypeError",
     "evalue": "'list' object is not callable",
     "output_type": "error",
     "traceback": [
      "\u001b[0;31m---------------------------------------------------------------------------\u001b[0m",
      "\u001b[0;31mTypeError\u001b[0m                                 Traceback (most recent call last)",
      "\u001b[0;32m/tmp/ipykernel_1457577/3991505680.py\u001b[0m in \u001b[0;36m<module>\u001b[0;34m\u001b[0m\n\u001b[0;32m----> 1\u001b[0;31m \u001b[0mlist\u001b[0m\u001b[0;34m(\u001b[0m\u001b[0mmap\u001b[0m\u001b[0;34m(\u001b[0m\u001b[0mflst\u001b[0m\u001b[0;34m,\u001b[0m\u001b[0;34m[\u001b[0m\u001b[0;34m-\u001b[0m\u001b[0;36m1\u001b[0m\u001b[0;34m,\u001b[0m\u001b[0;34m-\u001b[0m\u001b[0;36m2\u001b[0m\u001b[0;34m,\u001b[0m\u001b[0;34m-\u001b[0m\u001b[0;36m3\u001b[0m\u001b[0;34m]\u001b[0m\u001b[0;34m)\u001b[0m\u001b[0;34m)\u001b[0m \u001b[0;31m# 결과가 0,0,0\u001b[0m\u001b[0;34m\u001b[0m\u001b[0;34m\u001b[0m\u001b[0m\n\u001b[0m",
      "\u001b[0;31mTypeError\u001b[0m: 'list' object is not callable"
     ]
    }
   ],
   "source": [
    "list(map(flst,[-1,-2,-3])) # 결과가 0,0,0"
   ]
  },
  {
   "cell_type": "markdown",
   "id": "3bfdedef-73ec-49d8-89a8-b01df300d9ed",
   "metadata": {},
   "source": [
    "리스트컴프리헨션으로 구현시도 $\\to$ 성공 "
   ]
  },
  {
   "cell_type": "code",
   "execution_count": 272,
   "id": "8522634a-9db2-410e-b389-73eda3e74cd7",
   "metadata": {},
   "outputs": [
    {
     "data": {
      "text/plain": [
       "[0, 0, 0]"
      ]
     },
     "execution_count": 272,
     "metadata": {},
     "output_type": "execute_result"
    }
   ],
   "source": [
    "[f(x) for f,x in zip(flst,[-1,-2,-3])]"
   ]
  },
  {
   "cell_type": "markdown",
   "id": "a6418f11-1353-4ab3-a915-f28e6f6ba4e8",
   "metadata": {},
   "source": [
    "`-` 종합: map과 리스트컴프리헨션과 비교\n",
    "\n",
    "- map은 for문을 위한 $i$등의 인덱스를 쓰지 않지만 리스트컴프리헨션은 필요함 \n",
    "- map은 좀더 리스트컴프리헨션보다 제약적으로 사용할 수 밖에 없음. "
   ]
  },
  {
   "cell_type": "markdown",
   "id": "f8ff6917-d29e-4c76-b069-e8a12d13054f",
   "metadata": {},
   "source": [
    "# 판다스: 인덱싱 1단계-- 인덱싱의 4가지 컨셉"
   ]
  },
  {
   "cell_type": "markdown",
   "id": "453c7fe8-655a-4c89-8da1-6f36937fcd24",
   "metadata": {},
   "source": [
    "## 데이터프레임 준비"
   ]
  },
  {
   "cell_type": "markdown",
   "id": "af96e393-1240-4e4c-934f-433a5c8952af",
   "metadata": {},
   "source": [
    "`-` 데이터준비"
   ]
  },
  {
   "cell_type": "code",
   "execution_count": 281,
   "id": "204a472a-8f1e-4d89-9182-f2ea8a2b91da",
   "metadata": {},
   "outputs": [
    {
     "data": {
      "text/html": [
       "<div>\n",
       "<style scoped>\n",
       "    .dataframe tbody tr th:only-of-type {\n",
       "        vertical-align: middle;\n",
       "    }\n",
       "\n",
       "    .dataframe tbody tr th {\n",
       "        vertical-align: top;\n",
       "    }\n",
       "\n",
       "    .dataframe thead th {\n",
       "        text-align: right;\n",
       "    }\n",
       "</style>\n",
       "<table border=\"1\" class=\"dataframe\">\n",
       "  <thead>\n",
       "    <tr style=\"text-align: right;\">\n",
       "      <th></th>\n",
       "      <th>att</th>\n",
       "      <th>rep</th>\n",
       "      <th>mid</th>\n",
       "      <th>fin</th>\n",
       "    </tr>\n",
       "  </thead>\n",
       "  <tbody>\n",
       "    <tr>\n",
       "      <th>0</th>\n",
       "      <td>65</td>\n",
       "      <td>45</td>\n",
       "      <td>0</td>\n",
       "      <td>10</td>\n",
       "    </tr>\n",
       "    <tr>\n",
       "      <th>1</th>\n",
       "      <td>95</td>\n",
       "      <td>30</td>\n",
       "      <td>60</td>\n",
       "      <td>10</td>\n",
       "    </tr>\n",
       "    <tr>\n",
       "      <th>2</th>\n",
       "      <td>65</td>\n",
       "      <td>85</td>\n",
       "      <td>15</td>\n",
       "      <td>20</td>\n",
       "    </tr>\n",
       "    <tr>\n",
       "      <th>3</th>\n",
       "      <td>55</td>\n",
       "      <td>35</td>\n",
       "      <td>35</td>\n",
       "      <td>5</td>\n",
       "    </tr>\n",
       "    <tr>\n",
       "      <th>4</th>\n",
       "      <td>80</td>\n",
       "      <td>60</td>\n",
       "      <td>55</td>\n",
       "      <td>70</td>\n",
       "    </tr>\n",
       "    <tr>\n",
       "      <th>...</th>\n",
       "      <td>...</td>\n",
       "      <td>...</td>\n",
       "      <td>...</td>\n",
       "      <td>...</td>\n",
       "    </tr>\n",
       "    <tr>\n",
       "      <th>195</th>\n",
       "      <td>55</td>\n",
       "      <td>70</td>\n",
       "      <td>40</td>\n",
       "      <td>95</td>\n",
       "    </tr>\n",
       "    <tr>\n",
       "      <th>196</th>\n",
       "      <td>65</td>\n",
       "      <td>85</td>\n",
       "      <td>25</td>\n",
       "      <td>85</td>\n",
       "    </tr>\n",
       "    <tr>\n",
       "      <th>197</th>\n",
       "      <td>85</td>\n",
       "      <td>85</td>\n",
       "      <td>100</td>\n",
       "      <td>10</td>\n",
       "    </tr>\n",
       "    <tr>\n",
       "      <th>198</th>\n",
       "      <td>80</td>\n",
       "      <td>65</td>\n",
       "      <td>35</td>\n",
       "      <td>60</td>\n",
       "    </tr>\n",
       "    <tr>\n",
       "      <th>199</th>\n",
       "      <td>50</td>\n",
       "      <td>95</td>\n",
       "      <td>45</td>\n",
       "      <td>85</td>\n",
       "    </tr>\n",
       "  </tbody>\n",
       "</table>\n",
       "<p>200 rows × 4 columns</p>\n",
       "</div>"
      ],
      "text/plain": [
       "     att  rep  mid  fin\n",
       "0     65   45    0   10\n",
       "1     95   30   60   10\n",
       "2     65   85   15   20\n",
       "3     55   35   35    5\n",
       "4     80   60   55   70\n",
       "..   ...  ...  ...  ...\n",
       "195   55   70   40   95\n",
       "196   65   85   25   85\n",
       "197   85   85  100   10\n",
       "198   80   65   35   60\n",
       "199   50   95   45   85\n",
       "\n",
       "[200 rows x 4 columns]"
      ]
     },
     "execution_count": 281,
     "metadata": {},
     "output_type": "execute_result"
    }
   ],
   "source": [
    "df=pd.read_csv('https://raw.githubusercontent.com/guebin/DV2022/master/_notebooks/dv2022.csv')\n",
    "df"
   ]
  },
  {
   "cell_type": "markdown",
   "id": "e47e71f2-09b6-4924-850b-ad32ec96b067",
   "metadata": {},
   "source": [
    "`-` 앞으로는 위와 같은 df형태를 가정할 것이다. 즉 column의 이름은 문자열, row의 이름은 0부터 시작하는 정수로 가정한다.    "
   ]
  },
  {
   "cell_type": "markdown",
   "id": "53a81a43-b31d-4f31-acf2-de529256a5f5",
   "metadata": {},
   "source": [
    "`-` 아래와 같은 형태는 일단 생각하지 않는다. "
   ]
  },
  {
   "cell_type": "code",
   "execution_count": 286,
   "id": "eba5e75f-4bc8-4c17-b36d-e64bafba6af8",
   "metadata": {},
   "outputs": [
    {
     "data": {
      "text/html": [
       "<div>\n",
       "<style scoped>\n",
       "    .dataframe tbody tr th:only-of-type {\n",
       "        vertical-align: middle;\n",
       "    }\n",
       "\n",
       "    .dataframe tbody tr th {\n",
       "        vertical-align: top;\n",
       "    }\n",
       "\n",
       "    .dataframe thead th {\n",
       "        text-align: right;\n",
       "    }\n",
       "</style>\n",
       "<table border=\"1\" class=\"dataframe\">\n",
       "  <thead>\n",
       "    <tr style=\"text-align: right;\">\n",
       "      <th></th>\n",
       "      <th>att</th>\n",
       "      <th>rep</th>\n",
       "    </tr>\n",
       "  </thead>\n",
       "  <tbody>\n",
       "    <tr>\n",
       "      <th>규빈</th>\n",
       "      <td>60</td>\n",
       "      <td>50</td>\n",
       "    </tr>\n",
       "    <tr>\n",
       "      <th>영미</th>\n",
       "      <td>65</td>\n",
       "      <td>100</td>\n",
       "    </tr>\n",
       "    <tr>\n",
       "      <th>성준</th>\n",
       "      <td>80</td>\n",
       "      <td>90</td>\n",
       "    </tr>\n",
       "    <tr>\n",
       "      <th>혜미</th>\n",
       "      <td>90</td>\n",
       "      <td>100</td>\n",
       "    </tr>\n",
       "  </tbody>\n",
       "</table>\n",
       "</div>"
      ],
      "text/plain": [
       "    att  rep\n",
       "규빈   60   50\n",
       "영미   65  100\n",
       "성준   80   90\n",
       "혜미   90  100"
      ]
     },
     "execution_count": 286,
     "metadata": {},
     "output_type": "execute_result"
    }
   ],
   "source": [
    "pd.DataFrame({'att':[60,65,80,90],'rep':[50,100,90,100]},index=['규빈','영미','성준','혜미'])"
   ]
  },
  {
   "cell_type": "markdown",
   "id": "9f29bf0f-ea9c-440a-bf9c-774ba65756c9",
   "metadata": {},
   "source": [
    "## df의 4가지 컨셉"
   ]
  },
  {
   "cell_type": "markdown",
   "id": "5510e425-2bd7-4262-b89b-9546ca63b525",
   "metadata": {},
   "source": [
    "`-` 원소에 접근하는 4가지 방법: `.`, `[]`, `.iloc[]`, `.loc[]` "
   ]
  },
  {
   "cell_type": "markdown",
   "id": "f551b4f3-d860-43e0-ba12-88a29115dc12",
   "metadata": {},
   "source": [
    "## 컨셉1: 클래스느낌 "
   ]
  },
  {
   "cell_type": "markdown",
   "id": "c291ea6f-90f3-4c25-847a-74757464919d",
   "metadata": {},
   "source": [
    "`-` 컨셉1: df는 인스턴스이다. 그리고 df.att, df.rep,df.mid, df.fin 와 같이 col이름에 대응하는 속성이 있다. "
   ]
  },
  {
   "cell_type": "code",
   "execution_count": 290,
   "id": "c0803684-6008-4c97-8016-773cc201c302",
   "metadata": {},
   "outputs": [
    {
     "data": {
      "text/html": [
       "<div>\n",
       "<style scoped>\n",
       "    .dataframe tbody tr th:only-of-type {\n",
       "        vertical-align: middle;\n",
       "    }\n",
       "\n",
       "    .dataframe tbody tr th {\n",
       "        vertical-align: top;\n",
       "    }\n",
       "\n",
       "    .dataframe thead th {\n",
       "        text-align: right;\n",
       "    }\n",
       "</style>\n",
       "<table border=\"1\" class=\"dataframe\">\n",
       "  <thead>\n",
       "    <tr style=\"text-align: right;\">\n",
       "      <th></th>\n",
       "      <th>att</th>\n",
       "      <th>rep</th>\n",
       "      <th>mid</th>\n",
       "      <th>fin</th>\n",
       "    </tr>\n",
       "  </thead>\n",
       "  <tbody>\n",
       "    <tr>\n",
       "      <th>0</th>\n",
       "      <td>65</td>\n",
       "      <td>45</td>\n",
       "      <td>0</td>\n",
       "      <td>10</td>\n",
       "    </tr>\n",
       "    <tr>\n",
       "      <th>1</th>\n",
       "      <td>95</td>\n",
       "      <td>30</td>\n",
       "      <td>60</td>\n",
       "      <td>10</td>\n",
       "    </tr>\n",
       "    <tr>\n",
       "      <th>2</th>\n",
       "      <td>65</td>\n",
       "      <td>85</td>\n",
       "      <td>15</td>\n",
       "      <td>20</td>\n",
       "    </tr>\n",
       "    <tr>\n",
       "      <th>3</th>\n",
       "      <td>55</td>\n",
       "      <td>35</td>\n",
       "      <td>35</td>\n",
       "      <td>5</td>\n",
       "    </tr>\n",
       "    <tr>\n",
       "      <th>4</th>\n",
       "      <td>80</td>\n",
       "      <td>60</td>\n",
       "      <td>55</td>\n",
       "      <td>70</td>\n",
       "    </tr>\n",
       "  </tbody>\n",
       "</table>\n",
       "</div>"
      ],
      "text/plain": [
       "   att  rep  mid  fin\n",
       "0   65   45    0   10\n",
       "1   95   30   60   10\n",
       "2   65   85   15   20\n",
       "3   55   35   35    5\n",
       "4   80   60   55   70"
      ]
     },
     "execution_count": 290,
     "metadata": {},
     "output_type": "execute_result"
    }
   ],
   "source": [
    "df.head()"
   ]
  },
  {
   "cell_type": "code",
   "execution_count": 294,
   "id": "350f74e4-40d3-4991-9003-8b385034ae95",
   "metadata": {},
   "outputs": [
    {
     "data": {
      "text/plain": [
       "0      10\n",
       "1      10\n",
       "2      20\n",
       "3       5\n",
       "4      70\n",
       "       ..\n",
       "195    95\n",
       "196    85\n",
       "197    10\n",
       "198    60\n",
       "199    85\n",
       "Name: fin, Length: 200, dtype: int64"
      ]
     },
     "execution_count": 294,
     "metadata": {},
     "output_type": "execute_result"
    }
   ],
   "source": [
    "df.fin"
   ]
  },
  {
   "cell_type": "markdown",
   "id": "9c1069a1-df85-4389-af37-a5abcea9f3e6",
   "metadata": {},
   "source": [
    "`-` 언제유용? col의 이름을 대충 알고 있을 경우 자동완성으로 쉽게 선택가능 "
   ]
  },
  {
   "cell_type": "markdown",
   "id": "51e8a03c-de0b-49b0-bbea-114cf99b03bb",
   "metadata": {},
   "source": [
    "## 컨셉2: 딕셔너리 + $\\alpha$ 느낌 "
   ]
  },
  {
   "cell_type": "markdown",
   "id": "a6a6a4c3-9865-41ee-9fa3-210374dbc16c",
   "metadata": {},
   "source": [
    "`-` 컨셉2: df는 컬럼이름이 key, 컬럼의데이터가 value가 되는 dictionary로 이해할 수 있다. 즉 아래의 dct와 같은 딕셔너리로 이해할 수 있다. "
   ]
  },
  {
   "cell_type": "code",
   "execution_count": 329,
   "id": "3e83c362-ebb0-4dfe-9b99-ff8e74cda032",
   "metadata": {},
   "outputs": [],
   "source": [
    "dct = dict(df) \n",
    "#dct"
   ]
  },
  {
   "cell_type": "markdown",
   "id": "585a87a4-44a8-44c6-b49d-b94da084ab84",
   "metadata": {},
   "source": [
    "(예시) .keys() 메소드를 이용하여 컬럼들의 이름을 살펴볼 수 있음."
   ]
  },
  {
   "cell_type": "code",
   "execution_count": 325,
   "id": "bfb30abc-1340-423a-ae0e-aa8be191cc83",
   "metadata": {},
   "outputs": [
    {
     "data": {
      "text/plain": [
       "(dict_keys(['att', 'rep', 'mid', 'fin']),\n",
       " Index(['att', 'rep', 'mid', 'fin'], dtype='object'))"
      ]
     },
     "execution_count": 325,
     "metadata": {},
     "output_type": "execute_result"
    }
   ],
   "source": [
    "dct.keys(), df.keys()"
   ]
  },
  {
   "cell_type": "markdown",
   "id": "d9a70d13-3127-4865-9e90-6aef8f61e81a",
   "metadata": {
    "tags": []
   },
   "source": [
    "### `#` col indexing "
   ]
  },
  {
   "cell_type": "markdown",
   "id": "06db2535-7183-4841-9423-21778cf49f13",
   "metadata": {},
   "source": [
    "`-` 예시1: dct가 가능하면 df도 가능하다. "
   ]
  },
  {
   "cell_type": "code",
   "execution_count": 306,
   "id": "b9f38b56-5bf7-44b5-9c42-2eb7a01049dc",
   "metadata": {},
   "outputs": [
    {
     "data": {
      "text/plain": [
       "0      65\n",
       "1      95\n",
       "2      65\n",
       "3      55\n",
       "4      80\n",
       "       ..\n",
       "195    55\n",
       "196    65\n",
       "197    85\n",
       "198    80\n",
       "199    50\n",
       "Name: att, Length: 200, dtype: int64"
      ]
     },
     "execution_count": 306,
     "metadata": {},
     "output_type": "execute_result"
    }
   ],
   "source": [
    "df['att']\n",
    "#dct['att'] "
   ]
  },
  {
   "cell_type": "markdown",
   "id": "ab1c96d3-982a-4438-9f17-5b19c48cafa7",
   "metadata": {},
   "source": [
    "`-` 예시2: dct가 가능하면 df도 가능하다. (2)"
   ]
  },
  {
   "cell_type": "code",
   "execution_count": 308,
   "id": "671750ed-fdc1-4b10-bfe5-f6d7a00c2efa",
   "metadata": {},
   "outputs": [
    {
     "data": {
      "text/plain": [
       "0      65\n",
       "1      95\n",
       "2      65\n",
       "3      55\n",
       "4      80\n",
       "       ..\n",
       "195    55\n",
       "196    65\n",
       "197    85\n",
       "198    80\n",
       "199    50\n",
       "Name: att, Length: 200, dtype: int64"
      ]
     },
     "execution_count": 308,
     "metadata": {},
     "output_type": "execute_result"
    }
   ],
   "source": [
    "df.get('att')\n",
    "#dct.get('att') "
   ]
  },
  {
   "cell_type": "markdown",
   "id": "4986a3a9-90be-40dc-bf3c-73660f17476c",
   "metadata": {},
   "source": [
    "`-` 예시3: dct에서 불가능하지만 df에서 가능한것도 있다. "
   ]
  },
  {
   "cell_type": "code",
   "execution_count": 310,
   "id": "758ae2c5-39f2-4d41-bd0c-bcf2d2d36937",
   "metadata": {},
   "outputs": [
    {
     "ename": "TypeError",
     "evalue": "unhashable type: 'list'",
     "output_type": "error",
     "traceback": [
      "\u001b[0;31m---------------------------------------------------------------------------\u001b[0m",
      "\u001b[0;31mTypeError\u001b[0m                                 Traceback (most recent call last)",
      "\u001b[0;32m/tmp/ipykernel_1457577/2570151095.py\u001b[0m in \u001b[0;36m<module>\u001b[0;34m\u001b[0m\n\u001b[0;32m----> 1\u001b[0;31m \u001b[0mdct\u001b[0m\u001b[0;34m.\u001b[0m\u001b[0mget\u001b[0m\u001b[0;34m(\u001b[0m\u001b[0;34m[\u001b[0m\u001b[0;34m'att'\u001b[0m\u001b[0;34m,\u001b[0m\u001b[0;34m'rep'\u001b[0m\u001b[0;34m]\u001b[0m\u001b[0;34m)\u001b[0m\u001b[0;34m\u001b[0m\u001b[0;34m\u001b[0m\u001b[0m\n\u001b[0m",
      "\u001b[0;31mTypeError\u001b[0m: unhashable type: 'list'"
     ]
    }
   ],
   "source": [
    "dct.get(['att','rep'])"
   ]
  },
  {
   "cell_type": "code",
   "execution_count": 311,
   "id": "ac187216-5f8f-4176-9aa8-6cc6b9b77ff0",
   "metadata": {},
   "outputs": [
    {
     "data": {
      "text/html": [
       "<div>\n",
       "<style scoped>\n",
       "    .dataframe tbody tr th:only-of-type {\n",
       "        vertical-align: middle;\n",
       "    }\n",
       "\n",
       "    .dataframe tbody tr th {\n",
       "        vertical-align: top;\n",
       "    }\n",
       "\n",
       "    .dataframe thead th {\n",
       "        text-align: right;\n",
       "    }\n",
       "</style>\n",
       "<table border=\"1\" class=\"dataframe\">\n",
       "  <thead>\n",
       "    <tr style=\"text-align: right;\">\n",
       "      <th></th>\n",
       "      <th>att</th>\n",
       "      <th>rep</th>\n",
       "    </tr>\n",
       "  </thead>\n",
       "  <tbody>\n",
       "    <tr>\n",
       "      <th>0</th>\n",
       "      <td>65</td>\n",
       "      <td>45</td>\n",
       "    </tr>\n",
       "    <tr>\n",
       "      <th>1</th>\n",
       "      <td>95</td>\n",
       "      <td>30</td>\n",
       "    </tr>\n",
       "    <tr>\n",
       "      <th>2</th>\n",
       "      <td>65</td>\n",
       "      <td>85</td>\n",
       "    </tr>\n",
       "    <tr>\n",
       "      <th>3</th>\n",
       "      <td>55</td>\n",
       "      <td>35</td>\n",
       "    </tr>\n",
       "    <tr>\n",
       "      <th>4</th>\n",
       "      <td>80</td>\n",
       "      <td>60</td>\n",
       "    </tr>\n",
       "    <tr>\n",
       "      <th>...</th>\n",
       "      <td>...</td>\n",
       "      <td>...</td>\n",
       "    </tr>\n",
       "    <tr>\n",
       "      <th>195</th>\n",
       "      <td>55</td>\n",
       "      <td>70</td>\n",
       "    </tr>\n",
       "    <tr>\n",
       "      <th>196</th>\n",
       "      <td>65</td>\n",
       "      <td>85</td>\n",
       "    </tr>\n",
       "    <tr>\n",
       "      <th>197</th>\n",
       "      <td>85</td>\n",
       "      <td>85</td>\n",
       "    </tr>\n",
       "    <tr>\n",
       "      <th>198</th>\n",
       "      <td>80</td>\n",
       "      <td>65</td>\n",
       "    </tr>\n",
       "    <tr>\n",
       "      <th>199</th>\n",
       "      <td>50</td>\n",
       "      <td>95</td>\n",
       "    </tr>\n",
       "  </tbody>\n",
       "</table>\n",
       "<p>200 rows × 2 columns</p>\n",
       "</div>"
      ],
      "text/plain": [
       "     att  rep\n",
       "0     65   45\n",
       "1     95   30\n",
       "2     65   85\n",
       "3     55   35\n",
       "4     80   60\n",
       "..   ...  ...\n",
       "195   55   70\n",
       "196   65   85\n",
       "197   85   85\n",
       "198   80   65\n",
       "199   50   95\n",
       "\n",
       "[200 rows x 2 columns]"
      ]
     },
     "execution_count": 311,
     "metadata": {},
     "output_type": "execute_result"
    }
   ],
   "source": [
    "df.get(['att','rep'])"
   ]
  },
  {
   "cell_type": "markdown",
   "id": "c636f823-24aa-4d1c-9ee1-c3c596792df8",
   "metadata": {},
   "source": [
    "`-` 예시4: dct에서 불가능하지만 df에서 가능한것도 있다. (2)"
   ]
  },
  {
   "cell_type": "code",
   "execution_count": 314,
   "id": "501869a0-71da-4638-a26b-50afdce6a92d",
   "metadata": {},
   "outputs": [
    {
     "ename": "TypeError",
     "evalue": "unhashable type: 'list'",
     "output_type": "error",
     "traceback": [
      "\u001b[0;31m---------------------------------------------------------------------------\u001b[0m",
      "\u001b[0;31mTypeError\u001b[0m                                 Traceback (most recent call last)",
      "\u001b[0;32m/tmp/ipykernel_1457577/2053155993.py\u001b[0m in \u001b[0;36m<module>\u001b[0;34m\u001b[0m\n\u001b[0;32m----> 1\u001b[0;31m \u001b[0mdct\u001b[0m\u001b[0;34m[\u001b[0m\u001b[0;34m[\u001b[0m\u001b[0;34m'att'\u001b[0m\u001b[0;34m,\u001b[0m\u001b[0;34m'rep'\u001b[0m\u001b[0;34m]\u001b[0m\u001b[0;34m]\u001b[0m\u001b[0;34m\u001b[0m\u001b[0;34m\u001b[0m\u001b[0m\n\u001b[0m",
      "\u001b[0;31mTypeError\u001b[0m: unhashable type: 'list'"
     ]
    }
   ],
   "source": [
    "dct[['att','rep']]"
   ]
  },
  {
   "cell_type": "code",
   "execution_count": 315,
   "id": "4c5e3a2a-4c98-4da1-a241-ed7ce019625b",
   "metadata": {},
   "outputs": [
    {
     "data": {
      "text/html": [
       "<div>\n",
       "<style scoped>\n",
       "    .dataframe tbody tr th:only-of-type {\n",
       "        vertical-align: middle;\n",
       "    }\n",
       "\n",
       "    .dataframe tbody tr th {\n",
       "        vertical-align: top;\n",
       "    }\n",
       "\n",
       "    .dataframe thead th {\n",
       "        text-align: right;\n",
       "    }\n",
       "</style>\n",
       "<table border=\"1\" class=\"dataframe\">\n",
       "  <thead>\n",
       "    <tr style=\"text-align: right;\">\n",
       "      <th></th>\n",
       "      <th>att</th>\n",
       "      <th>rep</th>\n",
       "    </tr>\n",
       "  </thead>\n",
       "  <tbody>\n",
       "    <tr>\n",
       "      <th>0</th>\n",
       "      <td>65</td>\n",
       "      <td>45</td>\n",
       "    </tr>\n",
       "    <tr>\n",
       "      <th>1</th>\n",
       "      <td>95</td>\n",
       "      <td>30</td>\n",
       "    </tr>\n",
       "    <tr>\n",
       "      <th>2</th>\n",
       "      <td>65</td>\n",
       "      <td>85</td>\n",
       "    </tr>\n",
       "    <tr>\n",
       "      <th>3</th>\n",
       "      <td>55</td>\n",
       "      <td>35</td>\n",
       "    </tr>\n",
       "    <tr>\n",
       "      <th>4</th>\n",
       "      <td>80</td>\n",
       "      <td>60</td>\n",
       "    </tr>\n",
       "    <tr>\n",
       "      <th>...</th>\n",
       "      <td>...</td>\n",
       "      <td>...</td>\n",
       "    </tr>\n",
       "    <tr>\n",
       "      <th>195</th>\n",
       "      <td>55</td>\n",
       "      <td>70</td>\n",
       "    </tr>\n",
       "    <tr>\n",
       "      <th>196</th>\n",
       "      <td>65</td>\n",
       "      <td>85</td>\n",
       "    </tr>\n",
       "    <tr>\n",
       "      <th>197</th>\n",
       "      <td>85</td>\n",
       "      <td>85</td>\n",
       "    </tr>\n",
       "    <tr>\n",
       "      <th>198</th>\n",
       "      <td>80</td>\n",
       "      <td>65</td>\n",
       "    </tr>\n",
       "    <tr>\n",
       "      <th>199</th>\n",
       "      <td>50</td>\n",
       "      <td>95</td>\n",
       "    </tr>\n",
       "  </tbody>\n",
       "</table>\n",
       "<p>200 rows × 2 columns</p>\n",
       "</div>"
      ],
      "text/plain": [
       "     att  rep\n",
       "0     65   45\n",
       "1     95   30\n",
       "2     65   85\n",
       "3     55   35\n",
       "4     80   60\n",
       "..   ...  ...\n",
       "195   55   70\n",
       "196   65   85\n",
       "197   85   85\n",
       "198   80   65\n",
       "199   50   95\n",
       "\n",
       "[200 rows x 2 columns]"
      ]
     },
     "execution_count": 315,
     "metadata": {},
     "output_type": "execute_result"
    }
   ],
   "source": [
    "df[['att','rep']]"
   ]
  },
  {
   "cell_type": "markdown",
   "id": "af2f0b98-df2c-4773-8367-9920fcc72fb4",
   "metadata": {
    "tags": []
   },
   "source": [
    "### `#` row indexing "
   ]
  },
  {
   "cell_type": "markdown",
   "id": "f255167b-3bda-461b-9743-f2a174ee4cf1",
   "metadata": {},
   "source": [
    "`-` 예시5: dct에서 불가능하지만 df에서 가능한것도 있다. (3)"
   ]
  },
  {
   "cell_type": "code",
   "execution_count": 316,
   "id": "573466c6-8d14-42be-b6b6-9f14ffc69910",
   "metadata": {},
   "outputs": [
    {
     "ename": "TypeError",
     "evalue": "unhashable type: 'slice'",
     "output_type": "error",
     "traceback": [
      "\u001b[0;31m---------------------------------------------------------------------------\u001b[0m",
      "\u001b[0;31mTypeError\u001b[0m                                 Traceback (most recent call last)",
      "\u001b[0;32m/tmp/ipykernel_1457577/3946458840.py\u001b[0m in \u001b[0;36m<module>\u001b[0;34m\u001b[0m\n\u001b[0;32m----> 1\u001b[0;31m \u001b[0mdct\u001b[0m\u001b[0;34m[\u001b[0m\u001b[0;34m:\u001b[0m\u001b[0;36m5\u001b[0m\u001b[0;34m]\u001b[0m\u001b[0;34m\u001b[0m\u001b[0;34m\u001b[0m\u001b[0m\n\u001b[0m",
      "\u001b[0;31mTypeError\u001b[0m: unhashable type: 'slice'"
     ]
    }
   ],
   "source": [
    "dct[:5] "
   ]
  },
  {
   "cell_type": "code",
   "execution_count": 317,
   "id": "dcdcbfae-a45d-458e-bb62-fd83ce32bc97",
   "metadata": {},
   "outputs": [
    {
     "data": {
      "text/html": [
       "<div>\n",
       "<style scoped>\n",
       "    .dataframe tbody tr th:only-of-type {\n",
       "        vertical-align: middle;\n",
       "    }\n",
       "\n",
       "    .dataframe tbody tr th {\n",
       "        vertical-align: top;\n",
       "    }\n",
       "\n",
       "    .dataframe thead th {\n",
       "        text-align: right;\n",
       "    }\n",
       "</style>\n",
       "<table border=\"1\" class=\"dataframe\">\n",
       "  <thead>\n",
       "    <tr style=\"text-align: right;\">\n",
       "      <th></th>\n",
       "      <th>att</th>\n",
       "      <th>rep</th>\n",
       "      <th>mid</th>\n",
       "      <th>fin</th>\n",
       "    </tr>\n",
       "  </thead>\n",
       "  <tbody>\n",
       "    <tr>\n",
       "      <th>0</th>\n",
       "      <td>65</td>\n",
       "      <td>45</td>\n",
       "      <td>0</td>\n",
       "      <td>10</td>\n",
       "    </tr>\n",
       "    <tr>\n",
       "      <th>1</th>\n",
       "      <td>95</td>\n",
       "      <td>30</td>\n",
       "      <td>60</td>\n",
       "      <td>10</td>\n",
       "    </tr>\n",
       "    <tr>\n",
       "      <th>2</th>\n",
       "      <td>65</td>\n",
       "      <td>85</td>\n",
       "      <td>15</td>\n",
       "      <td>20</td>\n",
       "    </tr>\n",
       "    <tr>\n",
       "      <th>3</th>\n",
       "      <td>55</td>\n",
       "      <td>35</td>\n",
       "      <td>35</td>\n",
       "      <td>5</td>\n",
       "    </tr>\n",
       "    <tr>\n",
       "      <th>4</th>\n",
       "      <td>80</td>\n",
       "      <td>60</td>\n",
       "      <td>55</td>\n",
       "      <td>70</td>\n",
       "    </tr>\n",
       "  </tbody>\n",
       "</table>\n",
       "</div>"
      ],
      "text/plain": [
       "   att  rep  mid  fin\n",
       "0   65   45    0   10\n",
       "1   95   30   60   10\n",
       "2   65   85   15   20\n",
       "3   55   35   35    5\n",
       "4   80   60   55   70"
      ]
     },
     "execution_count": 317,
     "metadata": {},
     "output_type": "execute_result"
    }
   ],
   "source": [
    "df[:5]"
   ]
  },
  {
   "cell_type": "markdown",
   "id": "cc337549-3f31-4e16-b031-11227a7c83b8",
   "metadata": {},
   "source": [
    "## 컨셉3: 넘파이느낌 "
   ]
  },
  {
   "cell_type": "markdown",
   "id": "eb863723-fb2e-411a-8352-8e628dc2704a",
   "metadata": {},
   "source": [
    "`-` 컨셉3: `df.iloc`은 넘파이에러이처럼 생각가능하다. 즉 아래의 arr와 같은 넘파이어레이로 생각가능하다. "
   ]
  },
  {
   "cell_type": "code",
   "execution_count": 328,
   "id": "410ace6e-9fb0-4f91-8c8c-1609e6f372f2",
   "metadata": {},
   "outputs": [],
   "source": [
    "arr = np.array(df)\n",
    "#arr"
   ]
  },
  {
   "cell_type": "markdown",
   "id": "15e51fd4-82da-486c-8755-893e6b383e69",
   "metadata": {},
   "source": [
    "### `#` row indexing "
   ]
  },
  {
   "cell_type": "markdown",
   "id": "c19545bb-af78-492a-a2e7-040424500269",
   "metadata": {},
   "source": [
    "`-` 예시1: 단일레이블 "
   ]
  },
  {
   "cell_type": "code",
   "execution_count": 348,
   "id": "22a1fd7f-5c5c-47f1-863f-5319b880ebf7",
   "metadata": {},
   "outputs": [
    {
     "data": {
      "text/plain": [
       "array([65, 45,  0, 10])"
      ]
     },
     "execution_count": 348,
     "metadata": {},
     "output_type": "execute_result"
    }
   ],
   "source": [
    "arr[0,:] # first row \n",
    "arr[0,] \n",
    "arr[0]"
   ]
  },
  {
   "cell_type": "code",
   "execution_count": 349,
   "id": "c99527f1-5dec-4f69-bdc0-fdf489c34d63",
   "metadata": {},
   "outputs": [
    {
     "data": {
      "text/plain": [
       "att    65\n",
       "rep    45\n",
       "mid     0\n",
       "fin    10\n",
       "Name: 0, dtype: int64"
      ]
     },
     "execution_count": 349,
     "metadata": {},
     "output_type": "execute_result"
    }
   ],
   "source": [
    "df.iloc[0,:] # first row \n",
    "df.iloc[0,] \n",
    "df.iloc[0]"
   ]
  },
  {
   "cell_type": "markdown",
   "id": "7f0a6d1b-70a7-4bb5-9736-51c059195e29",
   "metadata": {},
   "source": [
    "`-` 예시2: 레이블의 리스트"
   ]
  },
  {
   "cell_type": "code",
   "execution_count": 350,
   "id": "11ff7e0d-88cd-4894-b9cc-e62c55322c4f",
   "metadata": {},
   "outputs": [
    {
     "data": {
      "text/plain": [
       "array([[65, 45,  0, 10],\n",
       "       [95, 30, 60, 10],\n",
       "       [65, 85, 15, 20]])"
      ]
     },
     "execution_count": 350,
     "metadata": {},
     "output_type": "execute_result"
    }
   ],
   "source": [
    "arr[[0,1,2],:] # 처음 3개의 row 선택 \n",
    "arr[[0,1,2],] \n",
    "arr[[0,1,2]]"
   ]
  },
  {
   "cell_type": "code",
   "execution_count": 351,
   "id": "e8110f9e-728f-4139-a46f-aa3681320d1a",
   "metadata": {},
   "outputs": [
    {
     "data": {
      "text/html": [
       "<div>\n",
       "<style scoped>\n",
       "    .dataframe tbody tr th:only-of-type {\n",
       "        vertical-align: middle;\n",
       "    }\n",
       "\n",
       "    .dataframe tbody tr th {\n",
       "        vertical-align: top;\n",
       "    }\n",
       "\n",
       "    .dataframe thead th {\n",
       "        text-align: right;\n",
       "    }\n",
       "</style>\n",
       "<table border=\"1\" class=\"dataframe\">\n",
       "  <thead>\n",
       "    <tr style=\"text-align: right;\">\n",
       "      <th></th>\n",
       "      <th>att</th>\n",
       "      <th>rep</th>\n",
       "      <th>mid</th>\n",
       "      <th>fin</th>\n",
       "    </tr>\n",
       "  </thead>\n",
       "  <tbody>\n",
       "    <tr>\n",
       "      <th>0</th>\n",
       "      <td>65</td>\n",
       "      <td>45</td>\n",
       "      <td>0</td>\n",
       "      <td>10</td>\n",
       "    </tr>\n",
       "    <tr>\n",
       "      <th>1</th>\n",
       "      <td>95</td>\n",
       "      <td>30</td>\n",
       "      <td>60</td>\n",
       "      <td>10</td>\n",
       "    </tr>\n",
       "    <tr>\n",
       "      <th>2</th>\n",
       "      <td>65</td>\n",
       "      <td>85</td>\n",
       "      <td>15</td>\n",
       "      <td>20</td>\n",
       "    </tr>\n",
       "  </tbody>\n",
       "</table>\n",
       "</div>"
      ],
      "text/plain": [
       "   att  rep  mid  fin\n",
       "0   65   45    0   10\n",
       "1   95   30   60   10\n",
       "2   65   85   15   20"
      ]
     },
     "execution_count": 351,
     "metadata": {},
     "output_type": "execute_result"
    }
   ],
   "source": [
    "df.iloc[[0,1,2],:] # 처음 3개의 row 선택 \n",
    "df.iloc[[0,1,2],] \n",
    "df.iloc[[0,1,2]]"
   ]
  },
  {
   "cell_type": "markdown",
   "id": "fd22c3dd-0315-4802-9f9a-40b6c44863df",
   "metadata": {},
   "source": [
    "`-` 예시3: 슬랑이싱 "
   ]
  },
  {
   "cell_type": "code",
   "execution_count": 352,
   "id": "58ecfd7b-39ee-4377-9945-26da9e424cf3",
   "metadata": {},
   "outputs": [
    {
     "data": {
      "text/plain": [
       "array([[65, 45,  0, 10],\n",
       "       [95, 30, 60, 10],\n",
       "       [65, 85, 15, 20]])"
      ]
     },
     "execution_count": 352,
     "metadata": {},
     "output_type": "execute_result"
    }
   ],
   "source": [
    "arr[0:3,:] # 처음 3개의 row선택, 끝점포함X\n",
    "arr[0:3,] \n",
    "arr[0:3]"
   ]
  },
  {
   "cell_type": "code",
   "execution_count": 353,
   "id": "3c3a24e9-9370-44bc-b333-affa456392d4",
   "metadata": {},
   "outputs": [
    {
     "data": {
      "text/html": [
       "<div>\n",
       "<style scoped>\n",
       "    .dataframe tbody tr th:only-of-type {\n",
       "        vertical-align: middle;\n",
       "    }\n",
       "\n",
       "    .dataframe tbody tr th {\n",
       "        vertical-align: top;\n",
       "    }\n",
       "\n",
       "    .dataframe thead th {\n",
       "        text-align: right;\n",
       "    }\n",
       "</style>\n",
       "<table border=\"1\" class=\"dataframe\">\n",
       "  <thead>\n",
       "    <tr style=\"text-align: right;\">\n",
       "      <th></th>\n",
       "      <th>att</th>\n",
       "      <th>rep</th>\n",
       "      <th>mid</th>\n",
       "      <th>fin</th>\n",
       "    </tr>\n",
       "  </thead>\n",
       "  <tbody>\n",
       "    <tr>\n",
       "      <th>0</th>\n",
       "      <td>65</td>\n",
       "      <td>45</td>\n",
       "      <td>0</td>\n",
       "      <td>10</td>\n",
       "    </tr>\n",
       "    <tr>\n",
       "      <th>1</th>\n",
       "      <td>95</td>\n",
       "      <td>30</td>\n",
       "      <td>60</td>\n",
       "      <td>10</td>\n",
       "    </tr>\n",
       "    <tr>\n",
       "      <th>2</th>\n",
       "      <td>65</td>\n",
       "      <td>85</td>\n",
       "      <td>15</td>\n",
       "      <td>20</td>\n",
       "    </tr>\n",
       "  </tbody>\n",
       "</table>\n",
       "</div>"
      ],
      "text/plain": [
       "   att  rep  mid  fin\n",
       "0   65   45    0   10\n",
       "1   95   30   60   10\n",
       "2   65   85   15   20"
      ]
     },
     "execution_count": 353,
     "metadata": {},
     "output_type": "execute_result"
    }
   ],
   "source": [
    "df.iloc[0:3,:] # 처음 3개의 row선택, 끝점포함X\n",
    "df.iloc[0:3,] \n",
    "df.iloc[0:3]"
   ]
  },
  {
   "cell_type": "markdown",
   "id": "111910ed-314a-4c54-a918-7040cd8fe3dd",
   "metadata": {},
   "source": [
    "### `#` col indexing "
   ]
  },
  {
   "cell_type": "markdown",
   "id": "01f61885-665a-4758-bf14-1c06e29f4515",
   "metadata": {},
   "source": [
    "`-` 예시1: 단일레이블 "
   ]
  },
  {
   "cell_type": "code",
   "execution_count": 362,
   "id": "5a9694dd-dd5d-4f26-8e90-51fac6393064",
   "metadata": {},
   "outputs": [
    {
     "data": {
      "text/plain": [
       "0      65\n",
       "1      95\n",
       "2      65\n",
       "3      55\n",
       "4      80\n",
       "       ..\n",
       "195    55\n",
       "196    65\n",
       "197    85\n",
       "198    80\n",
       "199    50\n",
       "Name: att, Length: 200, dtype: int64"
      ]
     },
     "execution_count": 362,
     "metadata": {},
     "output_type": "execute_result"
    }
   ],
   "source": [
    "df.iloc[:,0] # first column \n",
    "# arr[:,0] # first column "
   ]
  },
  {
   "cell_type": "markdown",
   "id": "570b6bb9-5231-4924-a053-07b8faf6bae6",
   "metadata": {},
   "source": [
    "`-` 예시2: 레이블의 리스트"
   ]
  },
  {
   "cell_type": "code",
   "execution_count": 363,
   "id": "14638c5b-5855-4e27-b49f-2376a9ca628e",
   "metadata": {},
   "outputs": [
    {
     "data": {
      "text/html": [
       "<div>\n",
       "<style scoped>\n",
       "    .dataframe tbody tr th:only-of-type {\n",
       "        vertical-align: middle;\n",
       "    }\n",
       "\n",
       "    .dataframe tbody tr th {\n",
       "        vertical-align: top;\n",
       "    }\n",
       "\n",
       "    .dataframe thead th {\n",
       "        text-align: right;\n",
       "    }\n",
       "</style>\n",
       "<table border=\"1\" class=\"dataframe\">\n",
       "  <thead>\n",
       "    <tr style=\"text-align: right;\">\n",
       "      <th></th>\n",
       "      <th>att</th>\n",
       "      <th>mid</th>\n",
       "    </tr>\n",
       "  </thead>\n",
       "  <tbody>\n",
       "    <tr>\n",
       "      <th>0</th>\n",
       "      <td>65</td>\n",
       "      <td>0</td>\n",
       "    </tr>\n",
       "    <tr>\n",
       "      <th>1</th>\n",
       "      <td>95</td>\n",
       "      <td>60</td>\n",
       "    </tr>\n",
       "    <tr>\n",
       "      <th>2</th>\n",
       "      <td>65</td>\n",
       "      <td>15</td>\n",
       "    </tr>\n",
       "    <tr>\n",
       "      <th>3</th>\n",
       "      <td>55</td>\n",
       "      <td>35</td>\n",
       "    </tr>\n",
       "    <tr>\n",
       "      <th>4</th>\n",
       "      <td>80</td>\n",
       "      <td>55</td>\n",
       "    </tr>\n",
       "    <tr>\n",
       "      <th>...</th>\n",
       "      <td>...</td>\n",
       "      <td>...</td>\n",
       "    </tr>\n",
       "    <tr>\n",
       "      <th>195</th>\n",
       "      <td>55</td>\n",
       "      <td>40</td>\n",
       "    </tr>\n",
       "    <tr>\n",
       "      <th>196</th>\n",
       "      <td>65</td>\n",
       "      <td>25</td>\n",
       "    </tr>\n",
       "    <tr>\n",
       "      <th>197</th>\n",
       "      <td>85</td>\n",
       "      <td>100</td>\n",
       "    </tr>\n",
       "    <tr>\n",
       "      <th>198</th>\n",
       "      <td>80</td>\n",
       "      <td>35</td>\n",
       "    </tr>\n",
       "    <tr>\n",
       "      <th>199</th>\n",
       "      <td>50</td>\n",
       "      <td>45</td>\n",
       "    </tr>\n",
       "  </tbody>\n",
       "</table>\n",
       "<p>200 rows × 2 columns</p>\n",
       "</div>"
      ],
      "text/plain": [
       "     att  mid\n",
       "0     65    0\n",
       "1     95   60\n",
       "2     65   15\n",
       "3     55   35\n",
       "4     80   55\n",
       "..   ...  ...\n",
       "195   55   40\n",
       "196   65   25\n",
       "197   85  100\n",
       "198   80   35\n",
       "199   50   45\n",
       "\n",
       "[200 rows x 2 columns]"
      ]
     },
     "execution_count": 363,
     "metadata": {},
     "output_type": "execute_result"
    }
   ],
   "source": [
    "df.iloc[:,[0,2]] # col1, col3 을 선택\n",
    "# arr[:,[0,2]] # col1, col3 을 선택"
   ]
  },
  {
   "cell_type": "markdown",
   "id": "bd4af865-4f6c-47b1-afce-d556f91034cc",
   "metadata": {},
   "source": [
    "`-` 예시3: 슬랑이싱 "
   ]
  },
  {
   "cell_type": "code",
   "execution_count": 366,
   "id": "38b690b1-1bae-4627-ba70-0c8b581af562",
   "metadata": {},
   "outputs": [
    {
     "data": {
      "text/html": [
       "<div>\n",
       "<style scoped>\n",
       "    .dataframe tbody tr th:only-of-type {\n",
       "        vertical-align: middle;\n",
       "    }\n",
       "\n",
       "    .dataframe tbody tr th {\n",
       "        vertical-align: top;\n",
       "    }\n",
       "\n",
       "    .dataframe thead th {\n",
       "        text-align: right;\n",
       "    }\n",
       "</style>\n",
       "<table border=\"1\" class=\"dataframe\">\n",
       "  <thead>\n",
       "    <tr style=\"text-align: right;\">\n",
       "      <th></th>\n",
       "      <th>att</th>\n",
       "      <th>rep</th>\n",
       "      <th>mid</th>\n",
       "    </tr>\n",
       "  </thead>\n",
       "  <tbody>\n",
       "    <tr>\n",
       "      <th>0</th>\n",
       "      <td>65</td>\n",
       "      <td>45</td>\n",
       "      <td>0</td>\n",
       "    </tr>\n",
       "    <tr>\n",
       "      <th>1</th>\n",
       "      <td>95</td>\n",
       "      <td>30</td>\n",
       "      <td>60</td>\n",
       "    </tr>\n",
       "    <tr>\n",
       "      <th>2</th>\n",
       "      <td>65</td>\n",
       "      <td>85</td>\n",
       "      <td>15</td>\n",
       "    </tr>\n",
       "    <tr>\n",
       "      <th>3</th>\n",
       "      <td>55</td>\n",
       "      <td>35</td>\n",
       "      <td>35</td>\n",
       "    </tr>\n",
       "    <tr>\n",
       "      <th>4</th>\n",
       "      <td>80</td>\n",
       "      <td>60</td>\n",
       "      <td>55</td>\n",
       "    </tr>\n",
       "    <tr>\n",
       "      <th>...</th>\n",
       "      <td>...</td>\n",
       "      <td>...</td>\n",
       "      <td>...</td>\n",
       "    </tr>\n",
       "    <tr>\n",
       "      <th>195</th>\n",
       "      <td>55</td>\n",
       "      <td>70</td>\n",
       "      <td>40</td>\n",
       "    </tr>\n",
       "    <tr>\n",
       "      <th>196</th>\n",
       "      <td>65</td>\n",
       "      <td>85</td>\n",
       "      <td>25</td>\n",
       "    </tr>\n",
       "    <tr>\n",
       "      <th>197</th>\n",
       "      <td>85</td>\n",
       "      <td>85</td>\n",
       "      <td>100</td>\n",
       "    </tr>\n",
       "    <tr>\n",
       "      <th>198</th>\n",
       "      <td>80</td>\n",
       "      <td>65</td>\n",
       "      <td>35</td>\n",
       "    </tr>\n",
       "    <tr>\n",
       "      <th>199</th>\n",
       "      <td>50</td>\n",
       "      <td>95</td>\n",
       "      <td>45</td>\n",
       "    </tr>\n",
       "  </tbody>\n",
       "</table>\n",
       "<p>200 rows × 3 columns</p>\n",
       "</div>"
      ],
      "text/plain": [
       "     att  rep  mid\n",
       "0     65   45    0\n",
       "1     95   30   60\n",
       "2     65   85   15\n",
       "3     55   35   35\n",
       "4     80   60   55\n",
       "..   ...  ...  ...\n",
       "195   55   70   40\n",
       "196   65   85   25\n",
       "197   85   85  100\n",
       "198   80   65   35\n",
       "199   50   95   45\n",
       "\n",
       "[200 rows x 3 columns]"
      ]
     },
     "execution_count": 366,
     "metadata": {},
     "output_type": "execute_result"
    }
   ],
   "source": [
    "df.iloc[:,0:3] # 처음 3개의 col선택, 끝점포함X\n",
    "#arr[:,0:3]"
   ]
  },
  {
   "cell_type": "markdown",
   "id": "a3037106-3bc4-4893-9c0e-90f1836bfd64",
   "metadata": {},
   "source": [
    "### `#` row + col indexing"
   ]
  },
  {
   "cell_type": "code",
   "execution_count": 402,
   "id": "7443b51c-3e42-41e6-896c-79f2e80a8250",
   "metadata": {},
   "outputs": [
    {
     "data": {
      "text/html": [
       "<div>\n",
       "<style scoped>\n",
       "    .dataframe tbody tr th:only-of-type {\n",
       "        vertical-align: middle;\n",
       "    }\n",
       "\n",
       "    .dataframe tbody tr th {\n",
       "        vertical-align: top;\n",
       "    }\n",
       "\n",
       "    .dataframe thead th {\n",
       "        text-align: right;\n",
       "    }\n",
       "</style>\n",
       "<table border=\"1\" class=\"dataframe\">\n",
       "  <thead>\n",
       "    <tr style=\"text-align: right;\">\n",
       "      <th></th>\n",
       "      <th>att</th>\n",
       "      <th>rep</th>\n",
       "      <th>mid</th>\n",
       "    </tr>\n",
       "  </thead>\n",
       "  <tbody>\n",
       "    <tr>\n",
       "      <th>0</th>\n",
       "      <td>65</td>\n",
       "      <td>45</td>\n",
       "      <td>0</td>\n",
       "    </tr>\n",
       "    <tr>\n",
       "      <th>2</th>\n",
       "      <td>65</td>\n",
       "      <td>85</td>\n",
       "      <td>15</td>\n",
       "    </tr>\n",
       "    <tr>\n",
       "      <th>4</th>\n",
       "      <td>80</td>\n",
       "      <td>60</td>\n",
       "      <td>55</td>\n",
       "    </tr>\n",
       "    <tr>\n",
       "      <th>6</th>\n",
       "      <td>65</td>\n",
       "      <td>70</td>\n",
       "      <td>60</td>\n",
       "    </tr>\n",
       "    <tr>\n",
       "      <th>8</th>\n",
       "      <td>95</td>\n",
       "      <td>55</td>\n",
       "      <td>65</td>\n",
       "    </tr>\n",
       "    <tr>\n",
       "      <th>...</th>\n",
       "      <td>...</td>\n",
       "      <td>...</td>\n",
       "      <td>...</td>\n",
       "    </tr>\n",
       "    <tr>\n",
       "      <th>190</th>\n",
       "      <td>95</td>\n",
       "      <td>35</td>\n",
       "      <td>40</td>\n",
       "    </tr>\n",
       "    <tr>\n",
       "      <th>192</th>\n",
       "      <td>100</td>\n",
       "      <td>40</td>\n",
       "      <td>80</td>\n",
       "    </tr>\n",
       "    <tr>\n",
       "      <th>194</th>\n",
       "      <td>65</td>\n",
       "      <td>40</td>\n",
       "      <td>65</td>\n",
       "    </tr>\n",
       "    <tr>\n",
       "      <th>196</th>\n",
       "      <td>65</td>\n",
       "      <td>85</td>\n",
       "      <td>25</td>\n",
       "    </tr>\n",
       "    <tr>\n",
       "      <th>198</th>\n",
       "      <td>80</td>\n",
       "      <td>65</td>\n",
       "      <td>35</td>\n",
       "    </tr>\n",
       "  </tbody>\n",
       "</table>\n",
       "<p>100 rows × 3 columns</p>\n",
       "</div>"
      ],
      "text/plain": [
       "     att  rep  mid\n",
       "0     65   45    0\n",
       "2     65   85   15\n",
       "4     80   60   55\n",
       "6     65   70   60\n",
       "8     95   55   65\n",
       "..   ...  ...  ...\n",
       "190   95   35   40\n",
       "192  100   40   80\n",
       "194   65   40   65\n",
       "196   65   85   25\n",
       "198   80   65   35\n",
       "\n",
       "[100 rows x 3 columns]"
      ]
     },
     "execution_count": 402,
     "metadata": {},
     "output_type": "execute_result"
    }
   ],
   "source": [
    "df.iloc[::2,0:3]"
   ]
  },
  {
   "cell_type": "markdown",
   "id": "beda354a-e54d-4693-96e0-4e801280ccd1",
   "metadata": {},
   "source": [
    "## 컨셉4: 데이터프레임 느낌 "
   ]
  },
  {
   "cell_type": "markdown",
   "id": "228a58ec-1ba6-4160-aa57-7974a64ebd92",
   "metadata": {},
   "source": [
    "`-` 컨셉4: `df.loc`은 새로운 느낌.. (R에 익숙하면 `df.loc`이 dataframe 혹은 티블느낌이라고 보시면 됩니다) "
   ]
  },
  {
   "cell_type": "code",
   "execution_count": 367,
   "id": "663f780c-185f-46fb-9ffd-6efa5bcad285",
   "metadata": {},
   "outputs": [],
   "source": [
    "import rpy2\n",
    "%load_ext rpy2.ipython "
   ]
  },
  {
   "cell_type": "code",
   "execution_count": 392,
   "id": "1b26f20d-fdb9-48f6-a1d9-61db30f5d37d",
   "metadata": {},
   "outputs": [
    {
     "name": "stdout",
     "output_type": "stream",
     "text": [
      "# A tibble: 5 × 2\n",
      "  model  year\n",
      "  <chr> <int>\n",
      "1 a4     1999\n",
      "2 a4     1999\n",
      "3 a4     2008\n",
      "4 a4     2008\n",
      "5 a4     1999\n"
     ]
    }
   ],
   "source": [
    "%%R \n",
    "library(tidyverse) \n",
    "mpg[1:5,c('model','year')]"
   ]
  },
  {
   "cell_type": "markdown",
   "id": "dde07f83-4f57-4b97-add1-7902cc8afa00",
   "metadata": {},
   "source": [
    "### `#` row indexing"
   ]
  },
  {
   "cell_type": "markdown",
   "id": "61eb8215-c670-4d15-b0f3-9f126fb85d8b",
   "metadata": {},
   "source": [
    "`-` 예시1: 단일레이블 "
   ]
  },
  {
   "cell_type": "code",
   "execution_count": 385,
   "id": "a186290b-d57d-4878-8ef5-b76015510cef",
   "metadata": {},
   "outputs": [
    {
     "data": {
      "text/plain": [
       "att    65\n",
       "rep    45\n",
       "mid     0\n",
       "fin    10\n",
       "Name: 0, dtype: int64"
      ]
     },
     "execution_count": 385,
     "metadata": {},
     "output_type": "execute_result"
    }
   ],
   "source": [
    "df.loc[0,:] # 첫번째 row를 선택 \n",
    "df.loc[0,]\n",
    "df.loc[0] "
   ]
  },
  {
   "cell_type": "markdown",
   "id": "15c1d798-261d-4ca5-8c11-f78c089f1019",
   "metadata": {},
   "source": [
    "`-` 예시2: 레이블의 리스트 "
   ]
  },
  {
   "cell_type": "code",
   "execution_count": 386,
   "id": "4f2ae8ce-f169-486c-93e2-d64767bb8225",
   "metadata": {},
   "outputs": [
    {
     "data": {
      "text/html": [
       "<div>\n",
       "<style scoped>\n",
       "    .dataframe tbody tr th:only-of-type {\n",
       "        vertical-align: middle;\n",
       "    }\n",
       "\n",
       "    .dataframe tbody tr th {\n",
       "        vertical-align: top;\n",
       "    }\n",
       "\n",
       "    .dataframe thead th {\n",
       "        text-align: right;\n",
       "    }\n",
       "</style>\n",
       "<table border=\"1\" class=\"dataframe\">\n",
       "  <thead>\n",
       "    <tr style=\"text-align: right;\">\n",
       "      <th></th>\n",
       "      <th>att</th>\n",
       "      <th>rep</th>\n",
       "      <th>mid</th>\n",
       "      <th>fin</th>\n",
       "    </tr>\n",
       "  </thead>\n",
       "  <tbody>\n",
       "    <tr>\n",
       "      <th>0</th>\n",
       "      <td>65</td>\n",
       "      <td>45</td>\n",
       "      <td>0</td>\n",
       "      <td>10</td>\n",
       "    </tr>\n",
       "    <tr>\n",
       "      <th>1</th>\n",
       "      <td>95</td>\n",
       "      <td>30</td>\n",
       "      <td>60</td>\n",
       "      <td>10</td>\n",
       "    </tr>\n",
       "    <tr>\n",
       "      <th>2</th>\n",
       "      <td>65</td>\n",
       "      <td>85</td>\n",
       "      <td>15</td>\n",
       "      <td>20</td>\n",
       "    </tr>\n",
       "  </tbody>\n",
       "</table>\n",
       "</div>"
      ],
      "text/plain": [
       "   att  rep  mid  fin\n",
       "0   65   45    0   10\n",
       "1   95   30   60   10\n",
       "2   65   85   15   20"
      ]
     },
     "execution_count": 386,
     "metadata": {},
     "output_type": "execute_result"
    }
   ],
   "source": [
    "df.loc[[0,1,2],:] # 처음 3개의 row를 선택 \n",
    "df.loc[[0,1,2],]\n",
    "df.loc[[0,1,2]] "
   ]
  },
  {
   "cell_type": "markdown",
   "id": "6d18ab75-9886-4045-9d30-b9330aa91aa9",
   "metadata": {},
   "source": [
    "`-` 예시3: 슬라이싱 (끝점포함 O)"
   ]
  },
  {
   "cell_type": "code",
   "execution_count": 387,
   "id": "a922c6b5-56e2-4715-b845-116f0c7793a4",
   "metadata": {},
   "outputs": [
    {
     "data": {
      "text/html": [
       "<div>\n",
       "<style scoped>\n",
       "    .dataframe tbody tr th:only-of-type {\n",
       "        vertical-align: middle;\n",
       "    }\n",
       "\n",
       "    .dataframe tbody tr th {\n",
       "        vertical-align: top;\n",
       "    }\n",
       "\n",
       "    .dataframe thead th {\n",
       "        text-align: right;\n",
       "    }\n",
       "</style>\n",
       "<table border=\"1\" class=\"dataframe\">\n",
       "  <thead>\n",
       "    <tr style=\"text-align: right;\">\n",
       "      <th></th>\n",
       "      <th>att</th>\n",
       "      <th>rep</th>\n",
       "      <th>mid</th>\n",
       "      <th>fin</th>\n",
       "    </tr>\n",
       "  </thead>\n",
       "  <tbody>\n",
       "    <tr>\n",
       "      <th>0</th>\n",
       "      <td>65</td>\n",
       "      <td>45</td>\n",
       "      <td>0</td>\n",
       "      <td>10</td>\n",
       "    </tr>\n",
       "    <tr>\n",
       "      <th>1</th>\n",
       "      <td>95</td>\n",
       "      <td>30</td>\n",
       "      <td>60</td>\n",
       "      <td>10</td>\n",
       "    </tr>\n",
       "    <tr>\n",
       "      <th>2</th>\n",
       "      <td>65</td>\n",
       "      <td>85</td>\n",
       "      <td>15</td>\n",
       "      <td>20</td>\n",
       "    </tr>\n",
       "    <tr>\n",
       "      <th>3</th>\n",
       "      <td>55</td>\n",
       "      <td>35</td>\n",
       "      <td>35</td>\n",
       "      <td>5</td>\n",
       "    </tr>\n",
       "  </tbody>\n",
       "</table>\n",
       "</div>"
      ],
      "text/plain": [
       "   att  rep  mid  fin\n",
       "0   65   45    0   10\n",
       "1   95   30   60   10\n",
       "2   65   85   15   20\n",
       "3   55   35   35    5"
      ]
     },
     "execution_count": 387,
     "metadata": {},
     "output_type": "execute_result"
    }
   ],
   "source": [
    "df.loc[0:3,:] # 처음 4개의 row를 선택, 끝점포함 \n",
    "df.loc[0:3,]\n",
    "df.loc[0:3] "
   ]
  },
  {
   "cell_type": "markdown",
   "id": "0db24750-e039-49e1-875f-6b94a0ed293e",
   "metadata": {},
   "source": [
    "### `#` col indexing "
   ]
  },
  {
   "cell_type": "markdown",
   "id": "5f19dfd3-91fb-4c7c-abf9-16fdd2df290f",
   "metadata": {},
   "source": [
    "`-` 예시1: 단일레이블 "
   ]
  },
  {
   "cell_type": "code",
   "execution_count": 393,
   "id": "854df8e4-ae4a-4ae7-b307-bc6160619fb1",
   "metadata": {},
   "outputs": [
    {
     "data": {
      "text/plain": [
       "0      65\n",
       "1      95\n",
       "2      65\n",
       "3      55\n",
       "4      80\n",
       "       ..\n",
       "195    55\n",
       "196    65\n",
       "197    85\n",
       "198    80\n",
       "199    50\n",
       "Name: att, Length: 200, dtype: int64"
      ]
     },
     "execution_count": 393,
     "metadata": {},
     "output_type": "execute_result"
    }
   ],
   "source": [
    "df.loc[:,'att'] "
   ]
  },
  {
   "cell_type": "markdown",
   "id": "378f7bfa-530b-4def-bf0a-367e83dfd25a",
   "metadata": {},
   "source": [
    "`-` 예시2: 레이블의 리스트"
   ]
  },
  {
   "cell_type": "code",
   "execution_count": 394,
   "id": "b9c709de-e7fd-490e-9e4b-3a84ce9b7412",
   "metadata": {},
   "outputs": [
    {
     "data": {
      "text/html": [
       "<div>\n",
       "<style scoped>\n",
       "    .dataframe tbody tr th:only-of-type {\n",
       "        vertical-align: middle;\n",
       "    }\n",
       "\n",
       "    .dataframe tbody tr th {\n",
       "        vertical-align: top;\n",
       "    }\n",
       "\n",
       "    .dataframe thead th {\n",
       "        text-align: right;\n",
       "    }\n",
       "</style>\n",
       "<table border=\"1\" class=\"dataframe\">\n",
       "  <thead>\n",
       "    <tr style=\"text-align: right;\">\n",
       "      <th></th>\n",
       "      <th>att</th>\n",
       "      <th>mid</th>\n",
       "    </tr>\n",
       "  </thead>\n",
       "  <tbody>\n",
       "    <tr>\n",
       "      <th>0</th>\n",
       "      <td>65</td>\n",
       "      <td>0</td>\n",
       "    </tr>\n",
       "    <tr>\n",
       "      <th>1</th>\n",
       "      <td>95</td>\n",
       "      <td>60</td>\n",
       "    </tr>\n",
       "    <tr>\n",
       "      <th>2</th>\n",
       "      <td>65</td>\n",
       "      <td>15</td>\n",
       "    </tr>\n",
       "    <tr>\n",
       "      <th>3</th>\n",
       "      <td>55</td>\n",
       "      <td>35</td>\n",
       "    </tr>\n",
       "    <tr>\n",
       "      <th>4</th>\n",
       "      <td>80</td>\n",
       "      <td>55</td>\n",
       "    </tr>\n",
       "    <tr>\n",
       "      <th>...</th>\n",
       "      <td>...</td>\n",
       "      <td>...</td>\n",
       "    </tr>\n",
       "    <tr>\n",
       "      <th>195</th>\n",
       "      <td>55</td>\n",
       "      <td>40</td>\n",
       "    </tr>\n",
       "    <tr>\n",
       "      <th>196</th>\n",
       "      <td>65</td>\n",
       "      <td>25</td>\n",
       "    </tr>\n",
       "    <tr>\n",
       "      <th>197</th>\n",
       "      <td>85</td>\n",
       "      <td>100</td>\n",
       "    </tr>\n",
       "    <tr>\n",
       "      <th>198</th>\n",
       "      <td>80</td>\n",
       "      <td>35</td>\n",
       "    </tr>\n",
       "    <tr>\n",
       "      <th>199</th>\n",
       "      <td>50</td>\n",
       "      <td>45</td>\n",
       "    </tr>\n",
       "  </tbody>\n",
       "</table>\n",
       "<p>200 rows × 2 columns</p>\n",
       "</div>"
      ],
      "text/plain": [
       "     att  mid\n",
       "0     65    0\n",
       "1     95   60\n",
       "2     65   15\n",
       "3     55   35\n",
       "4     80   55\n",
       "..   ...  ...\n",
       "195   55   40\n",
       "196   65   25\n",
       "197   85  100\n",
       "198   80   35\n",
       "199   50   45\n",
       "\n",
       "[200 rows x 2 columns]"
      ]
     },
     "execution_count": 394,
     "metadata": {},
     "output_type": "execute_result"
    }
   ],
   "source": [
    "df.loc[:,['att','mid']] "
   ]
  },
  {
   "cell_type": "markdown",
   "id": "f748ef5f-6689-4995-ad40-4a857aa33898",
   "metadata": {},
   "source": [
    "`-` 예시3: 슬라이싱 (끝점포함 O)"
   ]
  },
  {
   "cell_type": "code",
   "execution_count": 395,
   "id": "7d8d838a-4726-4d1b-801b-0a7a63ce71d1",
   "metadata": {},
   "outputs": [
    {
     "data": {
      "text/html": [
       "<div>\n",
       "<style scoped>\n",
       "    .dataframe tbody tr th:only-of-type {\n",
       "        vertical-align: middle;\n",
       "    }\n",
       "\n",
       "    .dataframe tbody tr th {\n",
       "        vertical-align: top;\n",
       "    }\n",
       "\n",
       "    .dataframe thead th {\n",
       "        text-align: right;\n",
       "    }\n",
       "</style>\n",
       "<table border=\"1\" class=\"dataframe\">\n",
       "  <thead>\n",
       "    <tr style=\"text-align: right;\">\n",
       "      <th></th>\n",
       "      <th>att</th>\n",
       "      <th>rep</th>\n",
       "      <th>mid</th>\n",
       "    </tr>\n",
       "  </thead>\n",
       "  <tbody>\n",
       "    <tr>\n",
       "      <th>0</th>\n",
       "      <td>65</td>\n",
       "      <td>45</td>\n",
       "      <td>0</td>\n",
       "    </tr>\n",
       "    <tr>\n",
       "      <th>1</th>\n",
       "      <td>95</td>\n",
       "      <td>30</td>\n",
       "      <td>60</td>\n",
       "    </tr>\n",
       "    <tr>\n",
       "      <th>2</th>\n",
       "      <td>65</td>\n",
       "      <td>85</td>\n",
       "      <td>15</td>\n",
       "    </tr>\n",
       "    <tr>\n",
       "      <th>3</th>\n",
       "      <td>55</td>\n",
       "      <td>35</td>\n",
       "      <td>35</td>\n",
       "    </tr>\n",
       "    <tr>\n",
       "      <th>4</th>\n",
       "      <td>80</td>\n",
       "      <td>60</td>\n",
       "      <td>55</td>\n",
       "    </tr>\n",
       "    <tr>\n",
       "      <th>...</th>\n",
       "      <td>...</td>\n",
       "      <td>...</td>\n",
       "      <td>...</td>\n",
       "    </tr>\n",
       "    <tr>\n",
       "      <th>195</th>\n",
       "      <td>55</td>\n",
       "      <td>70</td>\n",
       "      <td>40</td>\n",
       "    </tr>\n",
       "    <tr>\n",
       "      <th>196</th>\n",
       "      <td>65</td>\n",
       "      <td>85</td>\n",
       "      <td>25</td>\n",
       "    </tr>\n",
       "    <tr>\n",
       "      <th>197</th>\n",
       "      <td>85</td>\n",
       "      <td>85</td>\n",
       "      <td>100</td>\n",
       "    </tr>\n",
       "    <tr>\n",
       "      <th>198</th>\n",
       "      <td>80</td>\n",
       "      <td>65</td>\n",
       "      <td>35</td>\n",
       "    </tr>\n",
       "    <tr>\n",
       "      <th>199</th>\n",
       "      <td>50</td>\n",
       "      <td>95</td>\n",
       "      <td>45</td>\n",
       "    </tr>\n",
       "  </tbody>\n",
       "</table>\n",
       "<p>200 rows × 3 columns</p>\n",
       "</div>"
      ],
      "text/plain": [
       "     att  rep  mid\n",
       "0     65   45    0\n",
       "1     95   30   60\n",
       "2     65   85   15\n",
       "3     55   35   35\n",
       "4     80   60   55\n",
       "..   ...  ...  ...\n",
       "195   55   70   40\n",
       "196   65   85   25\n",
       "197   85   85  100\n",
       "198   80   65   35\n",
       "199   50   95   45\n",
       "\n",
       "[200 rows x 3 columns]"
      ]
     },
     "execution_count": 395,
     "metadata": {},
     "output_type": "execute_result"
    }
   ],
   "source": [
    "df.loc[:,'att':'mid'] # 끝점포함 "
   ]
  },
  {
   "cell_type": "markdown",
   "id": "cc9150c8-fb52-48ac-a727-665a36253f28",
   "metadata": {},
   "source": [
    "### `#` row + col indexing "
   ]
  },
  {
   "cell_type": "code",
   "execution_count": 404,
   "id": "7097e4ef-14e4-455c-b46a-12fc7ad32439",
   "metadata": {},
   "outputs": [
    {
     "data": {
      "text/html": [
       "<div>\n",
       "<style scoped>\n",
       "    .dataframe tbody tr th:only-of-type {\n",
       "        vertical-align: middle;\n",
       "    }\n",
       "\n",
       "    .dataframe tbody tr th {\n",
       "        vertical-align: top;\n",
       "    }\n",
       "\n",
       "    .dataframe thead th {\n",
       "        text-align: right;\n",
       "    }\n",
       "</style>\n",
       "<table border=\"1\" class=\"dataframe\">\n",
       "  <thead>\n",
       "    <tr style=\"text-align: right;\">\n",
       "      <th></th>\n",
       "      <th>att</th>\n",
       "      <th>rep</th>\n",
       "      <th>mid</th>\n",
       "    </tr>\n",
       "  </thead>\n",
       "  <tbody>\n",
       "    <tr>\n",
       "      <th>199</th>\n",
       "      <td>50</td>\n",
       "      <td>95</td>\n",
       "      <td>45</td>\n",
       "    </tr>\n",
       "    <tr>\n",
       "      <th>198</th>\n",
       "      <td>80</td>\n",
       "      <td>65</td>\n",
       "      <td>35</td>\n",
       "    </tr>\n",
       "    <tr>\n",
       "      <th>197</th>\n",
       "      <td>85</td>\n",
       "      <td>85</td>\n",
       "      <td>100</td>\n",
       "    </tr>\n",
       "    <tr>\n",
       "      <th>196</th>\n",
       "      <td>65</td>\n",
       "      <td>85</td>\n",
       "      <td>25</td>\n",
       "    </tr>\n",
       "    <tr>\n",
       "      <th>195</th>\n",
       "      <td>55</td>\n",
       "      <td>70</td>\n",
       "      <td>40</td>\n",
       "    </tr>\n",
       "    <tr>\n",
       "      <th>...</th>\n",
       "      <td>...</td>\n",
       "      <td>...</td>\n",
       "      <td>...</td>\n",
       "    </tr>\n",
       "    <tr>\n",
       "      <th>4</th>\n",
       "      <td>80</td>\n",
       "      <td>60</td>\n",
       "      <td>55</td>\n",
       "    </tr>\n",
       "    <tr>\n",
       "      <th>3</th>\n",
       "      <td>55</td>\n",
       "      <td>35</td>\n",
       "      <td>35</td>\n",
       "    </tr>\n",
       "    <tr>\n",
       "      <th>2</th>\n",
       "      <td>65</td>\n",
       "      <td>85</td>\n",
       "      <td>15</td>\n",
       "    </tr>\n",
       "    <tr>\n",
       "      <th>1</th>\n",
       "      <td>95</td>\n",
       "      <td>30</td>\n",
       "      <td>60</td>\n",
       "    </tr>\n",
       "    <tr>\n",
       "      <th>0</th>\n",
       "      <td>65</td>\n",
       "      <td>45</td>\n",
       "      <td>0</td>\n",
       "    </tr>\n",
       "  </tbody>\n",
       "</table>\n",
       "<p>200 rows × 3 columns</p>\n",
       "</div>"
      ],
      "text/plain": [
       "     att  rep  mid\n",
       "199   50   95   45\n",
       "198   80   65   35\n",
       "197   85   85  100\n",
       "196   65   85   25\n",
       "195   55   70   40\n",
       "..   ...  ...  ...\n",
       "4     80   60   55\n",
       "3     55   35   35\n",
       "2     65   85   15\n",
       "1     95   30   60\n",
       "0     65   45    0\n",
       "\n",
       "[200 rows x 3 columns]"
      ]
     },
     "execution_count": 404,
     "metadata": {},
     "output_type": "execute_result"
    }
   ],
   "source": [
    "df.loc[::-1,'att':'mid'] # 끝점포함 "
   ]
  },
  {
   "cell_type": "markdown",
   "id": "222379be-f4e1-4349-a42d-fb6113f44914",
   "metadata": {},
   "source": [
    "## 컨셉1~4 정리 "
   ]
  },
  {
   "cell_type": "markdown",
   "id": "054f08ac-c3ea-4aff-856f-9f9fc20e895d",
   "metadata": {},
   "source": [
    "||`.`| `[]` | `.iloc` | `.loc`| \n",
    "|:-:|:-:|:-:|:-:|:-:|\n",
    "|row/단일레이블|X|X|O|O|\n",
    "|col/단일레이블|O|O|O|O|\n",
    "|row/레이블리스트|X|X|O|O|\n",
    "|col/레이블리스트|X|O|O|O|\n",
    "|row/슬라이싱|X|O|O|O|\n",
    "|col/슬라이싱|X|X|O|O|"
   ]
  },
  {
   "cell_type": "markdown",
   "id": "602e3008-b0e1-4786-ab58-39a2bb0acee0",
   "metadata": {},
   "source": [
    "`-` col 이름을 알아야하는 부담감\n",
    "- `.` : 앞글자만 대충 알아도 자동완성 가능 \n",
    "- `[]`: 정확한 col 이름을 알아야 함\n",
    "- `.loc`: 보통 정확한 col 이름을 알아야 하지만 슬라이싱 이용시 양 끝의 컬럼이름만 알면 무방 \n",
    "- `.iloc`: 정확한 col 이름을 몰라도 번호로 인덱싱 가능"
   ]
  },
  {
   "cell_type": "markdown",
   "id": "a9bfce95-c9b2-4bcd-8ced-8d83e7bca322",
   "metadata": {},
   "source": [
    "`-` 자주하는 실수 "
   ]
  },
  {
   "cell_type": "code",
   "execution_count": 431,
   "id": "23226cd4-93d5-4180-b783-9b1a9a914d8a",
   "metadata": {},
   "outputs": [
    {
     "data": {
      "text/plain": [
       "0      65\n",
       "1      95\n",
       "2      65\n",
       "3      55\n",
       "4      80\n",
       "       ..\n",
       "195    55\n",
       "196    65\n",
       "197    85\n",
       "198    80\n",
       "199    50\n",
       "Name: att, Length: 200, dtype: int64"
      ]
     },
     "execution_count": 431,
     "metadata": {},
     "output_type": "execute_result"
    }
   ],
   "source": [
    "df['att'] # 가능 \n",
    "# df.loc['att'] # 불가능\n",
    "df.loc[:,'att'] # 가능"
   ]
  },
  {
   "cell_type": "markdown",
   "id": "79862c89-2624-45ec-80b7-a77ade0d2b46",
   "metadata": {},
   "source": [
    "# 판다스: 인덱싱 2단계-- 필터링(특정조건에 맞는 row를 선택) "
   ]
  },
  {
   "cell_type": "markdown",
   "id": "0ea184ad-2a84-4435-8c04-28ba704079f1",
   "metadata": {},
   "source": [
    "## att > 90 and rep < 50 "
   ]
  },
  {
   "cell_type": "markdown",
   "id": "00e7cc99-d83a-4e88-9da5-4e30f313c7f8",
   "metadata": {},
   "source": [
    "`-` 방법1: .query()를 이용"
   ]
  },
  {
   "cell_type": "code",
   "execution_count": 457,
   "id": "bb5bd964-e90b-44d3-b827-c6faf1f4d775",
   "metadata": {},
   "outputs": [
    {
     "data": {
      "text/html": [
       "<div>\n",
       "<style scoped>\n",
       "    .dataframe tbody tr th:only-of-type {\n",
       "        vertical-align: middle;\n",
       "    }\n",
       "\n",
       "    .dataframe tbody tr th {\n",
       "        vertical-align: top;\n",
       "    }\n",
       "\n",
       "    .dataframe thead th {\n",
       "        text-align: right;\n",
       "    }\n",
       "</style>\n",
       "<table border=\"1\" class=\"dataframe\">\n",
       "  <thead>\n",
       "    <tr style=\"text-align: right;\">\n",
       "      <th></th>\n",
       "      <th>att</th>\n",
       "      <th>rep</th>\n",
       "      <th>mid</th>\n",
       "      <th>fin</th>\n",
       "    </tr>\n",
       "  </thead>\n",
       "  <tbody>\n",
       "    <tr>\n",
       "      <th>1</th>\n",
       "      <td>95</td>\n",
       "      <td>30</td>\n",
       "      <td>60</td>\n",
       "      <td>10</td>\n",
       "    </tr>\n",
       "    <tr>\n",
       "      <th>12</th>\n",
       "      <td>95</td>\n",
       "      <td>35</td>\n",
       "      <td>0</td>\n",
       "      <td>25</td>\n",
       "    </tr>\n",
       "    <tr>\n",
       "      <th>48</th>\n",
       "      <td>95</td>\n",
       "      <td>45</td>\n",
       "      <td>35</td>\n",
       "      <td>80</td>\n",
       "    </tr>\n",
       "    <tr>\n",
       "      <th>56</th>\n",
       "      <td>95</td>\n",
       "      <td>25</td>\n",
       "      <td>95</td>\n",
       "      <td>90</td>\n",
       "    </tr>\n",
       "    <tr>\n",
       "      <th>78</th>\n",
       "      <td>95</td>\n",
       "      <td>45</td>\n",
       "      <td>90</td>\n",
       "      <td>35</td>\n",
       "    </tr>\n",
       "    <tr>\n",
       "      <th>107</th>\n",
       "      <td>100</td>\n",
       "      <td>30</td>\n",
       "      <td>60</td>\n",
       "      <td>65</td>\n",
       "    </tr>\n",
       "    <tr>\n",
       "      <th>112</th>\n",
       "      <td>100</td>\n",
       "      <td>35</td>\n",
       "      <td>70</td>\n",
       "      <td>0</td>\n",
       "    </tr>\n",
       "    <tr>\n",
       "      <th>113</th>\n",
       "      <td>95</td>\n",
       "      <td>45</td>\n",
       "      <td>55</td>\n",
       "      <td>65</td>\n",
       "    </tr>\n",
       "    <tr>\n",
       "      <th>163</th>\n",
       "      <td>100</td>\n",
       "      <td>25</td>\n",
       "      <td>10</td>\n",
       "      <td>20</td>\n",
       "    </tr>\n",
       "    <tr>\n",
       "      <th>174</th>\n",
       "      <td>100</td>\n",
       "      <td>40</td>\n",
       "      <td>40</td>\n",
       "      <td>15</td>\n",
       "    </tr>\n",
       "    <tr>\n",
       "      <th>176</th>\n",
       "      <td>100</td>\n",
       "      <td>30</td>\n",
       "      <td>70</td>\n",
       "      <td>70</td>\n",
       "    </tr>\n",
       "    <tr>\n",
       "      <th>184</th>\n",
       "      <td>100</td>\n",
       "      <td>30</td>\n",
       "      <td>30</td>\n",
       "      <td>85</td>\n",
       "    </tr>\n",
       "    <tr>\n",
       "      <th>190</th>\n",
       "      <td>95</td>\n",
       "      <td>35</td>\n",
       "      <td>40</td>\n",
       "      <td>95</td>\n",
       "    </tr>\n",
       "    <tr>\n",
       "      <th>192</th>\n",
       "      <td>100</td>\n",
       "      <td>40</td>\n",
       "      <td>80</td>\n",
       "      <td>80</td>\n",
       "    </tr>\n",
       "  </tbody>\n",
       "</table>\n",
       "</div>"
      ],
      "text/plain": [
       "     att  rep  mid  fin\n",
       "1     95   30   60   10\n",
       "12    95   35    0   25\n",
       "48    95   45   35   80\n",
       "56    95   25   95   90\n",
       "78    95   45   90   35\n",
       "107  100   30   60   65\n",
       "112  100   35   70    0\n",
       "113   95   45   55   65\n",
       "163  100   25   10   20\n",
       "174  100   40   40   15\n",
       "176  100   30   70   70\n",
       "184  100   30   30   85\n",
       "190   95   35   40   95\n",
       "192  100   40   80   80"
      ]
     },
     "execution_count": 457,
     "metadata": {},
     "output_type": "execute_result"
    }
   ],
   "source": [
    "df.query('att>90 and rep<50') "
   ]
  },
  {
   "cell_type": "code",
   "execution_count": 458,
   "id": "ead8f067-8223-4539-acc3-a1b4ec3b214f",
   "metadata": {},
   "outputs": [
    {
     "data": {
      "text/html": [
       "<div>\n",
       "<style scoped>\n",
       "    .dataframe tbody tr th:only-of-type {\n",
       "        vertical-align: middle;\n",
       "    }\n",
       "\n",
       "    .dataframe tbody tr th {\n",
       "        vertical-align: top;\n",
       "    }\n",
       "\n",
       "    .dataframe thead th {\n",
       "        text-align: right;\n",
       "    }\n",
       "</style>\n",
       "<table border=\"1\" class=\"dataframe\">\n",
       "  <thead>\n",
       "    <tr style=\"text-align: right;\">\n",
       "      <th></th>\n",
       "      <th>att</th>\n",
       "      <th>rep</th>\n",
       "      <th>mid</th>\n",
       "      <th>fin</th>\n",
       "    </tr>\n",
       "  </thead>\n",
       "  <tbody>\n",
       "    <tr>\n",
       "      <th>1</th>\n",
       "      <td>95</td>\n",
       "      <td>30</td>\n",
       "      <td>60</td>\n",
       "      <td>10</td>\n",
       "    </tr>\n",
       "    <tr>\n",
       "      <th>12</th>\n",
       "      <td>95</td>\n",
       "      <td>35</td>\n",
       "      <td>0</td>\n",
       "      <td>25</td>\n",
       "    </tr>\n",
       "    <tr>\n",
       "      <th>48</th>\n",
       "      <td>95</td>\n",
       "      <td>45</td>\n",
       "      <td>35</td>\n",
       "      <td>80</td>\n",
       "    </tr>\n",
       "    <tr>\n",
       "      <th>56</th>\n",
       "      <td>95</td>\n",
       "      <td>25</td>\n",
       "      <td>95</td>\n",
       "      <td>90</td>\n",
       "    </tr>\n",
       "    <tr>\n",
       "      <th>78</th>\n",
       "      <td>95</td>\n",
       "      <td>45</td>\n",
       "      <td>90</td>\n",
       "      <td>35</td>\n",
       "    </tr>\n",
       "    <tr>\n",
       "      <th>107</th>\n",
       "      <td>100</td>\n",
       "      <td>30</td>\n",
       "      <td>60</td>\n",
       "      <td>65</td>\n",
       "    </tr>\n",
       "    <tr>\n",
       "      <th>112</th>\n",
       "      <td>100</td>\n",
       "      <td>35</td>\n",
       "      <td>70</td>\n",
       "      <td>0</td>\n",
       "    </tr>\n",
       "    <tr>\n",
       "      <th>113</th>\n",
       "      <td>95</td>\n",
       "      <td>45</td>\n",
       "      <td>55</td>\n",
       "      <td>65</td>\n",
       "    </tr>\n",
       "    <tr>\n",
       "      <th>163</th>\n",
       "      <td>100</td>\n",
       "      <td>25</td>\n",
       "      <td>10</td>\n",
       "      <td>20</td>\n",
       "    </tr>\n",
       "    <tr>\n",
       "      <th>174</th>\n",
       "      <td>100</td>\n",
       "      <td>40</td>\n",
       "      <td>40</td>\n",
       "      <td>15</td>\n",
       "    </tr>\n",
       "    <tr>\n",
       "      <th>176</th>\n",
       "      <td>100</td>\n",
       "      <td>30</td>\n",
       "      <td>70</td>\n",
       "      <td>70</td>\n",
       "    </tr>\n",
       "    <tr>\n",
       "      <th>184</th>\n",
       "      <td>100</td>\n",
       "      <td>30</td>\n",
       "      <td>30</td>\n",
       "      <td>85</td>\n",
       "    </tr>\n",
       "    <tr>\n",
       "      <th>190</th>\n",
       "      <td>95</td>\n",
       "      <td>35</td>\n",
       "      <td>40</td>\n",
       "      <td>95</td>\n",
       "    </tr>\n",
       "    <tr>\n",
       "      <th>192</th>\n",
       "      <td>100</td>\n",
       "      <td>40</td>\n",
       "      <td>80</td>\n",
       "      <td>80</td>\n",
       "    </tr>\n",
       "  </tbody>\n",
       "</table>\n",
       "</div>"
      ],
      "text/plain": [
       "     att  rep  mid  fin\n",
       "1     95   30   60   10\n",
       "12    95   35    0   25\n",
       "48    95   45   35   80\n",
       "56    95   25   95   90\n",
       "78    95   45   90   35\n",
       "107  100   30   60   65\n",
       "112  100   35   70    0\n",
       "113   95   45   55   65\n",
       "163  100   25   10   20\n",
       "174  100   40   40   15\n",
       "176  100   30   70   70\n",
       "184  100   30   30   85\n",
       "190   95   35   40   95\n",
       "192  100   40   80   80"
      ]
     },
     "execution_count": 458,
     "metadata": {},
     "output_type": "execute_result"
    }
   ],
   "source": [
    "df.query('(att>90)&(rep<50)') "
   ]
  },
  {
   "cell_type": "code",
   "execution_count": 462,
   "id": "9ba758b5-2447-44cd-82fb-b88d2eae4eb8",
   "metadata": {},
   "outputs": [
    {
     "data": {
      "text/html": [
       "<div>\n",
       "<style scoped>\n",
       "    .dataframe tbody tr th:only-of-type {\n",
       "        vertical-align: middle;\n",
       "    }\n",
       "\n",
       "    .dataframe tbody tr th {\n",
       "        vertical-align: top;\n",
       "    }\n",
       "\n",
       "    .dataframe thead th {\n",
       "        text-align: right;\n",
       "    }\n",
       "</style>\n",
       "<table border=\"1\" class=\"dataframe\">\n",
       "  <thead>\n",
       "    <tr style=\"text-align: right;\">\n",
       "      <th></th>\n",
       "      <th>att</th>\n",
       "      <th>rep</th>\n",
       "      <th>mid</th>\n",
       "      <th>fin</th>\n",
       "    </tr>\n",
       "  </thead>\n",
       "  <tbody>\n",
       "    <tr>\n",
       "      <th>1</th>\n",
       "      <td>95</td>\n",
       "      <td>30</td>\n",
       "      <td>60</td>\n",
       "      <td>10</td>\n",
       "    </tr>\n",
       "    <tr>\n",
       "      <th>12</th>\n",
       "      <td>95</td>\n",
       "      <td>35</td>\n",
       "      <td>0</td>\n",
       "      <td>25</td>\n",
       "    </tr>\n",
       "    <tr>\n",
       "      <th>48</th>\n",
       "      <td>95</td>\n",
       "      <td>45</td>\n",
       "      <td>35</td>\n",
       "      <td>80</td>\n",
       "    </tr>\n",
       "    <tr>\n",
       "      <th>56</th>\n",
       "      <td>95</td>\n",
       "      <td>25</td>\n",
       "      <td>95</td>\n",
       "      <td>90</td>\n",
       "    </tr>\n",
       "    <tr>\n",
       "      <th>78</th>\n",
       "      <td>95</td>\n",
       "      <td>45</td>\n",
       "      <td>90</td>\n",
       "      <td>35</td>\n",
       "    </tr>\n",
       "    <tr>\n",
       "      <th>107</th>\n",
       "      <td>100</td>\n",
       "      <td>30</td>\n",
       "      <td>60</td>\n",
       "      <td>65</td>\n",
       "    </tr>\n",
       "    <tr>\n",
       "      <th>112</th>\n",
       "      <td>100</td>\n",
       "      <td>35</td>\n",
       "      <td>70</td>\n",
       "      <td>0</td>\n",
       "    </tr>\n",
       "    <tr>\n",
       "      <th>113</th>\n",
       "      <td>95</td>\n",
       "      <td>45</td>\n",
       "      <td>55</td>\n",
       "      <td>65</td>\n",
       "    </tr>\n",
       "    <tr>\n",
       "      <th>163</th>\n",
       "      <td>100</td>\n",
       "      <td>25</td>\n",
       "      <td>10</td>\n",
       "      <td>20</td>\n",
       "    </tr>\n",
       "    <tr>\n",
       "      <th>174</th>\n",
       "      <td>100</td>\n",
       "      <td>40</td>\n",
       "      <td>40</td>\n",
       "      <td>15</td>\n",
       "    </tr>\n",
       "    <tr>\n",
       "      <th>176</th>\n",
       "      <td>100</td>\n",
       "      <td>30</td>\n",
       "      <td>70</td>\n",
       "      <td>70</td>\n",
       "    </tr>\n",
       "    <tr>\n",
       "      <th>184</th>\n",
       "      <td>100</td>\n",
       "      <td>30</td>\n",
       "      <td>30</td>\n",
       "      <td>85</td>\n",
       "    </tr>\n",
       "    <tr>\n",
       "      <th>190</th>\n",
       "      <td>95</td>\n",
       "      <td>35</td>\n",
       "      <td>40</td>\n",
       "      <td>95</td>\n",
       "    </tr>\n",
       "    <tr>\n",
       "      <th>192</th>\n",
       "      <td>100</td>\n",
       "      <td>40</td>\n",
       "      <td>80</td>\n",
       "      <td>80</td>\n",
       "    </tr>\n",
       "  </tbody>\n",
       "</table>\n",
       "</div>"
      ],
      "text/plain": [
       "     att  rep  mid  fin\n",
       "1     95   30   60   10\n",
       "12    95   35    0   25\n",
       "48    95   45   35   80\n",
       "56    95   25   95   90\n",
       "78    95   45   90   35\n",
       "107  100   30   60   65\n",
       "112  100   35   70    0\n",
       "113   95   45   55   65\n",
       "163  100   25   10   20\n",
       "174  100   40   40   15\n",
       "176  100   30   70   70\n",
       "184  100   30   30   85\n",
       "190   95   35   40   95\n",
       "192  100   40   80   80"
      ]
     },
     "execution_count": 462,
     "metadata": {},
     "output_type": "execute_result"
    }
   ],
   "source": [
    "df.query('att>90 & rep<50') "
   ]
  },
  {
   "cell_type": "markdown",
   "id": "07ce38ed-ed76-43b3-b90d-0e23621daba2",
   "metadata": {},
   "source": [
    "`-` 방법2: [], `.iloc`, `.loc`"
   ]
  },
  {
   "cell_type": "code",
   "execution_count": 483,
   "id": "2b6384bf-2717-446a-b4f8-807110e4a3f7",
   "metadata": {},
   "outputs": [
    {
     "data": {
      "text/html": [
       "<div>\n",
       "<style scoped>\n",
       "    .dataframe tbody tr th:only-of-type {\n",
       "        vertical-align: middle;\n",
       "    }\n",
       "\n",
       "    .dataframe tbody tr th {\n",
       "        vertical-align: top;\n",
       "    }\n",
       "\n",
       "    .dataframe thead th {\n",
       "        text-align: right;\n",
       "    }\n",
       "</style>\n",
       "<table border=\"1\" class=\"dataframe\">\n",
       "  <thead>\n",
       "    <tr style=\"text-align: right;\">\n",
       "      <th></th>\n",
       "      <th>att</th>\n",
       "      <th>rep</th>\n",
       "      <th>mid</th>\n",
       "      <th>fin</th>\n",
       "    </tr>\n",
       "  </thead>\n",
       "  <tbody>\n",
       "    <tr>\n",
       "      <th>1</th>\n",
       "      <td>95</td>\n",
       "      <td>30</td>\n",
       "      <td>60</td>\n",
       "      <td>10</td>\n",
       "    </tr>\n",
       "    <tr>\n",
       "      <th>12</th>\n",
       "      <td>95</td>\n",
       "      <td>35</td>\n",
       "      <td>0</td>\n",
       "      <td>25</td>\n",
       "    </tr>\n",
       "    <tr>\n",
       "      <th>48</th>\n",
       "      <td>95</td>\n",
       "      <td>45</td>\n",
       "      <td>35</td>\n",
       "      <td>80</td>\n",
       "    </tr>\n",
       "    <tr>\n",
       "      <th>56</th>\n",
       "      <td>95</td>\n",
       "      <td>25</td>\n",
       "      <td>95</td>\n",
       "      <td>90</td>\n",
       "    </tr>\n",
       "    <tr>\n",
       "      <th>78</th>\n",
       "      <td>95</td>\n",
       "      <td>45</td>\n",
       "      <td>90</td>\n",
       "      <td>35</td>\n",
       "    </tr>\n",
       "    <tr>\n",
       "      <th>107</th>\n",
       "      <td>100</td>\n",
       "      <td>30</td>\n",
       "      <td>60</td>\n",
       "      <td>65</td>\n",
       "    </tr>\n",
       "    <tr>\n",
       "      <th>112</th>\n",
       "      <td>100</td>\n",
       "      <td>35</td>\n",
       "      <td>70</td>\n",
       "      <td>0</td>\n",
       "    </tr>\n",
       "    <tr>\n",
       "      <th>113</th>\n",
       "      <td>95</td>\n",
       "      <td>45</td>\n",
       "      <td>55</td>\n",
       "      <td>65</td>\n",
       "    </tr>\n",
       "    <tr>\n",
       "      <th>163</th>\n",
       "      <td>100</td>\n",
       "      <td>25</td>\n",
       "      <td>10</td>\n",
       "      <td>20</td>\n",
       "    </tr>\n",
       "    <tr>\n",
       "      <th>174</th>\n",
       "      <td>100</td>\n",
       "      <td>40</td>\n",
       "      <td>40</td>\n",
       "      <td>15</td>\n",
       "    </tr>\n",
       "    <tr>\n",
       "      <th>176</th>\n",
       "      <td>100</td>\n",
       "      <td>30</td>\n",
       "      <td>70</td>\n",
       "      <td>70</td>\n",
       "    </tr>\n",
       "    <tr>\n",
       "      <th>184</th>\n",
       "      <td>100</td>\n",
       "      <td>30</td>\n",
       "      <td>30</td>\n",
       "      <td>85</td>\n",
       "    </tr>\n",
       "    <tr>\n",
       "      <th>190</th>\n",
       "      <td>95</td>\n",
       "      <td>35</td>\n",
       "      <td>40</td>\n",
       "      <td>95</td>\n",
       "    </tr>\n",
       "    <tr>\n",
       "      <th>192</th>\n",
       "      <td>100</td>\n",
       "      <td>40</td>\n",
       "      <td>80</td>\n",
       "      <td>80</td>\n",
       "    </tr>\n",
       "  </tbody>\n",
       "</table>\n",
       "</div>"
      ],
      "text/plain": [
       "     att  rep  mid  fin\n",
       "1     95   30   60   10\n",
       "12    95   35    0   25\n",
       "48    95   45   35   80\n",
       "56    95   25   95   90\n",
       "78    95   45   90   35\n",
       "107  100   30   60   65\n",
       "112  100   35   70    0\n",
       "113   95   45   55   65\n",
       "163  100   25   10   20\n",
       "174  100   40   40   15\n",
       "176  100   30   70   70\n",
       "184  100   30   30   85\n",
       "190   95   35   40   95\n",
       "192  100   40   80   80"
      ]
     },
     "execution_count": 483,
     "metadata": {},
     "output_type": "execute_result"
    }
   ],
   "source": [
    "df[(df.att > 90)&(df.rep < 50)]\n",
    "df.loc[(df.att > 90)&(df.rep < 50)]\n",
    "df.iloc[list((df.att > 90)&(df.rep < 50))]"
   ]
  },
  {
   "cell_type": "markdown",
   "id": "96ac08da-9021-4695-b30b-c89dddb609da",
   "metadata": {},
   "source": [
    "`-` 방법3: [], `.iloc`, `.loc` // map, lambda "
   ]
  },
  {
   "cell_type": "code",
   "execution_count": 499,
   "id": "fdc761fc-cc54-4840-bef4-760119152ae9",
   "metadata": {},
   "outputs": [
    {
     "data": {
      "text/html": [
       "<div>\n",
       "<style scoped>\n",
       "    .dataframe tbody tr th:only-of-type {\n",
       "        vertical-align: middle;\n",
       "    }\n",
       "\n",
       "    .dataframe tbody tr th {\n",
       "        vertical-align: top;\n",
       "    }\n",
       "\n",
       "    .dataframe thead th {\n",
       "        text-align: right;\n",
       "    }\n",
       "</style>\n",
       "<table border=\"1\" class=\"dataframe\">\n",
       "  <thead>\n",
       "    <tr style=\"text-align: right;\">\n",
       "      <th></th>\n",
       "      <th>att</th>\n",
       "      <th>rep</th>\n",
       "      <th>mid</th>\n",
       "      <th>fin</th>\n",
       "    </tr>\n",
       "  </thead>\n",
       "  <tbody>\n",
       "    <tr>\n",
       "      <th>1</th>\n",
       "      <td>95</td>\n",
       "      <td>30</td>\n",
       "      <td>60</td>\n",
       "      <td>10</td>\n",
       "    </tr>\n",
       "    <tr>\n",
       "      <th>12</th>\n",
       "      <td>95</td>\n",
       "      <td>35</td>\n",
       "      <td>0</td>\n",
       "      <td>25</td>\n",
       "    </tr>\n",
       "    <tr>\n",
       "      <th>48</th>\n",
       "      <td>95</td>\n",
       "      <td>45</td>\n",
       "      <td>35</td>\n",
       "      <td>80</td>\n",
       "    </tr>\n",
       "    <tr>\n",
       "      <th>56</th>\n",
       "      <td>95</td>\n",
       "      <td>25</td>\n",
       "      <td>95</td>\n",
       "      <td>90</td>\n",
       "    </tr>\n",
       "    <tr>\n",
       "      <th>78</th>\n",
       "      <td>95</td>\n",
       "      <td>45</td>\n",
       "      <td>90</td>\n",
       "      <td>35</td>\n",
       "    </tr>\n",
       "    <tr>\n",
       "      <th>107</th>\n",
       "      <td>100</td>\n",
       "      <td>30</td>\n",
       "      <td>60</td>\n",
       "      <td>65</td>\n",
       "    </tr>\n",
       "    <tr>\n",
       "      <th>112</th>\n",
       "      <td>100</td>\n",
       "      <td>35</td>\n",
       "      <td>70</td>\n",
       "      <td>0</td>\n",
       "    </tr>\n",
       "    <tr>\n",
       "      <th>113</th>\n",
       "      <td>95</td>\n",
       "      <td>45</td>\n",
       "      <td>55</td>\n",
       "      <td>65</td>\n",
       "    </tr>\n",
       "    <tr>\n",
       "      <th>163</th>\n",
       "      <td>100</td>\n",
       "      <td>25</td>\n",
       "      <td>10</td>\n",
       "      <td>20</td>\n",
       "    </tr>\n",
       "    <tr>\n",
       "      <th>174</th>\n",
       "      <td>100</td>\n",
       "      <td>40</td>\n",
       "      <td>40</td>\n",
       "      <td>15</td>\n",
       "    </tr>\n",
       "    <tr>\n",
       "      <th>176</th>\n",
       "      <td>100</td>\n",
       "      <td>30</td>\n",
       "      <td>70</td>\n",
       "      <td>70</td>\n",
       "    </tr>\n",
       "    <tr>\n",
       "      <th>184</th>\n",
       "      <td>100</td>\n",
       "      <td>30</td>\n",
       "      <td>30</td>\n",
       "      <td>85</td>\n",
       "    </tr>\n",
       "    <tr>\n",
       "      <th>190</th>\n",
       "      <td>95</td>\n",
       "      <td>35</td>\n",
       "      <td>40</td>\n",
       "      <td>95</td>\n",
       "    </tr>\n",
       "    <tr>\n",
       "      <th>192</th>\n",
       "      <td>100</td>\n",
       "      <td>40</td>\n",
       "      <td>80</td>\n",
       "      <td>80</td>\n",
       "    </tr>\n",
       "  </tbody>\n",
       "</table>\n",
       "</div>"
      ],
      "text/plain": [
       "     att  rep  mid  fin\n",
       "1     95   30   60   10\n",
       "12    95   35    0   25\n",
       "48    95   45   35   80\n",
       "56    95   25   95   90\n",
       "78    95   45   90   35\n",
       "107  100   30   60   65\n",
       "112  100   35   70    0\n",
       "113   95   45   55   65\n",
       "163  100   25   10   20\n",
       "174  100   40   40   15\n",
       "176  100   30   70   70\n",
       "184  100   30   30   85\n",
       "190   95   35   40   95\n",
       "192  100   40   80   80"
      ]
     },
     "execution_count": 499,
     "metadata": {},
     "output_type": "execute_result"
    }
   ],
   "source": [
    "df[list(map(lambda x,y: (x>90)&(y<50), df.att, df.rep))]\n",
    "# df[map(lambda x,y: (x>90)&(y<50), df.att, df.rep)] # 이것은 불가능"
   ]
  },
  {
   "cell_type": "code",
   "execution_count": 497,
   "id": "5304466b-38f1-44b7-ba9d-b367f58a2518",
   "metadata": {},
   "outputs": [
    {
     "data": {
      "text/html": [
       "<div>\n",
       "<style scoped>\n",
       "    .dataframe tbody tr th:only-of-type {\n",
       "        vertical-align: middle;\n",
       "    }\n",
       "\n",
       "    .dataframe tbody tr th {\n",
       "        vertical-align: top;\n",
       "    }\n",
       "\n",
       "    .dataframe thead th {\n",
       "        text-align: right;\n",
       "    }\n",
       "</style>\n",
       "<table border=\"1\" class=\"dataframe\">\n",
       "  <thead>\n",
       "    <tr style=\"text-align: right;\">\n",
       "      <th></th>\n",
       "      <th>att</th>\n",
       "      <th>rep</th>\n",
       "      <th>mid</th>\n",
       "      <th>fin</th>\n",
       "    </tr>\n",
       "  </thead>\n",
       "  <tbody>\n",
       "    <tr>\n",
       "      <th>1</th>\n",
       "      <td>95</td>\n",
       "      <td>30</td>\n",
       "      <td>60</td>\n",
       "      <td>10</td>\n",
       "    </tr>\n",
       "    <tr>\n",
       "      <th>12</th>\n",
       "      <td>95</td>\n",
       "      <td>35</td>\n",
       "      <td>0</td>\n",
       "      <td>25</td>\n",
       "    </tr>\n",
       "    <tr>\n",
       "      <th>48</th>\n",
       "      <td>95</td>\n",
       "      <td>45</td>\n",
       "      <td>35</td>\n",
       "      <td>80</td>\n",
       "    </tr>\n",
       "    <tr>\n",
       "      <th>56</th>\n",
       "      <td>95</td>\n",
       "      <td>25</td>\n",
       "      <td>95</td>\n",
       "      <td>90</td>\n",
       "    </tr>\n",
       "    <tr>\n",
       "      <th>78</th>\n",
       "      <td>95</td>\n",
       "      <td>45</td>\n",
       "      <td>90</td>\n",
       "      <td>35</td>\n",
       "    </tr>\n",
       "    <tr>\n",
       "      <th>107</th>\n",
       "      <td>100</td>\n",
       "      <td>30</td>\n",
       "      <td>60</td>\n",
       "      <td>65</td>\n",
       "    </tr>\n",
       "    <tr>\n",
       "      <th>112</th>\n",
       "      <td>100</td>\n",
       "      <td>35</td>\n",
       "      <td>70</td>\n",
       "      <td>0</td>\n",
       "    </tr>\n",
       "    <tr>\n",
       "      <th>113</th>\n",
       "      <td>95</td>\n",
       "      <td>45</td>\n",
       "      <td>55</td>\n",
       "      <td>65</td>\n",
       "    </tr>\n",
       "    <tr>\n",
       "      <th>163</th>\n",
       "      <td>100</td>\n",
       "      <td>25</td>\n",
       "      <td>10</td>\n",
       "      <td>20</td>\n",
       "    </tr>\n",
       "    <tr>\n",
       "      <th>174</th>\n",
       "      <td>100</td>\n",
       "      <td>40</td>\n",
       "      <td>40</td>\n",
       "      <td>15</td>\n",
       "    </tr>\n",
       "    <tr>\n",
       "      <th>176</th>\n",
       "      <td>100</td>\n",
       "      <td>30</td>\n",
       "      <td>70</td>\n",
       "      <td>70</td>\n",
       "    </tr>\n",
       "    <tr>\n",
       "      <th>184</th>\n",
       "      <td>100</td>\n",
       "      <td>30</td>\n",
       "      <td>30</td>\n",
       "      <td>85</td>\n",
       "    </tr>\n",
       "    <tr>\n",
       "      <th>190</th>\n",
       "      <td>95</td>\n",
       "      <td>35</td>\n",
       "      <td>40</td>\n",
       "      <td>95</td>\n",
       "    </tr>\n",
       "    <tr>\n",
       "      <th>192</th>\n",
       "      <td>100</td>\n",
       "      <td>40</td>\n",
       "      <td>80</td>\n",
       "      <td>80</td>\n",
       "    </tr>\n",
       "  </tbody>\n",
       "</table>\n",
       "</div>"
      ],
      "text/plain": [
       "     att  rep  mid  fin\n",
       "1     95   30   60   10\n",
       "12    95   35    0   25\n",
       "48    95   45   35   80\n",
       "56    95   25   95   90\n",
       "78    95   45   90   35\n",
       "107  100   30   60   65\n",
       "112  100   35   70    0\n",
       "113   95   45   55   65\n",
       "163  100   25   10   20\n",
       "174  100   40   40   15\n",
       "176  100   30   70   70\n",
       "184  100   30   30   85\n",
       "190   95   35   40   95\n",
       "192  100   40   80   80"
      ]
     },
     "execution_count": 497,
     "metadata": {},
     "output_type": "execute_result"
    }
   ],
   "source": [
    "df.iloc[list(map(lambda x,y: (x>90)&(y<50), df.att, df.rep))]\n",
    "df.iloc[map(lambda x,y: (x>90)&(y<50), df.att, df.rep)]"
   ]
  },
  {
   "cell_type": "code",
   "execution_count": 496,
   "id": "7323f7f1-7e86-48eb-8514-3cab4376fabd",
   "metadata": {},
   "outputs": [
    {
     "data": {
      "text/html": [
       "<div>\n",
       "<style scoped>\n",
       "    .dataframe tbody tr th:only-of-type {\n",
       "        vertical-align: middle;\n",
       "    }\n",
       "\n",
       "    .dataframe tbody tr th {\n",
       "        vertical-align: top;\n",
       "    }\n",
       "\n",
       "    .dataframe thead th {\n",
       "        text-align: right;\n",
       "    }\n",
       "</style>\n",
       "<table border=\"1\" class=\"dataframe\">\n",
       "  <thead>\n",
       "    <tr style=\"text-align: right;\">\n",
       "      <th></th>\n",
       "      <th>att</th>\n",
       "      <th>rep</th>\n",
       "      <th>mid</th>\n",
       "      <th>fin</th>\n",
       "    </tr>\n",
       "  </thead>\n",
       "  <tbody>\n",
       "    <tr>\n",
       "      <th>1</th>\n",
       "      <td>95</td>\n",
       "      <td>30</td>\n",
       "      <td>60</td>\n",
       "      <td>10</td>\n",
       "    </tr>\n",
       "    <tr>\n",
       "      <th>12</th>\n",
       "      <td>95</td>\n",
       "      <td>35</td>\n",
       "      <td>0</td>\n",
       "      <td>25</td>\n",
       "    </tr>\n",
       "    <tr>\n",
       "      <th>48</th>\n",
       "      <td>95</td>\n",
       "      <td>45</td>\n",
       "      <td>35</td>\n",
       "      <td>80</td>\n",
       "    </tr>\n",
       "    <tr>\n",
       "      <th>56</th>\n",
       "      <td>95</td>\n",
       "      <td>25</td>\n",
       "      <td>95</td>\n",
       "      <td>90</td>\n",
       "    </tr>\n",
       "    <tr>\n",
       "      <th>78</th>\n",
       "      <td>95</td>\n",
       "      <td>45</td>\n",
       "      <td>90</td>\n",
       "      <td>35</td>\n",
       "    </tr>\n",
       "    <tr>\n",
       "      <th>107</th>\n",
       "      <td>100</td>\n",
       "      <td>30</td>\n",
       "      <td>60</td>\n",
       "      <td>65</td>\n",
       "    </tr>\n",
       "    <tr>\n",
       "      <th>112</th>\n",
       "      <td>100</td>\n",
       "      <td>35</td>\n",
       "      <td>70</td>\n",
       "      <td>0</td>\n",
       "    </tr>\n",
       "    <tr>\n",
       "      <th>113</th>\n",
       "      <td>95</td>\n",
       "      <td>45</td>\n",
       "      <td>55</td>\n",
       "      <td>65</td>\n",
       "    </tr>\n",
       "    <tr>\n",
       "      <th>163</th>\n",
       "      <td>100</td>\n",
       "      <td>25</td>\n",
       "      <td>10</td>\n",
       "      <td>20</td>\n",
       "    </tr>\n",
       "    <tr>\n",
       "      <th>174</th>\n",
       "      <td>100</td>\n",
       "      <td>40</td>\n",
       "      <td>40</td>\n",
       "      <td>15</td>\n",
       "    </tr>\n",
       "    <tr>\n",
       "      <th>176</th>\n",
       "      <td>100</td>\n",
       "      <td>30</td>\n",
       "      <td>70</td>\n",
       "      <td>70</td>\n",
       "    </tr>\n",
       "    <tr>\n",
       "      <th>184</th>\n",
       "      <td>100</td>\n",
       "      <td>30</td>\n",
       "      <td>30</td>\n",
       "      <td>85</td>\n",
       "    </tr>\n",
       "    <tr>\n",
       "      <th>190</th>\n",
       "      <td>95</td>\n",
       "      <td>35</td>\n",
       "      <td>40</td>\n",
       "      <td>95</td>\n",
       "    </tr>\n",
       "    <tr>\n",
       "      <th>192</th>\n",
       "      <td>100</td>\n",
       "      <td>40</td>\n",
       "      <td>80</td>\n",
       "      <td>80</td>\n",
       "    </tr>\n",
       "  </tbody>\n",
       "</table>\n",
       "</div>"
      ],
      "text/plain": [
       "     att  rep  mid  fin\n",
       "1     95   30   60   10\n",
       "12    95   35    0   25\n",
       "48    95   45   35   80\n",
       "56    95   25   95   90\n",
       "78    95   45   90   35\n",
       "107  100   30   60   65\n",
       "112  100   35   70    0\n",
       "113   95   45   55   65\n",
       "163  100   25   10   20\n",
       "174  100   40   40   15\n",
       "176  100   30   70   70\n",
       "184  100   30   30   85\n",
       "190   95   35   40   95\n",
       "192  100   40   80   80"
      ]
     },
     "execution_count": 496,
     "metadata": {},
     "output_type": "execute_result"
    }
   ],
   "source": [
    "df.loc[list(map(lambda x,y: (x>90)&(y<50), df.att, df.rep))]\n",
    "df.loc[map(lambda x,y: (x>90)&(y<50), df.att, df.rep)]"
   ]
  },
  {
   "cell_type": "markdown",
   "id": "7a82ae15-3559-44ce-a0c8-767862ad8cb3",
   "metadata": {},
   "source": [
    "## att > mean(att)"
   ]
  },
  {
   "cell_type": "markdown",
   "id": "62dc312a-c5cf-4156-b510-cb94f5d02b8c",
   "metadata": {},
   "source": [
    "`-` 방법1: .query()를 이용"
   ]
  },
  {
   "cell_type": "code",
   "execution_count": 507,
   "id": "fc51b8ae-566a-4705-84a6-733b7ca14398",
   "metadata": {},
   "outputs": [
    {
     "data": {
      "text/html": [
       "<div>\n",
       "<style scoped>\n",
       "    .dataframe tbody tr th:only-of-type {\n",
       "        vertical-align: middle;\n",
       "    }\n",
       "\n",
       "    .dataframe tbody tr th {\n",
       "        vertical-align: top;\n",
       "    }\n",
       "\n",
       "    .dataframe thead th {\n",
       "        text-align: right;\n",
       "    }\n",
       "</style>\n",
       "<table border=\"1\" class=\"dataframe\">\n",
       "  <thead>\n",
       "    <tr style=\"text-align: right;\">\n",
       "      <th></th>\n",
       "      <th>att</th>\n",
       "      <th>rep</th>\n",
       "      <th>mid</th>\n",
       "      <th>fin</th>\n",
       "    </tr>\n",
       "  </thead>\n",
       "  <tbody>\n",
       "    <tr>\n",
       "      <th>1</th>\n",
       "      <td>95</td>\n",
       "      <td>30</td>\n",
       "      <td>60</td>\n",
       "      <td>10</td>\n",
       "    </tr>\n",
       "    <tr>\n",
       "      <th>4</th>\n",
       "      <td>80</td>\n",
       "      <td>60</td>\n",
       "      <td>55</td>\n",
       "      <td>70</td>\n",
       "    </tr>\n",
       "    <tr>\n",
       "      <th>8</th>\n",
       "      <td>95</td>\n",
       "      <td>55</td>\n",
       "      <td>65</td>\n",
       "      <td>90</td>\n",
       "    </tr>\n",
       "    <tr>\n",
       "      <th>9</th>\n",
       "      <td>90</td>\n",
       "      <td>25</td>\n",
       "      <td>95</td>\n",
       "      <td>50</td>\n",
       "    </tr>\n",
       "    <tr>\n",
       "      <th>11</th>\n",
       "      <td>95</td>\n",
       "      <td>60</td>\n",
       "      <td>25</td>\n",
       "      <td>55</td>\n",
       "    </tr>\n",
       "    <tr>\n",
       "      <th>...</th>\n",
       "      <td>...</td>\n",
       "      <td>...</td>\n",
       "      <td>...</td>\n",
       "      <td>...</td>\n",
       "    </tr>\n",
       "    <tr>\n",
       "      <th>184</th>\n",
       "      <td>100</td>\n",
       "      <td>30</td>\n",
       "      <td>30</td>\n",
       "      <td>85</td>\n",
       "    </tr>\n",
       "    <tr>\n",
       "      <th>190</th>\n",
       "      <td>95</td>\n",
       "      <td>35</td>\n",
       "      <td>40</td>\n",
       "      <td>95</td>\n",
       "    </tr>\n",
       "    <tr>\n",
       "      <th>192</th>\n",
       "      <td>100</td>\n",
       "      <td>40</td>\n",
       "      <td>80</td>\n",
       "      <td>80</td>\n",
       "    </tr>\n",
       "    <tr>\n",
       "      <th>197</th>\n",
       "      <td>85</td>\n",
       "      <td>85</td>\n",
       "      <td>100</td>\n",
       "      <td>10</td>\n",
       "    </tr>\n",
       "    <tr>\n",
       "      <th>198</th>\n",
       "      <td>80</td>\n",
       "      <td>65</td>\n",
       "      <td>35</td>\n",
       "      <td>60</td>\n",
       "    </tr>\n",
       "  </tbody>\n",
       "</table>\n",
       "<p>95 rows × 4 columns</p>\n",
       "</div>"
      ],
      "text/plain": [
       "     att  rep  mid  fin\n",
       "1     95   30   60   10\n",
       "4     80   60   55   70\n",
       "8     95   55   65   90\n",
       "9     90   25   95   50\n",
       "11    95   60   25   55\n",
       "..   ...  ...  ...  ...\n",
       "184  100   30   30   85\n",
       "190   95   35   40   95\n",
       "192  100   40   80   80\n",
       "197   85   85  100   10\n",
       "198   80   65   35   60\n",
       "\n",
       "[95 rows x 4 columns]"
      ]
     },
     "execution_count": 507,
     "metadata": {},
     "output_type": "execute_result"
    }
   ],
   "source": [
    "df.query('att> att.mean()') "
   ]
  },
  {
   "cell_type": "markdown",
   "id": "2001567a-66df-4774-a60c-1f7ad6722db8",
   "metadata": {},
   "source": [
    "`-` 방법2: [], `.iloc`, `.loc`"
   ]
  },
  {
   "cell_type": "code",
   "execution_count": 506,
   "id": "52df2458-9ff4-44e4-9a61-3927dc9271bd",
   "metadata": {},
   "outputs": [
    {
     "data": {
      "text/html": [
       "<div>\n",
       "<style scoped>\n",
       "    .dataframe tbody tr th:only-of-type {\n",
       "        vertical-align: middle;\n",
       "    }\n",
       "\n",
       "    .dataframe tbody tr th {\n",
       "        vertical-align: top;\n",
       "    }\n",
       "\n",
       "    .dataframe thead th {\n",
       "        text-align: right;\n",
       "    }\n",
       "</style>\n",
       "<table border=\"1\" class=\"dataframe\">\n",
       "  <thead>\n",
       "    <tr style=\"text-align: right;\">\n",
       "      <th></th>\n",
       "      <th>att</th>\n",
       "      <th>rep</th>\n",
       "      <th>mid</th>\n",
       "      <th>fin</th>\n",
       "    </tr>\n",
       "  </thead>\n",
       "  <tbody>\n",
       "    <tr>\n",
       "      <th>1</th>\n",
       "      <td>95</td>\n",
       "      <td>30</td>\n",
       "      <td>60</td>\n",
       "      <td>10</td>\n",
       "    </tr>\n",
       "    <tr>\n",
       "      <th>4</th>\n",
       "      <td>80</td>\n",
       "      <td>60</td>\n",
       "      <td>55</td>\n",
       "      <td>70</td>\n",
       "    </tr>\n",
       "    <tr>\n",
       "      <th>8</th>\n",
       "      <td>95</td>\n",
       "      <td>55</td>\n",
       "      <td>65</td>\n",
       "      <td>90</td>\n",
       "    </tr>\n",
       "    <tr>\n",
       "      <th>9</th>\n",
       "      <td>90</td>\n",
       "      <td>25</td>\n",
       "      <td>95</td>\n",
       "      <td>50</td>\n",
       "    </tr>\n",
       "    <tr>\n",
       "      <th>11</th>\n",
       "      <td>95</td>\n",
       "      <td>60</td>\n",
       "      <td>25</td>\n",
       "      <td>55</td>\n",
       "    </tr>\n",
       "    <tr>\n",
       "      <th>...</th>\n",
       "      <td>...</td>\n",
       "      <td>...</td>\n",
       "      <td>...</td>\n",
       "      <td>...</td>\n",
       "    </tr>\n",
       "    <tr>\n",
       "      <th>184</th>\n",
       "      <td>100</td>\n",
       "      <td>30</td>\n",
       "      <td>30</td>\n",
       "      <td>85</td>\n",
       "    </tr>\n",
       "    <tr>\n",
       "      <th>190</th>\n",
       "      <td>95</td>\n",
       "      <td>35</td>\n",
       "      <td>40</td>\n",
       "      <td>95</td>\n",
       "    </tr>\n",
       "    <tr>\n",
       "      <th>192</th>\n",
       "      <td>100</td>\n",
       "      <td>40</td>\n",
       "      <td>80</td>\n",
       "      <td>80</td>\n",
       "    </tr>\n",
       "    <tr>\n",
       "      <th>197</th>\n",
       "      <td>85</td>\n",
       "      <td>85</td>\n",
       "      <td>100</td>\n",
       "      <td>10</td>\n",
       "    </tr>\n",
       "    <tr>\n",
       "      <th>198</th>\n",
       "      <td>80</td>\n",
       "      <td>65</td>\n",
       "      <td>35</td>\n",
       "      <td>60</td>\n",
       "    </tr>\n",
       "  </tbody>\n",
       "</table>\n",
       "<p>95 rows × 4 columns</p>\n",
       "</div>"
      ],
      "text/plain": [
       "     att  rep  mid  fin\n",
       "1     95   30   60   10\n",
       "4     80   60   55   70\n",
       "8     95   55   65   90\n",
       "9     90   25   95   50\n",
       "11    95   60   25   55\n",
       "..   ...  ...  ...  ...\n",
       "184  100   30   30   85\n",
       "190   95   35   40   95\n",
       "192  100   40   80   80\n",
       "197   85   85  100   10\n",
       "198   80   65   35   60\n",
       "\n",
       "[95 rows x 4 columns]"
      ]
     },
     "execution_count": 506,
     "metadata": {},
     "output_type": "execute_result"
    }
   ],
   "source": [
    "df[df.att > df.att.mean()]\n",
    "df.loc[df.att > df.att.mean()]\n",
    "df.iloc[list(df.att > df.att.mean())]"
   ]
  },
  {
   "cell_type": "markdown",
   "id": "e0b36612-ca5e-449c-bef7-ef1acd0bde0b",
   "metadata": {},
   "source": [
    "`-` 방법3: [], `.iloc`, `.loc` // map, lambda "
   ]
  },
  {
   "cell_type": "code",
   "execution_count": 513,
   "id": "37b0aefa-d026-421f-91ed-0ac71cbbd32d",
   "metadata": {},
   "outputs": [
    {
     "data": {
      "text/html": [
       "<div>\n",
       "<style scoped>\n",
       "    .dataframe tbody tr th:only-of-type {\n",
       "        vertical-align: middle;\n",
       "    }\n",
       "\n",
       "    .dataframe tbody tr th {\n",
       "        vertical-align: top;\n",
       "    }\n",
       "\n",
       "    .dataframe thead th {\n",
       "        text-align: right;\n",
       "    }\n",
       "</style>\n",
       "<table border=\"1\" class=\"dataframe\">\n",
       "  <thead>\n",
       "    <tr style=\"text-align: right;\">\n",
       "      <th></th>\n",
       "      <th>att</th>\n",
       "      <th>rep</th>\n",
       "      <th>mid</th>\n",
       "      <th>fin</th>\n",
       "    </tr>\n",
       "  </thead>\n",
       "  <tbody>\n",
       "    <tr>\n",
       "      <th>1</th>\n",
       "      <td>95</td>\n",
       "      <td>30</td>\n",
       "      <td>60</td>\n",
       "      <td>10</td>\n",
       "    </tr>\n",
       "    <tr>\n",
       "      <th>4</th>\n",
       "      <td>80</td>\n",
       "      <td>60</td>\n",
       "      <td>55</td>\n",
       "      <td>70</td>\n",
       "    </tr>\n",
       "    <tr>\n",
       "      <th>8</th>\n",
       "      <td>95</td>\n",
       "      <td>55</td>\n",
       "      <td>65</td>\n",
       "      <td>90</td>\n",
       "    </tr>\n",
       "    <tr>\n",
       "      <th>9</th>\n",
       "      <td>90</td>\n",
       "      <td>25</td>\n",
       "      <td>95</td>\n",
       "      <td>50</td>\n",
       "    </tr>\n",
       "    <tr>\n",
       "      <th>11</th>\n",
       "      <td>95</td>\n",
       "      <td>60</td>\n",
       "      <td>25</td>\n",
       "      <td>55</td>\n",
       "    </tr>\n",
       "    <tr>\n",
       "      <th>...</th>\n",
       "      <td>...</td>\n",
       "      <td>...</td>\n",
       "      <td>...</td>\n",
       "      <td>...</td>\n",
       "    </tr>\n",
       "    <tr>\n",
       "      <th>184</th>\n",
       "      <td>100</td>\n",
       "      <td>30</td>\n",
       "      <td>30</td>\n",
       "      <td>85</td>\n",
       "    </tr>\n",
       "    <tr>\n",
       "      <th>190</th>\n",
       "      <td>95</td>\n",
       "      <td>35</td>\n",
       "      <td>40</td>\n",
       "      <td>95</td>\n",
       "    </tr>\n",
       "    <tr>\n",
       "      <th>192</th>\n",
       "      <td>100</td>\n",
       "      <td>40</td>\n",
       "      <td>80</td>\n",
       "      <td>80</td>\n",
       "    </tr>\n",
       "    <tr>\n",
       "      <th>197</th>\n",
       "      <td>85</td>\n",
       "      <td>85</td>\n",
       "      <td>100</td>\n",
       "      <td>10</td>\n",
       "    </tr>\n",
       "    <tr>\n",
       "      <th>198</th>\n",
       "      <td>80</td>\n",
       "      <td>65</td>\n",
       "      <td>35</td>\n",
       "      <td>60</td>\n",
       "    </tr>\n",
       "  </tbody>\n",
       "</table>\n",
       "<p>95 rows × 4 columns</p>\n",
       "</div>"
      ],
      "text/plain": [
       "     att  rep  mid  fin\n",
       "1     95   30   60   10\n",
       "4     80   60   55   70\n",
       "8     95   55   65   90\n",
       "9     90   25   95   50\n",
       "11    95   60   25   55\n",
       "..   ...  ...  ...  ...\n",
       "184  100   30   30   85\n",
       "190   95   35   40   95\n",
       "192  100   40   80   80\n",
       "197   85   85  100   10\n",
       "198   80   65   35   60\n",
       "\n",
       "[95 rows x 4 columns]"
      ]
     },
     "execution_count": 513,
     "metadata": {},
     "output_type": "execute_result"
    }
   ],
   "source": [
    "df[list(map(lambda x: x>df.att.mean() , df.att))]\n",
    "# df[map(lambda x: x>df.att.mean() , df.att)] # 이것은 불가능"
   ]
  },
  {
   "cell_type": "code",
   "execution_count": 514,
   "id": "b6f641f2-bc0a-4312-a199-9b852e701874",
   "metadata": {},
   "outputs": [
    {
     "data": {
      "text/html": [
       "<div>\n",
       "<style scoped>\n",
       "    .dataframe tbody tr th:only-of-type {\n",
       "        vertical-align: middle;\n",
       "    }\n",
       "\n",
       "    .dataframe tbody tr th {\n",
       "        vertical-align: top;\n",
       "    }\n",
       "\n",
       "    .dataframe thead th {\n",
       "        text-align: right;\n",
       "    }\n",
       "</style>\n",
       "<table border=\"1\" class=\"dataframe\">\n",
       "  <thead>\n",
       "    <tr style=\"text-align: right;\">\n",
       "      <th></th>\n",
       "      <th>att</th>\n",
       "      <th>rep</th>\n",
       "      <th>mid</th>\n",
       "      <th>fin</th>\n",
       "    </tr>\n",
       "  </thead>\n",
       "  <tbody>\n",
       "    <tr>\n",
       "      <th>1</th>\n",
       "      <td>95</td>\n",
       "      <td>30</td>\n",
       "      <td>60</td>\n",
       "      <td>10</td>\n",
       "    </tr>\n",
       "    <tr>\n",
       "      <th>4</th>\n",
       "      <td>80</td>\n",
       "      <td>60</td>\n",
       "      <td>55</td>\n",
       "      <td>70</td>\n",
       "    </tr>\n",
       "    <tr>\n",
       "      <th>8</th>\n",
       "      <td>95</td>\n",
       "      <td>55</td>\n",
       "      <td>65</td>\n",
       "      <td>90</td>\n",
       "    </tr>\n",
       "    <tr>\n",
       "      <th>9</th>\n",
       "      <td>90</td>\n",
       "      <td>25</td>\n",
       "      <td>95</td>\n",
       "      <td>50</td>\n",
       "    </tr>\n",
       "    <tr>\n",
       "      <th>11</th>\n",
       "      <td>95</td>\n",
       "      <td>60</td>\n",
       "      <td>25</td>\n",
       "      <td>55</td>\n",
       "    </tr>\n",
       "    <tr>\n",
       "      <th>...</th>\n",
       "      <td>...</td>\n",
       "      <td>...</td>\n",
       "      <td>...</td>\n",
       "      <td>...</td>\n",
       "    </tr>\n",
       "    <tr>\n",
       "      <th>184</th>\n",
       "      <td>100</td>\n",
       "      <td>30</td>\n",
       "      <td>30</td>\n",
       "      <td>85</td>\n",
       "    </tr>\n",
       "    <tr>\n",
       "      <th>190</th>\n",
       "      <td>95</td>\n",
       "      <td>35</td>\n",
       "      <td>40</td>\n",
       "      <td>95</td>\n",
       "    </tr>\n",
       "    <tr>\n",
       "      <th>192</th>\n",
       "      <td>100</td>\n",
       "      <td>40</td>\n",
       "      <td>80</td>\n",
       "      <td>80</td>\n",
       "    </tr>\n",
       "    <tr>\n",
       "      <th>197</th>\n",
       "      <td>85</td>\n",
       "      <td>85</td>\n",
       "      <td>100</td>\n",
       "      <td>10</td>\n",
       "    </tr>\n",
       "    <tr>\n",
       "      <th>198</th>\n",
       "      <td>80</td>\n",
       "      <td>65</td>\n",
       "      <td>35</td>\n",
       "      <td>60</td>\n",
       "    </tr>\n",
       "  </tbody>\n",
       "</table>\n",
       "<p>95 rows × 4 columns</p>\n",
       "</div>"
      ],
      "text/plain": [
       "     att  rep  mid  fin\n",
       "1     95   30   60   10\n",
       "4     80   60   55   70\n",
       "8     95   55   65   90\n",
       "9     90   25   95   50\n",
       "11    95   60   25   55\n",
       "..   ...  ...  ...  ...\n",
       "184  100   30   30   85\n",
       "190   95   35   40   95\n",
       "192  100   40   80   80\n",
       "197   85   85  100   10\n",
       "198   80   65   35   60\n",
       "\n",
       "[95 rows x 4 columns]"
      ]
     },
     "execution_count": 514,
     "metadata": {},
     "output_type": "execute_result"
    }
   ],
   "source": [
    "df.iloc[list(map(lambda x: x>df.att.mean() , df.att))]\n",
    "df.iloc[map(lambda x: x>df.att.mean() , df.att)]"
   ]
  },
  {
   "cell_type": "code",
   "execution_count": 515,
   "id": "4178de3a-0ebf-4e6a-8cb5-2d26ecdae948",
   "metadata": {},
   "outputs": [
    {
     "data": {
      "text/html": [
       "<div>\n",
       "<style scoped>\n",
       "    .dataframe tbody tr th:only-of-type {\n",
       "        vertical-align: middle;\n",
       "    }\n",
       "\n",
       "    .dataframe tbody tr th {\n",
       "        vertical-align: top;\n",
       "    }\n",
       "\n",
       "    .dataframe thead th {\n",
       "        text-align: right;\n",
       "    }\n",
       "</style>\n",
       "<table border=\"1\" class=\"dataframe\">\n",
       "  <thead>\n",
       "    <tr style=\"text-align: right;\">\n",
       "      <th></th>\n",
       "      <th>att</th>\n",
       "      <th>rep</th>\n",
       "      <th>mid</th>\n",
       "      <th>fin</th>\n",
       "    </tr>\n",
       "  </thead>\n",
       "  <tbody>\n",
       "    <tr>\n",
       "      <th>1</th>\n",
       "      <td>95</td>\n",
       "      <td>30</td>\n",
       "      <td>60</td>\n",
       "      <td>10</td>\n",
       "    </tr>\n",
       "    <tr>\n",
       "      <th>4</th>\n",
       "      <td>80</td>\n",
       "      <td>60</td>\n",
       "      <td>55</td>\n",
       "      <td>70</td>\n",
       "    </tr>\n",
       "    <tr>\n",
       "      <th>8</th>\n",
       "      <td>95</td>\n",
       "      <td>55</td>\n",
       "      <td>65</td>\n",
       "      <td>90</td>\n",
       "    </tr>\n",
       "    <tr>\n",
       "      <th>9</th>\n",
       "      <td>90</td>\n",
       "      <td>25</td>\n",
       "      <td>95</td>\n",
       "      <td>50</td>\n",
       "    </tr>\n",
       "    <tr>\n",
       "      <th>11</th>\n",
       "      <td>95</td>\n",
       "      <td>60</td>\n",
       "      <td>25</td>\n",
       "      <td>55</td>\n",
       "    </tr>\n",
       "    <tr>\n",
       "      <th>...</th>\n",
       "      <td>...</td>\n",
       "      <td>...</td>\n",
       "      <td>...</td>\n",
       "      <td>...</td>\n",
       "    </tr>\n",
       "    <tr>\n",
       "      <th>184</th>\n",
       "      <td>100</td>\n",
       "      <td>30</td>\n",
       "      <td>30</td>\n",
       "      <td>85</td>\n",
       "    </tr>\n",
       "    <tr>\n",
       "      <th>190</th>\n",
       "      <td>95</td>\n",
       "      <td>35</td>\n",
       "      <td>40</td>\n",
       "      <td>95</td>\n",
       "    </tr>\n",
       "    <tr>\n",
       "      <th>192</th>\n",
       "      <td>100</td>\n",
       "      <td>40</td>\n",
       "      <td>80</td>\n",
       "      <td>80</td>\n",
       "    </tr>\n",
       "    <tr>\n",
       "      <th>197</th>\n",
       "      <td>85</td>\n",
       "      <td>85</td>\n",
       "      <td>100</td>\n",
       "      <td>10</td>\n",
       "    </tr>\n",
       "    <tr>\n",
       "      <th>198</th>\n",
       "      <td>80</td>\n",
       "      <td>65</td>\n",
       "      <td>35</td>\n",
       "      <td>60</td>\n",
       "    </tr>\n",
       "  </tbody>\n",
       "</table>\n",
       "<p>95 rows × 4 columns</p>\n",
       "</div>"
      ],
      "text/plain": [
       "     att  rep  mid  fin\n",
       "1     95   30   60   10\n",
       "4     80   60   55   70\n",
       "8     95   55   65   90\n",
       "9     90   25   95   50\n",
       "11    95   60   25   55\n",
       "..   ...  ...  ...  ...\n",
       "184  100   30   30   85\n",
       "190   95   35   40   95\n",
       "192  100   40   80   80\n",
       "197   85   85  100   10\n",
       "198   80   65   35   60\n",
       "\n",
       "[95 rows x 4 columns]"
      ]
     },
     "execution_count": 515,
     "metadata": {},
     "output_type": "execute_result"
    }
   ],
   "source": [
    "df.loc[list(map(lambda x: x>df.att.mean() , df.att))]\n",
    "df.loc[map(lambda x: x>df.att.mean() , df.att)]"
   ]
  },
  {
   "cell_type": "markdown",
   "id": "af175e9d-b1df-4f09-9b16-f3b026d5337f",
   "metadata": {},
   "source": [
    "||`.`| `[]` | `.iloc` | `.loc`| \n",
    "|:-:|:-:|:-:|:-:|:-:|\n",
    "|row/단일레이블|X|X|O|O|\n",
    "|col/단일레이블|O|O|O|O|\n",
    "|row/레이블리스트|X|X|O|O|\n",
    "|col/레이블리스트|X|O|O|O|\n",
    "|row/슬라이싱|X|O|O|O|\n",
    "|col/슬라이싱|X|X|O|O|\n",
    "|row/bool,list|X|O|O|O|\n",
    "|row/bool,ser|X|O|X|O|\n",
    "|row/bool,map|X|X|O|O|"
   ]
  },
  {
   "cell_type": "markdown",
   "id": "223c2c49-4194-4492-98d7-3eedaae522e0",
   "metadata": {},
   "source": [
    "# 숙제"
   ]
  },
  {
   "cell_type": "markdown",
   "id": "6b88df32-b0c9-4787-8344-d2b10390eee7",
   "metadata": {
    "tags": []
   },
   "source": [
    "## `1`. 10월12일 숙제 "
   ]
  },
  {
   "cell_type": "markdown",
   "id": "fdb56b5e-9f48-4af2-abfe-187ae1770ea6",
   "metadata": {},
   "source": [
    "아래와 같이 0~9까지 포함된 리스트를 만들어라 "
   ]
  },
  {
   "cell_type": "code",
   "execution_count": 240,
   "id": "35010821-4d76-43bf-bb66-db297c081238",
   "metadata": {},
   "outputs": [
    {
     "data": {
      "text/plain": [
       "[0, 1, 2, 3, 4, 5, 6, 7, 8, 9]"
      ]
     },
     "execution_count": 240,
     "metadata": {},
     "output_type": "execute_result"
    }
   ],
   "source": [
    "x=list(range(10))\n",
    "x"
   ]
  },
  {
   "cell_type": "markdown",
   "id": "905b078f-4e88-4934-8650-b4525e2e47bd",
   "metadata": {},
   "source": [
    "아래와 동일한 기능을 수행하는 함수를 lambda expression으로 정의하라."
   ]
  },
  {
   "cell_type": "code",
   "execution_count": 231,
   "id": "7e778a8d-3379-4c82-836c-4b053b5070f5",
   "metadata": {},
   "outputs": [],
   "source": [
    "def f(xi):\n",
    "    return '짝' if (xi % 2)==0 else '홀'"
   ]
  },
  {
   "cell_type": "markdown",
   "id": "92957074-0f90-427d-90cc-7779ba3350bc",
   "metadata": {},
   "source": [
    "map과 lambda expression 을 이용하여 아래와 같은 결과를 만들어라. (리스트컴프리헨션, for문 사용금지) "
   ]
  },
  {
   "cell_type": "code",
   "execution_count": null,
   "id": "7358b933-465d-41bb-93ae-1591fd3878a2",
   "metadata": {},
   "outputs": [
    {
     "data": {
      "text/plain": [
       "['짝', '홀', '짝', '홀', '짝', '홀', '짝', '홀', '짝', '홀']"
      ]
     },
     "execution_count": 239,
     "metadata": {},
     "output_type": "execute_result"
    }
   ],
   "source": [
    "# \n",
    "# 구현예시"
   ]
  },
  {
   "cell_type": "markdown",
   "id": "25deb22e-67e8-4f6d-b22e-281c9ad60cf8",
   "metadata": {
    "tags": []
   },
   "source": [
    "## `2`. 10월14일 숙제 "
   ]
  },
  {
   "cell_type": "markdown",
   "id": "bfe89076-333a-4dfd-bceb-8d5232abfdaa",
   "metadata": {},
   "source": [
    "다음과 같은 데이터프레임을 불러온 뒤 물음에 답하라 "
   ]
  },
  {
   "cell_type": "code",
   "execution_count": 518,
   "id": "36488170-0858-4cce-a235-11a42a6acc7e",
   "metadata": {},
   "outputs": [
    {
     "data": {
      "text/html": [
       "<div>\n",
       "<style scoped>\n",
       "    .dataframe tbody tr th:only-of-type {\n",
       "        vertical-align: middle;\n",
       "    }\n",
       "\n",
       "    .dataframe tbody tr th {\n",
       "        vertical-align: top;\n",
       "    }\n",
       "\n",
       "    .dataframe thead th {\n",
       "        text-align: right;\n",
       "    }\n",
       "</style>\n",
       "<table border=\"1\" class=\"dataframe\">\n",
       "  <thead>\n",
       "    <tr style=\"text-align: right;\">\n",
       "      <th></th>\n",
       "      <th>att</th>\n",
       "      <th>rep</th>\n",
       "      <th>mid</th>\n",
       "      <th>fin</th>\n",
       "    </tr>\n",
       "  </thead>\n",
       "  <tbody>\n",
       "    <tr>\n",
       "      <th>0</th>\n",
       "      <td>65</td>\n",
       "      <td>45</td>\n",
       "      <td>0</td>\n",
       "      <td>10</td>\n",
       "    </tr>\n",
       "    <tr>\n",
       "      <th>1</th>\n",
       "      <td>95</td>\n",
       "      <td>30</td>\n",
       "      <td>60</td>\n",
       "      <td>10</td>\n",
       "    </tr>\n",
       "    <tr>\n",
       "      <th>2</th>\n",
       "      <td>65</td>\n",
       "      <td>85</td>\n",
       "      <td>15</td>\n",
       "      <td>20</td>\n",
       "    </tr>\n",
       "    <tr>\n",
       "      <th>3</th>\n",
       "      <td>55</td>\n",
       "      <td>35</td>\n",
       "      <td>35</td>\n",
       "      <td>5</td>\n",
       "    </tr>\n",
       "    <tr>\n",
       "      <th>4</th>\n",
       "      <td>80</td>\n",
       "      <td>60</td>\n",
       "      <td>55</td>\n",
       "      <td>70</td>\n",
       "    </tr>\n",
       "    <tr>\n",
       "      <th>...</th>\n",
       "      <td>...</td>\n",
       "      <td>...</td>\n",
       "      <td>...</td>\n",
       "      <td>...</td>\n",
       "    </tr>\n",
       "    <tr>\n",
       "      <th>195</th>\n",
       "      <td>55</td>\n",
       "      <td>70</td>\n",
       "      <td>40</td>\n",
       "      <td>95</td>\n",
       "    </tr>\n",
       "    <tr>\n",
       "      <th>196</th>\n",
       "      <td>65</td>\n",
       "      <td>85</td>\n",
       "      <td>25</td>\n",
       "      <td>85</td>\n",
       "    </tr>\n",
       "    <tr>\n",
       "      <th>197</th>\n",
       "      <td>85</td>\n",
       "      <td>85</td>\n",
       "      <td>100</td>\n",
       "      <td>10</td>\n",
       "    </tr>\n",
       "    <tr>\n",
       "      <th>198</th>\n",
       "      <td>80</td>\n",
       "      <td>65</td>\n",
       "      <td>35</td>\n",
       "      <td>60</td>\n",
       "    </tr>\n",
       "    <tr>\n",
       "      <th>199</th>\n",
       "      <td>50</td>\n",
       "      <td>95</td>\n",
       "      <td>45</td>\n",
       "      <td>85</td>\n",
       "    </tr>\n",
       "  </tbody>\n",
       "</table>\n",
       "<p>200 rows × 4 columns</p>\n",
       "</div>"
      ],
      "text/plain": [
       "     att  rep  mid  fin\n",
       "0     65   45    0   10\n",
       "1     95   30   60   10\n",
       "2     65   85   15   20\n",
       "3     55   35   35    5\n",
       "4     80   60   55   70\n",
       "..   ...  ...  ...  ...\n",
       "195   55   70   40   95\n",
       "196   65   85   25   85\n",
       "197   85   85  100   10\n",
       "198   80   65   35   60\n",
       "199   50   95   45   85\n",
       "\n",
       "[200 rows x 4 columns]"
      ]
     },
     "execution_count": 518,
     "metadata": {},
     "output_type": "execute_result"
    }
   ],
   "source": [
    "df=pd.read_csv('https://raw.githubusercontent.com/guebin/DV2022/master/_notebooks/dv2022.csv')\n",
    "df"
   ]
  },
  {
   "cell_type": "markdown",
   "id": "4f2257b1-bf49-47df-b228-dfbbacd6ca94",
   "metadata": {},
   "source": [
    "`(1)` 기말고사 성적이 중간고사 성적보다 향상된 학생들을 출력하라. 즉 mid < fin 인 학생들을 출력하라. (다양한 방법으로 연습할 것, 제출은 한 가지 방법으로 구현해도 감점없음) "
   ]
  },
  {
   "cell_type": "code",
   "execution_count": 521,
   "id": "acb6c720-342d-4dec-a2b1-a7f895205b6f",
   "metadata": {},
   "outputs": [
    {
     "data": {
      "text/html": [
       "<div>\n",
       "<style scoped>\n",
       "    .dataframe tbody tr th:only-of-type {\n",
       "        vertical-align: middle;\n",
       "    }\n",
       "\n",
       "    .dataframe tbody tr th {\n",
       "        vertical-align: top;\n",
       "    }\n",
       "\n",
       "    .dataframe thead th {\n",
       "        text-align: right;\n",
       "    }\n",
       "</style>\n",
       "<table border=\"1\" class=\"dataframe\">\n",
       "  <thead>\n",
       "    <tr style=\"text-align: right;\">\n",
       "      <th></th>\n",
       "      <th>att</th>\n",
       "      <th>rep</th>\n",
       "      <th>mid</th>\n",
       "      <th>fin</th>\n",
       "    </tr>\n",
       "  </thead>\n",
       "  <tbody>\n",
       "    <tr>\n",
       "      <th>0</th>\n",
       "      <td>65</td>\n",
       "      <td>45</td>\n",
       "      <td>0</td>\n",
       "      <td>10</td>\n",
       "    </tr>\n",
       "    <tr>\n",
       "      <th>2</th>\n",
       "      <td>65</td>\n",
       "      <td>85</td>\n",
       "      <td>15</td>\n",
       "      <td>20</td>\n",
       "    </tr>\n",
       "    <tr>\n",
       "      <th>4</th>\n",
       "      <td>80</td>\n",
       "      <td>60</td>\n",
       "      <td>55</td>\n",
       "      <td>70</td>\n",
       "    </tr>\n",
       "    <tr>\n",
       "      <th>5</th>\n",
       "      <td>75</td>\n",
       "      <td>40</td>\n",
       "      <td>75</td>\n",
       "      <td>85</td>\n",
       "    </tr>\n",
       "    <tr>\n",
       "      <th>6</th>\n",
       "      <td>65</td>\n",
       "      <td>70</td>\n",
       "      <td>60</td>\n",
       "      <td>75</td>\n",
       "    </tr>\n",
       "    <tr>\n",
       "      <th>...</th>\n",
       "      <td>...</td>\n",
       "      <td>...</td>\n",
       "      <td>...</td>\n",
       "      <td>...</td>\n",
       "    </tr>\n",
       "    <tr>\n",
       "      <th>194</th>\n",
       "      <td>65</td>\n",
       "      <td>40</td>\n",
       "      <td>65</td>\n",
       "      <td>70</td>\n",
       "    </tr>\n",
       "    <tr>\n",
       "      <th>195</th>\n",
       "      <td>55</td>\n",
       "      <td>70</td>\n",
       "      <td>40</td>\n",
       "      <td>95</td>\n",
       "    </tr>\n",
       "    <tr>\n",
       "      <th>196</th>\n",
       "      <td>65</td>\n",
       "      <td>85</td>\n",
       "      <td>25</td>\n",
       "      <td>85</td>\n",
       "    </tr>\n",
       "    <tr>\n",
       "      <th>198</th>\n",
       "      <td>80</td>\n",
       "      <td>65</td>\n",
       "      <td>35</td>\n",
       "      <td>60</td>\n",
       "    </tr>\n",
       "    <tr>\n",
       "      <th>199</th>\n",
       "      <td>50</td>\n",
       "      <td>95</td>\n",
       "      <td>45</td>\n",
       "      <td>85</td>\n",
       "    </tr>\n",
       "  </tbody>\n",
       "</table>\n",
       "<p>93 rows × 4 columns</p>\n",
       "</div>"
      ],
      "text/plain": [
       "     att  rep  mid  fin\n",
       "0     65   45    0   10\n",
       "2     65   85   15   20\n",
       "4     80   60   55   70\n",
       "5     75   40   75   85\n",
       "6     65   70   60   75\n",
       "..   ...  ...  ...  ...\n",
       "194   65   40   65   70\n",
       "195   55   70   40   95\n",
       "196   65   85   25   85\n",
       "198   80   65   35   60\n",
       "199   50   95   45   85\n",
       "\n",
       "[93 rows x 4 columns]"
      ]
     },
     "execution_count": 521,
     "metadata": {},
     "output_type": "execute_result"
    }
   ],
   "source": [
    "# 구현결과가 아래와 같아야 한다. "
   ]
  },
  {
   "cell_type": "markdown",
   "id": "78ee0442-dc87-4c24-a2c8-cc6851bf6ce9",
   "metadata": {},
   "source": [
    "`(2)` 기말고사 성적이 중간고사 성적보다 향상된 학생들의 출석과 레포트 점수를 출력하라. "
   ]
  },
  {
   "cell_type": "code",
   "execution_count": 523,
   "id": "5ca9bf20-7e4e-4a60-be86-3cdfd058fcbb",
   "metadata": {},
   "outputs": [
    {
     "data": {
      "text/html": [
       "<div>\n",
       "<style scoped>\n",
       "    .dataframe tbody tr th:only-of-type {\n",
       "        vertical-align: middle;\n",
       "    }\n",
       "\n",
       "    .dataframe tbody tr th {\n",
       "        vertical-align: top;\n",
       "    }\n",
       "\n",
       "    .dataframe thead th {\n",
       "        text-align: right;\n",
       "    }\n",
       "</style>\n",
       "<table border=\"1\" class=\"dataframe\">\n",
       "  <thead>\n",
       "    <tr style=\"text-align: right;\">\n",
       "      <th></th>\n",
       "      <th>att</th>\n",
       "      <th>rep</th>\n",
       "    </tr>\n",
       "  </thead>\n",
       "  <tbody>\n",
       "    <tr>\n",
       "      <th>0</th>\n",
       "      <td>65</td>\n",
       "      <td>45</td>\n",
       "    </tr>\n",
       "    <tr>\n",
       "      <th>2</th>\n",
       "      <td>65</td>\n",
       "      <td>85</td>\n",
       "    </tr>\n",
       "    <tr>\n",
       "      <th>4</th>\n",
       "      <td>80</td>\n",
       "      <td>60</td>\n",
       "    </tr>\n",
       "    <tr>\n",
       "      <th>5</th>\n",
       "      <td>75</td>\n",
       "      <td>40</td>\n",
       "    </tr>\n",
       "    <tr>\n",
       "      <th>6</th>\n",
       "      <td>65</td>\n",
       "      <td>70</td>\n",
       "    </tr>\n",
       "    <tr>\n",
       "      <th>...</th>\n",
       "      <td>...</td>\n",
       "      <td>...</td>\n",
       "    </tr>\n",
       "    <tr>\n",
       "      <th>194</th>\n",
       "      <td>65</td>\n",
       "      <td>40</td>\n",
       "    </tr>\n",
       "    <tr>\n",
       "      <th>195</th>\n",
       "      <td>55</td>\n",
       "      <td>70</td>\n",
       "    </tr>\n",
       "    <tr>\n",
       "      <th>196</th>\n",
       "      <td>65</td>\n",
       "      <td>85</td>\n",
       "    </tr>\n",
       "    <tr>\n",
       "      <th>198</th>\n",
       "      <td>80</td>\n",
       "      <td>65</td>\n",
       "    </tr>\n",
       "    <tr>\n",
       "      <th>199</th>\n",
       "      <td>50</td>\n",
       "      <td>95</td>\n",
       "    </tr>\n",
       "  </tbody>\n",
       "</table>\n",
       "<p>93 rows × 2 columns</p>\n",
       "</div>"
      ],
      "text/plain": [
       "     att  rep\n",
       "0     65   45\n",
       "2     65   85\n",
       "4     80   60\n",
       "5     75   40\n",
       "6     65   70\n",
       "..   ...  ...\n",
       "194   65   40\n",
       "195   55   70\n",
       "196   65   85\n",
       "198   80   65\n",
       "199   50   95\n",
       "\n",
       "[93 rows x 2 columns]"
      ]
     },
     "execution_count": 523,
     "metadata": {},
     "output_type": "execute_result"
    }
   ],
   "source": [
    "# 구현결과가 아래와 같아야 한다. "
   ]
  }
 ],
 "metadata": {
  "kernelspec": {
   "display_name": "Python 3",
   "language": "python",
   "name": "python3"
  },
  "language_info": {
   "codemirror_mode": {
    "name": "ipython",
    "version": 3
   },
   "file_extension": ".py",
   "mimetype": "text/x-python",
   "name": "python",
   "nbconvert_exporter": "python",
   "pygments_lexer": "ipython3",
   "version": "3.7.15"
  }
 },
 "nbformat": 4,
 "nbformat_minor": 5
}
