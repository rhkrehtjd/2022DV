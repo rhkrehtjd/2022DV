{
 "cells": [
  {
   "cell_type": "raw",
   "id": "38904831-4f1c-41f2-b6d3-800e2c674b1a",
   "metadata": {},
   "source": [
    "---\n",
    "title: \"03wk-2\"\n",
    "author: \"최규빈\"\n",
    "date: \"09/21/2022\"\n",
    "categories:\n",
    "  - matplotlib\n",
    "  - 통계와 시각화\n",
    "---"
   ]
  },
  {
   "cell_type": "markdown",
   "id": "1c8285ea-3e0e-429a-9ff0-969bdbeb771a",
   "metadata": {
    "tags": []
   },
   "source": [
    "> 산점도 응용예제 1,2,3 (표본상관계수, 앤스콤플랏, 무상관)"
   ]
  },
  {
   "cell_type": "markdown",
   "id": "0b5687c4-c61c-472c-a11c-3b36e4d1e928",
   "metadata": {},
   "source": [
    "# 강의영상 "
   ]
  },
  {
   "cell_type": "markdown",
   "id": "18e10078-829b-4ec1-b2c4-4dd7b837b9fb",
   "metadata": {},
   "source": [
    "<https://youtube.com/playlist?list=PLQqh36zP38-wzG-Xph83hc_mMpS6P5ely>"
   ]
  },
  {
   "cell_type": "markdown",
   "id": "b609b5bd-91fc-4630-ab85-6854d6f8845d",
   "metadata": {},
   "source": [
    "# imports"
   ]
  },
  {
   "cell_type": "code",
   "execution_count": 1,
   "id": "964bd7ff-e032-4e9c-80f1-45cd33de50ed",
   "metadata": {},
   "outputs": [],
   "source": [
    "import matplotlib.pyplot as plt\n",
    "import numpy as np"
   ]
  },
  {
   "cell_type": "markdown",
   "id": "10294b41-d59e-4739-ab00-892b895c8ffa",
   "metadata": {
    "tags": []
   },
   "source": [
    "# 산점도 응용예제1 - 표본상관계수 "
   ]
  },
  {
   "cell_type": "markdown",
   "id": "44ae8660-4363-4d60-8de5-b228adfcf305",
   "metadata": {},
   "source": [
    "## 예제소개"
   ]
  },
  {
   "cell_type": "markdown",
   "id": "a2c6b55c-e4fc-49c9-b1ed-89e6825aab0c",
   "metadata": {},
   "source": [
    "`-` 아래와 같은 자료를 수집하였다고 하자. \n",
    "\n",
    "- 몸무게 = [44,48,49,58,62,68,69,70,76,79] \n",
    "- 키 = [159,160,162,165,167,162,165,175,165,172]"
   ]
  },
  {
   "cell_type": "code",
   "execution_count": 4,
   "id": "f83dcf12-e26b-417c-bffb-ffc9bc54e12c",
   "metadata": {},
   "outputs": [],
   "source": [
    "x=[44,48,49,58,62,68,69,70,76,79]\n",
    "y=[159,160,162,165,167,162,165,175,165,172]"
   ]
  },
  {
   "cell_type": "code",
   "execution_count": 5,
   "id": "713b02d5-df49-461a-8832-96c7e8c1b8d8",
   "metadata": {},
   "outputs": [
    {
     "data": {
      "text/plain": [
       "[<matplotlib.lines.Line2D at 0x7f49354a0ad0>]"
      ]
     },
     "execution_count": 5,
     "metadata": {},
     "output_type": "execute_result"
    },
    {
     "data": {
      "image/png": "[encoded data removed]",
      "text/plain": [
       "<Figure size 432x288 with 1 Axes>"
      ]
     },
     "metadata": {
      "needs_background": "light"
     },
     "output_type": "display_data"
    }
   ],
   "source": [
    "plt.plot(x,y,'o')"
   ]
  },
  {
   "cell_type": "markdown",
   "id": "02ffd1bc-1d42-46ca-a7a3-b41a8f110125",
   "metadata": {},
   "source": [
    "- 키가 큰 사람일수록 몸무게도 많이 나간다. (반대도 성립) \n",
    "- 키와 몸무게는 관계가 있어보인다. (정비례) "
   ]
  },
  {
   "cell_type": "markdown",
   "id": "4d62a14a-6e3c-4336-9e77-bfe712363da0",
   "metadata": {},
   "source": [
    "`-` 얼만큼 정비례인지? \n",
    "\n",
    "- 이 질문에 대답하기 위해서는 상관계수의 개념을 알아야 한다. \n",
    "- 상관계수는 산점도에서 가장 중요한 개념중 하나. "
   ]
  },
  {
   "cell_type": "markdown",
   "id": "d1600a50-5d21-46c3-86fd-8d24c1919cf2",
   "metadata": {},
   "source": [
    "## 상관계수의 정의"
   ]
  },
  {
   "cell_type": "markdown",
   "id": "5935fcf7-107a-4d63-822d-6b31e83d311c",
   "metadata": {},
   "source": [
    "`-` (표본)상관계수 \n",
    "\n",
    "$$r=\\frac{\\sum_{i=1}^{n}(x_i-\\bar{x})(y_i-\\bar{y}) }{\\sqrt{\\sum_{i=1}^{n}(x_i-\\bar{x})^2\\sum_{i=1}^{n}(y_i-\\bar{y})^2 }}=\\sum_{i=1}^{n}\\tilde{x}_i\\tilde{y}_i $$\n"
   ]
  },
  {
   "cell_type": "markdown",
   "id": "1f3f33f8-936f-469b-811d-708b19e708d8",
   "metadata": {},
   "source": [
    "- 단, $\\tilde{x}_i=\\frac{(x_i-\\bar{x})}{\\sqrt{\\sum_{i=1}^n(x_i-\\bar{x})^2}}$, $\\tilde{y}_i=\\frac{(y_i-\\bar{y})}{\\sqrt{\\sum_{i=1}^n(y_i-\\bar{y})^2}}$"
   ]
  },
  {
   "cell_type": "markdown",
   "id": "a2e5bede-f9ef-45fb-ac56-7101a42811bb",
   "metadata": {},
   "source": [
    "`*` ***`표본`의 의미***"
   ]
  },
  {
   "cell_type": "markdown",
   "id": "85c2e037-5454-4d1c-a31d-35575f85720b",
   "metadata": {},
   "source": [
    "평균과 표본평균 "
   ]
  },
  {
   "cell_type": "code",
   "execution_count": 7,
   "id": "79867968-6fcb-44d2-94d4-8c17537904fc",
   "metadata": {},
   "outputs": [
    {
     "data": {
      "text/plain": [
       "array([ 0.38342049,  1.0841745 ,  1.14277825,  0.30789368,  0.23778744,\n",
       "        0.35595116, -1.66307542, -1.38277318, -1.92684484, -1.4862163 ])"
      ]
     },
     "execution_count": 7,
     "metadata": {},
     "output_type": "execute_result"
    }
   ],
   "source": [
    "np.random.seed(43052)\n",
    "x = np.random.randn(10)\n",
    "x"
   ]
  },
  {
   "cell_type": "markdown",
   "id": "ebab76a6-c99c-4267-8b9e-3c39c685cf6c",
   "metadata": {},
   "source": [
    "- x는 의 각 원소는 모두 `평균`이 0인 정규분포에서 추출했다고 표현 "
   ]
  },
  {
   "cell_type": "code",
   "execution_count": 108,
   "id": "031553ee-e3fb-4fb7-b941-08b75cac2e9a",
   "metadata": {},
   "outputs": [
    {
     "data": {
      "text/plain": [
       "0.09434107867212947"
      ]
     },
     "execution_count": 108,
     "metadata": {},
     "output_type": "execute_result"
    }
   ],
   "source": [
    "np.mean(x)"
   ]
  },
  {
   "cell_type": "markdown",
   "id": "4fe4b899-7fa1-4234-a8ee-9c24233a9cc5",
   "metadata": {},
   "source": [
    "- ${\\tt x}=(x_1,\\dots, x_{10})$의 `표본평균`은 ${\\bar x}=0.09434107867212947$ 라고 표현 "
   ]
  },
  {
   "cell_type": "markdown",
   "id": "4d7ddf1e-82b8-43a9-bcc0-4fa92b146925",
   "metadata": {},
   "source": [
    "## 상관계수의 의미 "
   ]
  },
  {
   "cell_type": "markdown",
   "id": "ebefae4e-bf9f-4929-bf11-36b552803016",
   "metadata": {},
   "source": [
    "`-` 의미? "
   ]
  },
  {
   "cell_type": "code",
   "execution_count": 109,
   "id": "b01d3859-4f93-45aa-8a63-03c2149d5488",
   "metadata": {},
   "outputs": [],
   "source": [
    "x=np.array(x)\n",
    "y=np.array(y)"
   ]
  },
  {
   "cell_type": "code",
   "execution_count": 110,
   "id": "a5058937-c612-42ea-aba4-2ade5e740003",
   "metadata": {},
   "outputs": [
    {
     "data": {
      "image/png": "[encoded data removed]",
      "text/plain": [
       "<Figure size 648x288 with 3 Axes>"
      ]
     },
     "metadata": {
      "needs_background": "light"
     },
     "output_type": "display_data"
    }
   ],
   "source": [
    "fig, (ax1,ax2,ax3) = plt.subplots(1,3,figsize=(9,4)) "
   ]
  },
  {
   "cell_type": "code",
   "execution_count": 111,
   "id": "9b3959ac-9a53-4f0d-8fc9-dfe068ee0ef0",
   "metadata": {},
   "outputs": [
    {
     "data": {
      "text/plain": [
       "[<matplotlib.lines.Line2D at 0x7f03567ef610>]"
      ]
     },
     "execution_count": 111,
     "metadata": {},
     "output_type": "execute_result"
    }
   ],
   "source": [
    "ax1.plot(x,y,'o')\n",
    "ax2.plot(x-np.mean(x),y-np.mean(y),'o')"
   ]
  },
  {
   "cell_type": "code",
   "execution_count": 112,
   "id": "a7d32cd2-708d-46a7-8b05-97e91156576e",
   "metadata": {},
   "outputs": [
    {
     "data": {
      "image/png": "[encoded data removed]",
      "text/plain": [
       "<Figure size 648x288 with 3 Axes>"
      ]
     },
     "execution_count": 112,
     "metadata": {},
     "output_type": "execute_result"
    }
   ],
   "source": [
    "fig"
   ]
  },
  {
   "cell_type": "markdown",
   "id": "f927b6df-2638-4985-b47d-f316ab2fa2d9",
   "metadata": {},
   "source": [
    "`-` $\\tilde{x}_i$와 $\\tilde{y}_i$를 계산하기 위해서 $a=\\sqrt{\\sum_{i=1}^{n}(x_i-\\bar{x})^2}, b=\\sqrt{\\sum_{i=1}^{n}(y_i-\\bar{y})^2}$를 계산하자. "
   ]
  },
  {
   "cell_type": "markdown",
   "id": "d033c5c1-4abc-4456-b482-ccc46488b8c1",
   "metadata": {},
   "source": [
    "(방법1)"
   ]
  },
  {
   "cell_type": "code",
   "execution_count": 113,
   "id": "4d5361c0-7cd5-493d-9a25-70cfa407b4a9",
   "metadata": {},
   "outputs": [
    {
     "data": {
      "text/plain": [
       "(2.8842557251032446, 15.218409903797438)"
      ]
     },
     "execution_count": 113,
     "metadata": {},
     "output_type": "execute_result"
    }
   ],
   "source": [
    "a=np.sqrt(np.sum((x-np.mean(x))**2))\n",
    "b=np.sqrt(np.sum((y-np.mean(y))**2))\n",
    "a,b"
   ]
  },
  {
   "cell_type": "markdown",
   "id": "8f63f3bb-fee6-467c-8661-43f9792e81f8",
   "metadata": {},
   "source": [
    "- 해석: $a>b$ 이므로 $\\{x_i\\}$들이 $\\{y_i\\}$들 보다 좀 더 퍼져있다. (=평균근처에 몰려있지 않다) "
   ]
  },
  {
   "cell_type": "markdown",
   "id": "ba3e1471-bae3-4f0b-956f-b9f9ef22bcb3",
   "metadata": {},
   "source": [
    "(방법2)"
   ]
  },
  {
   "cell_type": "markdown",
   "id": "0c268569-044e-4c5c-a422-9b683abeb7b9",
   "metadata": {},
   "source": [
    "`-` 사실 $a,b$는 아래와 같이 계산할 수 있다.\n",
    "\n",
    "$a=\\sqrt{n}\\times{\\tt np.std(x)}$ \n",
    "\n",
    "$b=\\sqrt{n}\\times{\\tt np.std(y)}$ "
   ]
  },
  {
   "cell_type": "code",
   "execution_count": 114,
   "id": "577b1ce0-3b50-4558-9fe6-0ea69a76d5c1",
   "metadata": {},
   "outputs": [
    {
     "data": {
      "text/plain": [
       "(2.8842557251032446, 15.21840990379744)"
      ]
     },
     "execution_count": 114,
     "metadata": {},
     "output_type": "execute_result"
    }
   ],
   "source": [
    "n=len(x)\n",
    "np.sqrt(n)*np.std(x), np.sqrt(n)*np.std(y)"
   ]
  },
  {
   "cell_type": "markdown",
   "id": "ddc8179b-e512-4288-b88a-48dcb06a1946",
   "metadata": {},
   "source": [
    "- ${\\tt np.std(x)}=\\sqrt{\\frac{1}{n}\\sum_{i=1}^{n}(x_i-\\bar{x})^2}$\n",
    "- ${\\tt np.std(y)}=\\sqrt{\\frac{1}{n}\\sum_{i=1}^{n}(y_i-\\bar{y})^2}$"
   ]
  },
  {
   "cell_type": "markdown",
   "id": "fe63917e-da13-4fe3-bd14-a9345ac4417f",
   "metadata": {},
   "source": [
    "> note: ${\\tt np.std(x,ddof=1)}=\\sqrt{\\frac{1}{n-1}\\sum_{i=1}^{n}(x_i-\\bar{x})^2}$"
   ]
  },
  {
   "cell_type": "markdown",
   "id": "3e10f727-9c02-4568-9310-e0bec259053a",
   "metadata": {},
   "source": [
    "`-` 이제 $(\\tilde{x}_i,\\tilde{y}_i)$를 ax3에 그려보자. "
   ]
  },
  {
   "cell_type": "code",
   "execution_count": 115,
   "id": "400f75bc-347d-4b91-b3b3-e0ece89d5ae8",
   "metadata": {},
   "outputs": [
    {
     "data": {
      "text/plain": [
       "[<matplotlib.lines.Line2D at 0x7f03567b4290>]"
      ]
     },
     "execution_count": 115,
     "metadata": {},
     "output_type": "execute_result"
    }
   ],
   "source": [
    "xx= (x-np.mean(x))/a\n",
    "yy= (y-np.mean(y))/b\n",
    "ax3.plot(xx,yy,'o')"
   ]
  },
  {
   "cell_type": "code",
   "execution_count": 116,
   "id": "abe13ec3-3f50-464c-9303-8c43dcdfb77f",
   "metadata": {},
   "outputs": [
    {
     "data": {
      "image/png": "[encoded data removed]",
      "text/plain": [
       "<Figure size 648x288 with 3 Axes>"
      ]
     },
     "execution_count": 116,
     "metadata": {},
     "output_type": "execute_result"
    }
   ],
   "source": [
    "fig"
   ]
  },
  {
   "cell_type": "markdown",
   "id": "4baa7cf9-54fa-49b8-bb23-7e0bbe119f4d",
   "metadata": {},
   "source": [
    "***질문: $r$의 값이 양수인가? 음수인가?***"
   ]
  },
  {
   "cell_type": "markdown",
   "id": "2de9e514-120a-49d6-910d-280b0fc1293a",
   "metadata": {},
   "source": [
    "`-` plotly 사용하여 $(\\tilde{x}_i,\\tilde{y}_i)$를 그려보자. "
   ]
  },
  {
   "cell_type": "code",
   "execution_count": 117,
   "id": "070301fd-e5a4-4de6-b6df-9c733a59ea4f",
   "metadata": {},
   "outputs": [
    {
     "data": {
      "text/html": [
       "<html>\n",
       "<head><meta charset=\"utf-8\" /></head>\n",
       "<body>\n",
       "    <div>                        <script type=\"text/javascript\">window.PlotlyConfig = {MathJaxConfig: 'local'};</script>\n",
       "        <script src=\"https://cdn.plot.ly/plotly-2.12.1.min.js\"></script>                <div id=\"14a61d81-f1e2-4762-8c0d-855370c88aee\" class=\"plotly-graph-div\" style=\"height:100%; width:100%;\"></div>            <script type=\"text/javascript\">                                    window.PLOTLYENV=window.PLOTLYENV || {};                                    if (document.getElementById(\"14a61d81-f1e2-4762-8c0d-855370c88aee\")) {                    Plotly.newPlot(                        \"14a61d81-f1e2-4762-8c0d-855370c88aee\",                        [{\"hovertemplate\":\"x=%{x}<br>y=%{y}<extra></extra>\",\"legendgroup\":\"\",\"marker\":{\"color\":\"#636efa\",\"symbol\":\"circle\"},\"mode\":\"markers\",\"name\":\"\",\"orientation\":\"v\",\"showlegend\":false,\"x\":[-0.5724101759704218,0.5320898189077307,-0.36756387092024034,0.0744880144513538,0.15962283215890244,0.21440954748453006,0.23413615561374093,0.06347533040432195,-0.3438662864706972,0.005618634340779498],\"xaxis\":\"x\",\"y\":[-0.40740130139699465,-0.3416914140748986,-0.21027163943070656,-0.01314197746441846,0.1182777971797736,-0.21027163943070656,-0.01314197746441846,0.6439568957565419,-0.01314197746441846,0.4468272337902538],\"yaxis\":\"y\",\"type\":\"scatter\"}],                        {\"template\":{\"data\":{\"histogram2dcontour\":[{\"type\":\"histogram2dcontour\",\"colorbar\":{\"outlinewidth\":0,\"ticks\":\"\"},\"colorscale\":[[0.0,\"#0d0887\"],[0.1111111111111111,\"#46039f\"],[0.2222222222222222,\"#7201a8\"],[0.3333333333333333,\"#9c179e\"],[0.4444444444444444,\"#bd3786\"],[0.5555555555555556,\"#d8576b\"],[0.6666666666666666,\"#ed7953\"],[0.7777777777777778,\"#fb9f3a\"],[0.8888888888888888,\"#fdca26\"],[1.0,\"#f0f921\"]]}],\"choropleth\":[{\"type\":\"choropleth\",\"colorbar\":{\"outlinewidth\":0,\"ticks\":\"\"}}],\"histogram2d\":[{\"type\":\"histogram2d\",\"colorbar\":{\"outlinewidth\":0,\"ticks\":\"\"},\"colorscale\":[[0.0,\"#0d0887\"],[0.1111111111111111,\"#46039f\"],[0.2222222222222222,\"#7201a8\"],[0.3333333333333333,\"#9c179e\"],[0.4444444444444444,\"#bd3786\"],[0.5555555555555556,\"#d8576b\"],[0.6666666666666666,\"#ed7953\"],[0.7777777777777778,\"#fb9f3a\"],[0.8888888888888888,\"#fdca26\"],[1.0,\"#f0f921\"]]}],\"heatmap\":[{\"type\":\"heatmap\",\"colorbar\":{\"outlinewidth\":0,\"ticks\":\"\"},\"colorscale\":[[0.0,\"#0d0887\"],[0.1111111111111111,\"#46039f\"],[0.2222222222222222,\"#7201a8\"],[0.3333333333333333,\"#9c179e\"],[0.4444444444444444,\"#bd3786\"],[0.5555555555555556,\"#d8576b\"],[0.6666666666666666,\"#ed7953\"],[0.7777777777777778,\"#fb9f3a\"],[0.8888888888888888,\"#fdca26\"],[1.0,\"#f0f921\"]]}],\"heatmapgl\":[{\"type\":\"heatmapgl\",\"colorbar\":{\"outlinewidth\":0,\"ticks\":\"\"},\"colorscale\":[[0.0,\"#0d0887\"],[0.1111111111111111,\"#46039f\"],[0.2222222222222222,\"#7201a8\"],[0.3333333333333333,\"#9c179e\"],[0.4444444444444444,\"#bd3786\"],[0.5555555555555556,\"#d8576b\"],[0.6666666666666666,\"#ed7953\"],[0.7777777777777778,\"#fb9f3a\"],[0.8888888888888888,\"#fdca26\"],[1.0,\"#f0f921\"]]}],\"contourcarpet\":[{\"type\":\"contourcarpet\",\"colorbar\":{\"outlinewidth\":0,\"ticks\":\"\"}}],\"contour\":[{\"type\":\"contour\",\"colorbar\":{\"outlinewidth\":0,\"ticks\":\"\"},\"colorscale\":[[0.0,\"#0d0887\"],[0.1111111111111111,\"#46039f\"],[0.2222222222222222,\"#7201a8\"],[0.3333333333333333,\"#9c179e\"],[0.4444444444444444,\"#bd3786\"],[0.5555555555555556,\"#d8576b\"],[0.6666666666666666,\"#ed7953\"],[0.7777777777777778,\"#fb9f3a\"],[0.8888888888888888,\"#fdca26\"],[1.0,\"#f0f921\"]]}],\"surface\":[{\"type\":\"surface\",\"colorbar\":{\"outlinewidth\":0,\"ticks\":\"\"},\"colorscale\":[[0.0,\"#0d0887\"],[0.1111111111111111,\"#46039f\"],[0.2222222222222222,\"#7201a8\"],[0.3333333333333333,\"#9c179e\"],[0.4444444444444444,\"#bd3786\"],[0.5555555555555556,\"#d8576b\"],[0.6666666666666666,\"#ed7953\"],[0.7777777777777778,\"#fb9f3a\"],[0.8888888888888888,\"#fdca26\"],[1.0,\"#f0f921\"]]}],\"mesh3d\":[{\"type\":\"mesh3d\",\"colorbar\":{\"outlinewidth\":0,\"ticks\":\"\"}}],\"scatter\":[{\"fillpattern\":{\"fillmode\":\"overlay\",\"size\":10,\"solidity\":0.2},\"type\":\"scatter\"}],\"parcoords\":[{\"type\":\"parcoords\",\"line\":{\"colorbar\":{\"outlinewidth\":0,\"ticks\":\"\"}}}],\"scatterpolargl\":[{\"type\":\"scatterpolargl\",\"marker\":{\"colorbar\":{\"outlinewidth\":0,\"ticks\":\"\"}}}],\"bar\":[{\"error_x\":{\"color\":\"#2a3f5f\"},\"error_y\":{\"color\":\"#2a3f5f\"},\"marker\":{\"line\":{\"color\":\"#E5ECF6\",\"width\":0.5},\"pattern\":{\"fillmode\":\"overlay\",\"size\":10,\"solidity\":0.2}},\"type\":\"bar\"}],\"scattergeo\":[{\"type\":\"scattergeo\",\"marker\":{\"colorbar\":{\"outlinewidth\":0,\"ticks\":\"\"}}}],\"scatterpolar\":[{\"type\":\"scatterpolar\",\"marker\":{\"colorbar\":{\"outlinewidth\":0,\"ticks\":\"\"}}}],\"histogram\":[{\"marker\":{\"pattern\":{\"fillmode\":\"overlay\",\"size\":10,\"solidity\":0.2}},\"type\":\"histogram\"}],\"scattergl\":[{\"type\":\"scattergl\",\"marker\":{\"colorbar\":{\"outlinewidth\":0,\"ticks\":\"\"}}}],\"scatter3d\":[{\"type\":\"scatter3d\",\"line\":{\"colorbar\":{\"outlinewidth\":0,\"ticks\":\"\"}},\"marker\":{\"colorbar\":{\"outlinewidth\":0,\"ticks\":\"\"}}}],\"scattermapbox\":[{\"type\":\"scattermapbox\",\"marker\":{\"colorbar\":{\"outlinewidth\":0,\"ticks\":\"\"}}}],\"scatterternary\":[{\"type\":\"scatterternary\",\"marker\":{\"colorbar\":{\"outlinewidth\":0,\"ticks\":\"\"}}}],\"scattercarpet\":[{\"type\":\"scattercarpet\",\"marker\":{\"colorbar\":{\"outlinewidth\":0,\"ticks\":\"\"}}}],\"carpet\":[{\"aaxis\":{\"endlinecolor\":\"#2a3f5f\",\"gridcolor\":\"white\",\"linecolor\":\"white\",\"minorgridcolor\":\"white\",\"startlinecolor\":\"#2a3f5f\"},\"baxis\":{\"endlinecolor\":\"#2a3f5f\",\"gridcolor\":\"white\",\"linecolor\":\"white\",\"minorgridcolor\":\"white\",\"startlinecolor\":\"#2a3f5f\"},\"type\":\"carpet\"}],\"table\":[{\"cells\":{\"fill\":{\"color\":\"#EBF0F8\"},\"line\":{\"color\":\"white\"}},\"header\":{\"fill\":{\"color\":\"#C8D4E3\"},\"line\":{\"color\":\"white\"}},\"type\":\"table\"}],\"barpolar\":[{\"marker\":{\"line\":{\"color\":\"#E5ECF6\",\"width\":0.5},\"pattern\":{\"fillmode\":\"overlay\",\"size\":10,\"solidity\":0.2}},\"type\":\"barpolar\"}],\"pie\":[{\"automargin\":true,\"type\":\"pie\"}]},\"layout\":{\"autotypenumbers\":\"strict\",\"colorway\":[\"#636efa\",\"#EF553B\",\"#00cc96\",\"#ab63fa\",\"#FFA15A\",\"#19d3f3\",\"#FF6692\",\"#B6E880\",\"#FF97FF\",\"#FECB52\"],\"font\":{\"color\":\"#2a3f5f\"},\"hovermode\":\"closest\",\"hoverlabel\":{\"align\":\"left\"},\"paper_bgcolor\":\"white\",\"plot_bgcolor\":\"#E5ECF6\",\"polar\":{\"bgcolor\":\"#E5ECF6\",\"angularaxis\":{\"gridcolor\":\"white\",\"linecolor\":\"white\",\"ticks\":\"\"},\"radialaxis\":{\"gridcolor\":\"white\",\"linecolor\":\"white\",\"ticks\":\"\"}},\"ternary\":{\"bgcolor\":\"#E5ECF6\",\"aaxis\":{\"gridcolor\":\"white\",\"linecolor\":\"white\",\"ticks\":\"\"},\"baxis\":{\"gridcolor\":\"white\",\"linecolor\":\"white\",\"ticks\":\"\"},\"caxis\":{\"gridcolor\":\"white\",\"linecolor\":\"white\",\"ticks\":\"\"}},\"coloraxis\":{\"colorbar\":{\"outlinewidth\":0,\"ticks\":\"\"}},\"colorscale\":{\"sequential\":[[0.0,\"#0d0887\"],[0.1111111111111111,\"#46039f\"],[0.2222222222222222,\"#7201a8\"],[0.3333333333333333,\"#9c179e\"],[0.4444444444444444,\"#bd3786\"],[0.5555555555555556,\"#d8576b\"],[0.6666666666666666,\"#ed7953\"],[0.7777777777777778,\"#fb9f3a\"],[0.8888888888888888,\"#fdca26\"],[1.0,\"#f0f921\"]],\"sequentialminus\":[[0.0,\"#0d0887\"],[0.1111111111111111,\"#46039f\"],[0.2222222222222222,\"#7201a8\"],[0.3333333333333333,\"#9c179e\"],[0.4444444444444444,\"#bd3786\"],[0.5555555555555556,\"#d8576b\"],[0.6666666666666666,\"#ed7953\"],[0.7777777777777778,\"#fb9f3a\"],[0.8888888888888888,\"#fdca26\"],[1.0,\"#f0f921\"]],\"diverging\":[[0,\"#8e0152\"],[0.1,\"#c51b7d\"],[0.2,\"#de77ae\"],[0.3,\"#f1b6da\"],[0.4,\"#fde0ef\"],[0.5,\"#f7f7f7\"],[0.6,\"#e6f5d0\"],[0.7,\"#b8e186\"],[0.8,\"#7fbc41\"],[0.9,\"#4d9221\"],[1,\"#276419\"]]},\"xaxis\":{\"gridcolor\":\"white\",\"linecolor\":\"white\",\"ticks\":\"\",\"title\":{\"standoff\":15},\"zerolinecolor\":\"white\",\"automargin\":true,\"zerolinewidth\":2},\"yaxis\":{\"gridcolor\":\"white\",\"linecolor\":\"white\",\"ticks\":\"\",\"title\":{\"standoff\":15},\"zerolinecolor\":\"white\",\"automargin\":true,\"zerolinewidth\":2},\"scene\":{\"xaxis\":{\"backgroundcolor\":\"#E5ECF6\",\"gridcolor\":\"white\",\"linecolor\":\"white\",\"showbackground\":true,\"ticks\":\"\",\"zerolinecolor\":\"white\",\"gridwidth\":2},\"yaxis\":{\"backgroundcolor\":\"#E5ECF6\",\"gridcolor\":\"white\",\"linecolor\":\"white\",\"showbackground\":true,\"ticks\":\"\",\"zerolinecolor\":\"white\",\"gridwidth\":2},\"zaxis\":{\"backgroundcolor\":\"#E5ECF6\",\"gridcolor\":\"white\",\"linecolor\":\"white\",\"showbackground\":true,\"ticks\":\"\",\"zerolinecolor\":\"white\",\"gridwidth\":2}},\"shapedefaults\":{\"line\":{\"color\":\"#2a3f5f\"}},\"annotationdefaults\":{\"arrowcolor\":\"#2a3f5f\",\"arrowhead\":0,\"arrowwidth\":1},\"geo\":{\"bgcolor\":\"white\",\"landcolor\":\"#E5ECF6\",\"subunitcolor\":\"white\",\"showland\":true,\"showlakes\":true,\"lakecolor\":\"white\"},\"title\":{\"x\":0.05},\"mapbox\":{\"style\":\"light\"}}},\"xaxis\":{\"anchor\":\"y\",\"domain\":[0.0,1.0],\"title\":{\"text\":\"x\"}},\"yaxis\":{\"anchor\":\"x\",\"domain\":[0.0,1.0],\"title\":{\"text\":\"y\"}},\"legend\":{\"tracegroupgap\":0},\"margin\":{\"t\":60}},                        {\"responsive\": true}                    )                };                            </script>        </div>\n",
       "</body>\n",
       "</html>"
      ],
      "text/plain": [
       "<IPython.core.display.HTML object>"
      ]
     },
     "execution_count": 117,
     "metadata": {},
     "output_type": "execute_result"
    }
   ],
   "source": [
    "fig=px.scatter(x=xx, y=yy)\n",
    "HTML(fig.to_html(include_plotlyjs='cdn',include_mathjax=False))"
   ]
  },
  {
   "cell_type": "markdown",
   "id": "e56938a1-0ab4-4582-92df-980704d14f7b",
   "metadata": {},
   "source": [
    "- $\\tilde{x}_i$, $\\tilde{y}_i$ 를 곱한값이 양수인것과 음수인것을 체크해보자. \n",
    "- 양수인쪽이 많은지 음수인쪽이 많은지 생각해보자. \n",
    "- $r=\\sum_{i=1}^{n}\\tilde{x}_i \\tilde{y}_i$ 의 부호는? "
   ]
  },
  {
   "cell_type": "markdown",
   "id": "b0c60d12-f88d-46ff-9a26-5742f8e6da0d",
   "metadata": {},
   "source": [
    "## 그림을 보고 상관계수의 부호를 알아내는 방법"
   ]
  },
  {
   "cell_type": "markdown",
   "id": "f37c654c-9705-4489-8bd7-c488be23a2e0",
   "metadata": {},
   "source": [
    "`-` $(x_i,y_i)$의 산점도를 보고 $(\\tilde{x}_i, \\tilde{y}_i)$ 의 산점도를 상상 $\\to$ 1,3 분면에 점들이 많으면 양수, 2,4 분면에 점들이 많으면 음수 "
   ]
  },
  {
   "cell_type": "markdown",
   "id": "516627c4-babf-4e71-b592-81aaa5df66f2",
   "metadata": {},
   "source": [
    "## 그림을 보고 상관계수의 절대값을 알아내는 방법 "
   ]
  },
  {
   "cell_type": "markdown",
   "id": "cf7d18eb-8330-46e8-8f2c-5437ad200138",
   "metadata": {},
   "source": [
    "`-` 이해를 위한 예시"
   ]
  },
  {
   "cell_type": "code",
   "execution_count": 118,
   "id": "d4a32d72-aadf-44e8-8718-05016ab7f804",
   "metadata": {},
   "outputs": [],
   "source": [
    "x=np.arange(0,10,0.1)\n",
    "y1=x+np.random.normal(loc=0,scale=1.0,size=len(x))\n",
    "y2=x+np.random.normal(loc=0,scale=7.0,size=len(x))"
   ]
  },
  {
   "cell_type": "code",
   "execution_count": 119,
   "id": "47300c36-5fb2-415d-82a4-433f1279bbdb",
   "metadata": {},
   "outputs": [
    {
     "data": {
      "text/plain": [
       "[<matplotlib.lines.Line2D at 0x7f03566c0650>]"
      ]
     },
     "execution_count": 119,
     "metadata": {},
     "output_type": "execute_result"
    },
    {
     "data": {
      "image/png": "[encoded data removed]",
      "text/plain": [
       "<Figure size 432x288 with 1 Axes>"
      ]
     },
     "metadata": {
      "needs_background": "light"
     },
     "output_type": "display_data"
    }
   ],
   "source": [
    "plt.plot(x,y1,'o')\n",
    "plt.plot(x,y2,'x')"
   ]
  },
  {
   "cell_type": "markdown",
   "id": "a255370b-c474-4e0e-a19b-e94f1587668d",
   "metadata": {},
   "source": [
    "각 데이터셋의 표준상관계수를 각각 $r_1$(파란색), $r_2$(주황색)라고 하자. "
   ]
  },
  {
   "cell_type": "markdown",
   "id": "03abe241-028b-4cbb-800c-10b8ea6ee4f0",
   "metadata": {},
   "source": [
    "`(1)` $r_1$, $r_2$의 부호는 양수인가? 음수인가? -->  양수"
   ]
  },
  {
   "cell_type": "markdown",
   "id": "aebc4d40-5342-4279-80d6-cc36f49e865d",
   "metadata": {},
   "source": [
    "`(2)` $r_1,r_2$의 값중 어떠한 값이 더 절대값이 큰가? --> 잘모르겠음. 따져보자. "
   ]
  },
  {
   "cell_type": "code",
   "execution_count": 120,
   "id": "911bb97a-c102-4b17-ab00-47babcb3cf15",
   "metadata": {},
   "outputs": [],
   "source": [
    "def tilde(x):\n",
    "    n= len(x)\n",
    "    return (x-np.mean(x)) / (np.std(x)*np.sqrt(n))    "
   ]
  },
  {
   "cell_type": "code",
   "execution_count": 123,
   "id": "f07433d0-0fb9-42d7-8bfc-8c44a75e4a1e",
   "metadata": {},
   "outputs": [],
   "source": [
    "xx= tilde(x)\n",
    "yy1= tilde(y1)\n",
    "yy2= tilde(y2)"
   ]
  },
  {
   "cell_type": "code",
   "execution_count": 124,
   "id": "c466d37e-5f93-4f52-b810-6d1d997c793a",
   "metadata": {},
   "outputs": [
    {
     "data": {
      "text/plain": [
       "[<matplotlib.lines.Line2D at 0x7f035666bc50>]"
      ]
     },
     "execution_count": 124,
     "metadata": {},
     "output_type": "execute_result"
    },
    {
     "data": {
      "image/png": "[encoded data removed]",
      "text/plain": [
       "<Figure size 432x288 with 2 Axes>"
      ]
     },
     "metadata": {
      "needs_background": "light"
     },
     "output_type": "display_data"
    }
   ],
   "source": [
    "fig, ax = plt.subplots(1,2)\n",
    "ax[0].plot(x,y1,'o')\n",
    "ax[0].plot(x,y2,'x')\n",
    "ax[1].plot(x,yy1,'o')\n",
    "ax[1].plot(x,yy2,'x')"
   ]
  },
  {
   "cell_type": "code",
   "execution_count": 125,
   "id": "4d81b81a-da7d-4e05-b525-76a2db833893",
   "metadata": {},
   "outputs": [
    {
     "data": {
      "text/plain": [
       "(0.9473089524539402, 0.4445681691326099)"
      ]
     },
     "execution_count": 125,
     "metadata": {},
     "output_type": "execute_result"
    }
   ],
   "source": [
    "r1, r2 = sum(xx*yy1), sum(xx*yy2)\n",
    "r1, r2"
   ]
  },
  {
   "cell_type": "markdown",
   "id": "51c936e7-9dae-4b03-be39-0626dd966f15",
   "metadata": {},
   "source": [
    "`-` 그림을 보고 상관계수의 절대값을 알아내는 방법!: 직선근처에 몰려있으면 절대값이 커요!"
   ]
  },
  {
   "cell_type": "markdown",
   "id": "f1d2c418-b6a4-470b-8aa0-628eca5aa7e8",
   "metadata": {},
   "source": [
    "# 산점도 응용예제2 -- 앤스콤의 4분할"
   ]
  },
  {
   "cell_type": "markdown",
   "id": "ccf88f3a-91f9-48f9-97e6-c6b26a133345",
   "metadata": {},
   "source": [
    "`-` Anscombe's quartet: 교과서에 나오는 그림임. "
   ]
  },
  {
   "cell_type": "markdown",
   "id": "e0ea0db2-d090-4fd1-a20e-0d192f81c887",
   "metadata": {},
   "source": [
    "`-` 교훈1: 데이터를 분석하기 전에 항상 시각화를 하라. "
   ]
  },
  {
   "cell_type": "code",
   "execution_count": 126,
   "id": "3cbbbd35-f108-49b6-b5e4-a9558c39a047",
   "metadata": {},
   "outputs": [],
   "source": [
    "x = [10, 8, 13, 9, 11, 14, 6, 4, 12, 7, 5]\n",
    "y1 = [8.04, 6.95, 7.58, 8.81, 8.33, 9.96, 7.24, 4.26, 10.84, 4.82, 5.68]\n",
    "y2 = [9.14, 8.14, 8.74, 8.77, 9.26, 8.10, 6.13, 3.10, 9.13, 7.26, 4.74]\n",
    "y3 = [7.46, 6.77, 12.74, 7.11, 7.81, 8.84, 6.08, 5.39, 8.15, 6.42, 5.73]\n",
    "x4 = [8, 8, 8, 8, 8, 8, 8, 19, 8, 8, 8]\n",
    "y4 = [6.58, 5.76, 7.71, 8.84, 8.47, 7.04, 5.25, 12.50, 5.56, 7.91, 6.89]"
   ]
  },
  {
   "cell_type": "code",
   "execution_count": 127,
   "id": "9f806195-3f0f-420f-948c-dab239237e51",
   "metadata": {},
   "outputs": [
    {
     "data": {
      "text/plain": [
       "[<matplotlib.lines.Line2D at 0x7f035648d290>]"
      ]
     },
     "execution_count": 127,
     "metadata": {},
     "output_type": "execute_result"
    },
    {
     "data": {
      "image/png": "[encoded data removed]",
      "text/plain": [
       "<Figure size 432x288 with 4 Axes>"
      ]
     },
     "metadata": {
      "needs_background": "light"
     },
     "output_type": "display_data"
    }
   ],
   "source": [
    "fig, ((ax1,ax2),(ax3,ax4)) = plt.subplots(2,2)\n",
    "ax1.plot(x,y1,'o') \n",
    "ax2.plot(x,y2,'o') \n",
    "ax3.plot(x,y3,'o')  \n",
    "ax4.plot(x4,y4,'o') "
   ]
  },
  {
   "cell_type": "markdown",
   "id": "7c32b36d-ceb8-42fd-a62c-19a19e83a952",
   "metadata": {},
   "source": [
    "`-` 첫번째 그림의 상관계수를 구해보자. 즉 corr(x,y1)을 구해보자. "
   ]
  },
  {
   "cell_type": "code",
   "execution_count": 128,
   "id": "c79484d6-0fc4-418c-9968-3bd09c246fe4",
   "metadata": {},
   "outputs": [],
   "source": [
    "_xx = tilde(x)\n",
    "_yy1 = tilde(y1) "
   ]
  },
  {
   "cell_type": "code",
   "execution_count": 129,
   "id": "ebeca78a-5361-42e1-878a-d42f33e40db1",
   "metadata": {},
   "outputs": [
    {
     "data": {
      "text/plain": [
       "0.8164205163448399"
      ]
     },
     "execution_count": 129,
     "metadata": {},
     "output_type": "execute_result"
    }
   ],
   "source": [
    "np.sum(_xx*_yy1)"
   ]
  },
  {
   "cell_type": "markdown",
   "id": "115401ef-fa3c-4813-9bd8-e566117631cb",
   "metadata": {},
   "source": [
    "`-` 사실 아래와 같이 구해도 된다. "
   ]
  },
  {
   "cell_type": "code",
   "execution_count": 130,
   "id": "901d05dd-8f2c-4b87-b3e3-f59b2468e018",
   "metadata": {},
   "outputs": [
    {
     "data": {
      "text/plain": [
       "array([[1.        , 0.81642052],\n",
       "       [0.81642052, 1.        ]])"
      ]
     },
     "execution_count": 130,
     "metadata": {},
     "output_type": "execute_result"
    }
   ],
   "source": [
    "np.corrcoef([x,y1])"
   ]
  },
  {
   "cell_type": "markdown",
   "id": "fbd13e0d-889a-4482-8e8a-0c49eb973a8d",
   "metadata": {},
   "source": [
    "`-` corr(x,y1), corr(x,y2), corr(x,y3)를 구해보자. "
   ]
  },
  {
   "cell_type": "code",
   "execution_count": 131,
   "id": "4e3ce809-58da-4c8c-b338-71e97fbefddd",
   "metadata": {},
   "outputs": [
    {
     "data": {
      "text/plain": [
       "array([[1.        , 0.81642052, 0.81623651, 0.81628674],\n",
       "       [0.81642052, 1.        , 0.7500054 , 0.46871668],\n",
       "       [0.81623651, 0.7500054 , 1.        , 0.58791933],\n",
       "       [0.81628674, 0.46871668, 0.58791933, 1.        ]])"
      ]
     },
     "execution_count": 131,
     "metadata": {},
     "output_type": "execute_result"
    }
   ],
   "source": [
    "np.corrcoef([x,y1,y2,y3])"
   ]
  },
  {
   "cell_type": "markdown",
   "id": "35587e4c-5065-45ba-97c3-0a57c825df81",
   "metadata": {},
   "source": [
    "- 앤스콤의 4분할중 1,2,3 번째 그림의 상관계수는 0.81642052, 0.81623651, 0.81628674 이라는 의미 \n",
    "- 즉 corr(x,y1)=0.81642052, corr(x,y2)=0.81623651, corr(x,y3)=0.81628674 임 \n",
    "\n",
    "`*` 참고로 np.corrcoef([x,y1,y2,y3])의 계산결과는 정확하게 \n",
    "\n",
    "$$\\begin{bmatrix} corr(x,x) & corr(x,y1) & corr(x,y2) & corr(x,y3) \\\\ corr(y1,x) & corr(y1,y1) & corr(y1,y2) & corr(y1,y3) \\\\ corr(y2,x) & corr(y2,y1) & corr(y2,y2) & corr(y2,y3) \\\\ corr(y3,x) & corr(y3,y1) & corr(y3,y2) & corr(y3,y3)\\end{bmatrix}$$"
   ]
  },
  {
   "cell_type": "markdown",
   "id": "6991c305-1c1a-4f90-9167-56b376e20325",
   "metadata": {},
   "source": [
    "를 의미함 "
   ]
  },
  {
   "cell_type": "markdown",
   "id": "f1877cce-3c40-43cb-af7e-bd056ffd1b5b",
   "metadata": {},
   "source": [
    "`-` 앤스콤플랏의 4개의 그림은 모두 같은 상관계수를 가진다. $\\to$ 하지만 4개의 그림은 느낌이 전혀 다르다. "
   ]
  },
  {
   "cell_type": "markdown",
   "id": "b4e3f43f-eb55-4a50-ad60-be29ca6bb7d8",
   "metadata": {},
   "source": [
    "`-` 같은 표본상관계수를 가진다고 하여 같은 관계성을 가지는 것은 아니다. 표본상관계수는 x,y의 비례정도를 측정하는데 그 값이 1에 가깝다고 하여 꼭 정비례의 관계가 있음을 의미하는게 아니다. $(x_i,y_i)$의 산점도가 선형성을 보일때만 \"표본상관계수가 1이므로 정비례의 관계에 있다\" 라는 논리전개가 성립한다. \n",
    "\n",
    "- 앤스콤의 1번째 플랏: 산점도가 선형 $\\to$ 표본상관계수가 0.816 = 정비례의 관계가 0.816 정도 \n",
    "- 앤스콤의 2번째 플랏: 산점도가 선형이 아님 $\\to$ 표본상관계수가 크게 의미없음 \n",
    "- 앤스콤의 3번째 플랏: 산점도가 선형인듯 보이나 하나의 이상치가 있음 $\\to$ 하나의 이상치가 표본상관계수의 값을 무너뜨릴 수 있으므로 표본상관계수값을 신뢰할 수 없음. \n",
    "- 앤스콤의 4번째 플랏: 산점도를 그려보니 이상한그림 $\\to$ 표존상관계수를 계산할수는 있음. 그런데 그게 무슨 의미가 있을지? "
   ]
  },
  {
   "cell_type": "markdown",
   "id": "62d37a22-de21-4ffd-bc24-1701c19eb2c8",
   "metadata": {},
   "source": [
    "`-` 앤스콤의 3번째 플랏: 하나의 이상치가 상관계수를 무너뜨리는 경우 시각화 "
   ]
  },
  {
   "cell_type": "code",
   "execution_count": 147,
   "id": "6e1cbfe9-6e39-4816-85a5-07117ecdcc27",
   "metadata": {},
   "outputs": [
    {
     "data": {
      "text/plain": [
       "[<matplotlib.lines.Line2D at 0x7f0355d7e6d0>]"
      ]
     },
     "execution_count": 147,
     "metadata": {},
     "output_type": "execute_result"
    },
    {
     "data": {
      "image/png": "[encoded data removed]",
      "text/plain": [
       "<Figure size 432x288 with 1 Axes>"
      ]
     },
     "metadata": {
      "needs_background": "light"
     },
     "output_type": "display_data"
    }
   ],
   "source": [
    "plt.plot(x,y1,'x')"
   ]
  },
  {
   "cell_type": "markdown",
   "id": "a347fa2c-bc71-4f95-bb5d-f2d8c976b6a3",
   "metadata": {},
   "source": [
    "- 하나의 점을 잘 추가하면 이 상관계수값을 -1에 수렴시킬 수 있다?"
   ]
  },
  {
   "cell_type": "code",
   "execution_count": 146,
   "id": "fd513816-7eb9-4558-80da-061f260a3458",
   "metadata": {},
   "outputs": [
    {
     "data": {
      "text/plain": [
       "[<matplotlib.lines.Line2D at 0x7f0355e77dd0>]"
      ]
     },
     "execution_count": 146,
     "metadata": {},
     "output_type": "execute_result"
    },
    {
     "data": {
      "image/png": "[encoded data removed]",
      "text/plain": [
       "<Figure size 432x288 with 1 Axes>"
      ]
     },
     "metadata": {
      "needs_background": "light"
     },
     "output_type": "display_data"
    }
   ],
   "source": [
    "plt.plot(x+[99],y1+[-99],'x')"
   ]
  },
  {
   "cell_type": "code",
   "execution_count": 143,
   "id": "b16c08c6-207a-472a-b2d8-1bdc45cea939",
   "metadata": {},
   "outputs": [
    {
     "data": {
      "text/plain": [
       "array([[ 1.        , -0.98450679],\n",
       "       [-0.98450679,  1.        ]])"
      ]
     },
     "execution_count": 143,
     "metadata": {},
     "output_type": "execute_result"
    }
   ],
   "source": [
    "np.corrcoef(x+[99],y1+[-99])"
   ]
  },
  {
   "cell_type": "markdown",
   "id": "b20b2d4a-95ed-4eac-a14e-7ed1f517121e",
   "metadata": {},
   "source": [
    "`-` 교훈2: 상관계수를 해석하기에 앞서서 산점도가 선형성을 보이는지 체크할 것! 항상 통계학과에서 배우는 통계량 (혹은 논리전개)는 적절한 가정하에서만 말이된다는 사실을 기억할 것! "
   ]
  },
  {
   "cell_type": "markdown",
   "id": "cf2f0926-a2f3-4272-99fb-d4bbd02c18aa",
   "metadata": {
    "tags": []
   },
   "source": [
    "# 산점도 응용예제3 -- 무상관은 관계가 없다는 뜻? "
   ]
  },
  {
   "cell_type": "code",
   "execution_count": 79,
   "id": "5fb21d99-449c-4173-9fd0-8bda0f85e00b",
   "metadata": {},
   "outputs": [],
   "source": [
    "np.random.seed(43052)\n",
    "x=np.linspace(-1,1,100,endpoint=True)\n",
    "y=x**2+np.random.normal(scale=0.1,size=100)"
   ]
  },
  {
   "cell_type": "code",
   "execution_count": 80,
   "id": "809847ac-09eb-4a6d-8edf-0ed84bd790eb",
   "metadata": {},
   "outputs": [
    {
     "data": {
      "text/plain": [
       "Text(0.5, 1.0, 'y=x**2')"
      ]
     },
     "execution_count": 80,
     "metadata": {},
     "output_type": "execute_result"
    },
    {
     "data": {
      "image/png": "[encoded data removed]",
      "text/plain": [
       "<Figure size 432x288 with 1 Axes>"
      ]
     },
     "metadata": {
      "needs_background": "light"
     },
     "output_type": "display_data"
    }
   ],
   "source": [
    "plt.plot(x,y,'o')\n",
    "plt.title('y=x**2')"
   ]
  },
  {
   "cell_type": "code",
   "execution_count": 81,
   "id": "3d8f6327-3bcf-4a31-98bc-e00848a0ce18",
   "metadata": {},
   "outputs": [
    {
     "data": {
      "text/plain": [
       "array([[1.        , 0.00688718],\n",
       "       [0.00688718, 1.        ]])"
      ]
     },
     "execution_count": 81,
     "metadata": {},
     "output_type": "execute_result"
    }
   ],
   "source": [
    "np.corrcoef(x,y)"
   ]
  },
  {
   "cell_type": "markdown",
   "id": "c4bf0a0c-5a82-4c78-ac1b-45aad71ff048",
   "metadata": {},
   "source": [
    "`-` 표본상관계수의 값이 0에 가까운 것은 두 변수의 직선관계가 약한것을 의미한 것이지 두 변수 사이에 아무런 함수관계가 없다는 것을 의미하는 것은 아니다. "
   ]
  },
  {
   "cell_type": "markdown",
   "id": "d6b43c58-961f-4357-987c-101f86f93ed9",
   "metadata": {},
   "source": [
    "# 숙제 "
   ]
  },
  {
   "cell_type": "markdown",
   "id": "678bf8f8-5ed8-4d07-a90b-47ee383ceb3f",
   "metadata": {},
   "source": [
    "아래의 그림을 보고 물음에 답하라. "
   ]
  },
  {
   "cell_type": "code",
   "execution_count": 54,
   "id": "fd9c406f-e3a7-4dc5-a2d6-e822893a3615",
   "metadata": {},
   "outputs": [
    {
     "data": {
      "image/png": "[encoded data removed]",
      "text/plain": [
       "<Figure size 432x288 with 6 Axes>"
      ]
     },
     "metadata": {
      "needs_background": "light"
     },
     "output_type": "display_data"
    }
   ],
   "source": [
    "#"
   ]
  },
  {
   "cell_type": "markdown",
   "id": "52cf6d3f-204d-4bb6-8233-53825e4f9581",
   "metadata": {},
   "source": [
    "`(1)` 산점도 (a) - (f) 중 표본상관계수가 양수라 생각되는 그림은? "
   ]
  },
  {
   "cell_type": "markdown",
   "id": "dcef0869-a3ee-426d-878d-c11025b5f427",
   "metadata": {},
   "source": [
    "`(2)` 산점도 (a) - (f) 중 표본상관계수의 절대값이 가장 큰 그림은? 절대값이 가장 작은 그림은? "
   ]
  }
 ],
 "metadata": {
  "kernelspec": {
   "display_name": "Python 3",
   "language": "python",
   "name": "python3"
  },
  "language_info": {
   "codemirror_mode": {
    "name": "ipython",
    "version": 3
   },
   "file_extension": ".py",
   "mimetype": "text/x-python",
   "name": "python",
   "nbconvert_exporter": "python",
   "pygments_lexer": "ipython3",
   "version": "3.7.15"
  }
 },
 "nbformat": 4,
 "nbformat_minor": 5
}
