{
 "cells": [
  {
   "cell_type": "raw",
   "id": "a1477aad-1fa5-4c76-a116-acf0acaddcaf",
   "metadata": {},
   "source": [
    "---\n",
    "title: \"10wk-2\"\n",
    "author: \"최규빈\"\n",
    "date: \"11/09/2022\"\n",
    "categories:\n",
    "  - 통계와 시각화\n",
    "  - plotnine\n",
    "---"
   ]
  },
  {
   "cell_type": "markdown",
   "id": "dfbff924-6565-47be-a9b6-ac1ddd9cb9f4",
   "metadata": {
    "tags": []
   },
   "source": [
    "> 심슨의 역설 "
   ]
  },
  {
   "cell_type": "markdown",
   "id": "2f48bb66-21f7-4c9b-81c5-0df9547c2ce8",
   "metadata": {},
   "source": [
    "# 강의영상 "
   ]
  },
  {
   "cell_type": "markdown",
   "id": "1b370503-6da0-40ee-8b63-2ff55d84c81c",
   "metadata": {},
   "source": [
    "<https://youtube.com/playlist?list=PLQqh36zP38-wB73rDChn234r4ded7tDV_>"
   ]
  },
  {
   "cell_type": "markdown",
   "id": "ede7bef5-10f2-4174-a30d-31cf44804bc1",
   "metadata": {},
   "source": [
    "# imports"
   ]
  },
  {
   "cell_type": "code",
   "execution_count": 2,
   "id": "15901c5b-e9c8-492a-8516-538c83a62f37",
   "metadata": {},
   "outputs": [],
   "source": [
    "import pandas as pd\n",
    "import numpy as np\n",
    "from plotnine import *"
   ]
  },
  {
   "cell_type": "markdown",
   "id": "a0d56c45-d196-4788-8f22-8adf954ccffd",
   "metadata": {},
   "source": [
    "# 심슨의 역설"
   ]
  },
  {
   "cell_type": "markdown",
   "id": "a153b775-159a-432f-8ffc-958d7fe32ea0",
   "metadata": {},
   "source": [
    "`-` 버클리대학교의 입학데이터\n",
    "\n",
    "- <https://github.com/guebin/DV2022/blob/master/_notebooks/ds.pdf>"
   ]
  },
  {
   "cell_type": "markdown",
   "id": "416702f7-05c5-4bea-b81a-5bf12e649b04",
   "metadata": {},
   "source": [
    "`-` 주장: 버클리대학에 gender bias가 존재한다. \n",
    "\n",
    "- 1973년 가을학기의 입학통계에 따르면 지원하는 남성이 여성보다 훨씬 많이 합격했고, 그 차이가 너무 커서 우연의 일치라 보기 어렵다. "
   ]
  },
  {
   "cell_type": "code",
   "execution_count": 3,
   "id": "c2bc318b-affd-4caf-b1ae-5c3dff114705",
   "metadata": {},
   "outputs": [
    {
     "data": {
      "text/html": [
       "<div>\n",
       "<style scoped>\n",
       "    .dataframe tbody tr th:only-of-type {\n",
       "        vertical-align: middle;\n",
       "    }\n",
       "\n",
       "    .dataframe tbody tr th {\n",
       "        vertical-align: top;\n",
       "    }\n",
       "\n",
       "    .dataframe thead th {\n",
       "        text-align: right;\n",
       "    }\n",
       "</style>\n",
       "<table border=\"1\" class=\"dataframe\">\n",
       "  <thead>\n",
       "    <tr style=\"text-align: right;\">\n",
       "      <th></th>\n",
       "      <th>department</th>\n",
       "      <th>result</th>\n",
       "      <th>gender</th>\n",
       "      <th>count</th>\n",
       "    </tr>\n",
       "  </thead>\n",
       "  <tbody>\n",
       "    <tr>\n",
       "      <th>0</th>\n",
       "      <td>A</td>\n",
       "      <td>fail</td>\n",
       "      <td>female</td>\n",
       "      <td>19</td>\n",
       "    </tr>\n",
       "    <tr>\n",
       "      <th>1</th>\n",
       "      <td>A</td>\n",
       "      <td>fail</td>\n",
       "      <td>male</td>\n",
       "      <td>314</td>\n",
       "    </tr>\n",
       "    <tr>\n",
       "      <th>2</th>\n",
       "      <td>A</td>\n",
       "      <td>pass</td>\n",
       "      <td>female</td>\n",
       "      <td>89</td>\n",
       "    </tr>\n",
       "    <tr>\n",
       "      <th>3</th>\n",
       "      <td>A</td>\n",
       "      <td>pass</td>\n",
       "      <td>male</td>\n",
       "      <td>511</td>\n",
       "    </tr>\n",
       "    <tr>\n",
       "      <th>4</th>\n",
       "      <td>B</td>\n",
       "      <td>fail</td>\n",
       "      <td>female</td>\n",
       "      <td>7</td>\n",
       "    </tr>\n",
       "    <tr>\n",
       "      <th>5</th>\n",
       "      <td>B</td>\n",
       "      <td>fail</td>\n",
       "      <td>male</td>\n",
       "      <td>208</td>\n",
       "    </tr>\n",
       "    <tr>\n",
       "      <th>6</th>\n",
       "      <td>B</td>\n",
       "      <td>pass</td>\n",
       "      <td>female</td>\n",
       "      <td>18</td>\n",
       "    </tr>\n",
       "    <tr>\n",
       "      <th>7</th>\n",
       "      <td>B</td>\n",
       "      <td>pass</td>\n",
       "      <td>male</td>\n",
       "      <td>352</td>\n",
       "    </tr>\n",
       "    <tr>\n",
       "      <th>8</th>\n",
       "      <td>C</td>\n",
       "      <td>fail</td>\n",
       "      <td>female</td>\n",
       "      <td>391</td>\n",
       "    </tr>\n",
       "    <tr>\n",
       "      <th>9</th>\n",
       "      <td>C</td>\n",
       "      <td>fail</td>\n",
       "      <td>male</td>\n",
       "      <td>204</td>\n",
       "    </tr>\n",
       "    <tr>\n",
       "      <th>10</th>\n",
       "      <td>C</td>\n",
       "      <td>pass</td>\n",
       "      <td>female</td>\n",
       "      <td>202</td>\n",
       "    </tr>\n",
       "    <tr>\n",
       "      <th>11</th>\n",
       "      <td>C</td>\n",
       "      <td>pass</td>\n",
       "      <td>male</td>\n",
       "      <td>121</td>\n",
       "    </tr>\n",
       "    <tr>\n",
       "      <th>12</th>\n",
       "      <td>D</td>\n",
       "      <td>fail</td>\n",
       "      <td>female</td>\n",
       "      <td>244</td>\n",
       "    </tr>\n",
       "    <tr>\n",
       "      <th>13</th>\n",
       "      <td>D</td>\n",
       "      <td>fail</td>\n",
       "      <td>male</td>\n",
       "      <td>279</td>\n",
       "    </tr>\n",
       "    <tr>\n",
       "      <th>14</th>\n",
       "      <td>D</td>\n",
       "      <td>pass</td>\n",
       "      <td>female</td>\n",
       "      <td>131</td>\n",
       "    </tr>\n",
       "    <tr>\n",
       "      <th>15</th>\n",
       "      <td>D</td>\n",
       "      <td>pass</td>\n",
       "      <td>male</td>\n",
       "      <td>138</td>\n",
       "    </tr>\n",
       "    <tr>\n",
       "      <th>16</th>\n",
       "      <td>E</td>\n",
       "      <td>fail</td>\n",
       "      <td>female</td>\n",
       "      <td>299</td>\n",
       "    </tr>\n",
       "    <tr>\n",
       "      <th>17</th>\n",
       "      <td>E</td>\n",
       "      <td>fail</td>\n",
       "      <td>male</td>\n",
       "      <td>137</td>\n",
       "    </tr>\n",
       "    <tr>\n",
       "      <th>18</th>\n",
       "      <td>E</td>\n",
       "      <td>pass</td>\n",
       "      <td>female</td>\n",
       "      <td>94</td>\n",
       "    </tr>\n",
       "    <tr>\n",
       "      <th>19</th>\n",
       "      <td>E</td>\n",
       "      <td>pass</td>\n",
       "      <td>male</td>\n",
       "      <td>54</td>\n",
       "    </tr>\n",
       "    <tr>\n",
       "      <th>20</th>\n",
       "      <td>F</td>\n",
       "      <td>fail</td>\n",
       "      <td>female</td>\n",
       "      <td>103</td>\n",
       "    </tr>\n",
       "    <tr>\n",
       "      <th>21</th>\n",
       "      <td>F</td>\n",
       "      <td>fail</td>\n",
       "      <td>male</td>\n",
       "      <td>149</td>\n",
       "    </tr>\n",
       "    <tr>\n",
       "      <th>22</th>\n",
       "      <td>F</td>\n",
       "      <td>pass</td>\n",
       "      <td>female</td>\n",
       "      <td>238</td>\n",
       "    </tr>\n",
       "    <tr>\n",
       "      <th>23</th>\n",
       "      <td>F</td>\n",
       "      <td>pass</td>\n",
       "      <td>male</td>\n",
       "      <td>224</td>\n",
       "    </tr>\n",
       "  </tbody>\n",
       "</table>\n",
       "</div>"
      ],
      "text/plain": [
       "   department result  gender  count\n",
       "0           A   fail  female     19\n",
       "1           A   fail    male    314\n",
       "2           A   pass  female     89\n",
       "3           A   pass    male    511\n",
       "4           B   fail  female      7\n",
       "5           B   fail    male    208\n",
       "6           B   pass  female     18\n",
       "7           B   pass    male    352\n",
       "8           C   fail  female    391\n",
       "9           C   fail    male    204\n",
       "10          C   pass  female    202\n",
       "11          C   pass    male    121\n",
       "12          D   fail  female    244\n",
       "13          D   fail    male    279\n",
       "14          D   pass  female    131\n",
       "15          D   pass    male    138\n",
       "16          E   fail  female    299\n",
       "17          E   fail    male    137\n",
       "18          E   pass  female     94\n",
       "19          E   pass    male     54\n",
       "20          F   fail  female    103\n",
       "21          F   fail    male    149\n",
       "22          F   pass  female    238\n",
       "23          F   pass    male    224"
      ]
     },
     "execution_count": 3,
     "metadata": {},
     "output_type": "execute_result"
    }
   ],
   "source": [
    "df=pd.read_csv(\"https://raw.githubusercontent.com/guebin/DV2022/master/posts/Simpson.csv\",index_col=0,header=[0,1])\\\n",
    ".stack().stack().reset_index()\\\n",
    ".rename({'level_0':'department','level_1':'result','level_2':'gender',0:'count'},axis=1)\n",
    "df"
   ]
  },
  {
   "cell_type": "markdown",
   "id": "a57f7905-3265-4ab4-b849-e8819a5740fb",
   "metadata": {},
   "source": [
    "## 시각화1: 전체합격률"
   ]
  },
  {
   "cell_type": "markdown",
   "id": "244d3686-312a-4483-a4c9-1217c80cc9c8",
   "metadata": {},
   "source": [
    "`-` df1 "
   ]
  },
  {
   "cell_type": "code",
   "execution_count": 4,
   "id": "dff291f6-1dd1-458b-bcba-269886d59fed",
   "metadata": {},
   "outputs": [
    {
     "data": {
      "text/html": [
       "<div>\n",
       "<style scoped>\n",
       "    .dataframe tbody tr th:only-of-type {\n",
       "        vertical-align: middle;\n",
       "    }\n",
       "\n",
       "    .dataframe tbody tr th {\n",
       "        vertical-align: top;\n",
       "    }\n",
       "\n",
       "    .dataframe thead th {\n",
       "        text-align: right;\n",
       "    }\n",
       "</style>\n",
       "<table border=\"1\" class=\"dataframe\">\n",
       "  <thead>\n",
       "    <tr style=\"text-align: right;\">\n",
       "      <th></th>\n",
       "      <th>gender</th>\n",
       "      <th>result</th>\n",
       "      <th>count</th>\n",
       "    </tr>\n",
       "  </thead>\n",
       "  <tbody>\n",
       "    <tr>\n",
       "      <th>0</th>\n",
       "      <td>female</td>\n",
       "      <td>fail</td>\n",
       "      <td>1063</td>\n",
       "    </tr>\n",
       "    <tr>\n",
       "      <th>1</th>\n",
       "      <td>female</td>\n",
       "      <td>pass</td>\n",
       "      <td>772</td>\n",
       "    </tr>\n",
       "    <tr>\n",
       "      <th>2</th>\n",
       "      <td>male</td>\n",
       "      <td>fail</td>\n",
       "      <td>1291</td>\n",
       "    </tr>\n",
       "    <tr>\n",
       "      <th>3</th>\n",
       "      <td>male</td>\n",
       "      <td>pass</td>\n",
       "      <td>1400</td>\n",
       "    </tr>\n",
       "  </tbody>\n",
       "</table>\n",
       "</div>"
      ],
      "text/plain": [
       "   gender result  count\n",
       "0  female   fail   1063\n",
       "1  female   pass    772\n",
       "2    male   fail   1291\n",
       "3    male   pass   1400"
      ]
     },
     "execution_count": 4,
     "metadata": {},
     "output_type": "execute_result"
    }
   ],
   "source": [
    "df.groupby(['gender','result']).agg({'count':np.sum}).reset_index()"
   ]
  },
  {
   "cell_type": "markdown",
   "id": "ac431fa0-a793-40f3-a9b4-8bf4fa4d4a16",
   "metadata": {},
   "source": [
    "`-` df2 "
   ]
  },
  {
   "cell_type": "code",
   "execution_count": 5,
   "id": "289810a1-7a8f-4536-938d-c0094b0ae36d",
   "metadata": {},
   "outputs": [
    {
     "data": {
      "text/html": [
       "<div>\n",
       "<style scoped>\n",
       "    .dataframe tbody tr th:only-of-type {\n",
       "        vertical-align: middle;\n",
       "    }\n",
       "\n",
       "    .dataframe tbody tr th {\n",
       "        vertical-align: top;\n",
       "    }\n",
       "\n",
       "    .dataframe thead th {\n",
       "        text-align: right;\n",
       "    }\n",
       "</style>\n",
       "<table border=\"1\" class=\"dataframe\">\n",
       "  <thead>\n",
       "    <tr style=\"text-align: right;\">\n",
       "      <th></th>\n",
       "      <th>gender</th>\n",
       "      <th>count2</th>\n",
       "    </tr>\n",
       "  </thead>\n",
       "  <tbody>\n",
       "    <tr>\n",
       "      <th>0</th>\n",
       "      <td>female</td>\n",
       "      <td>1835</td>\n",
       "    </tr>\n",
       "    <tr>\n",
       "      <th>1</th>\n",
       "      <td>male</td>\n",
       "      <td>2691</td>\n",
       "    </tr>\n",
       "  </tbody>\n",
       "</table>\n",
       "</div>"
      ],
      "text/plain": [
       "   gender  count2\n",
       "0  female    1835\n",
       "1    male    2691"
      ]
     },
     "execution_count": 5,
     "metadata": {},
     "output_type": "execute_result"
    }
   ],
   "source": [
    "df.groupby('gender').agg({'count':np.sum}).reset_index().rename({'count':'count2'},axis=1)"
   ]
  },
  {
   "cell_type": "markdown",
   "id": "7dbef2fb-4e86-4e1c-b0cc-1b81d05a2f57",
   "metadata": {},
   "source": [
    "`-` merge: 두개의 데이터프레임을 합친다"
   ]
  },
  {
   "cell_type": "code",
   "execution_count": 6,
   "id": "2601cecd-87ed-469b-8efa-c60554295091",
   "metadata": {},
   "outputs": [
    {
     "data": {
      "text/html": [
       "<div>\n",
       "<style scoped>\n",
       "    .dataframe tbody tr th:only-of-type {\n",
       "        vertical-align: middle;\n",
       "    }\n",
       "\n",
       "    .dataframe tbody tr th {\n",
       "        vertical-align: top;\n",
       "    }\n",
       "\n",
       "    .dataframe thead th {\n",
       "        text-align: right;\n",
       "    }\n",
       "</style>\n",
       "<table border=\"1\" class=\"dataframe\">\n",
       "  <thead>\n",
       "    <tr style=\"text-align: right;\">\n",
       "      <th></th>\n",
       "      <th>gender</th>\n",
       "      <th>result</th>\n",
       "      <th>count</th>\n",
       "      <th>count2</th>\n",
       "    </tr>\n",
       "  </thead>\n",
       "  <tbody>\n",
       "    <tr>\n",
       "      <th>0</th>\n",
       "      <td>female</td>\n",
       "      <td>fail</td>\n",
       "      <td>1063</td>\n",
       "      <td>1835</td>\n",
       "    </tr>\n",
       "    <tr>\n",
       "      <th>1</th>\n",
       "      <td>female</td>\n",
       "      <td>pass</td>\n",
       "      <td>772</td>\n",
       "      <td>1835</td>\n",
       "    </tr>\n",
       "    <tr>\n",
       "      <th>2</th>\n",
       "      <td>male</td>\n",
       "      <td>fail</td>\n",
       "      <td>1291</td>\n",
       "      <td>2691</td>\n",
       "    </tr>\n",
       "    <tr>\n",
       "      <th>3</th>\n",
       "      <td>male</td>\n",
       "      <td>pass</td>\n",
       "      <td>1400</td>\n",
       "      <td>2691</td>\n",
       "    </tr>\n",
       "  </tbody>\n",
       "</table>\n",
       "</div>"
      ],
      "text/plain": [
       "   gender result  count  count2\n",
       "0  female   fail   1063    1835\n",
       "1  female   pass    772    1835\n",
       "2    male   fail   1291    2691\n",
       "3    male   pass   1400    2691"
      ]
     },
     "execution_count": 6,
     "metadata": {},
     "output_type": "execute_result"
    }
   ],
   "source": [
    "df.groupby(['gender','result']).agg({'count':np.sum}).reset_index()\\\n",
    ".merge(df.groupby('gender').agg({'count':np.sum}).reset_index().rename({'count':'count2'},axis=1))"
   ]
  },
  {
   "cell_type": "markdown",
   "id": "3a5ae6c1-1f35-4487-bc39-f51f8ddd4798",
   "metadata": {},
   "source": [
    "`-` 비율계산"
   ]
  },
  {
   "cell_type": "code",
   "execution_count": 7,
   "id": "e419f763-1b75-4505-883a-ede81dd27f52",
   "metadata": {},
   "outputs": [
    {
     "data": {
      "text/html": [
       "<div>\n",
       "<style scoped>\n",
       "    .dataframe tbody tr th:only-of-type {\n",
       "        vertical-align: middle;\n",
       "    }\n",
       "\n",
       "    .dataframe tbody tr th {\n",
       "        vertical-align: top;\n",
       "    }\n",
       "\n",
       "    .dataframe thead th {\n",
       "        text-align: right;\n",
       "    }\n",
       "</style>\n",
       "<table border=\"1\" class=\"dataframe\">\n",
       "  <thead>\n",
       "    <tr style=\"text-align: right;\">\n",
       "      <th></th>\n",
       "      <th>gender</th>\n",
       "      <th>result</th>\n",
       "      <th>count</th>\n",
       "      <th>count2</th>\n",
       "      <th>rate</th>\n",
       "    </tr>\n",
       "  </thead>\n",
       "  <tbody>\n",
       "    <tr>\n",
       "      <th>0</th>\n",
       "      <td>female</td>\n",
       "      <td>fail</td>\n",
       "      <td>1063</td>\n",
       "      <td>1835</td>\n",
       "      <td>0.579292</td>\n",
       "    </tr>\n",
       "    <tr>\n",
       "      <th>1</th>\n",
       "      <td>female</td>\n",
       "      <td>pass</td>\n",
       "      <td>772</td>\n",
       "      <td>1835</td>\n",
       "      <td>0.420708</td>\n",
       "    </tr>\n",
       "    <tr>\n",
       "      <th>2</th>\n",
       "      <td>male</td>\n",
       "      <td>fail</td>\n",
       "      <td>1291</td>\n",
       "      <td>2691</td>\n",
       "      <td>0.479747</td>\n",
       "    </tr>\n",
       "    <tr>\n",
       "      <th>3</th>\n",
       "      <td>male</td>\n",
       "      <td>pass</td>\n",
       "      <td>1400</td>\n",
       "      <td>2691</td>\n",
       "      <td>0.520253</td>\n",
       "    </tr>\n",
       "  </tbody>\n",
       "</table>\n",
       "</div>"
      ],
      "text/plain": [
       "   gender result  count  count2      rate\n",
       "0  female   fail   1063    1835  0.579292\n",
       "1  female   pass    772    1835  0.420708\n",
       "2    male   fail   1291    2691  0.479747\n",
       "3    male   pass   1400    2691  0.520253"
      ]
     },
     "execution_count": 7,
     "metadata": {},
     "output_type": "execute_result"
    }
   ],
   "source": [
    "df.groupby(['gender','result']).agg({'count':np.sum}).reset_index()\\\n",
    ".merge(df.groupby('gender').agg({'count':np.sum}).reset_index().rename({'count':'count2'},axis=1))\\\n",
    ".eval('rate = count/count2')"
   ]
  },
  {
   "cell_type": "markdown",
   "id": "010f4346-bc02-4b6f-80c1-04d23840ab84",
   "metadata": {},
   "source": [
    "`-` 시각화"
   ]
  },
  {
   "cell_type": "code",
   "execution_count": 8,
   "id": "471e17a8-b130-4f5a-a592-2577e076a357",
   "metadata": {},
   "outputs": [
    {
     "data": {
      "image/png": "[encoded data removed]",
      "text/plain": [
       "<Figure size 640x480 with 1 Axes>"
      ]
     },
     "metadata": {},
     "output_type": "display_data"
    },
    {
     "data": {
      "text/plain": [
       "<ggplot: (8789343060161)>"
      ]
     },
     "execution_count": 8,
     "metadata": {},
     "output_type": "execute_result"
    }
   ],
   "source": [
    "data1= df.groupby(['gender','result']).agg({'count':np.sum}).reset_index()\\\n",
    ".merge(df.groupby('gender').agg({'count':np.sum}).reset_index().rename({'count':'count2'},axis=1))\\\n",
    ".eval('rate = count/count2')\n",
    "ggplot(data1.query('result==\"pass\"'))+geom_col(aes(x='gender',fill='gender',y='rate'))"
   ]
  },
  {
   "cell_type": "markdown",
   "id": "40a74c1b-5520-4699-9cf5-2d8350aa7102",
   "metadata": {},
   "source": [
    "`-` 결론: 남자의 합격률이 더 높다. $\\to$ 성차별이 있어보인다(?)"
   ]
  },
  {
   "cell_type": "markdown",
   "id": "dc98dbca-8b6d-4fbd-90f8-1f4d4daa36f7",
   "metadata": {},
   "source": [
    "## 시각화2: 학과별 합격률"
   ]
  },
  {
   "cell_type": "markdown",
   "id": "61fb3a96-496a-47e6-8654-146fbd21fa24",
   "metadata": {},
   "source": [
    "`-` df2"
   ]
  },
  {
   "cell_type": "code",
   "execution_count": 9,
   "id": "8c043b64-f9c0-47e8-be79-9b1c6856eeae",
   "metadata": {},
   "outputs": [
    {
     "data": {
      "text/html": [
       "<div>\n",
       "<style scoped>\n",
       "    .dataframe tbody tr th:only-of-type {\n",
       "        vertical-align: middle;\n",
       "    }\n",
       "\n",
       "    .dataframe tbody tr th {\n",
       "        vertical-align: top;\n",
       "    }\n",
       "\n",
       "    .dataframe thead th {\n",
       "        text-align: right;\n",
       "    }\n",
       "</style>\n",
       "<table border=\"1\" class=\"dataframe\">\n",
       "  <thead>\n",
       "    <tr style=\"text-align: right;\">\n",
       "      <th></th>\n",
       "      <th>department</th>\n",
       "      <th>gender</th>\n",
       "      <th>count2</th>\n",
       "    </tr>\n",
       "  </thead>\n",
       "  <tbody>\n",
       "    <tr>\n",
       "      <th>0</th>\n",
       "      <td>A</td>\n",
       "      <td>female</td>\n",
       "      <td>108</td>\n",
       "    </tr>\n",
       "    <tr>\n",
       "      <th>1</th>\n",
       "      <td>A</td>\n",
       "      <td>male</td>\n",
       "      <td>825</td>\n",
       "    </tr>\n",
       "    <tr>\n",
       "      <th>2</th>\n",
       "      <td>B</td>\n",
       "      <td>female</td>\n",
       "      <td>25</td>\n",
       "    </tr>\n",
       "    <tr>\n",
       "      <th>3</th>\n",
       "      <td>B</td>\n",
       "      <td>male</td>\n",
       "      <td>560</td>\n",
       "    </tr>\n",
       "    <tr>\n",
       "      <th>4</th>\n",
       "      <td>C</td>\n",
       "      <td>female</td>\n",
       "      <td>593</td>\n",
       "    </tr>\n",
       "    <tr>\n",
       "      <th>5</th>\n",
       "      <td>C</td>\n",
       "      <td>male</td>\n",
       "      <td>325</td>\n",
       "    </tr>\n",
       "    <tr>\n",
       "      <th>6</th>\n",
       "      <td>D</td>\n",
       "      <td>female</td>\n",
       "      <td>375</td>\n",
       "    </tr>\n",
       "    <tr>\n",
       "      <th>7</th>\n",
       "      <td>D</td>\n",
       "      <td>male</td>\n",
       "      <td>417</td>\n",
       "    </tr>\n",
       "    <tr>\n",
       "      <th>8</th>\n",
       "      <td>E</td>\n",
       "      <td>female</td>\n",
       "      <td>393</td>\n",
       "    </tr>\n",
       "    <tr>\n",
       "      <th>9</th>\n",
       "      <td>E</td>\n",
       "      <td>male</td>\n",
       "      <td>191</td>\n",
       "    </tr>\n",
       "    <tr>\n",
       "      <th>10</th>\n",
       "      <td>F</td>\n",
       "      <td>female</td>\n",
       "      <td>341</td>\n",
       "    </tr>\n",
       "    <tr>\n",
       "      <th>11</th>\n",
       "      <td>F</td>\n",
       "      <td>male</td>\n",
       "      <td>373</td>\n",
       "    </tr>\n",
       "  </tbody>\n",
       "</table>\n",
       "</div>"
      ],
      "text/plain": [
       "   department  gender  count2\n",
       "0           A  female     108\n",
       "1           A    male     825\n",
       "2           B  female      25\n",
       "3           B    male     560\n",
       "4           C  female     593\n",
       "5           C    male     325\n",
       "6           D  female     375\n",
       "7           D    male     417\n",
       "8           E  female     393\n",
       "9           E    male     191\n",
       "10          F  female     341\n",
       "11          F    male     373"
      ]
     },
     "execution_count": 9,
     "metadata": {},
     "output_type": "execute_result"
    }
   ],
   "source": [
    "df.groupby(['department','gender']).agg({'count':np.sum}).reset_index().rename({'count':'count2'},axis=1)"
   ]
  },
  {
   "cell_type": "markdown",
   "id": "552f22c7-4d83-4aad-aa83-28d99613310b",
   "metadata": {},
   "source": [
    "`-` merge"
   ]
  },
  {
   "cell_type": "code",
   "execution_count": 10,
   "id": "ef4cb567-7163-49bd-b193-0469a341d8af",
   "metadata": {},
   "outputs": [
    {
     "data": {
      "text/html": [
       "<div>\n",
       "<style scoped>\n",
       "    .dataframe tbody tr th:only-of-type {\n",
       "        vertical-align: middle;\n",
       "    }\n",
       "\n",
       "    .dataframe tbody tr th {\n",
       "        vertical-align: top;\n",
       "    }\n",
       "\n",
       "    .dataframe thead th {\n",
       "        text-align: right;\n",
       "    }\n",
       "</style>\n",
       "<table border=\"1\" class=\"dataframe\">\n",
       "  <thead>\n",
       "    <tr style=\"text-align: right;\">\n",
       "      <th></th>\n",
       "      <th>department</th>\n",
       "      <th>result</th>\n",
       "      <th>gender</th>\n",
       "      <th>count</th>\n",
       "      <th>count2</th>\n",
       "      <th>rate</th>\n",
       "    </tr>\n",
       "  </thead>\n",
       "  <tbody>\n",
       "    <tr>\n",
       "      <th>0</th>\n",
       "      <td>A</td>\n",
       "      <td>fail</td>\n",
       "      <td>female</td>\n",
       "      <td>19</td>\n",
       "      <td>108</td>\n",
       "      <td>0.175926</td>\n",
       "    </tr>\n",
       "    <tr>\n",
       "      <th>1</th>\n",
       "      <td>A</td>\n",
       "      <td>pass</td>\n",
       "      <td>female</td>\n",
       "      <td>89</td>\n",
       "      <td>108</td>\n",
       "      <td>0.824074</td>\n",
       "    </tr>\n",
       "    <tr>\n",
       "      <th>2</th>\n",
       "      <td>A</td>\n",
       "      <td>fail</td>\n",
       "      <td>male</td>\n",
       "      <td>314</td>\n",
       "      <td>825</td>\n",
       "      <td>0.380606</td>\n",
       "    </tr>\n",
       "    <tr>\n",
       "      <th>3</th>\n",
       "      <td>A</td>\n",
       "      <td>pass</td>\n",
       "      <td>male</td>\n",
       "      <td>511</td>\n",
       "      <td>825</td>\n",
       "      <td>0.619394</td>\n",
       "    </tr>\n",
       "    <tr>\n",
       "      <th>4</th>\n",
       "      <td>B</td>\n",
       "      <td>fail</td>\n",
       "      <td>female</td>\n",
       "      <td>7</td>\n",
       "      <td>25</td>\n",
       "      <td>0.280000</td>\n",
       "    </tr>\n",
       "    <tr>\n",
       "      <th>5</th>\n",
       "      <td>B</td>\n",
       "      <td>pass</td>\n",
       "      <td>female</td>\n",
       "      <td>18</td>\n",
       "      <td>25</td>\n",
       "      <td>0.720000</td>\n",
       "    </tr>\n",
       "    <tr>\n",
       "      <th>6</th>\n",
       "      <td>B</td>\n",
       "      <td>fail</td>\n",
       "      <td>male</td>\n",
       "      <td>208</td>\n",
       "      <td>560</td>\n",
       "      <td>0.371429</td>\n",
       "    </tr>\n",
       "    <tr>\n",
       "      <th>7</th>\n",
       "      <td>B</td>\n",
       "      <td>pass</td>\n",
       "      <td>male</td>\n",
       "      <td>352</td>\n",
       "      <td>560</td>\n",
       "      <td>0.628571</td>\n",
       "    </tr>\n",
       "    <tr>\n",
       "      <th>8</th>\n",
       "      <td>C</td>\n",
       "      <td>fail</td>\n",
       "      <td>female</td>\n",
       "      <td>391</td>\n",
       "      <td>593</td>\n",
       "      <td>0.659359</td>\n",
       "    </tr>\n",
       "    <tr>\n",
       "      <th>9</th>\n",
       "      <td>C</td>\n",
       "      <td>pass</td>\n",
       "      <td>female</td>\n",
       "      <td>202</td>\n",
       "      <td>593</td>\n",
       "      <td>0.340641</td>\n",
       "    </tr>\n",
       "    <tr>\n",
       "      <th>10</th>\n",
       "      <td>C</td>\n",
       "      <td>fail</td>\n",
       "      <td>male</td>\n",
       "      <td>204</td>\n",
       "      <td>325</td>\n",
       "      <td>0.627692</td>\n",
       "    </tr>\n",
       "    <tr>\n",
       "      <th>11</th>\n",
       "      <td>C</td>\n",
       "      <td>pass</td>\n",
       "      <td>male</td>\n",
       "      <td>121</td>\n",
       "      <td>325</td>\n",
       "      <td>0.372308</td>\n",
       "    </tr>\n",
       "    <tr>\n",
       "      <th>12</th>\n",
       "      <td>D</td>\n",
       "      <td>fail</td>\n",
       "      <td>female</td>\n",
       "      <td>244</td>\n",
       "      <td>375</td>\n",
       "      <td>0.650667</td>\n",
       "    </tr>\n",
       "    <tr>\n",
       "      <th>13</th>\n",
       "      <td>D</td>\n",
       "      <td>pass</td>\n",
       "      <td>female</td>\n",
       "      <td>131</td>\n",
       "      <td>375</td>\n",
       "      <td>0.349333</td>\n",
       "    </tr>\n",
       "    <tr>\n",
       "      <th>14</th>\n",
       "      <td>D</td>\n",
       "      <td>fail</td>\n",
       "      <td>male</td>\n",
       "      <td>279</td>\n",
       "      <td>417</td>\n",
       "      <td>0.669065</td>\n",
       "    </tr>\n",
       "    <tr>\n",
       "      <th>15</th>\n",
       "      <td>D</td>\n",
       "      <td>pass</td>\n",
       "      <td>male</td>\n",
       "      <td>138</td>\n",
       "      <td>417</td>\n",
       "      <td>0.330935</td>\n",
       "    </tr>\n",
       "    <tr>\n",
       "      <th>16</th>\n",
       "      <td>E</td>\n",
       "      <td>fail</td>\n",
       "      <td>female</td>\n",
       "      <td>299</td>\n",
       "      <td>393</td>\n",
       "      <td>0.760814</td>\n",
       "    </tr>\n",
       "    <tr>\n",
       "      <th>17</th>\n",
       "      <td>E</td>\n",
       "      <td>pass</td>\n",
       "      <td>female</td>\n",
       "      <td>94</td>\n",
       "      <td>393</td>\n",
       "      <td>0.239186</td>\n",
       "    </tr>\n",
       "    <tr>\n",
       "      <th>18</th>\n",
       "      <td>E</td>\n",
       "      <td>fail</td>\n",
       "      <td>male</td>\n",
       "      <td>137</td>\n",
       "      <td>191</td>\n",
       "      <td>0.717277</td>\n",
       "    </tr>\n",
       "    <tr>\n",
       "      <th>19</th>\n",
       "      <td>E</td>\n",
       "      <td>pass</td>\n",
       "      <td>male</td>\n",
       "      <td>54</td>\n",
       "      <td>191</td>\n",
       "      <td>0.282723</td>\n",
       "    </tr>\n",
       "    <tr>\n",
       "      <th>20</th>\n",
       "      <td>F</td>\n",
       "      <td>fail</td>\n",
       "      <td>female</td>\n",
       "      <td>103</td>\n",
       "      <td>341</td>\n",
       "      <td>0.302053</td>\n",
       "    </tr>\n",
       "    <tr>\n",
       "      <th>21</th>\n",
       "      <td>F</td>\n",
       "      <td>pass</td>\n",
       "      <td>female</td>\n",
       "      <td>238</td>\n",
       "      <td>341</td>\n",
       "      <td>0.697947</td>\n",
       "    </tr>\n",
       "    <tr>\n",
       "      <th>22</th>\n",
       "      <td>F</td>\n",
       "      <td>fail</td>\n",
       "      <td>male</td>\n",
       "      <td>149</td>\n",
       "      <td>373</td>\n",
       "      <td>0.399464</td>\n",
       "    </tr>\n",
       "    <tr>\n",
       "      <th>23</th>\n",
       "      <td>F</td>\n",
       "      <td>pass</td>\n",
       "      <td>male</td>\n",
       "      <td>224</td>\n",
       "      <td>373</td>\n",
       "      <td>0.600536</td>\n",
       "    </tr>\n",
       "  </tbody>\n",
       "</table>\n",
       "</div>"
      ],
      "text/plain": [
       "   department result  gender  count  count2      rate\n",
       "0           A   fail  female     19     108  0.175926\n",
       "1           A   pass  female     89     108  0.824074\n",
       "2           A   fail    male    314     825  0.380606\n",
       "3           A   pass    male    511     825  0.619394\n",
       "4           B   fail  female      7      25  0.280000\n",
       "5           B   pass  female     18      25  0.720000\n",
       "6           B   fail    male    208     560  0.371429\n",
       "7           B   pass    male    352     560  0.628571\n",
       "8           C   fail  female    391     593  0.659359\n",
       "9           C   pass  female    202     593  0.340641\n",
       "10          C   fail    male    204     325  0.627692\n",
       "11          C   pass    male    121     325  0.372308\n",
       "12          D   fail  female    244     375  0.650667\n",
       "13          D   pass  female    131     375  0.349333\n",
       "14          D   fail    male    279     417  0.669065\n",
       "15          D   pass    male    138     417  0.330935\n",
       "16          E   fail  female    299     393  0.760814\n",
       "17          E   pass  female     94     393  0.239186\n",
       "18          E   fail    male    137     191  0.717277\n",
       "19          E   pass    male     54     191  0.282723\n",
       "20          F   fail  female    103     341  0.302053\n",
       "21          F   pass  female    238     341  0.697947\n",
       "22          F   fail    male    149     373  0.399464\n",
       "23          F   pass    male    224     373  0.600536"
      ]
     },
     "execution_count": 10,
     "metadata": {},
     "output_type": "execute_result"
    }
   ],
   "source": [
    "df.merge(df.groupby(['department','gender']).agg({'count':np.sum}).reset_index().rename({'count':'count2'},axis=1))\\\n",
    ".eval('rate = count/count2')"
   ]
  },
  {
   "cell_type": "markdown",
   "id": "de487632-89d9-4609-9f3d-2be643fd713c",
   "metadata": {},
   "source": [
    "`-` 시각화 "
   ]
  },
  {
   "cell_type": "code",
   "execution_count": 11,
   "id": "a6b0a40b-dc1c-44f8-825e-39cef8ce549d",
   "metadata": {},
   "outputs": [
    {
     "data": {
      "image/png": "[encoded data removed]",
      "text/plain": [
       "<Figure size 640x480 with 6 Axes>"
      ]
     },
     "metadata": {},
     "output_type": "display_data"
    },
    {
     "data": {
      "text/plain": [
       "<ggplot: (8789343111249)>"
      ]
     },
     "execution_count": 11,
     "metadata": {},
     "output_type": "execute_result"
    }
   ],
   "source": [
    "data2=df.merge(df.groupby(['department','gender']).agg({'count':np.sum}).reset_index().rename({'count':'count2'},axis=1))\\\n",
    ".eval('rate = count/count2')\n",
    "ggplot(data2.query('result==\"pass\"'))+geom_col(aes(x='gender',fill='gender',y='rate'))\\\n",
    "+facet_wrap('department')"
   ]
  },
  {
   "cell_type": "markdown",
   "id": "cd936876-431b-4110-9540-e6d6b3ddb0b1",
   "metadata": {},
   "source": [
    "- 학과별로 살펴보니 오히려 A,B,F,D의 경우 여성의 합격률이 높다. "
   ]
  },
  {
   "cell_type": "markdown",
   "id": "31d34862-c978-499b-b4f6-395ee26e6681",
   "metadata": {},
   "source": [
    "`-` 교재에서 설명한 이유: 여성이 합격률이 낮은 학과에만 많이 지원하였기 때문 "
   ]
  },
  {
   "cell_type": "code",
   "execution_count": 12,
   "id": "fcdbccda-2949-4da3-9b71-330bd2a63684",
   "metadata": {},
   "outputs": [
    {
     "data": {
      "image/png": "[encoded data removed]",
      "text/plain": [
       "<Figure size 640x480 with 1 Axes>"
      ]
     },
     "metadata": {},
     "output_type": "display_data"
    },
    {
     "data": {
      "text/plain": [
       "<ggplot: (8789343070225)>"
      ]
     },
     "execution_count": 12,
     "metadata": {},
     "output_type": "execute_result"
    }
   ],
   "source": [
    "ggplot(data2.query('result==\"pass\"'))+geom_col(aes(x='department',y='count2',fill='gender'),position='dodge')"
   ]
  },
  {
   "cell_type": "markdown",
   "id": "103fc1dc-ee97-4c86-867e-d7c9775473e0",
   "metadata": {},
   "source": [
    "- 살펴보니 합격률이 높은 A,B학과의 경우 상대적으로 남성이 많이 지원하였음. 합격률이 낮은 C,D학과는 상대적으로 여성이 많이 지원함. D,F의 지원수는 비슷"
   ]
  },
  {
   "cell_type": "markdown",
   "id": "70bb3142-8e85-4c3a-92f1-54a17e4cd20e",
   "metadata": {},
   "source": [
    "# HW"
   ]
  },
  {
   "cell_type": "code",
   "execution_count": 7,
   "id": "0c2e0d45-17fb-4ee3-8dce-3550599914f3",
   "metadata": {},
   "outputs": [
    {
     "data": {
      "text/html": [
       "<div>\n",
       "<style scoped>\n",
       "    .dataframe tbody tr th:only-of-type {\n",
       "        vertical-align: middle;\n",
       "    }\n",
       "\n",
       "    .dataframe tbody tr th {\n",
       "        vertical-align: top;\n",
       "    }\n",
       "\n",
       "    .dataframe thead th {\n",
       "        text-align: right;\n",
       "    }\n",
       "</style>\n",
       "<table border=\"1\" class=\"dataframe\">\n",
       "  <thead>\n",
       "    <tr style=\"text-align: right;\">\n",
       "      <th></th>\n",
       "      <th>department</th>\n",
       "      <th>result</th>\n",
       "      <th>gender</th>\n",
       "      <th>count</th>\n",
       "    </tr>\n",
       "  </thead>\n",
       "  <tbody>\n",
       "    <tr>\n",
       "      <th>0</th>\n",
       "      <td>A</td>\n",
       "      <td>fail</td>\n",
       "      <td>female</td>\n",
       "      <td>0</td>\n",
       "    </tr>\n",
       "    <tr>\n",
       "      <th>1</th>\n",
       "      <td>A</td>\n",
       "      <td>fail</td>\n",
       "      <td>male</td>\n",
       "      <td>100</td>\n",
       "    </tr>\n",
       "    <tr>\n",
       "      <th>2</th>\n",
       "      <td>A</td>\n",
       "      <td>pass</td>\n",
       "      <td>female</td>\n",
       "      <td>1</td>\n",
       "    </tr>\n",
       "    <tr>\n",
       "      <th>3</th>\n",
       "      <td>A</td>\n",
       "      <td>pass</td>\n",
       "      <td>male</td>\n",
       "      <td>900</td>\n",
       "    </tr>\n",
       "    <tr>\n",
       "      <th>4</th>\n",
       "      <td>B</td>\n",
       "      <td>fail</td>\n",
       "      <td>female</td>\n",
       "      <td>400</td>\n",
       "    </tr>\n",
       "    <tr>\n",
       "      <th>5</th>\n",
       "      <td>B</td>\n",
       "      <td>fail</td>\n",
       "      <td>male</td>\n",
       "      <td>1</td>\n",
       "    </tr>\n",
       "    <tr>\n",
       "      <th>6</th>\n",
       "      <td>B</td>\n",
       "      <td>pass</td>\n",
       "      <td>female</td>\n",
       "      <td>600</td>\n",
       "    </tr>\n",
       "    <tr>\n",
       "      <th>7</th>\n",
       "      <td>B</td>\n",
       "      <td>pass</td>\n",
       "      <td>male</td>\n",
       "      <td>1</td>\n",
       "    </tr>\n",
       "  </tbody>\n",
       "</table>\n",
       "</div>"
      ],
      "text/plain": [
       "  department result  gender  count\n",
       "0          A   fail  female      0\n",
       "1          A   fail    male    100\n",
       "2          A   pass  female      1\n",
       "3          A   pass    male    900\n",
       "4          B   fail  female    400\n",
       "5          B   fail    male      1\n",
       "6          B   pass  female    600\n",
       "7          B   pass    male      1"
      ]
     },
     "execution_count": 7,
     "metadata": {},
     "output_type": "execute_result"
    }
   ],
   "source": [
    "df = pd.read_csv(\"https://raw.githubusercontent.com/guebin/DV2022/master/posts/Simpson2.csv\")\n",
    "df"
   ]
  },
  {
   "cell_type": "markdown",
   "id": "a28d6295-0198-4b09-84c8-b874488f51bd",
   "metadata": {},
   "source": [
    "`-` 시각화1: 남녀합격률시각화 "
   ]
  },
  {
   "cell_type": "code",
   "execution_count": 20,
   "id": "32493bf8-c2b4-4a47-bd71-6d1dae9b6227",
   "metadata": {},
   "outputs": [
    {
     "data": {
      "image/png": "[encoded data removed]",
      "text/plain": [
       "<Figure size 640x480 with 1 Axes>"
      ]
     },
     "metadata": {},
     "output_type": "display_data"
    },
    {
     "data": {
      "text/plain": [
       "<ggplot: (8789342120725)>"
      ]
     },
     "execution_count": 20,
     "metadata": {},
     "output_type": "execute_result"
    }
   ],
   "source": [
    "# 시각화예시 "
   ]
  },
  {
   "cell_type": "markdown",
   "id": "bcf08f3c-a156-45b3-a68f-d53e8ab7bf5e",
   "metadata": {},
   "source": [
    "`-` 시각화2: 학과별 남녀합격률 시각화 "
   ]
  },
  {
   "cell_type": "code",
   "execution_count": 330,
   "id": "1989dc04-e96b-405b-b35c-c78f45c7015b",
   "metadata": {},
   "outputs": [
    {
     "data": {
      "image/png": "[encoded data removed]",
      "text/plain": [
       "<Figure size 640x480 with 2 Axes>"
      ]
     },
     "metadata": {},
     "output_type": "display_data"
    },
    {
     "data": {
      "text/plain": [
       "<ggplot: (8787281515073)>"
      ]
     },
     "execution_count": 330,
     "metadata": {},
     "output_type": "execute_result"
    }
   ],
   "source": [
    "# 시각화예시 "
   ]
  },
  {
   "cell_type": "markdown",
   "id": "255fb243-1567-4d62-ad7f-2da81bfea985",
   "metadata": {},
   "source": [
    "- A학과: 쓰면 거의 붙는 학과\n",
    "- B학과: 쓰면 반정도 붙는 학과"
   ]
  },
  {
   "cell_type": "markdown",
   "id": "92e85b92-acdc-452a-985e-4d75013aafdc",
   "metadata": {},
   "source": [
    "`-` 시각화3: 학과별 지원자 수 시각화 "
   ]
  },
  {
   "cell_type": "code",
   "execution_count": 332,
   "id": "e02ad284-a7ed-4b41-9384-ba2f00a3720d",
   "metadata": {},
   "outputs": [
    {
     "data": {
      "image/png": "[encoded data removed]",
      "text/plain": [
       "<Figure size 640x480 with 2 Axes>"
      ]
     },
     "metadata": {},
     "output_type": "display_data"
    },
    {
     "data": {
      "text/plain": [
       "<ggplot: (8787281356149)>"
      ]
     },
     "execution_count": 332,
     "metadata": {},
     "output_type": "execute_result"
    }
   ],
   "source": [
    "# 시각화예시"
   ]
  },
  {
   "cell_type": "markdown",
   "id": "affae7a8-9a17-4908-8a9a-75d10280deb5",
   "metadata": {},
   "source": [
    "- 여학생은 쓰면 붙는 A학과에는 거의 지원안함, 대신에 쓰면 반정도 붙는 B학과에 대부분 지원함 "
   ]
  }
 ],
 "metadata": {
  "kernelspec": {
   "display_name": "Python 3",
   "language": "python",
   "name": "python3"
  },
  "language_info": {
   "codemirror_mode": {
    "name": "ipython",
    "version": 3
   },
   "file_extension": ".py",
   "mimetype": "text/x-python",
   "name": "python",
   "nbconvert_exporter": "python",
   "pygments_lexer": "ipython3",
   "version": "3.7.15"
  }
 },
 "nbformat": 4,
 "nbformat_minor": 5
}
